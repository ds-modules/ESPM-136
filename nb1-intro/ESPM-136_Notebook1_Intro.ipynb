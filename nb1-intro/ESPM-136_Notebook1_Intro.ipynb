{
 "cells": [
  {
   "cell_type": "markdown",
   "metadata": {
    "cell_id": "00001-eedf9a46-cb0c-42bc-a90f-96265663c0d3",
    "deepnote_cell_type": "markdown",
    "tags": [
     "ignore"
    ]
   },
   "source": [
    "## [ESPM-136] Notebook 1: Introduction to Jupyter Notebooks and Python\n",
    "\n",
    "## **Jupyter Notebooks**\n",
    "\n",
    "Welcome to a Jupyter Notebook! **Notebooks** are documents that support interactive computing in which code is interwoven with text, visualizations, and more.\n",
    "\n",
    "The way notebooks are formatted encourages **exploration**, allowing users to iteratively update code and document the results. In use cases such as **data exploration and communication**, notebooks excel. Science (and computational work in general) has become quite sophisticated: models are built upon experiments that are conducted on large swaths of data, methods and results are abstracted away into symbols, and papers are full of technical jargon. *A static document like a paper might not be sufficient to both effectively communicate a new discovery and allow someone else to discover it for themselves*."
   ]
  },
  {
   "cell_type": "markdown",
   "metadata": {},
   "source": [
    "<div class=\"alert alert-block alert-danger\">\n",
    "    <p style=\"font-size:20px\">In this notebook, there are some more advanced topics that are <i>\"optional\"</i>. This means you can just read over these sections, don't worry about fully understanding these parts unless you are really interested. They may be a useful reference for future notebooks, but for now they are not necessary, so feel free to just skim these parts! The advanced/optional sections will be denoted in the following format:\n",
    "</div>"
   ]
  },
  {
   "cell_type": "markdown",
   "metadata": {},
   "source": [
    "<div class=\"alert alert-block alert-success\">\n",
    "    <p style=\"font-size:20px\">This section is advanced/optional\n",
    "</div>"
   ]
  },
  {
   "cell_type": "markdown",
   "metadata": {},
   "source": [
    "## Video Walkthrough of this Notebook\n",
    "\n",
    "To provide some additional guidance in case this is your first time coding in Python and/or Jupyter Notebooks, we've created a video walkthrough for you to use as a reference! If you get stuck at any point while doing this notebook, this is a good first reference point. Alternatively, you can watch the video first as a primer and then complete the notebook yourself!\n",
    "\n",
    "To access the walkthrough, click on the following gray box with the `In [ ]` to the left of it, then run the code cell below by hitting the `Run` button at the top, or by pressing `Shift` + `Enter` on your keyboard!"
   ]
  },
  {
   "cell_type": "code",
   "execution_count": null,
   "metadata": {},
   "outputs": [],
   "source": [
    "from IPython.lib.display import YouTubeVideo\n",
    "YouTubeVideo('4jiJozlw2Sw', width=980, height=500)"
   ]
  },
  {
   "cell_type": "markdown",
   "metadata": {},
   "source": [
    "## Still feeling stuck or want extra help with this notebook? Contact Data Peer Consultants!\n",
    "\n",
    "If you find yourself having trouble with any content in this notebook, **Data Peer Consultants** are an excellent resource! Click [here](https://dlab.berkeley.edu/training/frontdesk-info) to locate live help.\n",
    "Peer Consultants are there to answer all data-related questions, whether it be about the content of this notebook, applications of data science in the world, or other data science courses offered at Berkeley."
   ]
  },
  {
   "cell_type": "markdown",
   "metadata": {},
   "source": [
    "<hr style=\"border: 2px solid #003262\">\n",
    "<hr style=\"border: 2px solid #C9B676\">"
   ]
  },
  {
   "cell_type": "markdown",
   "metadata": {},
   "source": [
    "## Learning Outcomes\n",
    "Working through this notebook, you will learn about:\n",
    "1. The history behind **Jupyter notebooks** and why they are used in computing\n",
    "2. How a Jupyter notebook is **structured** and how to use and edit them\n",
    "3. Python fundamentals and working with **tabular data**\n",
    "4. How to deal with **errors**\n",
    "5. Learn about **functions** and how to write your own\n",
    "6. Learn about **lists** and **loops**\n",
    "7. **Visualize data** from a table by **plotting** it"
   ]
  },
  {
   "cell_type": "markdown",
   "metadata": {},
   "source": [
    "<hr style=\"border: 2px solid #003262\">\n",
    "<hr style=\"border: 2px solid #C9B676\">"
   ]
  },
  {
   "cell_type": "markdown",
   "metadata": {
    "cell_id": "00003-a9cd1167-2276-4e0f-85b6-43d803731627",
    "deepnote_cell_type": "markdown",
    "tags": []
   },
   "source": [
    "## A Brief History\n",
    "The Jupyter Notebook is an _interactive computational environment_ that supports over **40** different programming languages, but was first released as a web-based interface for IPython in 2011. [Fernando Perez](https://bids.berkeley.edu/people/fernando-p%C3%A9rez), a professor in the Statistics department here at UC Berkeley, created [IPython](https://ipython.org/) as a graduate student in 2001 and co-founded [Project Jupyter](https://bids.berkeley.edu/research/project-jupyter) in 2014. \n",
    "\n",
    "Project Jupyter's name is a reference to the three core programming languages supported by Jupyter, which are `Julia`, `Python` and `R` (`\"ju\"` from `\"Julia\"`, `\"pyt\"` from `\"Python\"`, and `\"er\"` from `\"R\"`; all together you get `\"ju\" + \"pyt\" + \"er\" = \"jupyter\"`). \n",
    "\n",
    "The word notebook is an homage to Galileo's notebooks in which he documents his discovery of the the moons of Jupiter (the planet).\n",
    "\n",
    "Though the Jupyter Notebook interface has been around only about a decade, the first notebook interface, [Mathematica](https://www.mathematica.org/), was released over 30 years ago in 1988. Other notebook interfaces have been released since then, but none have gained as much traction as Jupyter Notebooks have. Starting in the early 2000s, open-source scientific tools were becoming more and more popular and with the widespread popularity of Jupyter, it's well on its way to becoming a standard for sharing research methodology and results."
   ]
  },
  {
   "cell_type": "markdown",
   "metadata": {},
   "source": [
    "<img src=\"mathematica.png\" alt=\"Early Mathematica Interface\" style=\"width: 250px;\" class=\"center\"/><br>\n",
    "The early Mathematica Interface."
   ]
  },
  {
   "cell_type": "markdown",
   "metadata": {
    "cell_id": "00004-6505161d-0615-4da6-bdf1-11b7204319a9",
    "deepnote_cell_type": "markdown",
    "tags": []
   },
   "source": [
    "## Why (Jupyter) Notebooks?\n",
    "Notebooks are used for [*literate programming*](https://en.wikipedia.org/wiki/Literate_programming), a programming paradigm introduced by [Donald Knuth](https://en.wikipedia.org/wiki/Donald_Knuth) in 1984, in which a programming language is accompanied with a documentation language, or a natural language. In other words, the computer program has an explanation in a natural language. \n",
    "\n",
    "This approach to programming effectively treats software as works of literature ([Knuth](http://www.literateprogramming.com/knuthweb.pdf), \"Literate Programming\"). _It supports people to have a strong conceptual map of what is happening in the code and also to have clarity on the flow and logic of the code/program, which is helpful for both the writer and the reader_.\n",
    "\n",
    "Jupyter leverages this idea and enables users to create and share documents that combine code, visualizations, narrative text, equations, and rich media. Notebooks are multipurpose and can be used in any discipline. The notebook is like a laboratory notebook, but for computing. \n",
    "\n",
    "Researchers can write code to work with their data while supplementing their methods with explanations, analysis, or hypotheses. Notebooks are also used in education because they enable students to engage with content presented in different forms, experience computation with no prior experience, and practice programming in a scaffolded way. "
   ]
  },
  {
   "cell_type": "markdown",
   "metadata": {},
   "source": [
    "<hr style=\"border: 2px solid #003262\">\n",
    "<hr style=\"border: 2px solid #C9B676\">"
   ]
  },
  {
   "cell_type": "markdown",
   "metadata": {
    "cell_id": "00003-058e2913-9587-45ac-8c2f-f284333ac4f3",
    "deepnote_cell_type": "markdown"
   },
   "source": [
    "## Notebook Structure\n",
    "\n",
    "### Cell Types\n",
    "A notebook is composed of rectangular sections called **cells**. If you click on this text once, you will see a small gray outline -- that is one cell! There are 2 kinds of cells: markdown and code. \n",
    "- A **markdown cell**, such as this one, contains text. \n",
    "- A **code cell** contains code in Python, a programming language that we will be using with all of our data science modules in this class. You can select any cell by clicking it once.\n",
    "    - Code cells can also contain code in other languages like Julia, or R: both of which can also be used in data analysis"
   ]
  },
  {
   "cell_type": "code",
   "execution_count": null,
   "metadata": {},
   "outputs": [],
   "source": [
    "print(\"This is a code cell!\")"
   ]
  },
  {
   "cell_type": "markdown",
   "metadata": {},
   "source": [
    "This is a markdown cell!"
   ]
  },
  {
   "cell_type": "markdown",
   "metadata": {},
   "source": [
    "\n",
    "### Running Cells\n",
    "To \"run\" a code cell (i.e. tell the computer to perform the programmed instructions in the cell), select it and then,\n",
    "- Press `Shift` + `Enter` to run the cell and move to the following cell or\n",
    "- Press `Command/Control` + `Enter` to run the cell but stay on the same cell or\n",
    "    - This can be used repeatedly to re-run the same process.\n",
    "- Click the Run button in the toolbar at the top of the screen. \n",
    "\n",
    "### Results and Outputs of a Cell\n",
    "When you run a code cell, a number of things can happen, depending on the type and contents of the cell:\n",
    "1. If the cell is a markdown cell, the text will be rendered according to the structure (_Markdown_, _HTML_, etc.)\n",
    "2. If the cell is a code cell, the result of the last line in the cell will be shown\n",
    "    - This output may be text, a number, a picture, or a visualization\n",
    "\n",
    "If a code cell is running, you will see an asterisk (\\*) appear in the square brackets to the left of the cell. Once the cell has finished running, a number will replace the asterisk and any output from the code will appear under the cell.\n",
    "\n",
    "Let's try it! **Run the cell below to see the output.** Feel free to play around with the code -- try changing 'World' to your name."
   ]
  },
  {
   "cell_type": "code",
   "execution_count": null,
   "metadata": {
    "cell_id": "00004-a9f5f74b-a641-44a7-8dd5-2f9f58c10236",
    "deepnote_cell_type": "code",
    "execution": {
     "iopub.execute_input": "2022-08-03T09:02:40.079967Z",
     "iopub.status.busy": "2022-08-03T09:02:40.079000Z",
     "iopub.status.idle": "2022-08-03T09:02:40.118322Z",
     "shell.execute_reply": "2022-08-03T09:02:40.117260Z",
     "shell.execute_reply.started": "2022-08-03T09:02:40.079911Z"
    },
    "tags": [
     "ignore"
    ]
   },
   "outputs": [],
   "source": [
    "print(\"Hello World!\") # Run the cell by using one of the methods we mentioned above!"
   ]
  },
  {
   "cell_type": "markdown",
   "metadata": {
    "cell_id": "00005-7327a678-bcb7-4a12-b09a-a4054660c9af",
    "deepnote_cell_type": "markdown",
    "tags": [
     "ignore"
    ]
   },
   "source": [
    "### Comments\n",
    "You'll notice that many code cells contain lines of blue text that start with a `#`. These are ***comments***. Comments often contain helpful information about what the code does or what you are supposed to do in the cell. The leading `#` tells the computer to ignore whatever text follows it."
   ]
  },
  {
   "cell_type": "markdown",
   "metadata": {},
   "source": [
    "<hr style=\"border: 2px solid #003262\">\n",
    "<hr style=\"border: 2px solid #C9B676\">"
   ]
  },
  {
   "cell_type": "markdown",
   "metadata": {
    "cell_id": "00006-dadd2623-2173-4cdb-8c95-207741ecc765",
    "deepnote_cell_type": "markdown",
    "tags": [
     "ignore"
    ]
   },
   "source": [
    "## Editing the Notebook\n",
    "\n",
    "You can change the text in a markdown cell by clicking it twice. Text in markdown cells is written in [**Markdown**](https://daringfireball.net/projects/markdown/), a formatting language for plain text, so you may see some funky symbols should you try and edit a markdown cell we've already written. Once you've made changes to a markdown cell, you can exit editing mode by running the cell the same way you'd run a code cell."
   ]
  },
  {
   "cell_type": "markdown",
   "metadata": {},
   "source": [
    "<blockquote>\n",
    "    <div class=\"alert alert-block alert-warning\">\n",
    "        <b>\n",
    "            Try double-clicking on this text to see what some Markdown formatting looks like.\n",
    "        </b>\n",
    "    </div>\n",
    "</blockquote>"
   ]
  },
  {
   "cell_type": "markdown",
   "metadata": {
    "cell_id": "00007-068d7862-911b-48aa-aa89-fe1376726a4f",
    "deepnote_cell_type": "markdown",
    "tags": [
     "ignore"
    ]
   },
   "source": [
    "### Manipulating Cells\n",
    "\n",
    "Another feature of Jupyter Notebooks is the ability to add and delete cells, whether that be code or markdown. You can add cells by pressing the plus sign icon in the menu bar. This will add (by default) a code cell immediately below your current highlighted cell.\n",
    "\n",
    "To convert a cell to markdown, you can press 'Cell' in the menu bar, select 'Cell Type', and finally pick the desired option. This works the other way around too!\n",
    "\n",
    "To delete a cell, simply press the scissors icon in the menu bar. A common fear is deleting a cell that you needed -- but don't worry! This can be undone using 'Edit' > 'Undo Delete Cells'! If you accidentally delete content in a cell, you can use `Ctrl` + `Z` to undo."
   ]
  },
  {
   "cell_type": "markdown",
   "metadata": {},
   "source": [
    "<h3>Shortcuts</h3>"
   ]
  },
  {
   "cell_type": "markdown",
   "metadata": {},
   "source": [
    "<div class=\"alert alert-block alert-success\">\n",
    "    <p style=\"font-size:20px\">This section is optional\n",
    "</div>"
   ]
  },
  {
   "cell_type": "markdown",
   "metadata": {},
   "source": [
    "Select a cell by clicking on the empty space to the left of the text (there will be a blue bar to the left of the cell at this point)\n",
    "<ul>\n",
    "<li>To <b>add a cell <i>below</i></b> the selected one, press the <code>b</code> key (<i>b for below</i>) </li>\n",
    "<li>To <b>add a cell <i>above</i></b> the selected one, press the <code>a</code> key (<i>a for above</i>) </li>\n",
    "<li>To <b>delete a cell</b>, press the <code>d</code> key (<i>d for delete</i>) </li>\n",
    "<li>To <b>copy a cell</b>, press the <code>c</code> key (<i>c for copy</i>) </li>\n",
    "<li>To <b>cut a cell</b>, press the <code>x</code> key (<i>same as the general cut text command</i>) </li>\n",
    "<li>To <b>delete a cell</b>, press the <code>d</code> key <b><i>twice</i></b> (<i>d for delete, twice to ensure the action</i>) </li>\n",
    "<li>To <b>paste a cell</b>, press the <code>v</code> key (<i>same as the general paste text command</i>) </li>\n",
    "<li>To <b>convert a cell to a markdown cell</b>, press the <code>m</code> key (<i>m for markdown</i>) </li>\n",
    "<li>To <b>convert a cell to a code cell</b>, press the <code>y</code> key </li>\n",
    "</ul>"
   ]
  },
  {
   "cell_type": "markdown",
   "metadata": {
    "cell_id": "00008-50df70cb-c544-42c2-8146-20897007051c",
    "deepnote_cell_type": "markdown",
    "tags": [
     "ignore"
    ]
   },
   "source": [
    "### Saving and Loading\n",
    "\n",
    "Your notebook will automatically save your text and code edits, as well as any graphs you generate or any calculations you make. However, you can also manually save the notebook in its current state by using `Ctrl` + `S` on Windows and `Cmd` + `S` on Mac, clicking the floppy disk icon in the toolbar at the top of the page, or by going to the 'File' menu and selecting 'Save and Checkpoint'.\n",
    "\n",
    "Next time you open your notebook, it will look the same as when you last saved it!"
   ]
  },
  {
   "cell_type": "markdown",
   "metadata": {},
   "source": [
    "<blockquote>\n",
    "    <div class=\"alert alert-block alert-info\">\n",
    "        <b>Note:</b> When you load a notebook you will see all the outputs from your last saved session (such as graphs, computations, etc.) but you won't be able to use any of the variables you assigned in your code without running it again.\n",
    "    </div>\n",
    "</blockquote>"
   ]
  },
  {
   "cell_type": "markdown",
   "metadata": {},
   "source": [
    "An easy way to \"catch up\" to the last work you did is to highlight the cell you left off on and click \"Run all above\" under the Cell tab in the menu at the top of the screen."
   ]
  },
  {
   "cell_type": "markdown",
   "metadata": {},
   "source": [
    "<hr style=\"border: 2px solid #003262\">\n",
    "<hr style=\"border: 2px solid #C9B676\">"
   ]
  },
  {
   "cell_type": "markdown",
   "metadata": {},
   "source": [
    "## Python Basics\n",
    "[**Python**](https://www.python.org/) is a programming language – a way for us to communicate with the computer and give it instructions.\n",
    "\n",
    "Just like any language, Python has a set vocabulary made up of words it can understand, and a syntax which provides the rules for how to structure our commands and give instructions."
   ]
  },
  {
   "cell_type": "markdown",
   "metadata": {},
   "source": [
    "### Math\n",
    "Python is a great language for math, as it is easy to understand, and looks very similar to what it would look like in a regular scientific calculator!\n",
    "\n",
    "- `+` Acts as the addition operator\n",
    "- `-` Acts as the subtraction operator and can also act as a negative sign if next to a number (e.g., `-2` vs `- 2`)\n",
    "- `*` Acts as the multiplication operator\n",
    "- `**` Acts as the exponentiation operator\n",
    "- `/` Acts as the division operator\n",
    "- `()` Acts as the grouping operator\n",
    "\n",
    "There are two types of numbers in python: Integers, also known as `int`, (e.g., `4`, `7`, `15`, `2354`) and decimal numbers, aka `float` (e.g., `13.0`, `14.5`, `2.731`, `3.1415`). \n",
    "\n",
    "When using the `/` operator, even if the result is a whole number, the result will be a `float`. For example, `10 / 5` is `2.0`, not `2`.\n",
    "\n",
    "> There are other, more advanced operators such as [floor division](https://www.pythontutorial.net/advanced-python/python-floor-division/) and [modulo](https://realpython.com/python-modulo-operator/), however, we won't be using those for the time being, so feel free to explore if you'd like, but this is very out of scope for this material\n",
    "\n",
    "Let's look at some examples of using these operators. As usual, feel free to play around with these cells or even add new ones to explore how these operations work!"
   ]
  },
  {
   "cell_type": "code",
   "execution_count": null,
   "metadata": {},
   "outputs": [],
   "source": [
    "1 + 3 # An example of addition"
   ]
  },
  {
   "cell_type": "code",
   "execution_count": null,
   "metadata": {},
   "outputs": [],
   "source": [
    "1 + 3 - 4 + 5 # An example of addition and subtraction"
   ]
  },
  {
   "cell_type": "code",
   "execution_count": null,
   "metadata": {},
   "outputs": [],
   "source": [
    "1 + 10 / 2 + 7 # An example of addition and division"
   ]
  },
  {
   "cell_type": "code",
   "execution_count": null,
   "metadata": {},
   "outputs": [],
   "source": [
    "3 * 4 # An example of multiplication"
   ]
  },
  {
   "cell_type": "code",
   "execution_count": null,
   "metadata": {
    "execution": {
     "iopub.execute_input": "2022-08-03T09:59:56.480883Z",
     "iopub.status.busy": "2022-08-03T09:59:56.480486Z",
     "iopub.status.idle": "2022-08-03T09:59:56.490422Z",
     "shell.execute_reply": "2022-08-03T09:59:56.489698Z",
     "shell.execute_reply.started": "2022-08-03T09:59:56.480853Z"
    }
   },
   "outputs": [],
   "source": [
    "5 ** 2 # An example of exponentiation"
   ]
  },
  {
   "cell_type": "code",
   "execution_count": null,
   "metadata": {
    "execution": {
     "iopub.execute_input": "2022-08-03T10:00:04.963271Z",
     "iopub.status.busy": "2022-08-03T10:00:04.962795Z",
     "iopub.status.idle": "2022-08-03T10:00:04.976298Z",
     "shell.execute_reply": "2022-08-03T10:00:04.974251Z",
     "shell.execute_reply.started": "2022-08-03T10:00:04.963234Z"
    }
   },
   "outputs": [],
   "source": [
    "2 ** 3 # Another example of exponentiation"
   ]
  },
  {
   "cell_type": "code",
   "execution_count": null,
   "metadata": {
    "execution": {
     "iopub.execute_input": "2022-08-03T10:00:16.629885Z",
     "iopub.status.busy": "2022-08-03T10:00:16.629327Z",
     "iopub.status.idle": "2022-08-03T10:00:16.641667Z",
     "shell.execute_reply": "2022-08-03T10:00:16.640691Z",
     "shell.execute_reply.started": "2022-08-03T10:00:16.629849Z"
    }
   },
   "outputs": [],
   "source": [
    "4 ** .5 # An example of exponentiation with a decimal"
   ]
  },
  {
   "cell_type": "code",
   "execution_count": null,
   "metadata": {},
   "outputs": [],
   "source": [
    "(6 + 4) * 2 - 15 # By adding parentheses to the equation we can change the order of operations"
   ]
  },
  {
   "cell_type": "markdown",
   "metadata": {},
   "source": [
    "### Strings\n",
    "Strings are what we call words or text in Python. A string is surrounded in either single ('') or double (\"\") quotes. Here are some examples of strings"
   ]
  },
  {
   "cell_type": "code",
   "execution_count": null,
   "metadata": {},
   "outputs": [],
   "source": [
    "\"This is a string\""
   ]
  },
  {
   "cell_type": "code",
   "execution_count": null,
   "metadata": {},
   "outputs": [],
   "source": [
    "'This is too'"
   ]
  },
  {
   "cell_type": "code",
   "execution_count": null,
   "metadata": {},
   "outputs": [],
   "source": [
    "\"eVeNtHiSiSaStRiNg\""
   ]
  },
  {
   "cell_type": "markdown",
   "metadata": {},
   "source": [
    "You can even do math with strings!\n",
    "<div class=\"alert alert-block alert-success\">\n",
    "    <p style=\"font-size:20px\">These examples are advanced/optional\n",
    "</div>"
   ]
  },
  {
   "cell_type": "code",
   "execution_count": null,
   "metadata": {
    "tags": []
   },
   "outputs": [],
   "source": [
    "'Ha' * 10"
   ]
  },
  {
   "cell_type": "code",
   "execution_count": null,
   "metadata": {
    "tags": []
   },
   "outputs": [],
   "source": [
    "\"Ha\" + \" \" + \"Ha\" + \"     \" + \"Ha\""
   ]
  },
  {
   "cell_type": "markdown",
   "metadata": {
    "cell_id": "00012-b219d532-3d18-4f5b-8c0b-8300087fd4fc",
    "deepnote_cell_type": "markdown",
    "tags": [
     "ignore"
    ]
   },
   "source": [
    "### Errors\n",
    "Errors in programming are common and totally okay! Don't be afraid when you see an error because more likely than not the solution lies in the error code itself! Let's see what an error looks like. **Run the cell below to see the output.**"
   ]
  },
  {
   "cell_type": "markdown",
   "metadata": {},
   "source": [
    "> **Note:** If the below cell doesnt work for you, you may need to refresh your page!"
   ]
  },
  {
   "cell_type": "code",
   "execution_count": null,
   "metadata": {
    "cell_id": "00013-eb788b09-06e6-46f1-b6fd-5f63d3beaf17",
    "deepnote_cell_type": "code",
    "tags": [
     "ignore"
    ]
   },
   "outputs": [],
   "source": [
    "print('This line is missing something.' # We are missing a closing parenthesis here!"
   ]
  },
  {
   "cell_type": "markdown",
   "metadata": {
    "cell_id": "00014-7e39cbe6-b521-4466-8200-3a4f652750f9",
    "deepnote_cell_type": "markdown",
    "tags": [
     "ignore"
    ]
   },
   "source": [
    "The last line of the error output attempts to tell you what went wrong. \n",
    "\n",
    "The *syntax* of a language is its structure, and this `SyntaxError` tells you that you have created an illegal structure.  \n",
    "\n",
    "`EOF` means \"End of File,\" so the message is saying Python expected you to write something more (in this case, a right parenthesis) before finishing the cell.\n",
    "\n",
    "There's a lot of terminology in programming languages, but you don't need to know it all in order to program effectively. If you see a cryptic message like this, you can often get by without deciphering it.  (Of course, if you're frustrated, you can usually find out by searching for the error message online.)"
   ]
  },
  {
   "cell_type": "code",
   "execution_count": null,
   "metadata": {},
   "outputs": [],
   "source": [
    "ten + 10 # We need to define the variable ten before we can use it!"
   ]
  },
  {
   "cell_type": "markdown",
   "metadata": {},
   "source": [
    "This is another error you might run into. It is formally called `NameError`, but all that means is that Python can't find the variable you are referenceing, or you made a typo. For more on variables, see the next section!"
   ]
  },
  {
   "cell_type": "markdown",
   "metadata": {
    "cell_id": "00015-6798c00d-6c61-4fb9-9db5-391b056d479c",
    "deepnote_cell_type": "markdown",
    "tags": [
     "ignore"
    ]
   },
   "source": [
    "### Variables\n",
    "\n",
    "As we mentioned before, in this Jupyter Notebook you will be assigning data, figures, numbers, text, or other objects to **variables**. \n",
    "\n",
    "You can even assign graph output or functions to variables, but that is out of scope for this assignment so don't worry about it for now! \n",
    "\n",
    "Variables are stored in a computer's memory and you can use it over and over again in future calculations!\n",
    "\n",
    "Sometimes, instead of trying to work with raw information all the time in a long calculation you will want to store it as a **variable** for easy access in future calculations. **Check out how we can use variables to our advantage below!**"
   ]
  },
  {
   "cell_type": "markdown",
   "metadata": {},
   "source": [
    "<div class=\"alert alert-block alert-warning\">\n",
    "<b>Note:</b> In Python, variable names must be a combination of letters (capital and/or lowercase), numbers, and underscores ( _ ). <b>Variable names <i>cannot</i> begin with a number</b>\n",
    "</div>"
   ]
  },
  {
   "cell_type": "markdown",
   "metadata": {},
   "source": [
    "- The following are all valid variable names:\n",
    "    - `pants`, `pan_cakes`, `_`, `_no_fun`, `potato940`, `bowser_32`, `FOO`, `BaR`, `bAr`\n",
    "    \n",
    "- These are invalid names: \n",
    "    - `123`, `1_fun`, `f@ke`, `fun time`, `fun_times!!`, `00f00`"
   ]
  },
  {
   "cell_type": "markdown",
   "metadata": {
    "tags": []
   },
   "source": [
    "## Assignment Statements\n",
    "Here is an example of what we call an _assignment statement_, what we use to create a variable. Run the cell below."
   ]
  },
  {
   "cell_type": "code",
   "execution_count": null,
   "metadata": {
    "execution": {
     "iopub.execute_input": "2022-08-03T08:17:30.594949Z",
     "iopub.status.busy": "2022-08-03T08:17:30.594085Z",
     "iopub.status.idle": "2022-08-03T08:17:30.617549Z",
     "shell.execute_reply": "2022-08-03T08:17:30.616312Z",
     "shell.execute_reply.started": "2022-08-03T08:17:30.594868Z"
    }
   },
   "outputs": [],
   "source": [
    "x = 1 + 2 + 3 + 4 "
   ]
  },
  {
   "cell_type": "markdown",
   "metadata": {},
   "source": [
    "You can read the code from left to right, starting at the `x`. In the code cell above, the `x` is the **variable name** and the equal sign (`=`) assigns it to the **expression** on the right-hand side, `1 + 2 + 3 + 4`. If we evaluate `1 + 2 + 3 + 4` it will equal `10`. So, we can conclude that `x = 1 + 2 + 3 + 4` is equivalent to `x = 10`. If you run the cell below, the output will be `10`!"
   ]
  },
  {
   "cell_type": "code",
   "execution_count": null,
   "metadata": {
    "execution": {
     "iopub.execute_input": "2022-08-03T08:23:41.528689Z",
     "iopub.status.busy": "2022-08-03T08:23:41.527499Z",
     "iopub.status.idle": "2022-08-03T08:23:41.539992Z",
     "shell.execute_reply": "2022-08-03T08:23:41.537221Z",
     "shell.execute_reply.started": "2022-08-03T08:23:41.528645Z"
    },
    "tags": []
   },
   "outputs": [],
   "source": [
    "x # Just run this cell"
   ]
  },
  {
   "cell_type": "markdown",
   "metadata": {},
   "source": [
    "You can also chain variable assignments, as follows. In the cell, we use the stored value of `x` (`x = 10`), so we are really saying `y = (10 + 3 + 10 + 2) * 4`!"
   ]
  },
  {
   "cell_type": "code",
   "execution_count": null,
   "metadata": {
    "execution": {
     "iopub.execute_input": "2022-08-03T08:24:33.065858Z",
     "iopub.status.busy": "2022-08-03T08:24:33.065177Z",
     "iopub.status.idle": "2022-08-03T08:24:33.075613Z",
     "shell.execute_reply": "2022-08-03T08:24:33.074196Z",
     "shell.execute_reply.started": "2022-08-03T08:24:33.065827Z"
    }
   },
   "outputs": [],
   "source": [
    "y = (x + 3 + x + 2) * 4\n",
    "y"
   ]
  },
  {
   "cell_type": "markdown",
   "metadata": {},
   "source": [
    "### Variable Examples\n",
    "Let's look at a couple examples of when using variables can help us immensely!"
   ]
  },
  {
   "cell_type": "markdown",
   "metadata": {},
   "source": [
    "#### Example 1: Seconds in a Year\n",
    "Let's say we want to find out how many seconds are in a year. We could calcluate it raw as following: $$60 \\cdot 60 \\cdot 24 \\cdot 365$$ However, someone reading this may not understand it, and we might want to use this information for further calculations. Let's see how we can do this using variables!"
   ]
  },
  {
   "cell_type": "code",
   "execution_count": null,
   "metadata": {
    "execution": {
     "iopub.execute_input": "2022-08-05T08:28:27.327630Z",
     "iopub.status.busy": "2022-08-05T08:28:27.327137Z",
     "iopub.status.idle": "2022-08-05T08:28:27.334135Z",
     "shell.execute_reply": "2022-08-05T08:28:27.333397Z",
     "shell.execute_reply.started": "2022-08-05T08:28:27.327604Z"
    },
    "tags": []
   },
   "outputs": [],
   "source": [
    "days = 365 # The days in a year\n",
    "hours = 24 # The hours in a day\n",
    "minutes = 60 # The minutes in an hour\n",
    "seconds = 60 # The seconds in a minute\n",
    "seconds_per_year = days * hours * minutes * seconds # The seconds in one year\n",
    "seconds_per_year"
   ]
  },
  {
   "cell_type": "markdown",
   "metadata": {},
   "source": [
    "This method is far easier to understand, and we can use our new variable `seconds_per_year` to answer other questions! Lets say we wanted to find the number of seconds in half a year, $7$ years, $234$ years, or even $3.1415$ years as follows!"
   ]
  },
  {
   "cell_type": "code",
   "execution_count": null,
   "metadata": {
    "execution": {
     "iopub.execute_input": "2022-08-05T08:28:28.328910Z",
     "iopub.status.busy": "2022-08-05T08:28:28.328282Z",
     "iopub.status.idle": "2022-08-05T08:28:28.336686Z",
     "shell.execute_reply": "2022-08-05T08:28:28.335576Z",
     "shell.execute_reply.started": "2022-08-05T08:28:28.328873Z"
    },
    "tags": []
   },
   "outputs": [],
   "source": [
    "print(\"Seconds in half a year:\", seconds_per_year / 2)\n",
    "print(\"Seconds in seven years:\", seconds_per_year * 7)\n",
    "print(\"Seconds in two hundred and thirty-four years:\", seconds_per_year * 234)\n",
    "print(\"Seconds in 3.1415 years:\", seconds_per_year * 3.1415)"
   ]
  },
  {
   "cell_type": "markdown",
   "metadata": {},
   "source": [
    "As you can see, we don't need to re-do the problem four times to get all the results, we just need to use the result we already calculated! (Cool right?)"
   ]
  },
  {
   "cell_type": "markdown",
   "metadata": {},
   "source": [
    "#### Example 2: Equation of a Line\n",
    "If you haven't done algebra in a while, for reference, the equation of a line is $$y = mx + b$$ We can use variables to easily calculate the $y$ for any $x$, and we can set $m$ (the slope) and $b$ (the intercept)."
   ]
  },
  {
   "cell_type": "code",
   "execution_count": null,
   "metadata": {
    "execution": {
     "iopub.execute_input": "2022-08-05T08:28:29.986870Z",
     "iopub.status.busy": "2022-08-05T08:28:29.985790Z",
     "iopub.status.idle": "2022-08-05T08:28:30.038201Z",
     "shell.execute_reply": "2022-08-05T08:28:30.015123Z",
     "shell.execute_reply.started": "2022-08-05T08:28:29.986832Z"
    },
    "tags": []
   },
   "outputs": [],
   "source": [
    "m = 1 # The slope\n",
    "b = 5 # The intercept\n",
    "x = 4 # Try changing this value to see how the output changes!\n",
    "y = m * x + b\n",
    "print(f\"On the line y = {m}x + {b}, at x = {x}, y is equal to {y}\")"
   ]
  },
  {
   "cell_type": "markdown",
   "metadata": {},
   "source": [
    "## Lists\n",
    "Variable values may be more sophisticated. We can store multiple numbers under a single name if we make the value a list. The following cell stores 3 numbers in a list:"
   ]
  },
  {
   "cell_type": "code",
   "execution_count": null,
   "metadata": {},
   "outputs": [],
   "source": [
    "number_list = [4, 9, 16]"
   ]
  },
  {
   "cell_type": "markdown",
   "metadata": {},
   "source": [
    "Lists can actually contain any value type in Python! Check out the cell below in which it contains numbers, strings, and variables!"
   ]
  },
  {
   "cell_type": "code",
   "execution_count": null,
   "metadata": {},
   "outputs": [],
   "source": [
    "weird_list = [\"Hello\", 3.14, 200, x, \"Goodbye\"]"
   ]
  },
  {
   "cell_type": "markdown",
   "metadata": {},
   "source": [
    "We can also start a list off as empty and add things to it later, as seen below"
   ]
  },
  {
   "cell_type": "code",
   "execution_count": null,
   "metadata": {},
   "outputs": [],
   "source": [
    "empty = []\n",
    "empty = empty + [1]\n",
    "empty = empty + [2]\n",
    "empty"
   ]
  },
  {
   "cell_type": "markdown",
   "metadata": {},
   "source": [
    "You can add values to a list or even take them out! This can be useful when you want to do a lot of calculations and keep them under one variable. See the following example for one such reason why lists are helpful. In this example, we add another element to the list, which is the sum of all of the numbers in the list already."
   ]
  },
  {
   "cell_type": "markdown",
   "metadata": {},
   "source": [
    "<div class=\"alert alert-block alert-success\">\n",
    "    <p style=\"font-size:20px\">This example is advanced/optional\n",
    "</div>"
   ]
  },
  {
   "cell_type": "code",
   "execution_count": null,
   "metadata": {
    "execution": {
     "iopub.execute_input": "2022-08-05T08:30:16.887836Z",
     "iopub.status.busy": "2022-08-05T08:30:16.887112Z",
     "iopub.status.idle": "2022-08-05T08:30:16.904101Z",
     "shell.execute_reply": "2022-08-05T08:30:16.901939Z",
     "shell.execute_reply.started": "2022-08-05T08:30:16.887795Z"
    },
    "tags": []
   },
   "outputs": [],
   "source": [
    "running_totals = [1]\n",
    "running_totals = running_totals + [sum(running_totals)]\n",
    "running_totals = running_totals + [sum(running_totals)]\n",
    "running_totals = running_totals + [sum(running_totals)]\n",
    "running_totals = running_totals + [sum(running_totals)]\n",
    "running_totals = running_totals + [sum(running_totals)]\n",
    "running_totals = running_totals + [sum(running_totals)]\n",
    "running_totals"
   ]
  },
  {
   "cell_type": "markdown",
   "metadata": {},
   "source": [
    "<h2>Loops</h2>"
   ]
  },
  {
   "cell_type": "markdown",
   "metadata": {},
   "source": [
    "<div class=\"alert alert-block alert-success\">\n",
    "    <p style=\"font-size:20px\">This section is advanced/optional\n",
    "</div>"
   ]
  },
  {
   "cell_type": "markdown",
   "metadata": {},
   "source": [
    "That code above looks a little repetitive, instead of typing that out, we can use what is called a <i>for loop</i>, to have the computer do it for us! The code in the cell below does the exact same thing as the cell above, just in a shorter way!"
   ]
  },
  {
   "cell_type": "code",
   "execution_count": null,
   "metadata": {
    "execution": {
     "iopub.execute_input": "2022-08-05T08:33:05.691267Z",
     "iopub.status.busy": "2022-08-05T08:33:05.690675Z",
     "iopub.status.idle": "2022-08-05T08:33:05.718127Z",
     "shell.execute_reply": "2022-08-05T08:33:05.716987Z",
     "shell.execute_reply.started": "2022-08-05T08:33:05.691229Z"
    }
   },
   "outputs": [],
   "source": [
    "running_totals = [1]\n",
    "for _ in range(6): # Do the intented action 6 times\n",
    "    running_totals = running_totals + [sum(running_totals)]\n",
    "running_totals"
   ]
  },
  {
   "cell_type": "markdown",
   "metadata": {
    "cell_id": "00022-ad81de6d-4f04-4922-8b42-b54b01daeb8c",
    "deepnote_cell_type": "markdown",
    "tags": []
   },
   "source": [
    "## Functions\n",
    "We've seen that values can have names (often called **variables**), but operations may also have names. A named operation is called a **function**. Python has some functions built into it."
   ]
  },
  {
   "cell_type": "code",
   "execution_count": null,
   "metadata": {
    "cell_id": "00023-7a1ac018-a44a-4e08-a681-2479fd06afed",
    "deepnote_cell_type": "code",
    "execution": {
     "iopub.execute_input": "2022-08-05T10:03:23.718343Z",
     "iopub.status.busy": "2022-08-05T10:03:23.716471Z",
     "iopub.status.idle": "2022-08-05T10:03:23.767727Z",
     "shell.execute_reply": "2022-08-05T10:03:23.766540Z",
     "shell.execute_reply.started": "2022-08-05T10:03:23.718231Z"
    },
    "tags": []
   },
   "outputs": [],
   "source": [
    "round # A built-in function "
   ]
  },
  {
   "cell_type": "markdown",
   "metadata": {},
   "source": [
    "If you put the name of a function followed by a question mark (?), you can see some documentation on the function, such as what it is supposed to do!"
   ]
  },
  {
   "cell_type": "code",
   "execution_count": null,
   "metadata": {
    "execution": {
     "iopub.execute_input": "2022-08-05T10:04:19.808557Z",
     "iopub.status.busy": "2022-08-05T10:04:19.808107Z",
     "iopub.status.idle": "2022-08-05T10:04:20.039446Z",
     "shell.execute_reply": "2022-08-05T10:04:20.038442Z",
     "shell.execute_reply.started": "2022-08-05T10:04:19.808524Z"
    }
   },
   "outputs": [],
   "source": [
    "round?"
   ]
  },
  {
   "cell_type": "markdown",
   "metadata": {
    "cell_id": "00024-61af2610-4945-4252-86a1-a4f67e1cf4ce",
    "deepnote_cell_type": "markdown",
    "tags": []
   },
   "source": [
    "Functions get used in *call expressions*, where a function is named and given values to operate on inside a set of parentheses. The `round` function returns the number it was given, rounded to the nearest whole number."
   ]
  },
  {
   "cell_type": "code",
   "execution_count": null,
   "metadata": {
    "cell_id": "00025-ddd3aeb9-2868-4a79-8404-5c5052baab1b",
    "deepnote_cell_type": "code",
    "execution": {
     "iopub.execute_input": "2022-08-05T10:04:42.464415Z",
     "iopub.status.busy": "2022-08-05T10:04:42.463960Z",
     "iopub.status.idle": "2022-08-05T10:04:42.471954Z",
     "shell.execute_reply": "2022-08-05T10:04:42.470894Z",
     "shell.execute_reply.started": "2022-08-05T10:04:42.464379Z"
    },
    "tags": []
   },
   "outputs": [],
   "source": [
    "round(1988.74699) # A call expression using round"
   ]
  },
  {
   "cell_type": "markdown",
   "metadata": {
    "cell_id": "00027-27b5ba99-fd19-4093-9b69-1d42154c979f",
    "deepnote_cell_type": "markdown",
    "tags": []
   },
   "source": [
    "A function may also be called on more than one value (called *arguments*). For instance, the `min` function takes however many arguments you'd like and returns the smallest. Multiple arguments are separated by commas."
   ]
  },
  {
   "cell_type": "code",
   "execution_count": null,
   "metadata": {
    "cell_id": "00027-26d2e33c-79e0-44b3-aad9-59361b3dba09",
    "deepnote_cell_type": "code",
    "execution": {
     "iopub.execute_input": "2022-08-05T10:04:45.328292Z",
     "iopub.status.busy": "2022-08-05T10:04:45.327813Z",
     "iopub.status.idle": "2022-08-05T10:04:45.339306Z",
     "shell.execute_reply": "2022-08-05T10:04:45.338338Z",
     "shell.execute_reply.started": "2022-08-05T10:04:45.328257Z"
    },
    "tags": []
   },
   "outputs": [],
   "source": [
    "min(9, -34, 0, 99)"
   ]
  },
  {
   "cell_type": "markdown",
   "metadata": {
    "tags": []
   },
   "source": [
    "### User-Defined Functions"
   ]
  },
  {
   "cell_type": "markdown",
   "metadata": {},
   "source": [
    "<div class=\"alert alert-block alert-success\">\n",
    "    <p style=\"font-size:20px\">This section is advanced/optional\n",
    "</div>"
   ]
  },
  {
   "cell_type": "markdown",
   "metadata": {},
   "source": [
    "One of the most useful features in Python is the ability to define your own functions using what we call a `\"def\"` statement. \n",
    "\n",
    "Here is an example of one such function based on our earlier example of seconds in one year:"
   ]
  },
  {
   "cell_type": "markdown",
   "metadata": {},
   "source": [
    "<div class=\"alert alert-block alert-info\">\n",
    "    <p style=\"font-size:15px\">\n",
    "    Note: All of the text between the triple quotes (<code>\"\"\"</code>) is called a \n",
    "    <i>docstring</i>. This isn't required for the function to work, \n",
    "    but if we are sharing our code with someone else, it allows us to explain the code\n",
    "    to them, or if we forget what it does later down the line!\n",
    "</div>"
   ]
  },
  {
   "cell_type": "code",
   "execution_count": null,
   "metadata": {
    "execution": {
     "iopub.execute_input": "2022-08-05T10:10:47.113600Z",
     "iopub.status.busy": "2022-08-05T10:10:47.113101Z",
     "iopub.status.idle": "2022-08-05T10:10:47.127183Z",
     "shell.execute_reply": "2022-08-05T10:10:47.126223Z",
     "shell.execute_reply.started": "2022-08-05T10:10:47.113562Z"
    },
    "tags": []
   },
   "outputs": [],
   "source": [
    "def seconds(x):\n",
    "    \"\"\"\n",
    "    Returns the number of seconds in `x` years.\n",
    "\n",
    "    Parameters\n",
    "    ----------\n",
    "    x : int or float or ndarray\n",
    "        Input for number of years.\n",
    "\n",
    "    Returns\n",
    "    -------\n",
    "    seconds : int or float or ndarray\n",
    "        Number of seconds in `x` years.\n",
    "\n",
    "    \"\"\"\n",
    "    days = 365\n",
    "    hours = 24\n",
    "    minutes = 60\n",
    "    seconds = 60\n",
    "    per_year = days * hours * minutes * seconds\n",
    "    return per_year * x"
   ]
  },
  {
   "cell_type": "markdown",
   "metadata": {},
   "source": [
    "Now we can use this function just like a built-in function!"
   ]
  },
  {
   "cell_type": "code",
   "execution_count": null,
   "metadata": {
    "execution": {
     "iopub.execute_input": "2022-08-05T10:10:56.866771Z",
     "iopub.status.busy": "2022-08-05T10:10:56.866052Z",
     "iopub.status.idle": "2022-08-05T10:10:56.883125Z",
     "shell.execute_reply": "2022-08-05T10:10:56.882140Z",
     "shell.execute_reply.started": "2022-08-05T10:10:56.866731Z"
    }
   },
   "outputs": [],
   "source": [
    "seconds"
   ]
  },
  {
   "cell_type": "code",
   "execution_count": null,
   "metadata": {
    "execution": {
     "iopub.execute_input": "2022-08-05T10:10:58.618168Z",
     "iopub.status.busy": "2022-08-05T10:10:58.617698Z",
     "iopub.status.idle": "2022-08-05T10:10:58.625682Z",
     "shell.execute_reply": "2022-08-05T10:10:58.624733Z",
     "shell.execute_reply.started": "2022-08-05T10:10:58.618131Z"
    },
    "tags": []
   },
   "outputs": [],
   "source": [
    "seconds?"
   ]
  },
  {
   "cell_type": "code",
   "execution_count": null,
   "metadata": {
    "execution": {
     "iopub.execute_input": "2022-08-05T10:14:48.215330Z",
     "iopub.status.busy": "2022-08-05T10:14:48.214859Z",
     "iopub.status.idle": "2022-08-05T10:14:48.230126Z",
     "shell.execute_reply": "2022-08-05T10:14:48.227294Z",
     "shell.execute_reply.started": "2022-08-05T10:14:48.215296Z"
    },
    "tags": []
   },
   "outputs": [],
   "source": [
    "print(\"Seconds in one year:\", seconds(1))\n",
    "print(\"Seconds in 57 years:\", seconds(57))\n",
    "print(\"Seconds in 6.022 years:\", round(seconds(6.022)))\n",
    "print(\"Seconds since Berkeley was founded (the year 1868):\", seconds(2023 - 1868))"
   ]
  },
  {
   "cell_type": "markdown",
   "metadata": {},
   "source": [
    "### Practice"
   ]
  },
  {
   "cell_type": "markdown",
   "metadata": {
    "cell_id": "00028-85d551d0-1121-4f0d-9b6d-da0049cad3e7",
    "deepnote_cell_type": "markdown",
    "tags": []
   },
   "source": [
    "<div class=\"alert alert-block alert-warning\">\n",
    "<ul>\n",
    "    <li>The <code>abs</code> function takes one argument (just like <code>round</code>)</li>\n",
    "    <li>The <code>max</code> function takes one or more arguments (just like <code>min</code>)</li>\n",
    "</ul>\n"
   ]
  },
  {
   "cell_type": "markdown",
   "metadata": {},
   "source": [
    "\n",
    "Try calling <code>abs</code> and <code>max</code> one at a time in the cell below. What does each function do?\n",
    "\n",
    "Also try calling each function <i>incorrectly</i>, such as with the wrong number of arguments or with non-numeric values. What kinds of error messages do you see?\n",
    "</div>"
   ]
  },
  {
   "cell_type": "code",
   "execution_count": null,
   "metadata": {
    "cell_id": "00029-ba5cb6d4-659b-4236-87ba-a1cddd93da6f",
    "deepnote_cell_type": "code",
    "tags": []
   },
   "outputs": [],
   "source": [
    "... # Replace the ... with calls to abs and max"
   ]
  },
  {
   "cell_type": "markdown",
   "metadata": {},
   "source": [
    "<hr style=\"border: 2px solid #003262\">\n",
    "<hr style=\"border: 2px solid #C9B676\">"
   ]
  },
  {
   "cell_type": "markdown",
   "metadata": {
    "cell_id": "00009-52f60190-e21f-4107-99a9-d42ab128df40",
    "deepnote_cell_type": "markdown",
    "tags": [
     "ignore"
    ]
   },
   "source": [
    "## Modules\n",
    "\n",
    "Now that we've covered our bases with regards to the platform we'll be working on for this assignment, let's load some **modules** we need to explore the data we are working with. Python **modules** are extra packages we can load to help use tools that are not otherwise available in regular Python. These can include visualization modules such as `matplotlib` or numerical tools like `numpy`. You can see how we load these modules below:"
   ]
  },
  {
   "cell_type": "code",
   "execution_count": null,
   "metadata": {
    "cell_id": "00010-be6eaa80-c135-4a5e-b17e-afa03953823b",
    "deepnote_cell_type": "code",
    "execution": {
     "iopub.execute_input": "2022-08-05T10:23:25.851604Z",
     "iopub.status.busy": "2022-08-05T10:23:25.850800Z",
     "iopub.status.idle": "2022-08-05T10:23:25.858681Z",
     "shell.execute_reply": "2022-08-05T10:23:25.857773Z",
     "shell.execute_reply.started": "2022-08-05T10:23:25.851561Z"
    },
    "tags": [
     "ignore"
    ]
   },
   "outputs": [],
   "source": [
    "from datascience import * # This loads tools from the datascience module\n",
    "import matplotlib.pyplot as plt # This loads tools from the matplotlib module\n",
    "%matplotlib inline\n",
    "plt.style.use(\"fivethirtyeight\") # This makes plots appear in the notebook\n",
    "import numpy as np # Loads numerical methods\n",
    "import math, random # Loads math and random functions\n",
    "import seaborn as sns, plotly.express as px # Loads plotting tools\n",
    "from utils import * # Loads our own custom tools"
   ]
  },
  {
   "cell_type": "markdown",
   "metadata": {},
   "source": [
    "For your reference, we'll break down one line of the large cell below. In this line:\n",
    "\n",
    "```python\n",
    "import numpy as np\n",
    "```\n",
    "\n",
    "We import the numpy module. Essentially, we're telling Python that we want to use a specific set of functions that has been named \"`numpy`\". We then use the `as` keyword to specify that we want to use some other name to refer to \"`numpy`\"; in this context we told Python we want to call it \"`np`\".\n",
    "\n",
    "Lets say we want to use the `numpy.mean` function (this takes the mean of a list of numbers). Because we imported \"`numpy`\" as \"`np`\", we could now call `np.mean()`\n",
    "\n",
    "Note: We name `numpy` as \"`np`\" because it is the standard name in the industry, however we could also have said:\n",
    "\n",
    "```python\n",
    "import numpy as harrystyles\n",
    "```\n",
    "Which would've allowed us to run `harrystyles.mean()`. However, this would be confusing for a reader, so it's considered best practice to use standard names such as \"`np`\" for \"`numpy`\", so that different people can all read your work and not be confused as to what function you are using or what module it came from.\n",
    "\n",
    "The cell below runs what we just talked about. Feel free to play around and try things out!"
   ]
  },
  {
   "cell_type": "code",
   "execution_count": null,
   "metadata": {
    "execution": {
     "iopub.execute_input": "2022-08-05T10:40:59.244987Z",
     "iopub.status.busy": "2022-08-05T10:40:59.244628Z",
     "iopub.status.idle": "2022-08-05T10:40:59.250972Z",
     "shell.execute_reply": "2022-08-05T10:40:59.249926Z",
     "shell.execute_reply.started": "2022-08-05T10:40:59.244962Z"
    },
    "tags": []
   },
   "outputs": [],
   "source": [
    "import numpy as harrystyles\n",
    "print(\"Harry Styles is NumPy?\", harrystyles == np)\n",
    "numbers = [1, 2, 3, 4, 5, 6, 7, 8]\n",
    "print(\"Harry Styles' mean of\", numbers, \":\", harrystyles.mean(numbers))\n",
    "print(\"NumPy's mean of\", numbers, \":\", np.mean(numbers))\n",
    "\n",
    "# This line delete the silly import of `harrystyles` that we just made\n",
    "del harrystyles"
   ]
  },
  {
   "cell_type": "markdown",
   "metadata": {
    "cell_id": "00030-114d6671-9eff-4835-a25c-11b521f0f643",
    "deepnote_cell_type": "markdown",
    "tags": []
   },
   "source": [
    "#### Dot Notation\n",
    "Python has a lot of [built-in functions](https://docs.python.org/3/library/functions.html) (that is, functions that are already named and defined in Python), but even more functions are stored in collections called *modules*. Earlier, we imported the `math` module so we could use it later. Once a module is imported, you can use its functions by typing the name of the module, then the name of the function you want from it, separated with a `.`."
   ]
  },
  {
   "cell_type": "markdown",
   "metadata": {},
   "source": [
    "<div class=\"alert alert-block alert-info\">\n",
    "<p style='font-size:18px'><b>Tip:</b> If you type the name of a <i>module</i>, but can't remember the name of the function you're looking for, type a dot <code>.</code>, then press the <code>Tab</code> key to bring up an auto-complete menu to help you find the function you're looking for!\n",
    "    </p>\n",
    "</div>"
   ]
  },
  {
   "cell_type": "code",
   "execution_count": null,
   "metadata": {
    "cell_id": "00031-9b6fdd99-2357-45c8-a6b2-ba29f6dfc470",
    "deepnote_cell_type": "code",
    "execution": {
     "iopub.execute_input": "2022-08-05T10:22:36.029638Z",
     "iopub.status.busy": "2022-08-05T10:22:36.029172Z",
     "iopub.status.idle": "2022-08-05T10:22:36.037838Z",
     "shell.execute_reply": "2022-08-05T10:22:36.036937Z",
     "shell.execute_reply.started": "2022-08-05T10:22:36.029603Z"
    },
    "tags": []
   },
   "outputs": [],
   "source": [
    "math.factorial(5) # A call expression with the factorial function from the math module"
   ]
  },
  {
   "cell_type": "markdown",
   "metadata": {},
   "source": [
    "Now it's your turn! **Try calling `math.sqrt` on the int 9.**"
   ]
  },
  {
   "cell_type": "code",
   "execution_count": null,
   "metadata": {},
   "outputs": [],
   "source": [
    "math.sqrt(...) # Replace the ellipsis with 9"
   ]
  },
  {
   "cell_type": "markdown",
   "metadata": {},
   "source": [
    "If we pass in a list to a method like `sum()`, notice how it will reduce a list to a single number since this function adds up all the elements of the list: **try calling `sum()` on [4,9,16]**.\n",
    "\n",
    "**Note:** For the `sum()` method, we do not need to type it as `math.sum()`, because the function comes directly from Python, not from the `math` module like the previous functions."
   ]
  },
  {
   "cell_type": "code",
   "execution_count": null,
   "metadata": {},
   "outputs": [],
   "source": [
    "sum(...) # Replace the ellipsis with the list [4, 9, 16]"
   ]
  },
  {
   "cell_type": "markdown",
   "metadata": {},
   "source": [
    "### Random numbers and sampling\n",
    "Random sampling plays a key role in data science. The random module implements functions for random sampling and random number generation. For example, the cell below generates a random integer between 1 and 50. \n",
    "\n",
    "Note that any whole number between 1 and 50 has an equal probability of being selected --- the sampling probabilities are uniform.\n",
    "\n",
    "Try running this cell multiple times by holding `Command (mac)/Control (windows)` and pressing `Enter` repeatedly; notice how the output changes even though the code stays the same"
   ]
  },
  {
   "cell_type": "code",
   "execution_count": null,
   "metadata": {
    "execution": {
     "iopub.execute_input": "2022-08-05T10:18:29.612947Z",
     "iopub.status.busy": "2022-08-05T10:18:29.612338Z",
     "iopub.status.idle": "2022-08-05T10:18:29.622383Z",
     "shell.execute_reply": "2022-08-05T10:18:29.621393Z",
     "shell.execute_reply.started": "2022-08-05T10:18:29.612905Z"
    },
    "tags": []
   },
   "outputs": [],
   "source": [
    "random.randint(1,50)"
   ]
  },
  {
   "cell_type": "markdown",
   "metadata": {},
   "source": [
    "<hr style=\"border: 2px solid #003262\">\n",
    "<hr style=\"border: 2px solid #C9B676\">"
   ]
  },
  {
   "cell_type": "markdown",
   "metadata": {
    "cell_id": "00021-9acaedfa-35c8-4480-9195-ff3f525895da",
    "deepnote_cell_type": "markdown",
    "tags": [
     "ignore"
    ]
   },
   "source": [
    "## Tables"
   ]
  },
  {
   "cell_type": "markdown",
   "metadata": {},
   "source": [
    "### Loading a Table\n",
    "\n",
    "In data analysis, there is almost always a file holding your data that already exists. There are thousands of databases online that contain information on topics from all domains. In general, to import data from a file and create a table out of it, we write something like:\n",
    "\n",
    "```python\n",
    "Table.read_table(\"file_location/file_name\")\n",
    "```\n",
    "\n",
    "Most often, these file names end in .csv to show the data format. The .csv format is popular for spreadsheets and can be imported/exported from programs such as Microsoft Excel or Google Sheets."
   ]
  },
  {
   "cell_type": "markdown",
   "metadata": {},
   "source": [
    "### Context of a Table\n",
    "\n",
    "The dataset that is loaded in the cell below contains one row for a party that went out for food at a restraunt. It includes the following information about each party:\n",
    "\n",
    "|column name| meaning |type|\n",
    "|--|--|--|\n",
    "|total|total cost of the bill |number |\n",
    "|tip|the tip left by the party |number |\n",
    "|sex|sex of the person paying |category |\n",
    "|smoker|if the person paying was smoking |category |\n",
    "|day|day of the week |category |\n",
    "|time|meal (e.g., Lunch, Dinner, etc.) |category |\n",
    "|size|how many people were in the party |number |"
   ]
  },
  {
   "cell_type": "code",
   "execution_count": null,
   "metadata": {
    "execution": {
     "iopub.execute_input": "2022-08-05T10:29:21.969406Z",
     "iopub.status.busy": "2022-08-05T10:29:21.968920Z",
     "iopub.status.idle": "2022-08-05T10:29:22.036243Z",
     "shell.execute_reply": "2022-08-05T10:29:22.033954Z",
     "shell.execute_reply.started": "2022-08-05T10:29:21.969370Z"
    }
   },
   "outputs": [],
   "source": [
    "tips = Table.read_table(\"tips.csv\") # Here we see an assignment statement\n",
    "tips"
   ]
  },
  {
   "cell_type": "markdown",
   "metadata": {},
   "source": [
    "### Size of a Table\n",
    "\n",
    "This notebook can calculate how large this table is with two functions: `num_rows` and `num_columns`. \n",
    "\n",
    "The general form for these built-in table functions are `table.num_rows` and `table.num_columns` where table is the name of the table.\n",
    "\n",
    "Let's use these on the table above."
   ]
  },
  {
   "cell_type": "code",
   "execution_count": null,
   "metadata": {},
   "outputs": [],
   "source": [
    "cols = tips.num_columns\n",
    "rows = tips.num_rows\n",
    "print(\"The tips table has\", cols, \"columns and\", rows, \"rows.\")"
   ]
  },
  {
   "cell_type": "markdown",
   "metadata": {},
   "source": [
    "### Selecting Columns\n",
    "As we saw, there is a lot of data! However, what if we only care about some of it? In that case we can `select` a few of the columns.\n",
    "\n",
    "Let's say we want to focus on the `total` and `size` of the party. We will use the `select` function on the table to make a smaller table."
   ]
  },
  {
   "cell_type": "code",
   "execution_count": null,
   "metadata": {},
   "outputs": [],
   "source": [
    "total_and_tip = tips.select(\"total\", \"tip\")\n",
    "total_and_tip"
   ]
  },
  {
   "cell_type": "markdown",
   "metadata": {},
   "source": [
    "### Sorting\n",
    "\n",
    "Now, what if we want to sort the table, and look at the biggest tips? We can use the `sort` function!"
   ]
  },
  {
   "cell_type": "code",
   "execution_count": null,
   "metadata": {},
   "outputs": [],
   "source": [
    "total_and_tip.sort(\"tip\", descending=True)"
   ]
  },
  {
   "cell_type": "markdown",
   "metadata": {},
   "source": [
    "<hr style=\"border: 2px solid #003262\">\n",
    "<hr style=\"border: 2px solid #C9B676\">"
   ]
  },
  {
   "cell_type": "markdown",
   "metadata": {},
   "source": [
    "## Columns\n",
    "\n",
    "What if we want to look at the average bill total? To do that, we need to get the `total` column by itself. We can use the `column` function to do that! \n",
    "\n",
    "When you run the cell below, you'll see a lot of numbers, which might be overwhelming. But don't worry, we'll ignore the numbers for now, we just want to show what a column by itself looks like!"
   ]
  },
  {
   "cell_type": "code",
   "execution_count": null,
   "metadata": {},
   "outputs": [],
   "source": [
    "totals = total_and_tip.column(\"total\")\n",
    "print(totals)"
   ]
  },
  {
   "cell_type": "markdown",
   "metadata": {},
   "source": [
    "### Statistics with Columns\n",
    "\n",
    "Now that we have the totals as a list of numbers we can use the `numpy` module that we saw eariler to find some cool statistics about this data! Check out the cells below."
   ]
  },
  {
   "cell_type": "code",
   "execution_count": null,
   "metadata": {},
   "outputs": [],
   "source": [
    "average = np.mean(totals) # The mean of the totals\n",
    "print(\"The average total is\", average, \"dollars\")"
   ]
  },
  {
   "cell_type": "code",
   "execution_count": null,
   "metadata": {},
   "outputs": [],
   "source": [
    "minimum = np.min(totals) # The minimum of the totals\n",
    "print(\"The smallest total is\", minimum, \"dollars\")"
   ]
  },
  {
   "cell_type": "code",
   "execution_count": null,
   "metadata": {},
   "outputs": [],
   "source": [
    "maximum = np.max(totals) # The maximum of the totals\n",
    "print(\"The biggest total is\", maximum, \"dollars\")"
   ]
  },
  {
   "cell_type": "markdown",
   "metadata": {},
   "source": [
    "<hr style=\"border: 2px solid #003262\">\n",
    "<hr style=\"border: 2px solid #C9B676\">"
   ]
  },
  {
   "cell_type": "markdown",
   "metadata": {},
   "source": [
    "## Plotting"
   ]
  },
  {
   "cell_type": "markdown",
   "metadata": {},
   "source": [
    "While knowing the average, the largest, and the smallest values are useful, they don't tell us the whole story. Along with this, just looking at a bunch of numbers isn't always fun or efficient. To further expand on our analysis, let's make some visualizations of our data!\n",
    "\n",
    "Fortunately, in Python, there are lots of functions that can do this for us. We'll examine a few below."
   ]
  },
  {
   "cell_type": "markdown",
   "metadata": {},
   "source": [
    "### Histogram\n",
    "The `hist` function will plot a [histogram](https://en.wikipedia.org/wiki/Histogram) of the column you specify."
   ]
  },
  {
   "cell_type": "code",
   "execution_count": null,
   "metadata": {},
   "outputs": [],
   "source": [
    "tips.hist(\"total\", bins=np.arange(0, 60, 5))"
   ]
  },
  {
   "cell_type": "markdown",
   "metadata": {},
   "source": [
    "### Scatter Plot\n",
    "\n",
    "The `scatter` function makes a [scatter plot](https://en.wikipedia.org/wiki/Scatter_plot), where the first parameter below (`total`) is the column we want to display on the x-axis, and the second parameter (`tip`) is the column we want to display on the y-axis."
   ]
  },
  {
   "cell_type": "code",
   "execution_count": null,
   "metadata": {},
   "outputs": [],
   "source": [
    "tips.scatter(\"total\", \"tip\")"
   ]
  },
  {
   "cell_type": "markdown",
   "metadata": {},
   "source": [
    "### Line Chart\n",
    "\n",
    "The `plot` function makes a [line chart](https://en.wikipedia.org/wiki/Line_chart), where the first parameter below (`size`) is the value we want to display on the x-axis, and the second parameter (`total`) is the value we want to display on the y-axis.\n",
    "\n",
    "**Note:** The columns we have in the `tips` dataset is quite limited, and as such, this line chart probably isn't the best way to visualize the relationship between party size and total bill amount! We'd probably want to use a scatter plot instead. However, we just wanted to create an example line chart to show you how to do it. Line charts can be especially useful for viewing how a certain value changes over time."
   ]
  },
  {
   "cell_type": "code",
   "execution_count": null,
   "metadata": {},
   "outputs": [],
   "source": [
    "tips.plot(\"size\", \"total\")"
   ]
  },
  {
   "cell_type": "markdown",
   "metadata": {},
   "source": [
    "### Bar Chart"
   ]
  },
  {
   "cell_type": "markdown",
   "metadata": {},
   "source": [
    "The `barh` function makes a [bar chart](https://en.wikipedia.org/wiki/Bar_chart), where the first parameter below (`day`) is the column we want to display as our labels on the y-axis, and the second parameter (`tip average`) is the value we want to display on the x-axis. \n",
    "\n",
    "The first part of the code below, which says `tips.group(\"day\", np.average)` is our way of grouping all of the rows in the table by their `day` value, and then finding the average of the numerical values for each group. You'll likely encounter more grouping operations in the next notebook!\n",
    "\n",
    "**Note:** Bar charts and histograms look the same, but they serve different purposes -- while histograms allow us to look at the distribution of a numerical value, bar charts allow us to visualize the relationship between a categorical variable (such as `day`) and a numerical value."
   ]
  },
  {
   "cell_type": "code",
   "execution_count": null,
   "metadata": {},
   "outputs": [],
   "source": [
    "tips.group(\"day\", np.average).barh(\"day\", \"tip average\") # first we group by \"day\", then we plot the bar chart"
   ]
  },
  {
   "cell_type": "markdown",
   "metadata": {},
   "source": [
    "### Interactive Visualizations"
   ]
  },
  {
   "cell_type": "markdown",
   "metadata": {},
   "source": [
    "<div class=\"alert alert-block alert-success\">\n",
    "    <p style=\"font-size:20px\">This section is advanced/optional\n",
    "</div>"
   ]
  },
  {
   "cell_type": "markdown",
   "metadata": {},
   "source": [
    "The plots above are great, and are suitible for almost all cases. However, we can take it one step further by creating an interactive plot! We can do this with the `plotly` library. In these plots you can hover your mouse over data, and information about it will pop up!\n",
    "\n",
    "Don't worry about understanding the code below, just check out the cool visualizations, and try hovering over the data with your mouse in different spots. \n",
    "\n",
    "Check out the comments for a description of the visualizations."
   ]
  },
  {
   "cell_type": "code",
   "execution_count": null,
   "metadata": {},
   "outputs": [],
   "source": [
    "px.histogram(x=tips.column(\"total\"), title=\"Histogram of Total Bill Amounts\", \n",
    "             template = \"seaborn\", labels={\"x\":\"Total Bill Amounts\", \"y\":\"Count\"},\n",
    "             width = 600, height = 400, nbins=20)\n",
    "# Plots a histogram of the total bill amounts"
   ]
  },
  {
   "cell_type": "code",
   "execution_count": null,
   "metadata": {},
   "outputs": [],
   "source": [
    "px.histogram(x=tips.column(\"time\"), y=tips.column(\"tip\"), color = tips.column(\"time\"), \n",
    "             template = \"seaborn\", title = \"Average Tips by Meal\", labels = {\"x\": \"Day\", \"y\": \"Tips\"},\n",
    "             histfunc = \"avg\", width = 600, height = 400)\n",
    "# Plots a bar chart of the tips by meal"
   ]
  },
  {
   "cell_type": "code",
   "execution_count": null,
   "metadata": {},
   "outputs": [],
   "source": [
    "px.histogram(x=tips.column(\"day\"), y=tips.column(\"tip\"), color = tips.column(\"day\"), \n",
    "             template = \"seaborn\", title = \"Tips by Day\", labels = {\"x\": \"Day\", \"y\": \"Tips\"},\n",
    "             width = 600, height = 400)\n",
    "# Plots a bar chart of the tips by day"
   ]
  },
  {
   "cell_type": "code",
   "execution_count": null,
   "metadata": {},
   "outputs": [],
   "source": [
    "px.scatter(x=tips.column(\"total\"), y=tips.column(\"tip\"), \n",
    "           title=\"Scatter Plot of Total Bill Amounts vs. Tip Amounts\", template = \"seaborn\",\n",
    "           labels = {\"x\": \"Total Bill Amount\", \"y\": \"Tip Amount\"},\n",
    "           width=500, height=500)\n",
    "# Plots a scatter plot of the total bill amounts vs. the tip amounts"
   ]
  },
  {
   "cell_type": "markdown",
   "metadata": {},
   "source": [
    "<hr style=\"border: 2px solid #003262\">\n",
    "<hr style=\"border: 2px solid #C9B676\">"
   ]
  },
  {
   "cell_type": "markdown",
   "metadata": {
    "cell_id": "00033-cdd8d4fd-d181-4b60-84c6-53fce944a344",
    "deepnote_cell_type": "markdown"
   },
   "source": [
    "## Notebooks in Practice\n",
    "\n",
    "With proprietary software like *Mathematica*, users are supposed to trust the results returned and are unable to check the code. In contrast, *Jupyter* fosters **transparency** and hence encourages **reproducibility**, which refers to the ability to reproduce the results of a scientific study. Not only is the code behind the software available for anyone to inspect or tinker with, but code in the notebooks can also be examined or re-run to reproduce the results. \n",
    "\n",
    "[Theodore Gray](http://home.theodoregray.com/), the co-founder of [Wolfram Research](https://en.wikipedia.org/wiki/Wolfram_Research) who was also involved in creating the *Mathematica* interface, said about *Jupyter*,\n",
    ">*\"I think what they have is **acceptance from the scientific community** as a tool that is considered to be **universal**.\"*\n",
    "\n",
    "In other words, *Jupyter Notebooks* support the computational work of researchers from different fields, from astronomy to psychology to literature, and therefore enable new ways for researchers in very different domains to **share research tools, methods, and learn from one another**.\n",
    "\n",
    "The power of the notebook lies in its ability to include a **variety of media** with the computation as a means to maintain **accountability, integrity, and transparency** for both the author of the notebook and the audiences that you share your work with. "
   ]
  },
  {
   "cell_type": "markdown",
   "metadata": {},
   "source": [
    "<hr style=\"border: 2px solid #003262\">\n",
    "<hr style=\"border: 2px solid #C9B676\">"
   ]
  },
  {
   "cell_type": "markdown",
   "metadata": {},
   "source": [
    "## Conclusion"
   ]
  },
  {
   "cell_type": "markdown",
   "metadata": {},
   "source": [
    "In this notebook, you've learned quite a bit, below is a summary of the topics we have covered:\n",
    "- Jupyter Notebooks\n",
    "    - History of Jupyter\n",
    "    - Structure of a Notebook\n",
    "    - Editing a notebook\n",
    "- Python \n",
    "    - Math\n",
    "    - Strings\n",
    "    - Errors\n",
    "    - Variables\n",
    "    - Lists\n",
    "    - Functions\n",
    "    - Loops\n",
    "    - Modules\n",
    "    - Dot Notation\n",
    "- Tables\n",
    "    - Loading a Table\n",
    "    - Context of a Table\n",
    "    - Size of a Table\n",
    "    - Selecting Columns\n",
    "    - Sorting Tables\n",
    "- Columns\n",
    "    - Statistics of Columns\n",
    "- Plotting\n",
    "    - Histograms\n",
    "    - Scatter Plots\n",
    "    - Line Plots\n",
    "    - Bar Charts\n",
    "    - Interactive Plots\n",
    "\n",
    "<h3>Congratulations on finishing the notebook!</h3>"
   ]
  },
  {
   "cell_type": "markdown",
   "metadata": {},
   "source": [
    "<hr style=\"border: 2px solid #003262\">\n",
    "<hr style=\"border: 2px solid #C9B676\">"
   ]
  },
  {
   "cell_type": "markdown",
   "metadata": {},
   "source": [
    "## A Final Request: Feedback Form"
   ]
  },
  {
   "cell_type": "markdown",
   "metadata": {},
   "source": [
    "<div class=\"alert alert-block alert-info\">\n",
    "    <p style=\"font-size:20px\">We encourage students to fill out the following feedback form to share your experience with this Module created notebook. This feedback form will take no longer than 5 minutes. At UC Berkeley Data Science Undergraduate Studies – Modules, we appreciate all feedback to improve the learning of students and experience utilizing Jupyter Notebooks for Data Science Education. You can fill out the survey by running the below and clicking the button that appears. Thank you in advance for your time!\n",
    "</div>"
   ]
  },
  {
   "cell_type": "code",
   "execution_count": null,
   "metadata": {},
   "outputs": [],
   "source": [
    "feedback_button()"
   ]
  }
 ],
 "metadata": {
  "deepnote_execution_queue": [],
  "deepnote_notebook_id": "693e9760-244f-475b-aa3d-f49b62665db0",
  "kernelspec": {
   "display_name": "Python 3 (ipykernel)",
   "language": "python",
   "name": "python3"
  },
  "language_info": {
   "codemirror_mode": {
    "name": "ipython",
    "version": 3
   },
   "file_extension": ".py",
   "mimetype": "text/x-python",
   "name": "python",
   "nbconvert_exporter": "python",
   "pygments_lexer": "ipython3",
   "version": "3.9.15"
  },
  "vscode": {
   "interpreter": {
    "hash": "31f2aee4e71d21fbe5cf8b01ff0e069b9275f58929596ceb00d14d90e3e16cd6"
   }
  },
  "widgets": {
   "application/vnd.jupyter.widget-state+json": {
    "state": {},
    "version_major": 2,
    "version_minor": 0
   }
  }
 },
 "nbformat": 4,
 "nbformat_minor": 4
}
