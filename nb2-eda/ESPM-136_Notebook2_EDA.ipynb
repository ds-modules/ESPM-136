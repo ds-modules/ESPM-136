{
 "cells": [
  {
   "cell_type": "markdown",
   "metadata": {
    "cell_id": "00001-eedf9a46-cb0c-42bc-a90f-96265663c0d3",
    "deepnote_cell_type": "markdown",
    "tags": [
     "ignore"
    ]
   },
   "source": [
    "## [ESPM-136] Notebook 2: Company Emissions Exploratory Data Analysis (EDA)\n",
    "\n",
    "Welcome to the second Jupyter Notebook for ESPM 136! In the previous notebook, you went through a small introduction to coding and performing data analysis in Python and Jupyter Notebooks. In this notebook, we'll be going through a **more applicable data analysis and visualization process of real-world data**, created straight from the company emissions Google Form you filled out before!\n",
    "\n",
    "The process of looking at, summarizing, analyzing, and visualizing data that we'll be going through today is commonly referred to as **exploratory data analysis**. As we go through the notebook, hopefully you'll understand just how useful it can be for gaining a better understanding of trends in data we're interested in."
   ]
  },
  {
   "cell_type": "markdown",
   "metadata": {},
   "source": [
    "## Feeling stuck or want extra help with this notebook? Contact Data Peer Consultants!\n",
    "\n",
    "If you find yourself having trouble with any content in this notebook, **Data Peer Consultants** are an excellent resource! Click [here](https://dlab.berkeley.edu/training/frontdesk-info) to locate live help.\n",
    "Peer Consultants are there to answer all data-related questions, whether it be about the content of this notebook, applications of data science in the world, or other data science courses offered at Berkeley."
   ]
  },
  {
   "cell_type": "markdown",
   "metadata": {},
   "source": [
    "<hr style=\"border: 2px solid #003262\">\n",
    "<hr style=\"border: 2px solid #C9B676\">"
   ]
  },
  {
   "cell_type": "markdown",
   "metadata": {},
   "source": [
    "## Learning Outcomes\n",
    "\n",
    "Working through this notebook, you will learn about:\n",
    "1. Basic table functions for **viewing and conditionally selecting data**\n",
    "2. More advanced table functions for **performing detailed data analysis**\n",
    "3. **Creating visualizations** to better understand our data"
   ]
  },
  {
   "cell_type": "markdown",
   "metadata": {},
   "source": [
    "<hr style=\"border: 2px solid #003262\">\n",
    "<hr style=\"border: 2px solid #C9B676\">"
   ]
  },
  {
   "cell_type": "markdown",
   "metadata": {
    "cell_id": "00003-a9cd1167-2276-4e0f-85b6-43d803731627",
    "deepnote_cell_type": "markdown",
    "tags": []
   },
   "source": [
    "## Recap of What We've Done So Far\n",
    "\n",
    "In Assignment #1 you **gathered carbon emissions data and evaluated internal decarbonization strategies for two companies of your choice** and submitted all of this information into a Google Form. We will now be **using Jupyter Notebooks to analyze the data** that you collected!\n",
    "\n",
    "As you learned in the first notebook, we use Jupyter Notebooks because this interactive environment allows us to work with code, text, and visualizations all at once. This is important especially in the context of corporate decarbonization because we want to learn how to manipulate the data you collected, as well as understand the meaning behind the manipulations to **understand how a company's carbon reporting compares with the actual internal actions they are taking to decarbonize.**"
   ]
  },
  {
   "cell_type": "markdown",
   "metadata": {},
   "source": [
    "<hr style=\"border: 2px solid #003262\">\n",
    "<hr style=\"border: 2px solid #C9B676\">"
   ]
  },
  {
   "cell_type": "markdown",
   "metadata": {
    "cell_id": "00003-058e2913-9587-45ac-8c2f-f284333ac4f3",
    "deepnote_cell_type": "markdown"
   },
   "source": [
    "## Importing Modules and Taking an Initial Look at the Data\n",
    "\n",
    "As stated previously, in this notebook we'll be utilizing data exported from the Google Form that you filled out based on company emissions. From the Google Form, we were able to export the results as a CSV (comma-separated value) file. We cleaned up and anonymized the data, and we uploaded it to the same folder that this notebook is located in. Thanks to this pre-processing, we can now load in our data to a table object from the `datascience` module!\n",
    "\n",
    "As with the first notebook, we need to import the modules necessary for this notebook. You can do this by running (clicking the cell and hitting `Cmd/Ctrl`+`Enter`, or clicking the cell and hitting the `Run` button at the top) the following code cell!"
   ]
  },
  {
   "cell_type": "code",
   "execution_count": 1,
   "metadata": {},
   "outputs": [],
   "source": [
    "# Run this cell to import the modules\n",
    "import numpy as np\n",
    "import pandas as pd\n",
    "from datascience import *\n",
    "from ipywidgets import *\n",
    "import matplotlib.pyplot as plt\n",
    "%matplotlib inline\n",
    "plt.style.use(\"fivethirtyeight\")\n",
    "import seaborn as sns, plotly.express as px"
   ]
  },
  {
   "cell_type": "markdown",
   "metadata": {},
   "source": [
    "Now that we have all the modules we need, we can load our original CSV file into a table object from the `datascience` module!\n",
    "\n",
    "The `.show()` command in the cell below allows us to see a specified number of rows of the table. In this case, we want to see the first five rows of the table to see what it looks like."
   ]
  },
  {
   "cell_type": "code",
   "execution_count": 2,
   "metadata": {},
   "outputs": [
    {
     "data": {
      "text/html": [
       "<table border=\"1\" class=\"dataframe\">\n",
       "    <thead>\n",
       "        <tr>\n",
       "            <th>Index</th> <th>Company Name</th> <th>Company Sector</th> <th>Company Sector (Other)</th> <th>Year of CDP Disclosure</th> <th>Scope 1 value</th> <th>Scope 2 value (location-based)</th> <th>Scope 2 value (market-based)</th> <th>Scope 3 value</th> <th>Total Revenue</th> <th>Currency of Total Revenue</th> <th>Internal Price on Carbon (Y/N)</th> <th>Price</th>\n",
       "        </tr>\n",
       "    </thead>\n",
       "    <tbody>\n",
       "        <tr>\n",
       "            <td>0    </td> <td>ADIDAS        </td> <td>APPAREL & FOOTWEAR     </td> <td>nan                        </td> <td>2022                  </td> <td>12908.4      </td> <td>nan                           </td> <td>125502                      </td> <td>7.25451e+06  </td> <td>2.1234e+10   </td> <td>EUR                      </td> <td>Yes                           </td> <td>85   </td>\n",
       "        </tr>\n",
       "        <tr>\n",
       "            <td>1    </td> <td>ADIDAS        </td> <td>APPAREL & FOOTWEAR     </td> <td>nan                        </td> <td>2022                  </td> <td>12908.4      </td> <td>nan                           </td> <td>125502                      </td> <td>7.25451e+06  </td> <td>2.1234e+10   </td> <td>EUR                      </td> <td>Yes                           </td> <td>85   </td>\n",
       "        </tr>\n",
       "        <tr>\n",
       "            <td>2    </td> <td>ADIDAS        </td> <td>APPAREL & FOOTWEAR     </td> <td>nan                        </td> <td>2022                  </td> <td>12908.4      </td> <td>nan                           </td> <td>125502                      </td> <td>7.25451e+06  </td> <td>2.1234e+10   </td> <td>EUR                      </td> <td>Yes                           </td> <td>85   </td>\n",
       "        </tr>\n",
       "        <tr>\n",
       "            <td>3    </td> <td>AHOLD DELHAIZE</td> <td>CONSUMER PACKAGED GOODS</td> <td>GROCERY / FOOD DISTRIBUTION</td> <td>2022                  </td> <td>1.728e+06    </td> <td>1.748e+06                     </td> <td>1.099e+06                   </td> <td>6.59304e+07  </td> <td>75600        </td> <td>EUR                      </td> <td>Yes                           </td> <td>150  </td>\n",
       "        </tr>\n",
       "        <tr>\n",
       "            <td>4    </td> <td>AIR FRANCE-KLM</td> <td>TRANSPORTATION         </td> <td>nan                        </td> <td>2022                  </td> <td>1.63363e+07  </td> <td>nan                           </td> <td>19104.7                     </td> <td>8.70067e+06  </td> <td>1.4315e+10   </td> <td>EUR                      </td> <td>Yes                           </td> <td>nan  </td>\n",
       "        </tr>\n",
       "    </tbody>\n",
       "</table>\n",
       "<p>... (151 rows omitted)</p>"
      ],
      "text/plain": [
       "<IPython.core.display.HTML object>"
      ]
     },
     "metadata": {},
     "output_type": "display_data"
    }
   ],
   "source": [
    "# Run this cell to create our emissions table object\n",
    "emissions = Table.read_table('emissions.csv')\n",
    "emissions.show(5)"
   ]
  },
  {
   "cell_type": "markdown",
   "metadata": {},
   "source": [
    "In the view of our table above, particularly in the `Company Sector (Other)` and `Scope 2 value (location-based)` columns, you may see multiple values called `nan`. In Python, missing or undefined values are represented by `nan` values, which stands for \"Not a Number\". You can think of these as missing or N/A values!"
   ]
  },
  {
   "cell_type": "markdown",
   "metadata": {},
   "source": [
    "Another small note on notation that you may notice in the table above and throughout this notebook: in some of the numerical columns, you may see the number followed by a value like `e+06` or `e+10`. This notation is Python's way of displaying very large or very small numbers. `e+` in this case means a positive power of 10 (`e-` would be a negative power, which would be a way of representing very small decimal numbers). So, when you see a number like `e+06`, this means $10^6$, which is a million. In the table above, `7.25451e+06` means $7.25451 * 10^6$, which is actually equal to $7,254,510$. This notation is not the easiest for us to read, but it is a very useful method for Python to store large and small numbers simply without losing any information!"
   ]
  },
  {
   "cell_type": "markdown",
   "metadata": {},
   "source": [
    "As we saw in Notebook 1, we can use the `.num_rows` and `.num_columns` methods to take a look at the dimensions of our table."
   ]
  },
  {
   "cell_type": "code",
   "execution_count": 3,
   "metadata": {},
   "outputs": [
    {
     "data": {
      "text/plain": [
       "156"
      ]
     },
     "execution_count": 3,
     "metadata": {},
     "output_type": "execute_result"
    }
   ],
   "source": [
    "emissions.num_rows"
   ]
  },
  {
   "cell_type": "code",
   "execution_count": 4,
   "metadata": {},
   "outputs": [
    {
     "data": {
      "text/plain": [
       "13"
      ]
     },
     "execution_count": 4,
     "metadata": {},
     "output_type": "execute_result"
    }
   ],
   "source": [
    "emissions.num_columns"
   ]
  },
  {
   "cell_type": "markdown",
   "metadata": {},
   "source": [
    "We have 13 different columns and 156 rows. Each column corresponds to a feature of our data point, as described in further detail below. Each row corresponds to one company of the two that were submitted by each student via the Google Form. The total number of rows ended up being 156 after we removed a few duplicate submissions to the Google Form."
   ]
  },
  {
   "cell_type": "markdown",
   "metadata": {},
   "source": [
    "The following code cell is a bit more advanced, but we can use it to show us the number of distinct companies that were reported in our table."
   ]
  },
  {
   "cell_type": "code",
   "execution_count": 5,
   "metadata": {},
   "outputs": [
    {
     "data": {
      "text/plain": [
       "103"
      ]
     },
     "execution_count": 5,
     "metadata": {},
     "output_type": "execute_result"
    }
   ],
   "source": [
    "len(emissions.group('Company Name')['count'])"
   ]
  },
  {
   "cell_type": "markdown",
   "metadata": {},
   "source": [
    "## Data Dictionary\n",
    "\n",
    "Now that we've taken an intial glance at the data that you collected, let's familiarize ourselves with the contents of the `emissions` table. The **data dictionary** below reveals information about each column in the table (excluding the `Index` column, which just provides a number for each row) regarding what the column represents and the type of the data in the column. Data dictionaries are useful for providing context and understanding of what the data represents for anyone working with the data.\n",
    "\n",
    "|Column Name| Meaning |Type|\n",
    "|--|--|--|\n",
    "|Company Name| The name of the company chosen to report data| category |\n",
    "|Company Sector| The industry sector the company belongs in| category |\n",
    "|Company Sector (Other)|An optional field if the company's sector was not one of the given options|category |\n",
    "|Year of CDP Disclosure|The submission year of the report. The data provided represents the previous year.|number|\n",
    "|Scope 1 value|The company's direct GHG emissions, given in metric tons of CO2e|number|\n",
    "|Scope 2 value (location-based)|The company's indirect (location-based) GHG emissions, given in metric tons of CO2e |number |\n",
    "|Scope 2 value (market-based)|The company's indirect (market-based) GHG emissions, given in metric tons of CO2e|number |\n",
    "|Scope 3 value| The company's indirect GHG emissions that come from its value chain, given in metric tons of CO2e| number |\n",
    "|Total Revenue| The company's total revenue for a given year| number |\n",
    "|Currency of Total Revenue|The currency of the company's total revenue|category|\n",
    "|Internal Price on Carbon|An indicator of if the company implements internal carbon pricing |category|\n",
    "|Price|Internal price on carbon  | number|"
   ]
  },
  {
   "cell_type": "markdown",
   "metadata": {},
   "source": [
    "<hr style=\"border: 2px solid #003262\">\n",
    "<hr style=\"border: 2px solid #C9B676\">"
   ]
  },
  {
   "cell_type": "markdown",
   "metadata": {
    "cell_id": "00006-dadd2623-2173-4cdb-8c95-207741ecc765",
    "deepnote_cell_type": "markdown",
    "tags": [
     "ignore"
    ]
   },
   "source": [
    "## 1. Basic Table Operations: `select`, `where`, `sort`\n",
    "\n",
    "Now that we have learned how to import our data from a CSV file, we can begin doing some interesting exploratory data analysis to see what information our data can tell us! Oftentimes, our data has a lot more information than we actually need, or it may not be in the correct order. To obtain the data we want, we can use utilize basic table methods such as `select`, `where`, and `sort` to filter out columns, rows, and sort our data."
   ]
  },
  {
   "cell_type": "markdown",
   "metadata": {},
   "source": [
    "### 1.1 Selecting Columns"
   ]
  },
  {
   "cell_type": "markdown",
   "metadata": {},
   "source": [
    "Sometimes when doing data analysis, we only want to look at a subset of columns. Having too many columns can make the table hard to read if we are only interested in certain information. **We can pick which columns we want to see using the table method `.select()`.**\n",
    "\n",
    "When we call this method, we specify which columns we want, and it returns a brand new table with only the specified columns in the order they are inputted."
   ]
  },
  {
   "cell_type": "markdown",
   "metadata": {},
   "source": [
    "For example, if we wanted to select only the companies and their sector we can run the code below."
   ]
  },
  {
   "cell_type": "code",
   "execution_count": 6,
   "metadata": {},
   "outputs": [
    {
     "data": {
      "text/html": [
       "<table border=\"1\" class=\"dataframe\">\n",
       "    <thead>\n",
       "        <tr>\n",
       "            <th>Company Name</th> <th>Company Sector</th>\n",
       "        </tr>\n",
       "    </thead>\n",
       "    <tbody>\n",
       "        <tr>\n",
       "            <td>ADIDAS              </td> <td>APPAREL & FOOTWEAR     </td>\n",
       "        </tr>\n",
       "        <tr>\n",
       "            <td>ADIDAS              </td> <td>APPAREL & FOOTWEAR     </td>\n",
       "        </tr>\n",
       "        <tr>\n",
       "            <td>ADIDAS              </td> <td>APPAREL & FOOTWEAR     </td>\n",
       "        </tr>\n",
       "        <tr>\n",
       "            <td>AHOLD DELHAIZE      </td> <td>CONSUMER PACKAGED GOODS</td>\n",
       "        </tr>\n",
       "        <tr>\n",
       "            <td>AIR FRANCE-KLM      </td> <td>TRANSPORTATION         </td>\n",
       "        </tr>\n",
       "        <tr>\n",
       "            <td>AIRBUS              </td> <td>OTHER                  </td>\n",
       "        </tr>\n",
       "        <tr>\n",
       "            <td>ALBERTSONS COMPANIES</td> <td>CONSUMER PACKAGED GOODS</td>\n",
       "        </tr>\n",
       "        <tr>\n",
       "            <td>ALLY FINANCIAL      </td> <td>OTHER                  </td>\n",
       "        </tr>\n",
       "        <tr>\n",
       "            <td>ALSTOM              </td> <td>OTHER                  </td>\n",
       "        </tr>\n",
       "        <tr>\n",
       "            <td>AMCOR               </td> <td>CONSUMER PACKAGED GOODS</td>\n",
       "        </tr>\n",
       "    </tbody>\n",
       "</table>\n",
       "<p>... (146 rows omitted)</p>"
      ],
      "text/plain": [
       "Company Name         | Company Sector\n",
       "ADIDAS               | APPAREL & FOOTWEAR\n",
       "ADIDAS               | APPAREL & FOOTWEAR\n",
       "ADIDAS               | APPAREL & FOOTWEAR\n",
       "AHOLD DELHAIZE       | CONSUMER PACKAGED GOODS\n",
       "AIR FRANCE-KLM       | TRANSPORTATION\n",
       "AIRBUS               | OTHER\n",
       "ALBERTSONS COMPANIES | CONSUMER PACKAGED GOODS\n",
       "ALLY FINANCIAL       | OTHER\n",
       "ALSTOM               | OTHER\n",
       "AMCOR                | CONSUMER PACKAGED GOODS\n",
       "... (146 rows omitted)"
      ]
     },
     "execution_count": 6,
     "metadata": {},
     "output_type": "execute_result"
    }
   ],
   "source": [
    "emissions.select('Company Name', 'Company Sector')"
   ]
  },
  {
   "cell_type": "markdown",
   "metadata": {},
   "source": [
    "### 1.2 Conditioning on Rows"
   ]
  },
  {
   "cell_type": "markdown",
   "metadata": {},
   "source": [
    "We now know how to select certain columns of interest, but what if we wanted to only see rows in which the data meets a certain condition? The `.where()` method allows us to do exactly this. \n",
    "\n",
    "This method takes in two arguments:\n",
    "   1. The **name of the column** whose values must meet a certain condition\n",
    "   2. The predicate function that states **the condition the row must meet**\n",
    "   \n",
    "For example, if we wanted to only select the rows where the company is H&M, we could do the following:"
   ]
  },
  {
   "cell_type": "code",
   "execution_count": 7,
   "metadata": {},
   "outputs": [
    {
     "data": {
      "text/html": [
       "<table border=\"1\" class=\"dataframe\">\n",
       "    <thead>\n",
       "        <tr>\n",
       "            <th>Index</th> <th>Company Name</th> <th>Company Sector</th> <th>Company Sector (Other)</th> <th>Year of CDP Disclosure</th> <th>Scope 1 value</th> <th>Scope 2 value (location-based)</th> <th>Scope 2 value (market-based)</th> <th>Scope 3 value</th> <th>Total Revenue</th> <th>Currency of Total Revenue</th> <th>Internal Price on Carbon (Y/N)</th> <th>Price</th>\n",
       "        </tr>\n",
       "    </thead>\n",
       "    <tbody>\n",
       "        <tr>\n",
       "            <td>54   </td> <td>H&M         </td> <td>APPAREL & FOOTWEAR</td> <td>nan                   </td> <td>2022                  </td> <td>21171        </td> <td>507170                        </td> <td>37394                       </td> <td>7.74163e+06  </td> <td>1.99e+11     </td> <td>SEK                      </td> <td>Yes                           </td> <td>0    </td>\n",
       "        </tr>\n",
       "        <tr>\n",
       "            <td>55   </td> <td>H&M         </td> <td>APPAREL & FOOTWEAR</td> <td>nan                   </td> <td>2022                  </td> <td>21171        </td> <td>507170                        </td> <td>37394                       </td> <td>7.74163e+06  </td> <td>1.99e+11     </td> <td>SEK                      </td> <td>Yes                           </td> <td>0    </td>\n",
       "        </tr>\n",
       "        <tr>\n",
       "            <td>56   </td> <td>H&M         </td> <td>APPAREL & FOOTWEAR</td> <td>nan                   </td> <td>2022                  </td> <td>21171        </td> <td>507170                        </td> <td>37394                       </td> <td>7.74163e+06  </td> <td>1.99e+11     </td> <td>SEK                      </td> <td>Yes                           </td> <td>0    </td>\n",
       "        </tr>\n",
       "        <tr>\n",
       "            <td>57   </td> <td>H&M         </td> <td>APPAREL & FOOTWEAR</td> <td>nan                   </td> <td>2022                  </td> <td>21171        </td> <td>507170                        </td> <td>37394                       </td> <td>7.74163e+06  </td> <td>1.99e+11     </td> <td>SEK                      </td> <td>Yes                           </td> <td>nan  </td>\n",
       "        </tr>\n",
       "        <tr>\n",
       "            <td>58   </td> <td>H&M         </td> <td>APPAREL & FOOTWEAR</td> <td>nan                   </td> <td>2022                  </td> <td>21171        </td> <td>507170                        </td> <td>37394                       </td> <td>5.43711e+06  </td> <td>1.99e+11     </td> <td>SEK                      </td> <td>Yes                           </td> <td>0    </td>\n",
       "        </tr>\n",
       "        <tr>\n",
       "            <td>59   </td> <td>H&M         </td> <td>APPAREL & FOOTWEAR</td> <td>nan                   </td> <td>2022                  </td> <td>21171        </td> <td>507170                        </td> <td>37394                       </td> <td>7.74163e+06  </td> <td>1.99e+11     </td> <td>SEK                      </td> <td>Yes                           </td> <td>0    </td>\n",
       "        </tr>\n",
       "        <tr>\n",
       "            <td>60   </td> <td>H&M         </td> <td>APPAREL & FOOTWEAR</td> <td>nan                   </td> <td>2022                  </td> <td>21171        </td> <td>507170                        </td> <td>37394                       </td> <td>5.43711e+06  </td> <td>1.99e+11     </td> <td>SEK                      </td> <td>Yes                           </td> <td>0    </td>\n",
       "        </tr>\n",
       "        <tr>\n",
       "            <td>61   </td> <td>H&M         </td> <td>APPAREL & FOOTWEAR</td> <td>nan                   </td> <td>2022                  </td> <td>21171        </td> <td>507170                        </td> <td>37394                       </td> <td>5.43711e+06  </td> <td>1.99e+11     </td> <td>SEK                      </td> <td>Yes                           </td> <td>0    </td>\n",
       "        </tr>\n",
       "        <tr>\n",
       "            <td>62   </td> <td>H&M         </td> <td>APPAREL & FOOTWEAR</td> <td>nan                   </td> <td>2022                  </td> <td>21171        </td> <td>507170                        </td> <td>37394                       </td> <td>7.73413e+06  </td> <td>1.99e+11     </td> <td>SEK                      </td> <td>Yes                           </td> <td>nan  </td>\n",
       "        </tr>\n",
       "        <tr>\n",
       "            <td>64   </td> <td>H&M         </td> <td>APPAREL & FOOTWEAR</td> <td>nan                   </td> <td>2021                  </td> <td>21171        </td> <td>507170                        </td> <td>37394                       </td> <td>2.30452e+06  </td> <td>2.3e+10      </td> <td>USD                      </td> <td>Yes                           </td> <td>0    </td>\n",
       "        </tr>\n",
       "    </tbody>\n",
       "</table>"
      ],
      "text/plain": [
       "Index | Company Name | Company Sector     | Company Sector (Other) | Year of CDP Disclosure | Scope 1 value | Scope 2 value (location-based) | Scope 2 value (market-based) | Scope 3 value | Total Revenue | Currency of Total Revenue | Internal Price on Carbon (Y/N) | Price\n",
       "54    | H&M          | APPAREL & FOOTWEAR | nan                    | 2022                   | 21171         | 507170                         | 37394                        | 7.74163e+06   | 1.99e+11      | SEK                       | Yes                            | 0\n",
       "55    | H&M          | APPAREL & FOOTWEAR | nan                    | 2022                   | 21171         | 507170                         | 37394                        | 7.74163e+06   | 1.99e+11      | SEK                       | Yes                            | 0\n",
       "56    | H&M          | APPAREL & FOOTWEAR | nan                    | 2022                   | 21171         | 507170                         | 37394                        | 7.74163e+06   | 1.99e+11      | SEK                       | Yes                            | 0\n",
       "57    | H&M          | APPAREL & FOOTWEAR | nan                    | 2022                   | 21171         | 507170                         | 37394                        | 7.74163e+06   | 1.99e+11      | SEK                       | Yes                            | nan\n",
       "58    | H&M          | APPAREL & FOOTWEAR | nan                    | 2022                   | 21171         | 507170                         | 37394                        | 5.43711e+06   | 1.99e+11      | SEK                       | Yes                            | 0\n",
       "59    | H&M          | APPAREL & FOOTWEAR | nan                    | 2022                   | 21171         | 507170                         | 37394                        | 7.74163e+06   | 1.99e+11      | SEK                       | Yes                            | 0\n",
       "60    | H&M          | APPAREL & FOOTWEAR | nan                    | 2022                   | 21171         | 507170                         | 37394                        | 5.43711e+06   | 1.99e+11      | SEK                       | Yes                            | 0\n",
       "61    | H&M          | APPAREL & FOOTWEAR | nan                    | 2022                   | 21171         | 507170                         | 37394                        | 5.43711e+06   | 1.99e+11      | SEK                       | Yes                            | 0\n",
       "62    | H&M          | APPAREL & FOOTWEAR | nan                    | 2022                   | 21171         | 507170                         | 37394                        | 7.73413e+06   | 1.99e+11      | SEK                       | Yes                            | nan\n",
       "64    | H&M          | APPAREL & FOOTWEAR | nan                    | 2021                   | 21171         | 507170                         | 37394                        | 2.30452e+06   | 2.3e+10       | USD                       | Yes                            | 0"
      ]
     },
     "execution_count": 7,
     "metadata": {},
     "output_type": "execute_result"
    }
   ],
   "source": [
    "emissions.where('Company Name', are.equal_to('H&M'))"
   ]
  },
  {
   "cell_type": "markdown",
   "metadata": {},
   "source": [
    "The cell above outputs a copy of the original table but **only includes rows where the company is H&M**. There are many other predicate functions -- here are a few common ones you may find useful in the next notebook: \n",
    "\n",
    "|Predicate|Example|Result|\n",
    "|-|-|-|\n",
    "|`are.equal_to`|`are.equal_to(50)`|Find rows with values equal to 50|\n",
    "|`are.not_equal_to`|`are.not_equal_to(50)`|Find rows with values not equal to 50|\n",
    "|`are.above`|`are.above(50)`|Find rows with values above (and not equal to) 50|\n",
    "|`are.above_or_equal_to`|`are.above_or_equal_to(50)`|Find rows with values above 50 or equal to 50|\n",
    "|`are.below`|`are.below(50)`|Find rows with values below 50|\n",
    "|`are.between`|`are.between(2, 10)`|Find rows with values above or equal to 2 and below 10|\n",
    "|`are.between_or_equal_to`|`are.between_or_equal_to(2, 10)`|Find rows with values above or equal to 2 and below or equal to 10|"
   ]
  },
  {
   "cell_type": "markdown",
   "metadata": {},
   "source": [
    "### 1.3 Sorting Values"
   ]
  },
  {
   "cell_type": "markdown",
   "metadata": {},
   "source": [
    "Aside from selecting the desired columns and rows that we want, we can also sort the values in a certain column. The `.sort()` method accomplishes this if we pass in the column we want to sort by. By default, this method sorts a column's values in ascending order (in other words, we see the smallest values first) unless an *optional* second argument `descending = True` is passed into `.sort()`.\n",
    "\n",
    "If we wanted to sort a column that contains text, `.sort()` will sort the values alphabetically from A-Z (i.e. ascending order). For example: "
   ]
  },
  {
   "cell_type": "code",
   "execution_count": 8,
   "metadata": {},
   "outputs": [
    {
     "data": {
      "text/html": [
       "<table border=\"1\" class=\"dataframe\">\n",
       "    <thead>\n",
       "        <tr>\n",
       "            <th>Index</th> <th>Company Name</th> <th>Company Sector</th> <th>Company Sector (Other)</th> <th>Year of CDP Disclosure</th> <th>Scope 1 value</th> <th>Scope 2 value (location-based)</th> <th>Scope 2 value (market-based)</th> <th>Scope 3 value</th> <th>Total Revenue</th> <th>Currency of Total Revenue</th> <th>Internal Price on Carbon (Y/N)</th> <th>Price</th>\n",
       "        </tr>\n",
       "    </thead>\n",
       "    <tbody>\n",
       "        <tr>\n",
       "            <td>0    </td> <td>ADIDAS                   </td> <td>APPAREL & FOOTWEAR</td> <td>nan                   </td> <td>2022                  </td> <td>12908.4      </td> <td>nan                           </td> <td>125502                      </td> <td>7.25451e+06  </td> <td>2.1234e+10   </td> <td>EUR                      </td> <td>Yes                           </td> <td>85   </td>\n",
       "        </tr>\n",
       "        <tr>\n",
       "            <td>1    </td> <td>ADIDAS                   </td> <td>APPAREL & FOOTWEAR</td> <td>nan                   </td> <td>2022                  </td> <td>12908.4      </td> <td>nan                           </td> <td>125502                      </td> <td>7.25451e+06  </td> <td>2.1234e+10   </td> <td>EUR                      </td> <td>Yes                           </td> <td>85   </td>\n",
       "        </tr>\n",
       "        <tr>\n",
       "            <td>2    </td> <td>ADIDAS                   </td> <td>APPAREL & FOOTWEAR</td> <td>nan                   </td> <td>2022                  </td> <td>12908.4      </td> <td>nan                           </td> <td>125502                      </td> <td>7.25451e+06  </td> <td>2.1234e+10   </td> <td>EUR                      </td> <td>Yes                           </td> <td>85   </td>\n",
       "        </tr>\n",
       "        <tr>\n",
       "            <td>12   </td> <td>AMERICAN EAGLE OUTFITTERS</td> <td>APPAREL & FOOTWEAR</td> <td>nan                   </td> <td>2022                  </td> <td>9248         </td> <td>53642                         </td> <td>40231                       </td> <td>1.4793e+06   </td> <td>5.01078e+09  </td> <td>USD                      </td> <td>No                            </td> <td>nan  </td>\n",
       "        </tr>\n",
       "        <tr>\n",
       "            <td>13   </td> <td>AMERICAN EAGLE OUTFITTERS</td> <td>APPAREL & FOOTWEAR</td> <td>nan                   </td> <td>2022                  </td> <td>9248         </td> <td>53642                         </td> <td>40231                       </td> <td>3.6639e+06   </td> <td>5.01078e+09  </td> <td>USD                      </td> <td>No                            </td> <td>nan  </td>\n",
       "        </tr>\n",
       "        <tr>\n",
       "            <td>16   </td> <td>ARITZIA                  </td> <td>APPAREL & FOOTWEAR</td> <td>nan                   </td> <td>2022                  </td> <td>1560         </td> <td>2936                          </td> <td>nan                         </td> <td>446097       </td> <td>1.49463e+09  </td> <td>CAD                      </td> <td>No                            </td> <td>nan  </td>\n",
       "        </tr>\n",
       "        <tr>\n",
       "            <td>27   </td> <td>BURBERRY                 </td> <td>APPAREL & FOOTWEAR</td> <td>nan                   </td> <td>2022                  </td> <td>1834         </td> <td>25866                         </td> <td>nan                         </td> <td>399973       </td> <td>2.826e+09    </td> <td>GBP                      </td> <td>Yes                           </td> <td>12.87</td>\n",
       "        </tr>\n",
       "        <tr>\n",
       "            <td>46   </td> <td>FILA HOLDINGS            </td> <td>APPAREL & FOOTWEAR</td> <td>nan                   </td> <td>2022                  </td> <td>1245.9       </td> <td>3005.5                        </td> <td>nan                         </td> <td>0            </td> <td>3.794e+12    </td> <td>KRW                      </td> <td>No                            </td> <td>nan  </td>\n",
       "        </tr>\n",
       "        <tr>\n",
       "            <td>53   </td> <td>GIORGIO ARMANI           </td> <td>APPAREL & FOOTWEAR</td> <td>nan                   </td> <td>2022                  </td> <td>4263         </td> <td>21614                         </td> <td>15306                       </td> <td>353442       </td> <td>2.05558e+09  </td> <td>EUR                      </td> <td>No                            </td> <td>nan  </td>\n",
       "        </tr>\n",
       "        <tr>\n",
       "            <td>54   </td> <td>H&M                      </td> <td>APPAREL & FOOTWEAR</td> <td>nan                   </td> <td>2022                  </td> <td>21171        </td> <td>507170                        </td> <td>37394                       </td> <td>7.74163e+06  </td> <td>1.99e+11     </td> <td>SEK                      </td> <td>Yes                           </td> <td>0    </td>\n",
       "        </tr>\n",
       "    </tbody>\n",
       "</table>\n",
       "<p>... (146 rows omitted)</p>"
      ],
      "text/plain": [
       "Index | Company Name              | Company Sector     | Company Sector (Other) | Year of CDP Disclosure | Scope 1 value | Scope 2 value (location-based) | Scope 2 value (market-based) | Scope 3 value | Total Revenue | Currency of Total Revenue | Internal Price on Carbon (Y/N) | Price\n",
       "0     | ADIDAS                    | APPAREL & FOOTWEAR | nan                    | 2022                   | 12908.4       | nan                            | 125502                       | 7.25451e+06   | 2.1234e+10    | EUR                       | Yes                            | 85\n",
       "1     | ADIDAS                    | APPAREL & FOOTWEAR | nan                    | 2022                   | 12908.4       | nan                            | 125502                       | 7.25451e+06   | 2.1234e+10    | EUR                       | Yes                            | 85\n",
       "2     | ADIDAS                    | APPAREL & FOOTWEAR | nan                    | 2022                   | 12908.4       | nan                            | 125502                       | 7.25451e+06   | 2.1234e+10    | EUR                       | Yes                            | 85\n",
       "12    | AMERICAN EAGLE OUTFITTERS | APPAREL & FOOTWEAR | nan                    | 2022                   | 9248          | 53642                          | 40231                        | 1.4793e+06    | 5.01078e+09   | USD                       | No                             | nan\n",
       "13    | AMERICAN EAGLE OUTFITTERS | APPAREL & FOOTWEAR | nan                    | 2022                   | 9248          | 53642                          | 40231                        | 3.6639e+06    | 5.01078e+09   | USD                       | No                             | nan\n",
       "16    | ARITZIA                   | APPAREL & FOOTWEAR | nan                    | 2022                   | 1560          | 2936                           | nan                          | 446097        | 1.49463e+09   | CAD                       | No                             | nan\n",
       "27    | BURBERRY                  | APPAREL & FOOTWEAR | nan                    | 2022                   | 1834          | 25866                          | nan                          | 399973        | 2.826e+09     | GBP                       | Yes                            | 12.87\n",
       "46    | FILA HOLDINGS             | APPAREL & FOOTWEAR | nan                    | 2022                   | 1245.9        | 3005.5                         | nan                          | 0             | 3.794e+12     | KRW                       | No                             | nan\n",
       "53    | GIORGIO ARMANI            | APPAREL & FOOTWEAR | nan                    | 2022                   | 4263          | 21614                          | 15306                        | 353442        | 2.05558e+09   | EUR                       | No                             | nan\n",
       "54    | H&M                       | APPAREL & FOOTWEAR | nan                    | 2022                   | 21171         | 507170                         | 37394                        | 7.74163e+06   | 1.99e+11      | SEK                       | Yes                            | 0\n",
       "... (146 rows omitted)"
      ]
     },
     "execution_count": 8,
     "metadata": {},
     "output_type": "execute_result"
    }
   ],
   "source": [
    "emissions.sort('Company Sector')"
   ]
  },
  {
   "cell_type": "markdown",
   "metadata": {},
   "source": [
    "Our `emissions` data is already sorted by company name alphabetically from A-Z. However, if we wanted to sort the company names alphabetically from Z-A (i.e. descending order), we would run the cell below."
   ]
  },
  {
   "cell_type": "code",
   "execution_count": 9,
   "metadata": {},
   "outputs": [
    {
     "data": {
      "text/html": [
       "<table border=\"1\" class=\"dataframe\">\n",
       "    <thead>\n",
       "        <tr>\n",
       "            <th>Index</th> <th>Company Name</th> <th>Company Sector</th> <th>Company Sector (Other)</th> <th>Year of CDP Disclosure</th> <th>Scope 1 value</th> <th>Scope 2 value (location-based)</th> <th>Scope 2 value (market-based)</th> <th>Scope 3 value</th> <th>Total Revenue</th> <th>Currency of Total Revenue</th> <th>Internal Price on Carbon (Y/N)</th> <th>Price</th>\n",
       "        </tr>\n",
       "    </thead>\n",
       "    <tbody>\n",
       "        <tr>\n",
       "            <td>155  </td> <td>WALMART                    </td> <td>CONSUMER PACKAGED GOODS</td> <td>nan                   </td> <td>2022                  </td> <td>7.31224e+06  </td> <td>9.47517e+06                   </td> <td>6.54417e+06                 </td> <td>2.13846e+08  </td> <td>5.72754e+11  </td> <td>USD                      </td> <td>No                            </td> <td>nan  </td>\n",
       "        </tr>\n",
       "        <tr>\n",
       "            <td>154  </td> <td>VOLKSWAGEN                 </td> <td>OTHER                  </td> <td>AUTOMOTIVE            </td> <td>2022                  </td> <td>4.74087e+06  </td> <td>5.19596e+06                   </td> <td>2.42214e+06                 </td> <td>3.53561e+09  </td> <td>2.502e+11    </td> <td>EUR                      </td> <td>Yes                           </td> <td>475  </td>\n",
       "        </tr>\n",
       "        <tr>\n",
       "            <td>153  </td> <td>VF CORPORATION             </td> <td>APPAREL & FOOTWEAR     </td> <td>nan                   </td> <td>2022                  </td> <td>12551        </td> <td>69212                         </td> <td>54693                       </td> <td>3.37573e+06  </td> <td>1.18418e+10  </td> <td>USD                      </td> <td>No                            </td> <td>0    </td>\n",
       "        </tr>\n",
       "        <tr>\n",
       "            <td>152  </td> <td>VESTAS                     </td> <td>ENERGY                 </td> <td>nan                   </td> <td>2022                  </td> <td>99290        </td> <td>78640                         </td> <td>2673                        </td> <td>9.6961e+06   </td> <td>1.5587e+10   </td> <td>EUR                      </td> <td>Yes                           </td> <td>120  </td>\n",
       "        </tr>\n",
       "        <tr>\n",
       "            <td>151  </td> <td>VALERO                     </td> <td>ENERGY                 </td> <td>nan                   </td> <td>2022                  </td> <td>2.713e+07    </td> <td>nan                           </td> <td>4.88e+06                    </td> <td>0            </td> <td>1.76382e+11  </td> <td>USD                      </td> <td>No                            </td> <td>nan  </td>\n",
       "        </tr>\n",
       "        <tr>\n",
       "            <td>150  </td> <td>UPS (UNITED PARCEL SERVICE)</td> <td>TRANSPORTATION         </td> <td>nan                   </td> <td>2022                  </td> <td>1.5668e+07   </td> <td>676000                        </td> <td>654000                      </td> <td>1.9486e+07   </td> <td>9.6223e+10   </td> <td>USD                      </td> <td>No                            </td> <td>nan  </td>\n",
       "        </tr>\n",
       "        <tr>\n",
       "            <td>149  </td> <td>UPFIELD                    </td> <td>FOOD & AGRICULTURE     </td> <td>nan                   </td> <td>2022                  </td> <td>36059        </td> <td>77879                         </td> <td>27798                       </td> <td>2.96321e+06  </td> <td>2.793e+09    </td> <td>EUR                      </td> <td>No                            </td> <td>nan  </td>\n",
       "        </tr>\n",
       "        <tr>\n",
       "            <td>148  </td> <td>UNILEVER                   </td> <td>CONSUMER PACKAGED GOODS</td> <td>nan                   </td> <td>2022                  </td> <td>565988       </td> <td>1.2445e+06                    </td> <td>144752                      </td> <td>6.14457e+07  </td> <td>5.2444e+10   </td> <td>EUR                      </td> <td>Yes                           </td> <td>70   </td>\n",
       "        </tr>\n",
       "        <tr>\n",
       "            <td>147  </td> <td>ULTA BEAUTY                </td> <td>OTHER                  </td> <td>COSMETICS             </td> <td>2022                  </td> <td>6815         </td> <td>114295                        </td> <td>107611                      </td> <td>1.92119e+06  </td> <td>6.152e+09    </td> <td>USD                      </td> <td>No                            </td> <td>nan  </td>\n",
       "        </tr>\n",
       "        <tr>\n",
       "            <td>144  </td> <td>TYSON FOODS                </td> <td>FOOD & AGRICULTURE     </td> <td>nan                   </td> <td>2022                  </td> <td>3.82629e+06  </td> <td>nan                           </td> <td>nan                         </td> <td>0            </td> <td>4.705e+10    </td> <td>USD                      </td> <td>No                            </td> <td>nan  </td>\n",
       "        </tr>\n",
       "    </tbody>\n",
       "</table>\n",
       "<p>... (146 rows omitted)</p>"
      ],
      "text/plain": [
       "Index | Company Name                | Company Sector          | Company Sector (Other) | Year of CDP Disclosure | Scope 1 value | Scope 2 value (location-based) | Scope 2 value (market-based) | Scope 3 value | Total Revenue | Currency of Total Revenue | Internal Price on Carbon (Y/N) | Price\n",
       "155   | WALMART                     | CONSUMER PACKAGED GOODS | nan                    | 2022                   | 7.31224e+06   | 9.47517e+06                    | 6.54417e+06                  | 2.13846e+08   | 5.72754e+11   | USD                       | No                             | nan\n",
       "154   | VOLKSWAGEN                  | OTHER                   | AUTOMOTIVE             | 2022                   | 4.74087e+06   | 5.19596e+06                    | 2.42214e+06                  | 3.53561e+09   | 2.502e+11     | EUR                       | Yes                            | 475\n",
       "153   | VF CORPORATION              | APPAREL & FOOTWEAR      | nan                    | 2022                   | 12551         | 69212                          | 54693                        | 3.37573e+06   | 1.18418e+10   | USD                       | No                             | 0\n",
       "152   | VESTAS                      | ENERGY                  | nan                    | 2022                   | 99290         | 78640                          | 2673                         | 9.6961e+06    | 1.5587e+10    | EUR                       | Yes                            | 120\n",
       "151   | VALERO                      | ENERGY                  | nan                    | 2022                   | 2.713e+07     | nan                            | 4.88e+06                     | 0             | 1.76382e+11   | USD                       | No                             | nan\n",
       "150   | UPS (UNITED PARCEL SERVICE) | TRANSPORTATION          | nan                    | 2022                   | 1.5668e+07    | 676000                         | 654000                       | 1.9486e+07    | 9.6223e+10    | USD                       | No                             | nan\n",
       "149   | UPFIELD                     | FOOD & AGRICULTURE      | nan                    | 2022                   | 36059         | 77879                          | 27798                        | 2.96321e+06   | 2.793e+09     | EUR                       | No                             | nan\n",
       "148   | UNILEVER                    | CONSUMER PACKAGED GOODS | nan                    | 2022                   | 565988        | 1.2445e+06                     | 144752                       | 6.14457e+07   | 5.2444e+10    | EUR                       | Yes                            | 70\n",
       "147   | ULTA BEAUTY                 | OTHER                   | COSMETICS              | 2022                   | 6815          | 114295                         | 107611                       | 1.92119e+06   | 6.152e+09     | USD                       | No                             | nan\n",
       "144   | TYSON FOODS                 | FOOD & AGRICULTURE      | nan                    | 2022                   | 3.82629e+06   | nan                            | nan                          | 0             | 4.705e+10     | USD                       | No                             | nan\n",
       "... (146 rows omitted)"
      ]
     },
     "execution_count": 9,
     "metadata": {},
     "output_type": "execute_result"
    }
   ],
   "source": [
    "emissions.sort('Company Name', descending = True)"
   ]
  },
  {
   "cell_type": "markdown",
   "metadata": {},
   "source": [
    "From this section, hopefully you can see how basic table operations like `select`, `where`, and `sort` can be very useful when exploring our data!"
   ]
  },
  {
   "cell_type": "markdown",
   "metadata": {},
   "source": [
    "<hr style=\"border: 2px solid #003262\">\n",
    "<hr style=\"border: 2px solid #C9B676\">"
   ]
  },
  {
   "cell_type": "markdown",
   "metadata": {},
   "source": [
    "## 2. More Advanced Table Operations: `apply`, `group`, `pivot`"
   ]
  },
  {
   "cell_type": "markdown",
   "metadata": {},
   "source": [
    "Now that we have learned how to get the data we want from the dataset and format it to our preferences, we can start exploring more advanced table techniques such as applying functions to data, grouping data based on specific criteria, and pivoting data to reshape it for advanced analysis and visualization."
   ]
  },
  {
   "cell_type": "markdown",
   "metadata": {},
   "source": [
    "### 2.1 Apply"
   ]
  },
  {
   "cell_type": "markdown",
   "metadata": {},
   "source": [
    "<div class=\"alert alert-block alert-success\">\n",
    "    <p style=\"font-size:20px\">This section is advanced/optional\n",
    "</div>"
   ]
  },
  {
   "cell_type": "markdown",
   "metadata": {},
   "source": [
    "The `.apply()` method applies a function to each element of a data structure and returns the result of that function call for each element. When we call this function, we need to specify **the function we are using** and **which column(s) we are applying it to**."
   ]
  },
  {
   "cell_type": "markdown",
   "metadata": {},
   "source": [
    "For our data, a use case of the `.apply()` method would be performing the same calculation on each element of a column. For example, we notice from the dataset that the `Currency of Total Revenue` column contains different currencies, which could make numerical comparisons on the `Total Revenue` value difficult. As a result, we would like to implement a function on the `Total Revenue` column that changes all the currency to USD.\n",
    "\n",
    "**Note:** A lot of the code in the following example is more advanced than we're expecting you to understand -- this just serves as an example of a more complex way in which we can use the `.apply()` method!"
   ]
  },
  {
   "cell_type": "code",
   "execution_count": 10,
   "metadata": {},
   "outputs": [
    {
     "data": {
      "text/plain": [
       "array(['AUD', 'CAD', 'CHF', 'DKK', 'EUR', 'GBP', 'JPY', 'KRW', 'NOK',\n",
       "       'RUB', 'SEK', 'USD'],\n",
       "      dtype='<U3')"
      ]
     },
     "execution_count": 10,
     "metadata": {},
     "output_type": "execute_result"
    }
   ],
   "source": [
    "# This code helps us see all of the unique currencies in our dataset\n",
    "np.unique(emissions['Currency of Total Revenue'])"
   ]
  },
  {
   "cell_type": "code",
   "execution_count": 11,
   "metadata": {},
   "outputs": [
    {
     "data": {
      "text/html": [
       "<table border=\"1\" class=\"dataframe\">\n",
       "    <thead>\n",
       "        <tr>\n",
       "            <th>Index</th> <th>Company Name</th> <th>Company Sector</th> <th>Company Sector (Other)</th> <th>Year of CDP Disclosure</th> <th>Scope 1 value</th> <th>Scope 2 value (location-based)</th> <th>Scope 2 value (market-based)</th> <th>Scope 3 value</th> <th>Total Revenue</th> <th>Currency of Total Revenue</th> <th>Internal Price on Carbon (Y/N)</th> <th>Price</th> <th>Revenue with Currency</th>\n",
       "        </tr>\n",
       "    </thead>\n",
       "    <tbody>\n",
       "        <tr>\n",
       "            <td>0    </td> <td>ADIDAS        </td> <td>APPAREL & FOOTWEAR     </td> <td>nan                        </td> <td>2022                  </td> <td>12908.4      </td> <td>nan                           </td> <td>125502                      </td> <td>7.25451e+06  </td> <td>2.1234e+10   </td> <td>EUR                      </td> <td>Yes                           </td> <td>85   </td> <td>['EUR' 21234000000.0]</td>\n",
       "        </tr>\n",
       "        <tr>\n",
       "            <td>1    </td> <td>ADIDAS        </td> <td>APPAREL & FOOTWEAR     </td> <td>nan                        </td> <td>2022                  </td> <td>12908.4      </td> <td>nan                           </td> <td>125502                      </td> <td>7.25451e+06  </td> <td>2.1234e+10   </td> <td>EUR                      </td> <td>Yes                           </td> <td>85   </td> <td>['EUR' 21234000000.0]</td>\n",
       "        </tr>\n",
       "        <tr>\n",
       "            <td>2    </td> <td>ADIDAS        </td> <td>APPAREL & FOOTWEAR     </td> <td>nan                        </td> <td>2022                  </td> <td>12908.4      </td> <td>nan                           </td> <td>125502                      </td> <td>7.25451e+06  </td> <td>2.1234e+10   </td> <td>EUR                      </td> <td>Yes                           </td> <td>85   </td> <td>['EUR' 21234000000.0]</td>\n",
       "        </tr>\n",
       "        <tr>\n",
       "            <td>3    </td> <td>AHOLD DELHAIZE</td> <td>CONSUMER PACKAGED GOODS</td> <td>GROCERY / FOOD DISTRIBUTION</td> <td>2022                  </td> <td>1.728e+06    </td> <td>1.748e+06                     </td> <td>1.099e+06                   </td> <td>6.59304e+07  </td> <td>75600        </td> <td>EUR                      </td> <td>Yes                           </td> <td>150  </td> <td>['EUR' 75600.0]      </td>\n",
       "        </tr>\n",
       "        <tr>\n",
       "            <td>4    </td> <td>AIR FRANCE-KLM</td> <td>TRANSPORTATION         </td> <td>nan                        </td> <td>2022                  </td> <td>1.63363e+07  </td> <td>nan                           </td> <td>19104.7                     </td> <td>8.70067e+06  </td> <td>1.4315e+10   </td> <td>EUR                      </td> <td>Yes                           </td> <td>nan  </td> <td>['EUR' 14315000000.0]</td>\n",
       "        </tr>\n",
       "    </tbody>\n",
       "</table>\n",
       "<p>... (151 rows omitted)</p>"
      ],
      "text/plain": [
       "<IPython.core.display.HTML object>"
      ]
     },
     "metadata": {},
     "output_type": "display_data"
    }
   ],
   "source": [
    "# Then, let's create a new column with both the revenue and its currency in the format of [Currency, Revenue]\n",
    "combined = [[emissions['Currency of Total Revenue'][i], emissions['Total Revenue'][i]] for i in range(len(emissions['Currency of Total Revenue']))]\n",
    "emissions['Revenue with Currency'] = combined\n",
    "emissions.show(5)"
   ]
  },
  {
   "cell_type": "markdown",
   "metadata": {},
   "source": [
    "In the cell below, we write our own custom function that we'll be using with `.apply()`. Essentially, the function takes in a currency measurement and then returns the revenue value multiplied by the USD conversion rate.\n",
    "\n",
    "Again, feel free to look through the code below to see how it works, but don't worry if you don't fully understand it!"
   ]
  },
  {
   "cell_type": "code",
   "execution_count": 12,
   "metadata": {},
   "outputs": [],
   "source": [
    "# This function takes in all elements in the \"Revenue with Currency\" column and turns all the non-USD revenue into USD currency\n",
    "def toUSD(i):\n",
    "    dic = {\n",
    "    'AUD': 0.75,   # 1 AUD to USD\n",
    "    'CAD': 0.78,   # 1 CAD to USD\n",
    "    'CHF': 1.09,   # 1 CHF to USD\n",
    "    'DKK': 0.15,   # 1 DKK to USD\n",
    "    'EUR': 1.16,   # 1 EUR to USD\n",
    "    'GBP': 1.37,   # 1 GBP to USD\n",
    "    'JPY': 0.009,  # 1 JPY to USD\n",
    "    'KRW': 0.0009, # 1 KRW to USD\n",
    "    'NOK': 0.11,   # 1 NOK to USD\n",
    "    'RUB': 0.014,  # 1 RUB to USD\n",
    "    'SEK': 0.11,   # 1 SEK to USD\n",
    "    'USD': 1       # No Change\n",
    "    }\n",
    "    return i[1] * dic[i[0]] # The revenue multiplied by the corresponding USD conversion rate"
   ]
  },
  {
   "cell_type": "markdown",
   "metadata": {},
   "source": [
    "In the cell below, we'll use `.apply()` to create a new column of the function applied to the currency column in order to receive the currencies in USD!"
   ]
  },
  {
   "cell_type": "code",
   "execution_count": 13,
   "metadata": {},
   "outputs": [
    {
     "data": {
      "text/html": [
       "<table border=\"1\" class=\"dataframe\">\n",
       "    <thead>\n",
       "        <tr>\n",
       "            <th>Index</th> <th>Company Name</th> <th>Company Sector</th> <th>Company Sector (Other)</th> <th>Year of CDP Disclosure</th> <th>Scope 1 value</th> <th>Scope 2 value (location-based)</th> <th>Scope 2 value (market-based)</th> <th>Scope 3 value</th> <th>Total Revenue</th> <th>Currency of Total Revenue</th> <th>Internal Price on Carbon (Y/N)</th> <th>Price</th> <th>Revenue (USD)</th>\n",
       "        </tr>\n",
       "    </thead>\n",
       "    <tbody>\n",
       "        <tr>\n",
       "            <td>0    </td> <td>ADIDAS        </td> <td>APPAREL & FOOTWEAR     </td> <td>nan                        </td> <td>2022                  </td> <td>12908.4      </td> <td>nan                           </td> <td>125502                      </td> <td>7.25451e+06  </td> <td>2.1234e+10   </td> <td>EUR                      </td> <td>Yes                           </td> <td>85   </td> <td>2.46314e+10  </td>\n",
       "        </tr>\n",
       "        <tr>\n",
       "            <td>1    </td> <td>ADIDAS        </td> <td>APPAREL & FOOTWEAR     </td> <td>nan                        </td> <td>2022                  </td> <td>12908.4      </td> <td>nan                           </td> <td>125502                      </td> <td>7.25451e+06  </td> <td>2.1234e+10   </td> <td>EUR                      </td> <td>Yes                           </td> <td>85   </td> <td>2.46314e+10  </td>\n",
       "        </tr>\n",
       "        <tr>\n",
       "            <td>2    </td> <td>ADIDAS        </td> <td>APPAREL & FOOTWEAR     </td> <td>nan                        </td> <td>2022                  </td> <td>12908.4      </td> <td>nan                           </td> <td>125502                      </td> <td>7.25451e+06  </td> <td>2.1234e+10   </td> <td>EUR                      </td> <td>Yes                           </td> <td>85   </td> <td>2.46314e+10  </td>\n",
       "        </tr>\n",
       "        <tr>\n",
       "            <td>3    </td> <td>AHOLD DELHAIZE</td> <td>CONSUMER PACKAGED GOODS</td> <td>GROCERY / FOOD DISTRIBUTION</td> <td>2022                  </td> <td>1.728e+06    </td> <td>1.748e+06                     </td> <td>1.099e+06                   </td> <td>6.59304e+07  </td> <td>75600        </td> <td>EUR                      </td> <td>Yes                           </td> <td>150  </td> <td>87696        </td>\n",
       "        </tr>\n",
       "        <tr>\n",
       "            <td>4    </td> <td>AIR FRANCE-KLM</td> <td>TRANSPORTATION         </td> <td>nan                        </td> <td>2022                  </td> <td>1.63363e+07  </td> <td>nan                           </td> <td>19104.7                     </td> <td>8.70067e+06  </td> <td>1.4315e+10   </td> <td>EUR                      </td> <td>Yes                           </td> <td>nan  </td> <td>1.66054e+10  </td>\n",
       "        </tr>\n",
       "    </tbody>\n",
       "</table>\n",
       "<p>... (151 rows omitted)</p>"
      ],
      "text/plain": [
       "<IPython.core.display.HTML object>"
      ]
     },
     "metadata": {},
     "output_type": "display_data"
    }
   ],
   "source": [
    "emissions['Revenue (USD)'] = emissions.apply(toUSD, 'Revenue with Currency')\n",
    "emissions = emissions.drop('Revenue with Currency') # dropping this column so the dataset does not look too messy\n",
    "emissions.show(5)"
   ]
  },
  {
   "cell_type": "markdown",
   "metadata": {},
   "source": [
    "Here's another example of using `.apply()`: we can use it to transform a numerical variable into a categorical variable. As an example, say we want to categorize the `Total Revenue` amounts into \"high\", \"medium\", or \"low\". We can achieve this using the `.apply()` function!"
   ]
  },
  {
   "cell_type": "code",
   "execution_count": 14,
   "metadata": {},
   "outputs": [],
   "source": [
    "# Run this cell to create the function needed for this operation\n",
    "def rev_level(revenue):\n",
    "    if revenue > 10 ** 10:\n",
    "        return 'High'\n",
    "    if revenue < 10 ** 5:\n",
    "        return 'Low'\n",
    "    else:\n",
    "        return 'Medium'"
   ]
  },
  {
   "cell_type": "markdown",
   "metadata": {},
   "source": [
    "In the following cell, we use the `.apply()` function in order to create a new column in our table called `Revenue Level`. If you don't see the new column after running the cell at first, be sure to scroll the table all the way to the right, as that is where new columns automatically get added!"
   ]
  },
  {
   "cell_type": "code",
   "execution_count": 15,
   "metadata": {},
   "outputs": [
    {
     "data": {
      "text/html": [
       "<table border=\"1\" class=\"dataframe\">\n",
       "    <thead>\n",
       "        <tr>\n",
       "            <th>Index</th> <th>Company Name</th> <th>Company Sector</th> <th>Company Sector (Other)</th> <th>Year of CDP Disclosure</th> <th>Scope 1 value</th> <th>Scope 2 value (location-based)</th> <th>Scope 2 value (market-based)</th> <th>Scope 3 value</th> <th>Total Revenue</th> <th>Currency of Total Revenue</th> <th>Internal Price on Carbon (Y/N)</th> <th>Price</th> <th>Revenue (USD)</th> <th>Revenue Level</th>\n",
       "        </tr>\n",
       "    </thead>\n",
       "    <tbody>\n",
       "        <tr>\n",
       "            <td>0    </td> <td>ADIDAS              </td> <td>APPAREL & FOOTWEAR     </td> <td>nan                        </td> <td>2022                  </td> <td>12908.4      </td> <td>nan                           </td> <td>125502                      </td> <td>7.25451e+06  </td> <td>2.1234e+10   </td> <td>EUR                      </td> <td>Yes                           </td> <td>85   </td> <td>2.46314e+10  </td> <td>High         </td>\n",
       "        </tr>\n",
       "        <tr>\n",
       "            <td>1    </td> <td>ADIDAS              </td> <td>APPAREL & FOOTWEAR     </td> <td>nan                        </td> <td>2022                  </td> <td>12908.4      </td> <td>nan                           </td> <td>125502                      </td> <td>7.25451e+06  </td> <td>2.1234e+10   </td> <td>EUR                      </td> <td>Yes                           </td> <td>85   </td> <td>2.46314e+10  </td> <td>High         </td>\n",
       "        </tr>\n",
       "        <tr>\n",
       "            <td>2    </td> <td>ADIDAS              </td> <td>APPAREL & FOOTWEAR     </td> <td>nan                        </td> <td>2022                  </td> <td>12908.4      </td> <td>nan                           </td> <td>125502                      </td> <td>7.25451e+06  </td> <td>2.1234e+10   </td> <td>EUR                      </td> <td>Yes                           </td> <td>85   </td> <td>2.46314e+10  </td> <td>High         </td>\n",
       "        </tr>\n",
       "        <tr>\n",
       "            <td>3    </td> <td>AHOLD DELHAIZE      </td> <td>CONSUMER PACKAGED GOODS</td> <td>GROCERY / FOOD DISTRIBUTION</td> <td>2022                  </td> <td>1.728e+06    </td> <td>1.748e+06                     </td> <td>1.099e+06                   </td> <td>6.59304e+07  </td> <td>75600        </td> <td>EUR                      </td> <td>Yes                           </td> <td>150  </td> <td>87696        </td> <td>Low          </td>\n",
       "        </tr>\n",
       "        <tr>\n",
       "            <td>4    </td> <td>AIR FRANCE-KLM      </td> <td>TRANSPORTATION         </td> <td>nan                        </td> <td>2022                  </td> <td>1.63363e+07  </td> <td>nan                           </td> <td>19104.7                     </td> <td>8.70067e+06  </td> <td>1.4315e+10   </td> <td>EUR                      </td> <td>Yes                           </td> <td>nan  </td> <td>1.66054e+10  </td> <td>High         </td>\n",
       "        </tr>\n",
       "        <tr>\n",
       "            <td>5    </td> <td>AIRBUS              </td> <td>OTHER                  </td> <td>ROLLING STOCK MANUFACTURER </td> <td>2022                  </td> <td>561737       </td> <td>339313                        </td> <td>265016                      </td> <td>4.76092e+08  </td> <td>52856        </td> <td>EUR                      </td> <td>Yes                           </td> <td>150  </td> <td>61313        </td> <td>Low          </td>\n",
       "        </tr>\n",
       "        <tr>\n",
       "            <td>6    </td> <td>ALBERTSONS COMPANIES</td> <td>CONSUMER PACKAGED GOODS</td> <td>GROCERY / FOOD DISTRIBUTION</td> <td>2022                  </td> <td>2.76738e+06  </td> <td>1.66352e+06                   </td> <td>1.64609e+06                 </td> <td>7.50445e+06  </td> <td>6.96904e+10  </td> <td>USD                      </td> <td>No                            </td> <td>nan  </td> <td>6.96904e+10  </td> <td>High         </td>\n",
       "        </tr>\n",
       "        <tr>\n",
       "            <td>7    </td> <td>ALLY FINANCIAL      </td> <td>OTHER                  </td> <td>FINANCE / BANKING          </td> <td>2022                  </td> <td>4228         </td> <td>9758                          </td> <td>0                           </td> <td>13986        </td> <td>8.381e+09    </td> <td>USD                      </td> <td>No                            </td> <td>nan  </td> <td>8.381e+09    </td> <td>Medium       </td>\n",
       "        </tr>\n",
       "        <tr>\n",
       "            <td>8    </td> <td>ALSTOM              </td> <td>OTHER                  </td> <td>AEROSPACE                  </td> <td>2022                  </td> <td>107073       </td> <td>144632                        </td> <td>121789                      </td> <td>3.34293e+07  </td> <td>1.5741e+10   </td> <td>EUR                      </td> <td>No                            </td> <td>nan  </td> <td>1.82596e+10  </td> <td>High         </td>\n",
       "        </tr>\n",
       "        <tr>\n",
       "            <td>9    </td> <td>AMCOR               </td> <td>CONSUMER PACKAGED GOODS</td> <td>nan                        </td> <td>2022                  </td> <td>529192       </td> <td>1.43269e+06                   </td> <td>1.43208e+06                 </td> <td>1.96516e+07  </td> <td>1.2861e+10   </td> <td>USD                      </td> <td>No                            </td> <td>nan  </td> <td>1.2861e+10   </td> <td>High         </td>\n",
       "        </tr>\n",
       "    </tbody>\n",
       "</table>\n",
       "<p>... (146 rows omitted)</p>"
      ],
      "text/plain": [
       "Index | Company Name         | Company Sector          | Company Sector (Other)      | Year of CDP Disclosure | Scope 1 value | Scope 2 value (location-based) | Scope 2 value (market-based) | Scope 3 value | Total Revenue | Currency of Total Revenue | Internal Price on Carbon (Y/N) | Price | Revenue (USD) | Revenue Level\n",
       "0     | ADIDAS               | APPAREL & FOOTWEAR      | nan                         | 2022                   | 12908.4       | nan                            | 125502                       | 7.25451e+06   | 2.1234e+10    | EUR                       | Yes                            | 85    | 2.46314e+10   | High\n",
       "1     | ADIDAS               | APPAREL & FOOTWEAR      | nan                         | 2022                   | 12908.4       | nan                            | 125502                       | 7.25451e+06   | 2.1234e+10    | EUR                       | Yes                            | 85    | 2.46314e+10   | High\n",
       "2     | ADIDAS               | APPAREL & FOOTWEAR      | nan                         | 2022                   | 12908.4       | nan                            | 125502                       | 7.25451e+06   | 2.1234e+10    | EUR                       | Yes                            | 85    | 2.46314e+10   | High\n",
       "3     | AHOLD DELHAIZE       | CONSUMER PACKAGED GOODS | GROCERY / FOOD DISTRIBUTION | 2022                   | 1.728e+06     | 1.748e+06                      | 1.099e+06                    | 6.59304e+07   | 75600         | EUR                       | Yes                            | 150   | 87696         | Low\n",
       "4     | AIR FRANCE-KLM       | TRANSPORTATION          | nan                         | 2022                   | 1.63363e+07   | nan                            | 19104.7                      | 8.70067e+06   | 1.4315e+10    | EUR                       | Yes                            | nan   | 1.66054e+10   | High\n",
       "5     | AIRBUS               | OTHER                   | ROLLING STOCK MANUFACTURER  | 2022                   | 561737        | 339313                         | 265016                       | 4.76092e+08   | 52856         | EUR                       | Yes                            | 150   | 61313         | Low\n",
       "6     | ALBERTSONS COMPANIES | CONSUMER PACKAGED GOODS | GROCERY / FOOD DISTRIBUTION | 2022                   | 2.76738e+06   | 1.66352e+06                    | 1.64609e+06                  | 7.50445e+06   | 6.96904e+10   | USD                       | No                             | nan   | 6.96904e+10   | High\n",
       "7     | ALLY FINANCIAL       | OTHER                   | FINANCE / BANKING           | 2022                   | 4228          | 9758                           | 0                            | 13986         | 8.381e+09     | USD                       | No                             | nan   | 8.381e+09     | Medium\n",
       "8     | ALSTOM               | OTHER                   | AEROSPACE                   | 2022                   | 107073        | 144632                         | 121789                       | 3.34293e+07   | 1.5741e+10    | EUR                       | No                             | nan   | 1.82596e+10   | High\n",
       "9     | AMCOR                | CONSUMER PACKAGED GOODS | nan                         | 2022                   | 529192        | 1.43269e+06                    | 1.43208e+06                  | 1.96516e+07   | 1.2861e+10    | USD                       | No                             | nan   | 1.2861e+10    | High\n",
       "... (146 rows omitted)"
      ]
     },
     "execution_count": 15,
     "metadata": {},
     "output_type": "execute_result"
    }
   ],
   "source": [
    "# Run this cell to apply the function to the dataset and add the new column\n",
    "emissions['Revenue Level'] = emissions.apply(rev_level, 'Revenue (USD)')\n",
    "emissions"
   ]
  },
  {
   "cell_type": "markdown",
   "metadata": {},
   "source": [
    "Something to note here: being able to analyze the data by creating new columns or subsets of our data like this can also be useful for sanity checking our data. For example, in the output above, we can double check that our data is accurate by ensuring our companies are in the correct `Revenue Level` categories. From this analysis, we could notice any suspiciously small or large numbers, such as the example of `AHOLD DELHAIZE` above; these intermediate steps give us a chance to check the accuracy of our data early on in our analysis!"
   ]
  },
  {
   "cell_type": "markdown",
   "metadata": {},
   "source": [
    "These examples were more advanced but applicable use cases of the `.apply()` function. It can also be used in simpler cases; as an example, if we had data in a column that needed to be multiplied or divided by a specific factor, we could easily use `.apply()` to apply the multiplication / division to every piece of data in the column!"
   ]
  },
  {
   "cell_type": "markdown",
   "metadata": {},
   "source": [
    "### 2.2 Group"
   ]
  },
  {
   "cell_type": "markdown",
   "metadata": {},
   "source": [
    "Since we now have revenues with the same format, we can perform some aggregation of our data with the `.group()` function, which  groups data by a specific attribute, allowing for analysis and numeric summarization within each group. In the following example, we can use it to look at the average revenue of each company sector."
   ]
  },
  {
   "cell_type": "markdown",
   "metadata": {},
   "source": [
    "In the cell below, you can see the call to `.group()` in the second line, **where the first value in the parenthesis is the column name we want to group by, and the second value in the parenthesis is the function we want to use to aggregate the numeric data together** (in this case, we're calculating the average / mean revenue in USD of the data grouped by company sector)."
   ]
  },
  {
   "cell_type": "code",
   "execution_count": 16,
   "metadata": {},
   "outputs": [
    {
     "data": {
      "text/html": [
       "<table border=\"1\" class=\"dataframe\">\n",
       "    <thead>\n",
       "        <tr>\n",
       "            <th>Company Sector</th> <th>Revenue (USD) mean</th>\n",
       "        </tr>\n",
       "    </thead>\n",
       "    <tbody>\n",
       "        <tr>\n",
       "            <td>APPAREL & FOOTWEAR     </td> <td>1.21045e+10       </td>\n",
       "        </tr>\n",
       "        <tr>\n",
       "            <td>CONSUMER PACKAGED GOODS</td> <td>6.82165e+10       </td>\n",
       "        </tr>\n",
       "        <tr>\n",
       "            <td>ENERGY                 </td> <td>8.53938e+10       </td>\n",
       "        </tr>\n",
       "        <tr>\n",
       "            <td>FOOD & AGRICULTURE     </td> <td>2.68682e+10       </td>\n",
       "        </tr>\n",
       "        <tr>\n",
       "            <td>MATERIALS              </td> <td>2.90295e+10       </td>\n",
       "        </tr>\n",
       "        <tr>\n",
       "            <td>OTHER                  </td> <td>2.47897e+10       </td>\n",
       "        </tr>\n",
       "        <tr>\n",
       "            <td>TECHNOLOGY             </td> <td>9.02242e+10       </td>\n",
       "        </tr>\n",
       "        <tr>\n",
       "            <td>TRANSPORTATION         </td> <td>3.60605e+10       </td>\n",
       "        </tr>\n",
       "    </tbody>\n",
       "</table>"
      ],
      "text/plain": [
       "Company Sector          | Revenue (USD) mean\n",
       "APPAREL & FOOTWEAR      | 1.21045e+10\n",
       "CONSUMER PACKAGED GOODS | 6.82165e+10\n",
       "ENERGY                  | 8.53938e+10\n",
       "FOOD & AGRICULTURE      | 2.68682e+10\n",
       "MATERIALS               | 2.90295e+10\n",
       "OTHER                   | 2.47897e+10\n",
       "TECHNOLOGY              | 9.02242e+10\n",
       "TRANSPORTATION          | 3.60605e+10"
      ]
     },
     "execution_count": 16,
     "metadata": {},
     "output_type": "execute_result"
    }
   ],
   "source": [
    "emission_g = emissions.select('Company Sector', 'Revenue (USD)') # Select the columns we want to look at\n",
    "emission_g.group('Company Sector', np.mean) # Call the group function with the column and aggregation function we want to use"
   ]
  },
  {
   "cell_type": "markdown",
   "metadata": {},
   "source": [
    "In the next cell, we use another aggregation function (the median) to show that there are multiple aggregation functions we can use to summarize our data."
   ]
  },
  {
   "cell_type": "code",
   "execution_count": 17,
   "metadata": {},
   "outputs": [
    {
     "data": {
      "text/html": [
       "<table border=\"1\" class=\"dataframe\">\n",
       "    <thead>\n",
       "        <tr>\n",
       "            <th>Company Sector</th> <th>Revenue (USD) median</th>\n",
       "        </tr>\n",
       "    </thead>\n",
       "    <tbody>\n",
       "        <tr>\n",
       "            <td>APPAREL & FOOTWEAR     </td> <td>5.38739e+09         </td>\n",
       "        </tr>\n",
       "        <tr>\n",
       "            <td>CONSUMER PACKAGED GOODS</td> <td>1.29282e+10         </td>\n",
       "        </tr>\n",
       "        <tr>\n",
       "            <td>ENERGY                 </td> <td>2.90683e+10         </td>\n",
       "        </tr>\n",
       "        <tr>\n",
       "            <td>FOOD & AGRICULTURE     </td> <td>1.743e+10           </td>\n",
       "        </tr>\n",
       "        <tr>\n",
       "            <td>MATERIALS              </td> <td>2.90295e+10         </td>\n",
       "        </tr>\n",
       "        <tr>\n",
       "            <td>OTHER                  </td> <td>6.152e+09           </td>\n",
       "        </tr>\n",
       "        <tr>\n",
       "            <td>TECHNOLOGY             </td> <td>8.08485e+10         </td>\n",
       "        </tr>\n",
       "        <tr>\n",
       "            <td>TRANSPORTATION         </td> <td>1.27989e+10         </td>\n",
       "        </tr>\n",
       "    </tbody>\n",
       "</table>"
      ],
      "text/plain": [
       "Company Sector          | Revenue (USD) median\n",
       "APPAREL & FOOTWEAR      | 5.38739e+09\n",
       "CONSUMER PACKAGED GOODS | 1.29282e+10\n",
       "ENERGY                  | 2.90683e+10\n",
       "FOOD & AGRICULTURE      | 1.743e+10\n",
       "MATERIALS               | 2.90295e+10\n",
       "OTHER                   | 6.152e+09\n",
       "TECHNOLOGY              | 8.08485e+10\n",
       "TRANSPORTATION          | 1.27989e+10"
      ]
     },
     "execution_count": 17,
     "metadata": {},
     "output_type": "execute_result"
    }
   ],
   "source": [
    "# We could use other numeric functions besides the average, such as the median, with our grouped data\n",
    "emission_g.group('Company Sector', np.median)"
   ]
  },
  {
   "cell_type": "markdown",
   "metadata": {},
   "source": [
    "The `.group()` method also allows us to group the data by more than one variable! In the following cell, we put the `Company Name` and `Company Sector` column names in a list (denoted by the square brackets) and then group by those values. From there, we calculate the maximum value of the revenue in USD among these groupings!"
   ]
  },
  {
   "cell_type": "code",
   "execution_count": 18,
   "metadata": {},
   "outputs": [
    {
     "data": {
      "text/html": [
       "<table border=\"1\" class=\"dataframe\">\n",
       "    <thead>\n",
       "        <tr>\n",
       "            <th>Company Sector</th> <th>Company Name</th> <th>Revenue (USD) max</th>\n",
       "        </tr>\n",
       "    </thead>\n",
       "    <tbody>\n",
       "        <tr>\n",
       "            <td>APPAREL & FOOTWEAR</td> <td>ADIDAS                   </td> <td>2.46314e+10      </td>\n",
       "        </tr>\n",
       "        <tr>\n",
       "            <td>APPAREL & FOOTWEAR</td> <td>AMERICAN EAGLE OUTFITTERS</td> <td>5.01078e+09      </td>\n",
       "        </tr>\n",
       "        <tr>\n",
       "            <td>APPAREL & FOOTWEAR</td> <td>ARITZIA                  </td> <td>1.16581e+09      </td>\n",
       "        </tr>\n",
       "        <tr>\n",
       "            <td>APPAREL & FOOTWEAR</td> <td>BURBERRY                 </td> <td>3.87162e+09      </td>\n",
       "        </tr>\n",
       "        <tr>\n",
       "            <td>APPAREL & FOOTWEAR</td> <td>FILA HOLDINGS            </td> <td>3.4146e+09       </td>\n",
       "        </tr>\n",
       "        <tr>\n",
       "            <td>APPAREL & FOOTWEAR</td> <td>GIORGIO ARMANI           </td> <td>2.38447e+09      </td>\n",
       "        </tr>\n",
       "        <tr>\n",
       "            <td>APPAREL & FOOTWEAR</td> <td>H&M                      </td> <td>2.3e+10          </td>\n",
       "        </tr>\n",
       "        <tr>\n",
       "            <td>APPAREL & FOOTWEAR</td> <td>INDITEX                  </td> <td>3.21692e+10      </td>\n",
       "        </tr>\n",
       "        <tr>\n",
       "            <td>APPAREL & FOOTWEAR</td> <td>LEVI STRAUSS & CO.       </td> <td>5.764e+09        </td>\n",
       "        </tr>\n",
       "        <tr>\n",
       "            <td>APPAREL & FOOTWEAR</td> <td>LYMI DBA REFORMATION     </td> <td>1.71381e+06      </td>\n",
       "        </tr>\n",
       "    </tbody>\n",
       "</table>\n",
       "<p>... (97 rows omitted)</p>"
      ],
      "text/plain": [
       "Company Sector     | Company Name              | Revenue (USD) max\n",
       "APPAREL & FOOTWEAR | ADIDAS                    | 2.46314e+10\n",
       "APPAREL & FOOTWEAR | AMERICAN EAGLE OUTFITTERS | 5.01078e+09\n",
       "APPAREL & FOOTWEAR | ARITZIA                   | 1.16581e+09\n",
       "APPAREL & FOOTWEAR | BURBERRY                  | 3.87162e+09\n",
       "APPAREL & FOOTWEAR | FILA HOLDINGS             | 3.4146e+09\n",
       "APPAREL & FOOTWEAR | GIORGIO ARMANI            | 2.38447e+09\n",
       "APPAREL & FOOTWEAR | H&M                       | 2.3e+10\n",
       "APPAREL & FOOTWEAR | INDITEX                   | 3.21692e+10\n",
       "APPAREL & FOOTWEAR | LEVI STRAUSS & CO.        | 5.764e+09\n",
       "APPAREL & FOOTWEAR | LYMI DBA REFORMATION      | 1.71381e+06\n",
       "... (97 rows omitted)"
      ]
     },
     "execution_count": 18,
     "metadata": {},
     "output_type": "execute_result"
    }
   ],
   "source": [
    "# We can also group the data by more than one variable\n",
    "emission_g1 = emissions.select('Company Sector', 'Company Name', 'Revenue (USD)')\n",
    "emission_g1.group(['Company Sector', 'Company Name'], np.max)"
   ]
  },
  {
   "cell_type": "markdown",
   "metadata": {},
   "source": [
    "### 2.3 Pivot"
   ]
  },
  {
   "cell_type": "markdown",
   "metadata": {},
   "source": [
    "<div class=\"alert alert-block alert-success\">\n",
    "    <p style=\"font-size:20px\">This section is advanced/optional\n",
    "</div>"
   ]
  },
  {
   "cell_type": "markdown",
   "metadata": {},
   "source": [
    "The `.pivot()` function in Python reshapes data, essentially turning the rows into columns. Similar to `.group()`, it summarizes data, but it is a little more complicated as it changes column values in our original table into column indexes in a new table. \n",
    "\n",
    "For example, if we want to see the count of each currency in each company sector, we can use the `.pivot()` function as shown below:"
   ]
  },
  {
   "cell_type": "code",
   "execution_count": 19,
   "metadata": {},
   "outputs": [
    {
     "data": {
      "text/html": [
       "<table border=\"1\" class=\"dataframe\">\n",
       "    <thead>\n",
       "        <tr>\n",
       "            <th>Company Sector</th> <th>AUD</th> <th>CAD</th> <th>CHF</th> <th>DKK</th> <th>EUR</th> <th>GBP</th> <th>JPY</th> <th>KRW</th> <th>NOK</th> <th>RUB</th> <th>SEK</th> <th>USD</th>\n",
       "        </tr>\n",
       "    </thead>\n",
       "    <tbody>\n",
       "        <tr>\n",
       "            <td>APPAREL & FOOTWEAR     </td> <td>0   </td> <td>2   </td> <td>0   </td> <td>0   </td> <td>8   </td> <td>1   </td> <td>0   </td> <td>1   </td> <td>0   </td> <td>0   </td> <td>9   </td> <td>23  </td>\n",
       "        </tr>\n",
       "        <tr>\n",
       "            <td>CONSUMER PACKAGED GOODS</td> <td>0   </td> <td>0   </td> <td>0   </td> <td>0   </td> <td>5   </td> <td>0   </td> <td>0   </td> <td>0   </td> <td>0   </td> <td>0   </td> <td>0   </td> <td>8   </td>\n",
       "        </tr>\n",
       "        <tr>\n",
       "            <td>ENERGY                 </td> <td>0   </td> <td>0   </td> <td>0   </td> <td>4   </td> <td>6   </td> <td>0   </td> <td>1   </td> <td>0   </td> <td>1   </td> <td>1   </td> <td>0   </td> <td>21  </td>\n",
       "        </tr>\n",
       "        <tr>\n",
       "            <td>FOOD & AGRICULTURE     </td> <td>1   </td> <td>0   </td> <td>3   </td> <td>0   </td> <td>2   </td> <td>1   </td> <td>0   </td> <td>0   </td> <td>0   </td> <td>0   </td> <td>0   </td> <td>21  </td>\n",
       "        </tr>\n",
       "        <tr>\n",
       "            <td>MATERIALS              </td> <td>0   </td> <td>0   </td> <td>0   </td> <td>0   </td> <td>0   </td> <td>0   </td> <td>0   </td> <td>0   </td> <td>0   </td> <td>0   </td> <td>0   </td> <td>2   </td>\n",
       "        </tr>\n",
       "        <tr>\n",
       "            <td>OTHER                  </td> <td>0   </td> <td>0   </td> <td>0   </td> <td>0   </td> <td>3   </td> <td>0   </td> <td>1   </td> <td>2   </td> <td>0   </td> <td>0   </td> <td>0   </td> <td>13  </td>\n",
       "        </tr>\n",
       "        <tr>\n",
       "            <td>TECHNOLOGY             </td> <td>0   </td> <td>0   </td> <td>0   </td> <td>0   </td> <td>0   </td> <td>0   </td> <td>0   </td> <td>0   </td> <td>0   </td> <td>0   </td> <td>0   </td> <td>4   </td>\n",
       "        </tr>\n",
       "        <tr>\n",
       "            <td>TRANSPORTATION         </td> <td>0   </td> <td>0   </td> <td>0   </td> <td>0   </td> <td>4   </td> <td>0   </td> <td>1   </td> <td>0   </td> <td>0   </td> <td>0   </td> <td>0   </td> <td>7   </td>\n",
       "        </tr>\n",
       "    </tbody>\n",
       "</table>"
      ],
      "text/plain": [
       "Company Sector          | AUD  | CAD  | CHF  | DKK  | EUR  | GBP  | JPY  | KRW  | NOK  | RUB  | SEK  | USD\n",
       "APPAREL & FOOTWEAR      | 0    | 2    | 0    | 0    | 8    | 1    | 0    | 1    | 0    | 0    | 9    | 23\n",
       "CONSUMER PACKAGED GOODS | 0    | 0    | 0    | 0    | 5    | 0    | 0    | 0    | 0    | 0    | 0    | 8\n",
       "ENERGY                  | 0    | 0    | 0    | 4    | 6    | 0    | 1    | 0    | 1    | 1    | 0    | 21\n",
       "FOOD & AGRICULTURE      | 1    | 0    | 3    | 0    | 2    | 1    | 0    | 0    | 0    | 0    | 0    | 21\n",
       "MATERIALS               | 0    | 0    | 0    | 0    | 0    | 0    | 0    | 0    | 0    | 0    | 0    | 2\n",
       "OTHER                   | 0    | 0    | 0    | 0    | 3    | 0    | 1    | 2    | 0    | 0    | 0    | 13\n",
       "TECHNOLOGY              | 0    | 0    | 0    | 0    | 0    | 0    | 0    | 0    | 0    | 0    | 0    | 4\n",
       "TRANSPORTATION          | 0    | 0    | 0    | 0    | 4    | 0    | 1    | 0    | 0    | 0    | 0    | 7"
      ]
     },
     "execution_count": 19,
     "metadata": {},
     "output_type": "execute_result"
    }
   ],
   "source": [
    "emissions.pivot('Currency of Total Revenue', # the row index\n",
    "                'Company Sector', # the column index\n",
    "                )"
   ]
  },
  {
   "cell_type": "markdown",
   "metadata": {},
   "source": [
    "Instead of value counts, we can also incorporate aggregations into this function just like we did with `.group()`.\n",
    "\n",
    "Now, let's look at the average `Scope 1 value` for each company sector, dividing the data based on whether they have an internal price on carbon or not."
   ]
  },
  {
   "cell_type": "code",
   "execution_count": 5,
   "metadata": {},
   "outputs": [
    {
     "data": {
      "text/html": [
       "<table border=\"1\" class=\"dataframe\">\n",
       "    <thead>\n",
       "        <tr>\n",
       "            <th>Company Sector</th> <th>No</th> <th>Yes</th>\n",
       "        </tr>\n",
       "    </thead>\n",
       "    <tbody>\n",
       "        <tr>\n",
       "            <td>APPAREL & FOOTWEAR     </td> <td>7225.83    </td> <td>16374.2    </td>\n",
       "        </tr>\n",
       "        <tr>\n",
       "            <td>CONSUMER PACKAGED GOODS</td> <td>1.59912e+06</td> <td>1.44563e+06</td>\n",
       "        </tr>\n",
       "        <tr>\n",
       "            <td>ENERGY                 </td> <td>1.02211e+07</td> <td>2.59892e+07</td>\n",
       "        </tr>\n",
       "        <tr>\n",
       "            <td>FOOD & AGRICULTURE     </td> <td>1.72645e+06</td> <td>2.79406e+06</td>\n",
       "        </tr>\n",
       "        <tr>\n",
       "            <td>MATERIALS              </td> <td>0          </td> <td>7.64138e+07</td>\n",
       "        </tr>\n",
       "        <tr>\n",
       "            <td>OTHER                  </td> <td>1.93513e+06</td> <td>1.34584e+07</td>\n",
       "        </tr>\n",
       "        <tr>\n",
       "            <td>TECHNOLOGY             </td> <td>66042.1    </td> <td>0          </td>\n",
       "        </tr>\n",
       "        <tr>\n",
       "            <td>TRANSPORTATION         </td> <td>9.34322e+06</td> <td>6.3131e+06 </td>\n",
       "        </tr>\n",
       "    </tbody>\n",
       "</table>"
      ],
      "text/plain": [
       "Company Sector          | No          | Yes\n",
       "APPAREL & FOOTWEAR      | 7225.83     | 16374.2\n",
       "CONSUMER PACKAGED GOODS | 1.59912e+06 | 1.44563e+06\n",
       "ENERGY                  | 1.02211e+07 | 2.59892e+07\n",
       "FOOD & AGRICULTURE      | 1.72645e+06 | 2.79406e+06\n",
       "MATERIALS               | 0           | 7.64138e+07\n",
       "OTHER                   | 1.93513e+06 | 1.34584e+07\n",
       "TECHNOLOGY              | 66042.1     | 0\n",
       "TRANSPORTATION          | 9.34322e+06 | 6.3131e+06"
      ]
     },
     "execution_count": 5,
     "metadata": {},
     "output_type": "execute_result"
    }
   ],
   "source": [
    "emissions.pivot('Internal Price on Carbon (Y/N)', # the row index\n",
    "                'Company Sector', # the column index\n",
    "                values = 'Scope 1 value', # the variable that is being evaluated for each combination\n",
    "                collect = np.mean # how the value is going to be aggregated\n",
    "                )"
   ]
  },
  {
   "cell_type": "markdown",
   "metadata": {},
   "source": [
    "This pivot table shows us the average `Scope 1 value` for each combination of `Company Sector` and whether they have an internal price on carbon or not! For example, in the first row, we are able to clearly see the two average `Scope 1 value`s for the `APPAREL & FOOTWEAR` sector, broken down by whether the companies have an internal price on carbon. It allows us to better visualize how the average `Scope 1 value` changes based on having an internal price on carbon or not. We can look at the two values for each sector and consider whether the values are what we expect or not as another form of exploration.\n",
    "\n",
    "**Note:** The reason we have two values of 0 in the pivot table above is not because 0 is the average `Scope 1 value`, but because we didn't have any values that were combinations of the given row and column (for example, we had no rows in our dataset from the `MATERIALS` sector that did not have an internal price on carbon).\n",
    "\n",
    "From this, we can see how pivot tables allow us to more clearly focus on numerical trends that we're interested in."
   ]
  },
  {
   "cell_type": "markdown",
   "metadata": {},
   "source": [
    "<hr style=\"border: 2px solid #003262\">\n",
    "<hr style=\"border: 2px solid #C9B676\">"
   ]
  },
  {
   "cell_type": "markdown",
   "metadata": {
    "cell_id": "00009-52f60190-e21f-4107-99a9-d42ab128df40",
    "deepnote_cell_type": "markdown",
    "tags": [
     "ignore"
    ]
   },
   "source": [
    "## 3. Visualizations\n",
    "\n",
    "In this section, we'll be able to **analyze our data visually by creating various charts and graphs.** We'll start off by looking at basic charts that we can create with the built-in visualizations with the `datascience` module. Then, we'll show off some more advanced visualizations that we can create with other visualization modules!\n",
    "\n",
    "**For Section 3.2 on advanced visualizations, don't worry too much about understanding how to write the code!** We won't ask you to re-create those types of graphs in the next notebook; instead, just focus on analyzing the graph visually to see what information you can gather from it."
   ]
  },
  {
   "cell_type": "markdown",
   "metadata": {},
   "source": [
    "### 3.1 Basic Scatter Plots and Bar Charts with the `datascience` Module"
   ]
  },
  {
   "cell_type": "markdown",
   "metadata": {},
   "source": [
    "Utilizing the `datascience` module and its built-in graphing functions, let's create some basic scatter plots and bar charts that we learned about in Notebook 1."
   ]
  },
  {
   "cell_type": "markdown",
   "metadata": {},
   "source": [
    "First, let's practice creating a scatter plot in order to look at the relationship between two numeric values. For the following graph, we use `.scatter()` to view the relationship between the `Scope 1 value` and `Scope 2 value`."
   ]
  },
  {
   "cell_type": "code",
   "execution_count": null,
   "metadata": {},
   "outputs": [],
   "source": [
    "emissions.scatter('Scope 1 value', 'Scope 2 value (market-based)')"
   ]
  },
  {
   "cell_type": "markdown",
   "metadata": {},
   "source": [
    "From the x-axis and y-axis above, we can see that the `Scope 2 value` has a much larger range of values it takes on than the `Scope 1 value`. We can also see that many of the points are concentrated in the bottom left corner, and we only have a handful of **outlier data points** that have larger Scope 1 and/or Scope 2 values."
   ]
  },
  {
   "cell_type": "markdown",
   "metadata": {},
   "source": [
    "Next, let's look at some examples of bar charts. The code for these bar charts is a bit more complex, because we need to take some intermediate steps of grouping, sorting, and selecting certain columns and rows of the table in order to get a more readable graph.\n",
    "\n",
    "**If the code is a little confusing, that's okay! Just focus on being able to interpret what the graphs are telling us.**"
   ]
  },
  {
   "cell_type": "markdown",
   "metadata": {},
   "source": [
    "For the first bar chart, we group our data based on company sector and then look at the average `Scope 1 value` for every sector. From this, we can see that the `Materials` and `Energy` sectors have the highest average Scope 1 values."
   ]
  },
  {
   "cell_type": "code",
   "execution_count": null,
   "metadata": {},
   "outputs": [],
   "source": [
    "emissions.group('Company Sector', np.average).barh('Company Sector', 'Scope 1 value average')"
   ]
  },
  {
   "cell_type": "markdown",
   "metadata": {},
   "source": [
    "In the following bar chart, we want to look at the top five companies based on the average of their `Scope 1 value`. \n",
    "\n",
    "To accomplish this, we first have to group the data by the company (in case multiple students submitted data on the same company), and then sort the data in descending order of the average `Scope 1 value`. From this, we take the top 5 companies and create a bar chart from it.\n",
    "\n",
    "We've broken up this code into intermediate steps below so that it is more readable, but all of this code could have been chained together into one long line!"
   ]
  },
  {
   "cell_type": "code",
   "execution_count": null,
   "metadata": {},
   "outputs": [],
   "source": [
    "grouped_company = emissions.group('Company Name', np.average)\n",
    "sorted_grouped_company = grouped_company.sort('Scope 1 value average', descending = True)\n",
    "top_five_companies = sorted_grouped_company.take([0, 1, 2, 3, 4])\n",
    "\n",
    "# In the following line, we create the bar chart: categorical column on the y-axis, numeric column on the x-axis\n",
    "top_five_companies.barh('Company Name', 'Scope 1 value average')"
   ]
  },
  {
   "cell_type": "markdown",
   "metadata": {},
   "source": [
    "### 3.2 More Advanced Visualizations"
   ]
  },
  {
   "cell_type": "markdown",
   "metadata": {},
   "source": [
    "The `datascience` module's graphing methods are quite beginner-friendly, but if we want to create more advanced, professional-looking, or informative graphs, we can use other data visualization modules, such as `Seaborn` and `Plotly`!\n",
    "\n",
    "**You won't be expected to know how to write the code to generate the following graphs for the next notebook;** we're just taking a look at them to see how we can create more complex graphs."
   ]
  },
  {
   "cell_type": "markdown",
   "metadata": {},
   "source": [
    "For example, we can use the `Seaborn` module (which we imported at the very beginning as `sns`) to create a graph of the counts of each company sector. From the graph below, we can see that the most common companies students picked to report data on were part of the `Apparel & Footwear` and `Energy` sectors!"
   ]
  },
  {
   "cell_type": "code",
   "execution_count": null,
   "metadata": {},
   "outputs": [],
   "source": [
    "sns.countplot(y = emissions['Company Sector'])\n",
    "plt.show()"
   ]
  },
  {
   "cell_type": "markdown",
   "metadata": {},
   "source": [
    "Next up, using the `Plotly module`, we can get really fancy with our graphs! The following graph is an interactive one -- once you run it, you'll have the option to select a type of `Currency`. This option selects only companies with that type of currency (so for the less common currency types, you'll only see a few points plotted).\n",
    "\n",
    "It then creates a scatterplot of the company's `Total Revenue` plotted against their `Scope 1 value`. It also colors the company's point based on the sector it belongs to. Select different options for the currency and see what you find!\n",
    "\n",
    "**Note:** This plot may take a few seconds to load at first and each time you select a different currency."
   ]
  },
  {
   "cell_type": "code",
   "execution_count": null,
   "metadata": {},
   "outputs": [],
   "source": [
    "df = pd.read_csv('emissions.csv')\n",
    "\n",
    "@interact(currency = Dropdown(options = np.unique(emissions['Currency of Total Revenue']), value = 'USD'))\n",
    "def plot_px(currency):\n",
    "    mask = df['Currency of Total Revenue'].isin([currency])\n",
    "    fig = px.scatter(df[mask], x = 'Total Revenue',\n",
    "                     y = 'Scope 1 value',\n",
    "                     color = 'Company Sector',\n",
    "                     hover_data = ['Company Name'],\n",
    "                     labels= {\n",
    "                        'Scope 1 value': 'Emissions',\n",
    "                     },\n",
    "                 )\n",
    "    fig.update_layout(xaxis_title = \"Total Revenue\",\n",
    "                      yaxis_title = \"Total Direct GHG Emissions\")\n",
    "    fig.show()"
   ]
  },
  {
   "cell_type": "markdown",
   "metadata": {},
   "source": [
    "Pretty cool, right? Let's see how we can utilize `Plotly` and these interactive graphs further by next focusing on one sector."
   ]
  },
  {
   "cell_type": "markdown",
   "metadata": {},
   "source": [
    "### 3.3 A Closer Look at the Food & Agriculture Sector"
   ]
  },
  {
   "cell_type": "markdown",
   "metadata": {},
   "source": [
    "Let's take a closer look at one of the most popular sectors that your class looked at: Food & Agriculture. Below, data from 2018 through 2021 is shown for nine of the most prominent food and agricultural companies, ranging from beverage companies (Molson Coors, PepsiCo), food retailers (Tesco), and famous food companies (Nestlé). This data was gathered from a variety of sources, including various CDP reports, company sustainability reports, and the SEC (U.S. Securities and Exchange Commission) website."
   ]
  },
  {
   "cell_type": "code",
   "execution_count": null,
   "metadata": {},
   "outputs": [],
   "source": [
    "# Run this cell to load the data\n",
    "food_ag = pd.read_csv('foodag.csv')\n",
    "food_ag.head()"
   ]
  },
  {
   "cell_type": "markdown",
   "metadata": {},
   "source": [
    "#### 3.3.1 GHG Emissions Over Time"
   ]
  },
  {
   "cell_type": "markdown",
   "metadata": {},
   "source": [
    "Let's take a look at some trends in the total emissions of the companies over the years 2018 through 2021. Are the total emissions in the overall food & agriculture sector generally decreasing, increasing, staying flat, or fluctuating over time?"
   ]
  },
  {
   "cell_type": "code",
   "execution_count": null,
   "metadata": {},
   "outputs": [],
   "source": [
    "companies = food_ag['COMPANY NAME'].unique()\n",
    "years = ['2018', '2019', '2020', '2021']\n",
    "\n",
    "@interact(x = widgets.Dropdown(options = list(companies), value = 'Danone'))\n",
    "def g(x):\n",
    "    emissions = food_ag[food_ag['COMPANY NAME'] == x][\"TOTAL EMISSIONS\"] / 1000\n",
    "    bar_container = plt.bar(years, emissions);\n",
    "    plt.ylim(0, max(emissions) + 5000)\n",
    "    plt.xlabel('Year')\n",
    "    plt.ylabel('Total Scope 1 & Scope 2 Emissions (thousand mt CO2e)', size = 11)\n",
    "    plt.title(x + ' GHG Emissions (2018-2021)', size = 15)\n",
    "    plt.bar_label(bar_container, fmt='{:,.0f}')\n",
    "    plt.grid(False)"
   ]
  },
  {
   "cell_type": "markdown",
   "metadata": {},
   "source": [
    "#### 3.3.2 Carbon Intensity"
   ]
  },
  {
   "cell_type": "markdown",
   "metadata": {},
   "source": [
    "Another way we can make comparisons within a sector is by looking at a company's carbon intensity. **Carbon intensity is a measure of GHG emissions per unit of activity. For this data, carbon intensity is represented as the total scope 1 and scope 2 (location-based) emissions per unit of the company's revenue.**\n",
    "\n",
    "Run the code cell below to observe trends in carbon intensity for each company in the food and agriculture sector over time."
   ]
  },
  {
   "cell_type": "code",
   "execution_count": null,
   "metadata": {},
   "outputs": [],
   "source": [
    "companies = food_ag['COMPANY NAME'].unique()\n",
    "years = ['2018','2019', '2020', '2021']\n",
    "\n",
    "for co in companies:\n",
    "    ci = food_ag[food_ag['COMPANY NAME'] == co][\"CARBON INTENSITY\\n(Scope 1 & 2 g CO2e / $ Sales)\"]\n",
    "    plt.plot(years, ci, label = co)\n",
    "plt.legend(loc = 'upper right', fontsize = 'xx-small')\n",
    "plt.xlabel('Year')\n",
    "plt.ylabel('Carbon Intensity')\n",
    "plt.title('Food & Ag Carbon Intensity Over Time (2018-2021)');"
   ]
  },
  {
   "cell_type": "markdown",
   "metadata": {},
   "source": [
    "We can also look at carbon intensity trends for each individual company. Run the cell below to observe different carbon intensity trends."
   ]
  },
  {
   "cell_type": "code",
   "execution_count": null,
   "metadata": {},
   "outputs": [],
   "source": [
    "@interact(x = widgets.Dropdown(options = list(companies), value = 'Danone'))\n",
    "def g(x):\n",
    "    ci = food_ag[food_ag['COMPANY NAME'] == x][\"CARBON INTENSITY\\n(Scope 1 & 2 g CO2e / $ Sales)\"] \n",
    "    bar_container = plt.plot(years, ci);\n",
    "    plt.xlabel('Year')\n",
    "    plt.ylabel('Carbon Intensity (metric tons CO2e / mill total dollars)', size = 11)\n",
    "    plt.title(x + ' Carbon Intensity (2018-2021)', size = 15)\n",
    "    plt.grid(False)"
   ]
  },
  {
   "cell_type": "markdown",
   "metadata": {},
   "source": [
    "Hopefully this section of visualizations has shown you just how much more we can understand from our data by creating various graphs! \n",
    "\n",
    "As a reminder, in the next notebook, **you'll only be expected to re-create graphs similar to those in Section 3.1.** We may ask you some written questions about graphs similar to the ones you saw in sections 3.2 and 3.3, but you aren't expected to know how to write the code for them!"
   ]
  },
  {
   "cell_type": "markdown",
   "metadata": {},
   "source": [
    "<hr style=\"border: 2px solid #003262\">\n",
    "<hr style=\"border: 2px solid #C9B676\">"
   ]
  },
  {
   "cell_type": "markdown",
   "metadata": {},
   "source": [
    "## Conclusion"
   ]
  },
  {
   "cell_type": "markdown",
   "metadata": {},
   "source": [
    "In this notebook, you've learned quite a bit, below is a summary of the topics we have covered:\n",
    "- Process of our Data Collection and Importing Modules\n",
    "    - Data Dictionary\n",
    "    - Structure of a Notebook\n",
    "- Basic Table Operations \n",
    "    - Select\n",
    "    - Sort\n",
    "    - Where (Conditioning)\n",
    "- More Advanced Table Operations\n",
    "    - Apply\n",
    "    - Group\n",
    "    - Pivot\n",
    "- Visualizations\n",
    "    - Basic data visualizations with `datascience`\n",
    "    - More advanced visualizations with `Seaborn` and `Plotly`\n",
    "    \n",
    "In the next notebook, you'll be getting some hands-on experience with many of these methods of performing data analysis!\n",
    "\n",
    "<h3>Congratulations on finishing the notebook!</h3>"
   ]
  },
  {
   "cell_type": "markdown",
   "metadata": {},
   "source": [
    "<hr style=\"border: 2px solid #003262\">\n",
    "<hr style=\"border: 2px solid #C9B676\">"
   ]
  },
  {
   "cell_type": "markdown",
   "metadata": {},
   "source": [
    "## A Final Request: Feedback Form"
   ]
  },
  {
   "cell_type": "markdown",
   "metadata": {},
   "source": [
    "<div class=\"alert alert-info\">\n",
    "<b> We encourage students to fill out the following feedback form to share your experience with this Modules notebook. This feedback form will take no longer than 5 minutes. At UC Berkeley Data Science Undergraduate Studies Modules, we appreciate all feedback to improve the learning of students and experience utilizing Jupyter Notebooks for Data Science Education: </b> \n",
    "</div>\n",
    "\n",
    "# [UC Berkeley Data Science Feedback Form](https://forms.gle/hPgYMxFWKXH2sVkd7)"
   ]
  }
 ],
 "metadata": {
  "deepnote_execution_queue": [],
  "deepnote_notebook_id": "693e9760-244f-475b-aa3d-f49b62665db0",
  "kernelspec": {
   "display_name": "Python 3 (ipykernel)",
   "language": "python",
   "name": "python3"
  },
  "language_info": {
   "codemirror_mode": {
    "name": "ipython",
    "version": 3
   },
   "file_extension": ".py",
   "mimetype": "text/x-python",
   "name": "python",
   "nbconvert_exporter": "python",
   "pygments_lexer": "ipython3",
   "version": "3.9.15"
  },
  "vscode": {
   "interpreter": {
    "hash": "aee8b7b246df8f9039afb4144a1f6fd8d2ca17a180786b69acc140d282b71a49"
   }
  },
  "widgets": {
   "application/vnd.jupyter.widget-state+json": {
    "state": {},
    "version_major": 2,
    "version_minor": 0
   }
  }
 },
 "nbformat": 4,
 "nbformat_minor": 4
}
