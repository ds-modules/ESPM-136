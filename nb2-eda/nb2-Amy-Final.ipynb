{
 "cells": [
  {
   "cell_type": "markdown",
   "metadata": {
    "cell_id": "00001-eedf9a46-cb0c-42bc-a90f-96265663c0d3",
    "deepnote_cell_type": "markdown",
    "tags": [
     "ignore"
    ]
   },
   "source": [
    "## [ESPM-136] Notebook 2: Company Emissions Exploratory Data Analysis (EDA)\n",
    "\n",
    "## **Introduction Section here**\n",
    "\n",
    "Discuss overview of notebook and what students can take away from it here. Can also provide any relevant resources here.\n",
    "\n",
    "need to also mention that this notebook has questions that are bolded in yellow for the students to answer: probably won't be graded, might change later?"
   ]
  },
  {
   "cell_type": "markdown",
   "metadata": {},
   "source": [
    "keeping below cell just for reference, in case we have advanced/optional sections. delete later!"
   ]
  },
  {
   "cell_type": "markdown",
   "metadata": {},
   "source": [
    "<div class=\"alert alert-block alert-success\">\n",
    "    <p style=\"font-size:20px\">This section is advanced/optional\n",
    "</div>"
   ]
  },
  {
   "cell_type": "markdown",
   "metadata": {},
   "source": [
    "<hr style=\"border: 2px solid #003262\">\n",
    "<hr style=\"border: 2px solid #C9B676\">"
   ]
  },
  {
   "cell_type": "markdown",
   "metadata": {},
   "source": [
    "## Learning Outcomes\n",
    "Working through this notebook, you will learn about:\n",
    "1. complete later when sections are establish\n",
    "\n",
    "Also, may want to add table of contents beneath this section, depending on how long notebook is."
   ]
  },
  {
   "cell_type": "markdown",
   "metadata": {},
   "source": [
    "<hr style=\"border: 2px solid #003262\">\n",
    "<hr style=\"border: 2px solid #C9B676\">"
   ]
  },
  {
   "cell_type": "markdown",
   "metadata": {
    "cell_id": "00003-a9cd1167-2276-4e0f-85b6-43d803731627",
    "deepnote_cell_type": "markdown",
    "tags": []
   },
   "source": [
    "## Review / recap of data collection [likely be done by Manaar and/or Zcjanin]\n",
    "\n",
    "this section will provide a brief recap of the data collection process so far, to discuss how we got from google forms to here and why we want to import the data in a jupyter notebook as compared to other mediums / what we can accomplish with it. may also be good to quickly discuss implications of the data collection / inputting process.\n",
    "\n",
    "want this section to be pretty short -- dont want a wall of text!"
   ]
  },
  {
   "cell_type": "markdown",
   "metadata": {},
   "source": [
    "<hr style=\"border: 2px solid #003262\">\n",
    "<hr style=\"border: 2px solid #C9B676\">"
   ]
  },
  {
   "cell_type": "markdown",
   "metadata": {
    "cell_id": "00003-058e2913-9587-45ac-8c2f-f284333ac4f3",
    "deepnote_cell_type": "markdown"
   },
   "source": [
    "## Importing and Taking an Initial Look at the Data (manaar will do?)\n",
    "\n",
    "description of the steps we need to take to read_table to create a datascience table to look at our data in tabular format.\n",
    "\n",
    "first, import libraries (note: add any additional libraries you use in your code here! good to keep it all in one place), then read table:"
   ]
  },
  {
   "cell_type": "code",
   "execution_count": 1,
   "metadata": {},
   "outputs": [],
   "source": [
    "import numpy as np\n",
    "from datascience import *\n",
    "import otter\n",
    "grader = otter.Notebook()\n",
    "import matplotlib.pyplot as plt\n",
    "%matplotlib inline\n",
    "plt.style.use(\"fivethirtyeight\")\n",
    "import seaborn as sns, plotly.express as px"
   ]
  },
  {
   "cell_type": "code",
   "execution_count": 2,
   "metadata": {},
   "outputs": [
    {
     "data": {
      "text/html": [
       "<table border=\"1\" class=\"dataframe\">\n",
       "    <thead>\n",
       "        <tr>\n",
       "            <th>Index</th> <th>Company Name</th> <th>Company Sector</th> <th>Company Sector (Other)</th> <th>Year of CDP Disclosure</th> <th>Scope 1 value</th> <th>Scope 2 value (location-based)</th> <th>Scope 2 value (market-based)</th> <th>Scope 3 value</th> <th>Total Revenue</th> <th>Currency of Total Revenue</th> <th>Internal Price on Carbon (Y/N)</th> <th>Price</th>\n",
       "        </tr>\n",
       "    </thead>\n",
       "    <tbody>\n",
       "        <tr>\n",
       "            <td>0    </td> <td>ADIDAS              </td> <td>APPAREL & FOOTWEAR     </td> <td>nan                        </td> <td>2022                  </td> <td>12908.4      </td> <td>nan                           </td> <td>125502                      </td> <td>7.25451e+06  </td> <td>2.1234e+10   </td> <td>EUR                      </td> <td>Yes                           </td> <td>85   </td>\n",
       "        </tr>\n",
       "        <tr>\n",
       "            <td>1    </td> <td>ADIDAS              </td> <td>APPAREL & FOOTWEAR     </td> <td>nan                        </td> <td>2022                  </td> <td>12908.4      </td> <td>nan                           </td> <td>125502                      </td> <td>7.25451e+06  </td> <td>2.1234e+10   </td> <td>EUR                      </td> <td>Yes                           </td> <td>85   </td>\n",
       "        </tr>\n",
       "        <tr>\n",
       "            <td>2    </td> <td>ADIDAS              </td> <td>APPAREL & FOOTWEAR     </td> <td>nan                        </td> <td>2022                  </td> <td>12908.4      </td> <td>nan                           </td> <td>125502                      </td> <td>7.25451e+06  </td> <td>2.1234e+10   </td> <td>EUR                      </td> <td>Yes                           </td> <td>85   </td>\n",
       "        </tr>\n",
       "        <tr>\n",
       "            <td>3    </td> <td>AHOLD DELHAIZE      </td> <td>CONSUMER PACKAGED GOODS</td> <td>GROCERY / FOOD DISTRIBUTION</td> <td>2022                  </td> <td>1.728e+06    </td> <td>1.748e+06                     </td> <td>1.099e+06                   </td> <td>6.59304e+07  </td> <td>75600        </td> <td>EUR                      </td> <td>Yes                           </td> <td>150  </td>\n",
       "        </tr>\n",
       "        <tr>\n",
       "            <td>4    </td> <td>AIR FRANCE-KLM      </td> <td>TRANSPORTATION         </td> <td>nan                        </td> <td>2022                  </td> <td>1.63363e+07  </td> <td>nan                           </td> <td>19104.7                     </td> <td>8.70067e+06  </td> <td>1.4315e+10   </td> <td>EUR                      </td> <td>Yes                           </td> <td>nan  </td>\n",
       "        </tr>\n",
       "        <tr>\n",
       "            <td>5    </td> <td>AIRBUS              </td> <td>OTHER                  </td> <td>ROLLING STOCK MANUFACTURER </td> <td>2022                  </td> <td>561737       </td> <td>339313                        </td> <td>265016                      </td> <td>4.76092e+08  </td> <td>52856        </td> <td>EUR                      </td> <td>Yes                           </td> <td>150  </td>\n",
       "        </tr>\n",
       "        <tr>\n",
       "            <td>6    </td> <td>ALBERTSONS COMPANIES</td> <td>CONSUMER PACKAGED GOODS</td> <td>GROCERY / FOOD DISTRIBUTION</td> <td>2022                  </td> <td>2.76738e+06  </td> <td>1.66352e+06                   </td> <td>1.64609e+06                 </td> <td>7.50445e+06  </td> <td>6.96904e+10  </td> <td>USD                      </td> <td>No                            </td> <td>nan  </td>\n",
       "        </tr>\n",
       "        <tr>\n",
       "            <td>7    </td> <td>ALLY FINANCIAL      </td> <td>OTHER                  </td> <td>FINANCE / BANKING          </td> <td>2022                  </td> <td>4228         </td> <td>9758                          </td> <td>0                           </td> <td>13986        </td> <td>8.381e+09    </td> <td>USD                      </td> <td>No                            </td> <td>nan  </td>\n",
       "        </tr>\n",
       "        <tr>\n",
       "            <td>8    </td> <td>ALSTOM              </td> <td>OTHER                  </td> <td>AEROSPACE                  </td> <td>2022                  </td> <td>107073       </td> <td>144632                        </td> <td>121789                      </td> <td>3.34293e+07  </td> <td>1.5741e+10   </td> <td>EUR                      </td> <td>No                            </td> <td>nan  </td>\n",
       "        </tr>\n",
       "        <tr>\n",
       "            <td>9    </td> <td>AMCOR               </td> <td>CONSUMER PACKAGED GOODS</td> <td>nan                        </td> <td>2022                  </td> <td>529192       </td> <td>1.43269e+06                   </td> <td>1.43208e+06                 </td> <td>1.96516e+07  </td> <td>1.2861e+10   </td> <td>USD                      </td> <td>No                            </td> <td>nan  </td>\n",
       "        </tr>\n",
       "    </tbody>\n",
       "</table>\n",
       "<p>... (146 rows omitted)</p>"
      ],
      "text/plain": [
       "Index | Company Name         | Company Sector          | Company Sector (Other)      | Year of CDP Disclosure | Scope 1 value | Scope 2 value (location-based) | Scope 2 value (market-based) | Scope 3 value | Total Revenue | Currency of Total Revenue | Internal Price on Carbon (Y/N) | Price\n",
       "0     | ADIDAS               | APPAREL & FOOTWEAR      | nan                         | 2022                   | 12908.4       | nan                            | 125502                       | 7.25451e+06   | 2.1234e+10    | EUR                       | Yes                            | 85\n",
       "1     | ADIDAS               | APPAREL & FOOTWEAR      | nan                         | 2022                   | 12908.4       | nan                            | 125502                       | 7.25451e+06   | 2.1234e+10    | EUR                       | Yes                            | 85\n",
       "2     | ADIDAS               | APPAREL & FOOTWEAR      | nan                         | 2022                   | 12908.4       | nan                            | 125502                       | 7.25451e+06   | 2.1234e+10    | EUR                       | Yes                            | 85\n",
       "3     | AHOLD DELHAIZE       | CONSUMER PACKAGED GOODS | GROCERY / FOOD DISTRIBUTION | 2022                   | 1.728e+06     | 1.748e+06                      | 1.099e+06                    | 6.59304e+07   | 75600         | EUR                       | Yes                            | 150\n",
       "4     | AIR FRANCE-KLM       | TRANSPORTATION          | nan                         | 2022                   | 1.63363e+07   | nan                            | 19104.7                      | 8.70067e+06   | 1.4315e+10    | EUR                       | Yes                            | nan\n",
       "5     | AIRBUS               | OTHER                   | ROLLING STOCK MANUFACTURER  | 2022                   | 561737        | 339313                         | 265016                       | 4.76092e+08   | 52856         | EUR                       | Yes                            | 150\n",
       "6     | ALBERTSONS COMPANIES | CONSUMER PACKAGED GOODS | GROCERY / FOOD DISTRIBUTION | 2022                   | 2.76738e+06   | 1.66352e+06                    | 1.64609e+06                  | 7.50445e+06   | 6.96904e+10   | USD                       | No                             | nan\n",
       "7     | ALLY FINANCIAL       | OTHER                   | FINANCE / BANKING           | 2022                   | 4228          | 9758                           | 0                            | 13986         | 8.381e+09     | USD                       | No                             | nan\n",
       "8     | ALSTOM               | OTHER                   | AEROSPACE                   | 2022                   | 107073        | 144632                         | 121789                       | 3.34293e+07   | 1.5741e+10    | EUR                       | No                             | nan\n",
       "9     | AMCOR                | CONSUMER PACKAGED GOODS | nan                         | 2022                   | 529192        | 1.43269e+06                    | 1.43208e+06                  | 1.96516e+07   | 1.2861e+10    | USD                       | No                             | nan\n",
       "... (146 rows omitted)"
      ]
     },
     "execution_count": 2,
     "metadata": {},
     "output_type": "execute_result"
    }
   ],
   "source": [
    "emissions = Table.read_table('emissions.csv')\n",
    "emissions"
   ]
  },
  {
   "cell_type": "markdown",
   "metadata": {},
   "source": [
    "### data dictionary\n",
    "\n",
    "probably be done by Manaar / Zcjanin, can leave this alone for now\n",
    "\n",
    "|column name| meaning |type|\n",
    "|--|--|--|\n",
    "|total|total cost of the bill |number |\n",
    "|tip|the tip left by the party |number |\n",
    "|sex|sex of the person paying |category |\n",
    "|smoker|if the person paying was smoking |category |\n",
    "|day|day of the week |category |\n",
    "|time|meal (e.g., Lunch, Dinner, etc.) |category |\n",
    "|size|how many people were in the party |number |"
   ]
  },
  {
   "cell_type": "markdown",
   "metadata": {
    "cell_id": "00004-a9f5f74b-a641-44a7-8dd5-2f9f58c10236",
    "deepnote_cell_type": "code",
    "execution": {
     "iopub.execute_input": "2022-08-03T09:02:40.079967Z",
     "iopub.status.busy": "2022-08-03T09:02:40.079000Z",
     "iopub.status.idle": "2022-08-03T09:02:40.118322Z",
     "shell.execute_reply": "2022-08-03T09:02:40.117260Z",
     "shell.execute_reply.started": "2022-08-03T09:02:40.079911Z"
    },
    "tags": [
     "ignore"
    ]
   },
   "source": [
    "Next, have a small section looking into certain basic summary statistics like num_rows and num_cols and labels"
   ]
  },
  {
   "cell_type": "markdown",
   "metadata": {},
   "source": [
    "<hr style=\"border: 2px solid #003262\">\n",
    "<hr style=\"border: 2px solid #C9B676\">"
   ]
  },
  {
   "cell_type": "markdown",
   "metadata": {
    "cell_id": "00006-dadd2623-2173-4cdb-8c95-207741ecc765",
    "deepnote_cell_type": "markdown",
    "tags": [
     "ignore"
    ]
   },
   "source": [
    "## Table Operations: `select`, `where`, `sort`\n",
    "\n",
    "Now that we have learned how to import our data from a csv, we can begin doing some interesting exploratory data analysis to see what information our data can tell us! Oftentimes, our data has a lot more information than we actually need or it may not be in the correct order. To obtain the data we want, we can use table methods such as `select`, `where`, and `sort` to filter out columns, rows, and sort our data."
   ]
  },
  {
   "cell_type": "markdown",
   "metadata": {},
   "source": [
    "### 1.1: Selecting Columns"
   ]
  },
  {
   "cell_type": "markdown",
   "metadata": {},
   "source": [
    "Sometimes when doing data analysis, we only want to look at a subset of columns. Having too many columns can make the table hard to read if we are only interested in certain information. We can pick which columns we want using the table method `select()`. \n",
    "\n",
    "When we call this method, we specify which columns we want and it returns a brand new table with only the specified columns in the order they are inputted. It's important to note the original table **does not** change. "
   ]
  },
  {
   "cell_type": "markdown",
   "metadata": {},
   "source": [
    "For example, if we wanted to select only the companies and their sector we can run the code below."
   ]
  },
  {
   "cell_type": "code",
   "execution_count": 3,
   "metadata": {},
   "outputs": [
    {
     "data": {
      "text/html": [
       "<table border=\"1\" class=\"dataframe\">\n",
       "    <thead>\n",
       "        <tr>\n",
       "            <th>Company Name</th> <th>Company Sector</th>\n",
       "        </tr>\n",
       "    </thead>\n",
       "    <tbody>\n",
       "        <tr>\n",
       "            <td>ADIDAS              </td> <td>APPAREL & FOOTWEAR     </td>\n",
       "        </tr>\n",
       "        <tr>\n",
       "            <td>ADIDAS              </td> <td>APPAREL & FOOTWEAR     </td>\n",
       "        </tr>\n",
       "        <tr>\n",
       "            <td>ADIDAS              </td> <td>APPAREL & FOOTWEAR     </td>\n",
       "        </tr>\n",
       "        <tr>\n",
       "            <td>AHOLD DELHAIZE      </td> <td>CONSUMER PACKAGED GOODS</td>\n",
       "        </tr>\n",
       "        <tr>\n",
       "            <td>AIR FRANCE-KLM      </td> <td>TRANSPORTATION         </td>\n",
       "        </tr>\n",
       "        <tr>\n",
       "            <td>AIRBUS              </td> <td>OTHER                  </td>\n",
       "        </tr>\n",
       "        <tr>\n",
       "            <td>ALBERTSONS COMPANIES</td> <td>CONSUMER PACKAGED GOODS</td>\n",
       "        </tr>\n",
       "        <tr>\n",
       "            <td>ALLY FINANCIAL      </td> <td>OTHER                  </td>\n",
       "        </tr>\n",
       "        <tr>\n",
       "            <td>ALSTOM              </td> <td>OTHER                  </td>\n",
       "        </tr>\n",
       "        <tr>\n",
       "            <td>AMCOR               </td> <td>CONSUMER PACKAGED GOODS</td>\n",
       "        </tr>\n",
       "    </tbody>\n",
       "</table>\n",
       "<p>... (146 rows omitted)</p>"
      ],
      "text/plain": [
       "Company Name         | Company Sector\n",
       "ADIDAS               | APPAREL & FOOTWEAR\n",
       "ADIDAS               | APPAREL & FOOTWEAR\n",
       "ADIDAS               | APPAREL & FOOTWEAR\n",
       "AHOLD DELHAIZE       | CONSUMER PACKAGED GOODS\n",
       "AIR FRANCE-KLM       | TRANSPORTATION\n",
       "AIRBUS               | OTHER\n",
       "ALBERTSONS COMPANIES | CONSUMER PACKAGED GOODS\n",
       "ALLY FINANCIAL       | OTHER\n",
       "ALSTOM               | OTHER\n",
       "AMCOR                | CONSUMER PACKAGED GOODS\n",
       "... (146 rows omitted)"
      ]
     },
     "execution_count": 3,
     "metadata": {},
     "output_type": "execute_result"
    }
   ],
   "source": [
    "emissions.select('Company Name', 'Company Sector')"
   ]
  },
  {
   "cell_type": "markdown",
   "metadata": {},
   "source": [
    "### 1.2: Conditioning on Rows"
   ]
  },
  {
   "cell_type": "markdown",
   "metadata": {},
   "source": [
    "We now know how to select certain columns -- but what if we wanted to select rows that met a certain condition? The `where` method allows us to do exactly this. \n",
    "\n",
    "This method takes in two arguments:\n",
    "   1. The name of the column whose values must meet a certain condition\n",
    "   2. The predicate function that tells the condition the row must meet\n",
    "   \n",
    "For example, if we wanted to only select the rows where the company is H&M we could do the following:"
   ]
  },
  {
   "cell_type": "code",
   "execution_count": 4,
   "metadata": {},
   "outputs": [
    {
     "data": {
      "text/html": [
       "<table border=\"1\" class=\"dataframe\">\n",
       "    <thead>\n",
       "        <tr>\n",
       "            <th>Index</th> <th>Company Name</th> <th>Company Sector</th> <th>Company Sector (Other)</th> <th>Year of CDP Disclosure</th> <th>Scope 1 value</th> <th>Scope 2 value (location-based)</th> <th>Scope 2 value (market-based)</th> <th>Scope 3 value</th> <th>Total Revenue</th> <th>Currency of Total Revenue</th> <th>Internal Price on Carbon (Y/N)</th> <th>Price</th>\n",
       "        </tr>\n",
       "    </thead>\n",
       "    <tbody>\n",
       "        <tr>\n",
       "            <td>54   </td> <td>H&M         </td> <td>APPAREL & FOOTWEAR</td> <td>nan                   </td> <td>2022                  </td> <td>21171        </td> <td>507170                        </td> <td>37394                       </td> <td>7.74163e+06  </td> <td>1.99e+11     </td> <td>SEK                      </td> <td>Yes                           </td> <td>0    </td>\n",
       "        </tr>\n",
       "        <tr>\n",
       "            <td>55   </td> <td>H&M         </td> <td>APPAREL & FOOTWEAR</td> <td>nan                   </td> <td>2022                  </td> <td>21171        </td> <td>507170                        </td> <td>37394                       </td> <td>7.74163e+06  </td> <td>1.99e+11     </td> <td>SEK                      </td> <td>Yes                           </td> <td>0    </td>\n",
       "        </tr>\n",
       "        <tr>\n",
       "            <td>56   </td> <td>H&M         </td> <td>APPAREL & FOOTWEAR</td> <td>nan                   </td> <td>2022                  </td> <td>21171        </td> <td>507170                        </td> <td>37394                       </td> <td>7.74163e+06  </td> <td>1.99e+11     </td> <td>SEK                      </td> <td>Yes                           </td> <td>0    </td>\n",
       "        </tr>\n",
       "        <tr>\n",
       "            <td>57   </td> <td>H&M         </td> <td>APPAREL & FOOTWEAR</td> <td>nan                   </td> <td>2022                  </td> <td>21171        </td> <td>507170                        </td> <td>37394                       </td> <td>7.74163e+06  </td> <td>1.99e+11     </td> <td>SEK                      </td> <td>Yes                           </td> <td>nan  </td>\n",
       "        </tr>\n",
       "        <tr>\n",
       "            <td>58   </td> <td>H&M         </td> <td>APPAREL & FOOTWEAR</td> <td>nan                   </td> <td>2022                  </td> <td>21171        </td> <td>507170                        </td> <td>37394                       </td> <td>5.43711e+06  </td> <td>1.99e+11     </td> <td>SEK                      </td> <td>Yes                           </td> <td>0    </td>\n",
       "        </tr>\n",
       "        <tr>\n",
       "            <td>59   </td> <td>H&M         </td> <td>APPAREL & FOOTWEAR</td> <td>nan                   </td> <td>2022                  </td> <td>21171        </td> <td>507170                        </td> <td>37394                       </td> <td>7.74163e+06  </td> <td>1.99e+11     </td> <td>SEK                      </td> <td>Yes                           </td> <td>0    </td>\n",
       "        </tr>\n",
       "        <tr>\n",
       "            <td>60   </td> <td>H&M         </td> <td>APPAREL & FOOTWEAR</td> <td>nan                   </td> <td>2022                  </td> <td>21171        </td> <td>507170                        </td> <td>37394                       </td> <td>5.43711e+06  </td> <td>1.99e+11     </td> <td>SEK                      </td> <td>Yes                           </td> <td>0    </td>\n",
       "        </tr>\n",
       "        <tr>\n",
       "            <td>61   </td> <td>H&M         </td> <td>APPAREL & FOOTWEAR</td> <td>nan                   </td> <td>2022                  </td> <td>21171        </td> <td>507170                        </td> <td>37394                       </td> <td>5.43711e+06  </td> <td>1.99e+11     </td> <td>SEK                      </td> <td>Yes                           </td> <td>0    </td>\n",
       "        </tr>\n",
       "        <tr>\n",
       "            <td>62   </td> <td>H&M         </td> <td>APPAREL & FOOTWEAR</td> <td>nan                   </td> <td>2022                  </td> <td>21171        </td> <td>507170                        </td> <td>37394                       </td> <td>7.73413e+06  </td> <td>1.99e+11     </td> <td>SEK                      </td> <td>Yes                           </td> <td>nan  </td>\n",
       "        </tr>\n",
       "        <tr>\n",
       "            <td>64   </td> <td>H&M         </td> <td>APPAREL & FOOTWEAR</td> <td>nan                   </td> <td>2021                  </td> <td>21171        </td> <td>507170                        </td> <td>37394                       </td> <td>2.30452e+06  </td> <td>2.3e+10      </td> <td>USD                      </td> <td>Yes                           </td> <td>0    </td>\n",
       "        </tr>\n",
       "    </tbody>\n",
       "</table>"
      ],
      "text/plain": [
       "Index | Company Name | Company Sector     | Company Sector (Other) | Year of CDP Disclosure | Scope 1 value | Scope 2 value (location-based) | Scope 2 value (market-based) | Scope 3 value | Total Revenue | Currency of Total Revenue | Internal Price on Carbon (Y/N) | Price\n",
       "54    | H&M          | APPAREL & FOOTWEAR | nan                    | 2022                   | 21171         | 507170                         | 37394                        | 7.74163e+06   | 1.99e+11      | SEK                       | Yes                            | 0\n",
       "55    | H&M          | APPAREL & FOOTWEAR | nan                    | 2022                   | 21171         | 507170                         | 37394                        | 7.74163e+06   | 1.99e+11      | SEK                       | Yes                            | 0\n",
       "56    | H&M          | APPAREL & FOOTWEAR | nan                    | 2022                   | 21171         | 507170                         | 37394                        | 7.74163e+06   | 1.99e+11      | SEK                       | Yes                            | 0\n",
       "57    | H&M          | APPAREL & FOOTWEAR | nan                    | 2022                   | 21171         | 507170                         | 37394                        | 7.74163e+06   | 1.99e+11      | SEK                       | Yes                            | nan\n",
       "58    | H&M          | APPAREL & FOOTWEAR | nan                    | 2022                   | 21171         | 507170                         | 37394                        | 5.43711e+06   | 1.99e+11      | SEK                       | Yes                            | 0\n",
       "59    | H&M          | APPAREL & FOOTWEAR | nan                    | 2022                   | 21171         | 507170                         | 37394                        | 7.74163e+06   | 1.99e+11      | SEK                       | Yes                            | 0\n",
       "60    | H&M          | APPAREL & FOOTWEAR | nan                    | 2022                   | 21171         | 507170                         | 37394                        | 5.43711e+06   | 1.99e+11      | SEK                       | Yes                            | 0\n",
       "61    | H&M          | APPAREL & FOOTWEAR | nan                    | 2022                   | 21171         | 507170                         | 37394                        | 5.43711e+06   | 1.99e+11      | SEK                       | Yes                            | 0\n",
       "62    | H&M          | APPAREL & FOOTWEAR | nan                    | 2022                   | 21171         | 507170                         | 37394                        | 7.73413e+06   | 1.99e+11      | SEK                       | Yes                            | nan\n",
       "64    | H&M          | APPAREL & FOOTWEAR | nan                    | 2021                   | 21171         | 507170                         | 37394                        | 2.30452e+06   | 2.3e+10       | USD                       | Yes                            | 0"
      ]
     },
     "execution_count": 4,
     "metadata": {},
     "output_type": "execute_result"
    }
   ],
   "source": [
    "emissions.where('Company Name', are.equal_to('H&M'))"
   ]
  },
  {
   "cell_type": "markdown",
   "metadata": {},
   "source": [
    "The cell above outputs a copy of the original table but **only includes rows where the company is H&M**. There are many other predicate functions, here are a few common ones you may find useful: \n",
    "\n",
    "|Predicate|Example|Result|\n",
    "|-|-|-|\n",
    "|`are.equal_to`|`are.equal_to(50)`|Find rows with values equal to 50|\n",
    "|`are.not_equal_to`|`are.not_equal_to(50)`|Find rows with values not equal to 50|\n",
    "|`are.above`|`are.above(50)`|Find rows with values above (and not equal to) 50|\n",
    "|`are.above_or_equal_to`|`are.above_or_equal_to(50)`|Find rows with values above 50 or equal to 50|\n",
    "|`are.below`|`are.below(50)`|Find rows with values below 50|\n",
    "|`are.between`|`are.between(2, 10)`|Find rows with values above or equal to 2 and below 10|\n",
    "|`are.between_or_equal_to`|`are.between_or_equal_to(2, 10)`|Find rows with values above or equal to 2 and below or equal to 10|"
   ]
  },
  {
   "cell_type": "markdown",
   "metadata": {},
   "source": [
    "### 1.3: Sorting Values"
   ]
  },
  {
   "cell_type": "markdown",
   "metadata": {},
   "source": [
    "Now that we are able to select the desired columns and rows that we want, we can sort the values in a certain column. The `sort` method accomplishes this if we pass in the column we want to sort. By default, this method sorts a column's values in ascending order unless an *optional* second argument `descending=True` is passed into `sort`.\n",
    "\n",
    "If we wanted to sort a column that contains text, `sort` will sort the values alphabetically from A-Z (i.e. ascending order). For example: "
   ]
  },
  {
   "cell_type": "code",
   "execution_count": 6,
   "metadata": {},
   "outputs": [
    {
     "data": {
      "text/html": [
       "<table border=\"1\" class=\"dataframe\">\n",
       "    <thead>\n",
       "        <tr>\n",
       "            <th>Index</th> <th>Company Name</th> <th>Company Sector</th> <th>Company Sector (Other)</th> <th>Year of CDP Disclosure</th> <th>Scope 1 value</th> <th>Scope 2 value (location-based)</th> <th>Scope 2 value (market-based)</th> <th>Scope 3 value</th> <th>Total Revenue</th> <th>Currency of Total Revenue</th> <th>Internal Price on Carbon (Y/N)</th> <th>Price</th>\n",
       "        </tr>\n",
       "    </thead>\n",
       "    <tbody>\n",
       "        <tr>\n",
       "            <td>0    </td> <td>ADIDAS                   </td> <td>APPAREL & FOOTWEAR</td> <td>nan                   </td> <td>2022                  </td> <td>12908.4      </td> <td>nan                           </td> <td>125502                      </td> <td>7.25451e+06  </td> <td>2.1234e+10   </td> <td>EUR                      </td> <td>Yes                           </td> <td>85   </td>\n",
       "        </tr>\n",
       "        <tr>\n",
       "            <td>1    </td> <td>ADIDAS                   </td> <td>APPAREL & FOOTWEAR</td> <td>nan                   </td> <td>2022                  </td> <td>12908.4      </td> <td>nan                           </td> <td>125502                      </td> <td>7.25451e+06  </td> <td>2.1234e+10   </td> <td>EUR                      </td> <td>Yes                           </td> <td>85   </td>\n",
       "        </tr>\n",
       "        <tr>\n",
       "            <td>2    </td> <td>ADIDAS                   </td> <td>APPAREL & FOOTWEAR</td> <td>nan                   </td> <td>2022                  </td> <td>12908.4      </td> <td>nan                           </td> <td>125502                      </td> <td>7.25451e+06  </td> <td>2.1234e+10   </td> <td>EUR                      </td> <td>Yes                           </td> <td>85   </td>\n",
       "        </tr>\n",
       "        <tr>\n",
       "            <td>12   </td> <td>AMERICAN EAGLE OUTFITTERS</td> <td>APPAREL & FOOTWEAR</td> <td>nan                   </td> <td>2022                  </td> <td>9248         </td> <td>53642                         </td> <td>40231                       </td> <td>1.4793e+06   </td> <td>5.01078e+09  </td> <td>USD                      </td> <td>No                            </td> <td>nan  </td>\n",
       "        </tr>\n",
       "        <tr>\n",
       "            <td>13   </td> <td>AMERICAN EAGLE OUTFITTERS</td> <td>APPAREL & FOOTWEAR</td> <td>nan                   </td> <td>2022                  </td> <td>9248         </td> <td>53642                         </td> <td>40231                       </td> <td>3.6639e+06   </td> <td>5.01078e+09  </td> <td>USD                      </td> <td>No                            </td> <td>nan  </td>\n",
       "        </tr>\n",
       "        <tr>\n",
       "            <td>16   </td> <td>ARITZIA                  </td> <td>APPAREL & FOOTWEAR</td> <td>nan                   </td> <td>2022                  </td> <td>1560         </td> <td>2936                          </td> <td>nan                         </td> <td>446097       </td> <td>1.49463e+09  </td> <td>CAD                      </td> <td>No                            </td> <td>nan  </td>\n",
       "        </tr>\n",
       "        <tr>\n",
       "            <td>27   </td> <td>BURBERRY                 </td> <td>APPAREL & FOOTWEAR</td> <td>nan                   </td> <td>2022                  </td> <td>1834         </td> <td>25866                         </td> <td>nan                         </td> <td>399973       </td> <td>2.826e+09    </td> <td>GBP                      </td> <td>Yes                           </td> <td>12.87</td>\n",
       "        </tr>\n",
       "        <tr>\n",
       "            <td>46   </td> <td>FILA HOLDINGS            </td> <td>APPAREL & FOOTWEAR</td> <td>nan                   </td> <td>2022                  </td> <td>1245.9       </td> <td>3005.5                        </td> <td>nan                         </td> <td>0            </td> <td>3.794e+12    </td> <td>KRW                      </td> <td>No                            </td> <td>nan  </td>\n",
       "        </tr>\n",
       "        <tr>\n",
       "            <td>53   </td> <td>GIORGIO ARMANI           </td> <td>APPAREL & FOOTWEAR</td> <td>nan                   </td> <td>2022                  </td> <td>4263         </td> <td>21614                         </td> <td>15306                       </td> <td>353442       </td> <td>2.05558e+09  </td> <td>EUR                      </td> <td>No                            </td> <td>nan  </td>\n",
       "        </tr>\n",
       "        <tr>\n",
       "            <td>54   </td> <td>H&M                      </td> <td>APPAREL & FOOTWEAR</td> <td>nan                   </td> <td>2022                  </td> <td>21171        </td> <td>507170                        </td> <td>37394                       </td> <td>7.74163e+06  </td> <td>1.99e+11     </td> <td>SEK                      </td> <td>Yes                           </td> <td>0    </td>\n",
       "        </tr>\n",
       "    </tbody>\n",
       "</table>\n",
       "<p>... (146 rows omitted)</p>"
      ],
      "text/plain": [
       "Index | Company Name              | Company Sector     | Company Sector (Other) | Year of CDP Disclosure | Scope 1 value | Scope 2 value (location-based) | Scope 2 value (market-based) | Scope 3 value | Total Revenue | Currency of Total Revenue | Internal Price on Carbon (Y/N) | Price\n",
       "0     | ADIDAS                    | APPAREL & FOOTWEAR | nan                    | 2022                   | 12908.4       | nan                            | 125502                       | 7.25451e+06   | 2.1234e+10    | EUR                       | Yes                            | 85\n",
       "1     | ADIDAS                    | APPAREL & FOOTWEAR | nan                    | 2022                   | 12908.4       | nan                            | 125502                       | 7.25451e+06   | 2.1234e+10    | EUR                       | Yes                            | 85\n",
       "2     | ADIDAS                    | APPAREL & FOOTWEAR | nan                    | 2022                   | 12908.4       | nan                            | 125502                       | 7.25451e+06   | 2.1234e+10    | EUR                       | Yes                            | 85\n",
       "12    | AMERICAN EAGLE OUTFITTERS | APPAREL & FOOTWEAR | nan                    | 2022                   | 9248          | 53642                          | 40231                        | 1.4793e+06    | 5.01078e+09   | USD                       | No                             | nan\n",
       "13    | AMERICAN EAGLE OUTFITTERS | APPAREL & FOOTWEAR | nan                    | 2022                   | 9248          | 53642                          | 40231                        | 3.6639e+06    | 5.01078e+09   | USD                       | No                             | nan\n",
       "16    | ARITZIA                   | APPAREL & FOOTWEAR | nan                    | 2022                   | 1560          | 2936                           | nan                          | 446097        | 1.49463e+09   | CAD                       | No                             | nan\n",
       "27    | BURBERRY                  | APPAREL & FOOTWEAR | nan                    | 2022                   | 1834          | 25866                          | nan                          | 399973        | 2.826e+09     | GBP                       | Yes                            | 12.87\n",
       "46    | FILA HOLDINGS             | APPAREL & FOOTWEAR | nan                    | 2022                   | 1245.9        | 3005.5                         | nan                          | 0             | 3.794e+12     | KRW                       | No                             | nan\n",
       "53    | GIORGIO ARMANI            | APPAREL & FOOTWEAR | nan                    | 2022                   | 4263          | 21614                          | 15306                        | 353442        | 2.05558e+09   | EUR                       | No                             | nan\n",
       "54    | H&M                       | APPAREL & FOOTWEAR | nan                    | 2022                   | 21171         | 507170                         | 37394                        | 7.74163e+06   | 1.99e+11      | SEK                       | Yes                            | 0\n",
       "... (146 rows omitted)"
      ]
     },
     "execution_count": 6,
     "metadata": {},
     "output_type": "execute_result"
    }
   ],
   "source": [
    "emissions.sort('Company Sector')"
   ]
  },
  {
   "cell_type": "markdown",
   "metadata": {},
   "source": [
    "Our `emissions` data is already sorted by companty name alphabetically from A-Z. However, if we wanted to sort the company names alphabetically from Z-A (i.e. descending order) we would run the cell below."
   ]
  },
  {
   "cell_type": "code",
   "execution_count": 7,
   "metadata": {},
   "outputs": [
    {
     "data": {
      "text/html": [
       "<table border=\"1\" class=\"dataframe\">\n",
       "    <thead>\n",
       "        <tr>\n",
       "            <th>Index</th> <th>Company Name</th> <th>Company Sector</th> <th>Company Sector (Other)</th> <th>Year of CDP Disclosure</th> <th>Scope 1 value</th> <th>Scope 2 value (location-based)</th> <th>Scope 2 value (market-based)</th> <th>Scope 3 value</th> <th>Total Revenue</th> <th>Currency of Total Revenue</th> <th>Internal Price on Carbon (Y/N)</th> <th>Price</th>\n",
       "        </tr>\n",
       "    </thead>\n",
       "    <tbody>\n",
       "        <tr>\n",
       "            <td>155  </td> <td>WALMART                    </td> <td>CONSUMER PACKAGED GOODS</td> <td>nan                   </td> <td>2022                  </td> <td>7.31224e+06  </td> <td>9.47517e+06                   </td> <td>6.54417e+06                 </td> <td>2.13846e+08  </td> <td>5.72754e+11  </td> <td>USD                      </td> <td>No                            </td> <td>nan  </td>\n",
       "        </tr>\n",
       "        <tr>\n",
       "            <td>154  </td> <td>VOLKSWAGEN                 </td> <td>OTHER                  </td> <td>AUTOMOTIVE            </td> <td>2022                  </td> <td>4.74087e+06  </td> <td>5.19596e+06                   </td> <td>2.42214e+06                 </td> <td>3.53561e+09  </td> <td>2.502e+11    </td> <td>EUR                      </td> <td>Yes                           </td> <td>475  </td>\n",
       "        </tr>\n",
       "        <tr>\n",
       "            <td>153  </td> <td>VF CORPORATION             </td> <td>APPAREL & FOOTWEAR     </td> <td>nan                   </td> <td>2022                  </td> <td>12551        </td> <td>69212                         </td> <td>54693                       </td> <td>3.37573e+06  </td> <td>1.18418e+10  </td> <td>USD                      </td> <td>No                            </td> <td>0    </td>\n",
       "        </tr>\n",
       "        <tr>\n",
       "            <td>152  </td> <td>VESTAS                     </td> <td>ENERGY                 </td> <td>nan                   </td> <td>2022                  </td> <td>99290        </td> <td>78640                         </td> <td>2673                        </td> <td>9.6961e+06   </td> <td>1.5587e+10   </td> <td>EUR                      </td> <td>Yes                           </td> <td>120  </td>\n",
       "        </tr>\n",
       "        <tr>\n",
       "            <td>151  </td> <td>VALERO                     </td> <td>ENERGY                 </td> <td>nan                   </td> <td>2022                  </td> <td>2.713e+07    </td> <td>nan                           </td> <td>4.88e+06                    </td> <td>0            </td> <td>1.76382e+11  </td> <td>USD                      </td> <td>No                            </td> <td>nan  </td>\n",
       "        </tr>\n",
       "        <tr>\n",
       "            <td>150  </td> <td>UPS (UNITED PARCEL SERVICE)</td> <td>TRANSPORTATION         </td> <td>nan                   </td> <td>2022                  </td> <td>1.5668e+07   </td> <td>676000                        </td> <td>654000                      </td> <td>1.9486e+07   </td> <td>9.6223e+10   </td> <td>USD                      </td> <td>No                            </td> <td>nan  </td>\n",
       "        </tr>\n",
       "        <tr>\n",
       "            <td>149  </td> <td>UPFIELD                    </td> <td>FOOD & AGRICULTURE     </td> <td>nan                   </td> <td>2022                  </td> <td>36059        </td> <td>77879                         </td> <td>27798                       </td> <td>2.96321e+06  </td> <td>2.793e+09    </td> <td>EUR                      </td> <td>No                            </td> <td>nan  </td>\n",
       "        </tr>\n",
       "        <tr>\n",
       "            <td>148  </td> <td>UNILEVER                   </td> <td>CONSUMER PACKAGED GOODS</td> <td>nan                   </td> <td>2022                  </td> <td>565988       </td> <td>1.2445e+06                    </td> <td>144752                      </td> <td>6.14457e+07  </td> <td>5.2444e+10   </td> <td>EUR                      </td> <td>Yes                           </td> <td>70   </td>\n",
       "        </tr>\n",
       "        <tr>\n",
       "            <td>147  </td> <td>ULTA BEAUTY                </td> <td>OTHER                  </td> <td>COSMETICS             </td> <td>2022                  </td> <td>6815         </td> <td>114295                        </td> <td>107611                      </td> <td>1.92119e+06  </td> <td>6.152e+09    </td> <td>USD                      </td> <td>No                            </td> <td>nan  </td>\n",
       "        </tr>\n",
       "        <tr>\n",
       "            <td>144  </td> <td>TYSON FOODS                </td> <td>FOOD & AGRICULTURE     </td> <td>nan                   </td> <td>2022                  </td> <td>3.82629e+06  </td> <td>nan                           </td> <td>nan                         </td> <td>0            </td> <td>4.705e+10    </td> <td>USD                      </td> <td>No                            </td> <td>nan  </td>\n",
       "        </tr>\n",
       "    </tbody>\n",
       "</table>\n",
       "<p>... (146 rows omitted)</p>"
      ],
      "text/plain": [
       "Index | Company Name                | Company Sector          | Company Sector (Other) | Year of CDP Disclosure | Scope 1 value | Scope 2 value (location-based) | Scope 2 value (market-based) | Scope 3 value | Total Revenue | Currency of Total Revenue | Internal Price on Carbon (Y/N) | Price\n",
       "155   | WALMART                     | CONSUMER PACKAGED GOODS | nan                    | 2022                   | 7.31224e+06   | 9.47517e+06                    | 6.54417e+06                  | 2.13846e+08   | 5.72754e+11   | USD                       | No                             | nan\n",
       "154   | VOLKSWAGEN                  | OTHER                   | AUTOMOTIVE             | 2022                   | 4.74087e+06   | 5.19596e+06                    | 2.42214e+06                  | 3.53561e+09   | 2.502e+11     | EUR                       | Yes                            | 475\n",
       "153   | VF CORPORATION              | APPAREL & FOOTWEAR      | nan                    | 2022                   | 12551         | 69212                          | 54693                        | 3.37573e+06   | 1.18418e+10   | USD                       | No                             | 0\n",
       "152   | VESTAS                      | ENERGY                  | nan                    | 2022                   | 99290         | 78640                          | 2673                         | 9.6961e+06    | 1.5587e+10    | EUR                       | Yes                            | 120\n",
       "151   | VALERO                      | ENERGY                  | nan                    | 2022                   | 2.713e+07     | nan                            | 4.88e+06                     | 0             | 1.76382e+11   | USD                       | No                             | nan\n",
       "150   | UPS (UNITED PARCEL SERVICE) | TRANSPORTATION          | nan                    | 2022                   | 1.5668e+07    | 676000                         | 654000                       | 1.9486e+07    | 9.6223e+10    | USD                       | No                             | nan\n",
       "149   | UPFIELD                     | FOOD & AGRICULTURE      | nan                    | 2022                   | 36059         | 77879                          | 27798                        | 2.96321e+06   | 2.793e+09     | EUR                       | No                             | nan\n",
       "148   | UNILEVER                    | CONSUMER PACKAGED GOODS | nan                    | 2022                   | 565988        | 1.2445e+06                     | 144752                       | 6.14457e+07   | 5.2444e+10    | EUR                       | Yes                            | 70\n",
       "147   | ULTA BEAUTY                 | OTHER                   | COSMETICS              | 2022                   | 6815          | 114295                         | 107611                       | 1.92119e+06   | 6.152e+09     | USD                       | No                             | nan\n",
       "144   | TYSON FOODS                 | FOOD & AGRICULTURE      | nan                    | 2022                   | 3.82629e+06   | nan                            | nan                          | 0             | 4.705e+10     | USD                       | No                             | nan\n",
       "... (146 rows omitted)"
      ]
     },
     "execution_count": 7,
     "metadata": {},
     "output_type": "execute_result"
    }
   ],
   "source": [
    "emissions.sort('Company Name', descending=True)"
   ]
  },
  {
   "cell_type": "markdown",
   "metadata": {},
   "source": [
    "<hr style=\"border: 2px solid #003262\">\n",
    "<hr style=\"border: 2px solid #C9B676\">"
   ]
  },
  {
   "cell_type": "markdown",
   "metadata": {},
   "source": [
    "## more advanced table functions: apply, group, pivot (if applicable)\n",
    "\n",
    "similar structure to previous section: total freedom with what you want to explore or emphasize! just show the student an example first and then ask them questions."
   ]
  },
  {
   "cell_type": "markdown",
   "metadata": {},
   "source": [
    "**Note:** we want to include some tabular data looking at the data grouped by the Sector attribute"
   ]
  },
  {
   "cell_type": "markdown",
   "metadata": {},
   "source": [
    "note: can also add section subheadings if you want to break it up into apply, group, and pivot; example:"
   ]
  },
  {
   "cell_type": "markdown",
   "metadata": {},
   "source": [
    "### section_number.subsection_number: Applying Functions"
   ]
  },
  {
   "cell_type": "markdown",
   "metadata": {},
   "source": [
    "question formatting:"
   ]
  },
  {
   "cell_type": "markdown",
   "metadata": {},
   "source": [
    "<!-- BEGIN QUESTION -->\n",
    "<div class=\"alert alert-warning\">\n",
    "\n",
    "### Question section_number.question_number:\n",
    "coding or short answer question here\n",
    "</div>"
   ]
  },
  {
   "cell_type": "markdown",
   "metadata": {},
   "source": [
    "for short answers:"
   ]
  },
  {
   "cell_type": "markdown",
   "metadata": {},
   "source": [
    "*Type your answer here. Double-click to edit this cell and replace this text with your answer. Run this cell to proceed when finished.*"
   ]
  },
  {
   "cell_type": "markdown",
   "metadata": {},
   "source": [
    "for coding"
   ]
  },
  {
   "cell_type": "code",
   "execution_count": null,
   "metadata": {},
   "outputs": [],
   "source": [
    "emissions.group(...) # Fill in the ellipsis with blah blah blah"
   ]
  },
  {
   "cell_type": "markdown",
   "metadata": {},
   "source": [
    "note: the END QUESTION tag for the otter pdf generator is in the blank cell right below this one! You need a BEGIN QUESTION and END QUESTION tag for every question."
   ]
  },
  {
   "cell_type": "markdown",
   "metadata": {},
   "source": [
    "<!-- END QUESTION -->"
   ]
  },
  {
   "cell_type": "markdown",
   "metadata": {},
   "source": [
    "<hr style=\"border: 2px solid #003262\">\n",
    "<hr style=\"border: 2px solid #C9B676\">"
   ]
  },
  {
   "cell_type": "markdown",
   "metadata": {
    "cell_id": "00009-52f60190-e21f-4107-99a9-d42ab128df40",
    "deepnote_cell_type": "markdown",
    "tags": [
     "ignore"
    ]
   },
   "source": [
    "## visualizations (probably a large section, 2 devs)\n",
    "\n",
    "this section is probably going to be a bigger one, since its a lot more interesting for the students to analyze the data through visualizations than just in the table --> can use datascience plotting, seaborn, or plotly, just like notebook 1 showed."
   ]
  },
  {
   "cell_type": "markdown",
   "metadata": {},
   "source": [
    "**Note:** we want to include some visualizations looking at the data grouped by the Sector attribute; also, I've kept the plotting section from the previous section below as a small reference / source of inspiration! we'll delete it later"
   ]
  },
  {
   "cell_type": "markdown",
   "metadata": {},
   "source": [
    "some of the visualizations you create might be difficult, because the data has to be cleaned up first. that's fine, just keep whatever visualizations you make that you think could be interesting and i'll filter through them as we're finishing the notebook"
   ]
  },
  {
   "cell_type": "markdown",
   "metadata": {},
   "source": [
    "remember, students probably arent that familiar with python: use a lot of fill in the ... questions and only very basic do it yourself questions. always give them an example before asking them to do it themselves!"
   ]
  },
  {
   "cell_type": "markdown",
   "metadata": {},
   "source": [
    "also, add widgets if you are able to! those would be great for comparisons"
   ]
  },
  {
   "cell_type": "markdown",
   "metadata": {},
   "source": [
    "note: can also add section subheadings if you want to break it up into different sections / exploring different features of the data; example:"
   ]
  },
  {
   "cell_type": "markdown",
   "metadata": {},
   "source": [
    "### section_number.subsection_number: Visualizing by Sector"
   ]
  },
  {
   "cell_type": "markdown",
   "metadata": {},
   "source": [
    "question formatting:"
   ]
  },
  {
   "cell_type": "markdown",
   "metadata": {},
   "source": [
    "<!-- BEGIN QUESTION -->\n",
    "<div class=\"alert alert-warning\">\n",
    "\n",
    "### Question section_number.question_number:\n",
    "coding or short answer question here\n",
    "</div>"
   ]
  },
  {
   "cell_type": "markdown",
   "metadata": {},
   "source": [
    "for short answers:"
   ]
  },
  {
   "cell_type": "markdown",
   "metadata": {},
   "source": [
    "*Type your answer here. Double-click to edit this cell and replace this text with your answer. Run this cell to proceed when finished.*"
   ]
  },
  {
   "cell_type": "markdown",
   "metadata": {},
   "source": [
    "for coding"
   ]
  },
  {
   "cell_type": "code",
   "execution_count": null,
   "metadata": {},
   "outputs": [],
   "source": [
    "emissions.group(...) # Fill in the ellipsis with blah blah blah"
   ]
  },
  {
   "cell_type": "markdown",
   "metadata": {},
   "source": [
    "note: the END QUESTION tag for the otter pdf generator is in the blank cell right below this one! You need a BEGIN QUESTION and END QUESTION tag for every question."
   ]
  },
  {
   "cell_type": "markdown",
   "metadata": {},
   "source": [
    "<!-- END QUESTION -->"
   ]
  },
  {
   "cell_type": "markdown",
   "metadata": {},
   "source": [
    "<hr style=\"border: 2px solid #003262\">\n",
    "<hr style=\"border: 2px solid #C9B676\">"
   ]
  },
  {
   "cell_type": "markdown",
   "metadata": {},
   "source": [
    "## Plotting [Reference - will be deleted later]"
   ]
  },
  {
   "cell_type": "markdown",
   "metadata": {},
   "source": [
    "While knowing the average, the largest, and the smallest values are useful, they don't tell us the whole story. Along with this, just looking at a bunch of numbers isn't always fun or efficient. To further expand on our analysis, let's make some visualizations of our data!\n",
    "\n",
    "Fortunately, in Python, there are lots of functions that can do this for us. We'll examine a few below."
   ]
  },
  {
   "cell_type": "markdown",
   "metadata": {},
   "source": [
    "### Histogram\n",
    "The `hist` function will plot a [histogram](https://en.wikipedia.org/wiki/Histogram) of the column you specify."
   ]
  },
  {
   "cell_type": "code",
   "execution_count": null,
   "metadata": {},
   "outputs": [],
   "source": [
    "tips.hist(\"total\", bins=np.arange(0, 60, 5))"
   ]
  },
  {
   "cell_type": "markdown",
   "metadata": {},
   "source": [
    "### Scatter Plot\n",
    "\n",
    "The `scatter` function makes a [scatter plot](https://en.wikipedia.org/wiki/Scatter_plot), where the first parameter below (`total`) is the column we want to display on the x-axis, and the second parameter (`tip`) is the column we want to display on the y-axis."
   ]
  },
  {
   "cell_type": "code",
   "execution_count": null,
   "metadata": {},
   "outputs": [],
   "source": [
    "tips.scatter(\"total\", \"tip\")"
   ]
  },
  {
   "cell_type": "markdown",
   "metadata": {},
   "source": [
    "### Interactive Visualizations"
   ]
  },
  {
   "cell_type": "markdown",
   "metadata": {},
   "source": [
    "<div class=\"alert alert-block alert-success\">\n",
    "    <p style=\"font-size:20px\">This section is advanced/optional\n",
    "</div>"
   ]
  },
  {
   "cell_type": "markdown",
   "metadata": {},
   "source": [
    "The plots above are great, and are suitible for almost all cases. However, we can take it one step further by creating an interactive plot! We can do this with the `plotly` library. In these plots you can hover your mouse over data, and information about it will pop up!\n",
    "\n",
    "Don't worry about understanding the code below, just check out the cool visualizations, and try hovering over the data with your mouse in different spots. \n",
    "\n",
    "Check out the comments for a description of the visualizations."
   ]
  },
  {
   "cell_type": "code",
   "execution_count": null,
   "metadata": {},
   "outputs": [],
   "source": [
    "px.histogram(x=tips.column(\"total\"), title=\"Histogram of Total Bill Amounts\", \n",
    "             template = \"seaborn\", labels={\"x\":\"Total Bill Amounts\", \"y\":\"Count\"},\n",
    "             width = 600, height = 400, nbins=20)\n",
    "# Plots a histogram of the total bill amounts"
   ]
  },
  {
   "cell_type": "code",
   "execution_count": null,
   "metadata": {},
   "outputs": [],
   "source": [
    "px.histogram(x=tips.column(\"time\"), y=tips.column(\"tip\"), color = tips.column(\"time\"), \n",
    "             template = \"seaborn\", title = \"Average Tips by Meal\", labels = {\"x\": \"Day\", \"y\": \"Tips\"},\n",
    "             histfunc = \"avg\", width = 600, height = 400)\n",
    "# Plots a bar chart of the tips by meal"
   ]
  },
  {
   "cell_type": "code",
   "execution_count": null,
   "metadata": {},
   "outputs": [],
   "source": [
    "px.histogram(x=tips.column(\"day\"), y=tips.column(\"tip\"), color = tips.column(\"day\"), \n",
    "             template = \"seaborn\", title = \"Tips by Day\", labels = {\"x\": \"Day\", \"y\": \"Tips\"},\n",
    "             width = 600, height = 400)\n",
    "# Plots a bar chart of the tips by day"
   ]
  },
  {
   "cell_type": "code",
   "execution_count": null,
   "metadata": {},
   "outputs": [],
   "source": [
    "px.scatter(x=tips.column(\"total\"), y=tips.column(\"tip\"), \n",
    "           title=\"Scatter Plot of Total Bill Amounts vs. Tip Amounts\", template = \"seaborn\",\n",
    "           labels = {\"x\": \"Total Bill Amount\", \"y\": \"Tip Amount\"},\n",
    "           width=500, height=500)\n",
    "# Plots a scatter plot of the total bill amounts vs. the tip amounts"
   ]
  },
  {
   "cell_type": "markdown",
   "metadata": {},
   "source": [
    "<hr style=\"border: 2px solid #003262\">\n",
    "<hr style=\"border: 2px solid #C9B676\">"
   ]
  },
  {
   "cell_type": "markdown",
   "metadata": {},
   "source": [
    "**to do for Manaar**: potentially add pdf generator if necessary; if not, take out otter grader stuff. also potentially add data science resources section"
   ]
  },
  {
   "cell_type": "markdown",
   "metadata": {},
   "source": [
    "## Conclusion"
   ]
  },
  {
   "cell_type": "markdown",
   "metadata": {},
   "source": [
    "In this notebook, you've learned quite a bit, below is a summary of the topics we have covered:\n",
    "- Jupyter Notebooks\n",
    "    - History of Jupyter\n",
    "    - Structure of a Notebook\n",
    "    - Editing a notebook\n",
    "- Python \n",
    "    - Math\n",
    "    - Strings\n",
    "    - Errors\n",
    "    - Variables\n",
    "    - Lists\n",
    "    - Functions\n",
    "    - Loops\n",
    "    - Modules\n",
    "    - Dot Notation\n",
    "- Tables\n",
    "    - Loading a Table\n",
    "    - Context of a Table\n",
    "    - Size of a Table\n",
    "    - Selecting Columns\n",
    "    - Sorting Tables\n",
    "- Columns\n",
    "    - Statistics of Columns\n",
    "- Plotting\n",
    "    - Histograms\n",
    "    - Scatter Plots\n",
    "    - Interactive Plots\n",
    "\n",
    "<h3>Congratulations on finishing the notebook!</h3>"
   ]
  },
  {
   "cell_type": "markdown",
   "metadata": {},
   "source": [
    "<hr style=\"border: 2px solid #003262\">\n",
    "<hr style=\"border: 2px solid #C9B676\">"
   ]
  },
  {
   "cell_type": "markdown",
   "metadata": {},
   "source": [
    "## A Final Request: Feedback Form"
   ]
  },
  {
   "cell_type": "markdown",
   "metadata": {},
   "source": [
    "<div class=\"alert alert-block alert-info\">\n",
    "    <p style=\"font-size:20px\">We encourage students to fill out the following feedback form to share your experience with this Module created notebook. This feedback form will take no longer than 5 minutes. At UC Berkeley Data Science Undergraduate Studies – Modules, we appreciate all feedback to improve the learning of students and experience utilizing Jupyter Notebooks for Data Science Education. You can fill out the survey by running the below and clicking the button that appears. Thank you in advance for your time!\n",
    "</div>"
   ]
  },
  {
   "cell_type": "code",
   "execution_count": null,
   "metadata": {},
   "outputs": [],
   "source": [
    "feedback_button()"
   ]
  }
 ],
 "metadata": {
  "deepnote_execution_queue": [],
  "deepnote_notebook_id": "693e9760-244f-475b-aa3d-f49b62665db0",
  "kernelspec": {
   "display_name": "Python 3 (ipykernel)",
   "language": "python",
   "name": "python3"
  },
  "language_info": {
   "codemirror_mode": {
    "name": "ipython",
    "version": 3
   },
   "file_extension": ".py",
   "mimetype": "text/x-python",
   "name": "python",
   "nbconvert_exporter": "python",
   "pygments_lexer": "ipython3",
   "version": "3.9.15"
  },
  "vscode": {
   "interpreter": {
    "hash": "aee8b7b246df8f9039afb4144a1f6fd8d2ca17a180786b69acc140d282b71a49"
   }
  },
  "widgets": {
   "application/vnd.jupyter.widget-state+json": {
    "state": {},
    "version_major": 2,
    "version_minor": 0
   }
  }
 },
 "nbformat": 4,
 "nbformat_minor": 4
}
