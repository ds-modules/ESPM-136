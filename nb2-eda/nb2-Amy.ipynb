{
 "cells": [
  {
   "cell_type": "markdown",
   "metadata": {
    "cell_id": "00001-eedf9a46-cb0c-42bc-a90f-96265663c0d3",
    "deepnote_cell_type": "markdown",
    "tags": [
     "ignore"
    ]
   },
   "source": [
    "## [ESPM-136] Notebook 2: Company Emissions Exploratory Data Analysis (EDA)\n",
    "\n",
    "## **Introduction Section here**\n",
    "\n",
    "Discuss overview of notebook and what students can take away from it here. Can also provide any relevant resources here.\n",
    "\n",
    "need to also mention that this notebook has questions that are bolded in yellow for the students to answer: probably won't be graded, might change later?"
   ]
  },
  {
   "cell_type": "markdown",
   "metadata": {},
   "source": [
    "keeping below cell just for reference, in case we have advanced/optional sections. delete later!"
   ]
  },
  {
   "cell_type": "markdown",
   "metadata": {},
   "source": [
    "<div class=\"alert alert-block alert-success\">\n",
    "    <p style=\"font-size:20px\">This section is advanced/optional\n",
    "</div>"
   ]
  },
  {
   "cell_type": "markdown",
   "metadata": {},
   "source": [
    "<hr style=\"border: 2px solid #003262\">\n",
    "<hr style=\"border: 2px solid #C9B676\">"
   ]
  },
  {
   "cell_type": "markdown",
   "metadata": {},
   "source": [
    "## Learning Outcomes\n",
    "Working through this notebook, you will learn about:\n",
    "1. complete later when sections are establish\n",
    "\n",
    "Also, may want to add table of contents beneath this section, depending on how long notebook is."
   ]
  },
  {
   "cell_type": "markdown",
   "metadata": {},
   "source": [
    "<hr style=\"border: 2px solid #003262\">\n",
    "<hr style=\"border: 2px solid #C9B676\">"
   ]
  },
  {
   "cell_type": "markdown",
   "metadata": {
    "cell_id": "00003-a9cd1167-2276-4e0f-85b6-43d803731627",
    "deepnote_cell_type": "markdown",
    "tags": []
   },
   "source": [
    "## Review / recap of data collection [likely be done by Manaar and/or Zcjanin]\n",
    "\n",
    "this section will provide a brief recap of the data collection process so far, to discuss how we got from google forms to here and why we want to import the data in a jupyter notebook as compared to other mediums / what we can accomplish with it. may also be good to quickly discuss implications of the data collection / inputting process.\n",
    "\n",
    "want this section to be pretty short -- dont want a wall of text!"
   ]
  },
  {
   "cell_type": "markdown",
   "metadata": {},
   "source": [
    "<hr style=\"border: 2px solid #003262\">\n",
    "<hr style=\"border: 2px solid #C9B676\">"
   ]
  },
  {
   "cell_type": "markdown",
   "metadata": {
    "cell_id": "00003-058e2913-9587-45ac-8c2f-f284333ac4f3",
    "deepnote_cell_type": "markdown"
   },
   "source": [
    "## Importing and Taking an Initial Look at the Data (manaar will do?)\n",
    "\n",
    "description of the steps we need to take to read_table to create a datascience table to look at our data in tabular format.\n",
    "\n",
    "first, import libraries (note: add any additional libraries you use in your code here! good to keep it all in one place), then read table:"
   ]
  },
  {
   "cell_type": "code",
   "execution_count": 3,
   "metadata": {},
   "outputs": [
    {
     "ename": "ModuleNotFoundError",
     "evalue": "No module named 'numpy'",
     "output_type": "error",
     "traceback": [
      "\u001b[0;31m---------------------------------------------------------------------------\u001b[0m",
      "\u001b[0;31mModuleNotFoundError\u001b[0m                       Traceback (most recent call last)",
      "\u001b[1;32m/Users/amycastillo/Documents/modules/ESPM-136/nb2-eda/nb2-Amy.ipynb Cell 10\u001b[0m line \u001b[0;36m1\n\u001b[0;32m----> <a href='vscode-notebook-cell:/Users/amycastillo/Documents/modules/ESPM-136/nb2-eda/nb2-Amy.ipynb#X12sZmlsZQ%3D%3D?line=0'>1</a>\u001b[0m \u001b[39mimport\u001b[39;00m \u001b[39mnumpy\u001b[39;00m \u001b[39mas\u001b[39;00m \u001b[39mnp\u001b[39;00m\n\u001b[1;32m      <a href='vscode-notebook-cell:/Users/amycastillo/Documents/modules/ESPM-136/nb2-eda/nb2-Amy.ipynb#X12sZmlsZQ%3D%3D?line=1'>2</a>\u001b[0m \u001b[39mfrom\u001b[39;00m \u001b[39mdatascience\u001b[39;00m \u001b[39mimport\u001b[39;00m \u001b[39m*\u001b[39m\n\u001b[1;32m      <a href='vscode-notebook-cell:/Users/amycastillo/Documents/modules/ESPM-136/nb2-eda/nb2-Amy.ipynb#X12sZmlsZQ%3D%3D?line=2'>3</a>\u001b[0m \u001b[39mimport\u001b[39;00m \u001b[39motter\u001b[39;00m\n",
      "\u001b[0;31mModuleNotFoundError\u001b[0m: No module named 'numpy'"
     ]
    }
   ],
   "source": [
    "import numpy as np\n",
    "from datascience import *\n",
    "import otter\n",
    "grader = otter.Notebook()\n",
    "import matplotlib.pyplot as plt\n",
    "%matplotlib inline\n",
    "plt.style.use(\"fivethirtyeight\")\n",
    "import seaborn as sns, plotly.express as px"
   ]
  },
  {
   "cell_type": "code",
   "execution_count": 2,
   "metadata": {},
   "outputs": [
    {
     "ename": "NameError",
     "evalue": "name 'Table' is not defined",
     "output_type": "error",
     "traceback": [
      "\u001b[0;31m---------------------------------------------------------------------------\u001b[0m",
      "\u001b[0;31mNameError\u001b[0m                                 Traceback (most recent call last)",
      "\u001b[1;32m/Users/amycastillo/Documents/modules/ESPM-136/nb2-eda/nb2-Amy.ipynb Cell 11\u001b[0m line \u001b[0;36m1\n\u001b[0;32m----> <a href='vscode-notebook-cell:/Users/amycastillo/Documents/modules/ESPM-136/nb2-eda/nb2-Amy.ipynb#X13sZmlsZQ%3D%3D?line=0'>1</a>\u001b[0m emissions \u001b[39m=\u001b[39m Table\u001b[39m.\u001b[39mread_table(\u001b[39m'\u001b[39m\u001b[39memissions.csv\u001b[39m\u001b[39m'\u001b[39m)\n\u001b[1;32m      <a href='vscode-notebook-cell:/Users/amycastillo/Documents/modules/ESPM-136/nb2-eda/nb2-Amy.ipynb#X13sZmlsZQ%3D%3D?line=1'>2</a>\u001b[0m emissions\n",
      "\u001b[0;31mNameError\u001b[0m: name 'Table' is not defined"
     ]
    }
   ],
   "source": [
    "emissions = Table.read_table('emissions.csv')\n",
    "emissions"
   ]
  },
  {
   "cell_type": "markdown",
   "metadata": {},
   "source": [
    "### data dictionary\n",
    "\n",
    "probably be done by Manaar / Zcjanin, can leave this alone for now\n",
    "\n",
    "|column name| meaning |type|\n",
    "|--|--|--|\n",
    "|total|total cost of the bill |number |\n",
    "|tip|the tip left by the party |number |\n",
    "|sex|sex of the person paying |category |\n",
    "|smoker|if the person paying was smoking |category |\n",
    "|day|day of the week |category |\n",
    "|time|meal (e.g., Lunch, Dinner, etc.) |category |\n",
    "|size|how many people were in the party |number |"
   ]
  },
  {
   "cell_type": "markdown",
   "metadata": {
    "cell_id": "00004-a9f5f74b-a641-44a7-8dd5-2f9f58c10236",
    "deepnote_cell_type": "code",
    "execution": {
     "iopub.execute_input": "2022-08-03T09:02:40.079967Z",
     "iopub.status.busy": "2022-08-03T09:02:40.079000Z",
     "iopub.status.idle": "2022-08-03T09:02:40.118322Z",
     "shell.execute_reply": "2022-08-03T09:02:40.117260Z",
     "shell.execute_reply.started": "2022-08-03T09:02:40.079911Z"
    },
    "tags": [
     "ignore"
    ]
   },
   "source": [
    "Next, have a small section looking into certain basic summary statistics like num_rows and num_cols and labels"
   ]
  },
  {
   "cell_type": "markdown",
   "metadata": {},
   "source": [
    "<hr style=\"border: 2px solid #003262\">\n",
    "<hr style=\"border: 2px solid #C9B676\">"
   ]
  },
  {
   "cell_type": "markdown",
   "metadata": {
    "cell_id": "00006-dadd2623-2173-4cdb-8c95-207741ecc765",
    "deepnote_cell_type": "markdown",
    "tags": [
     "ignore"
    ]
   },
   "source": [
    "## Table Operations: `select`, `where`, `sort`\n",
    "\n",
    "Now that we have learned how to import our data from a csv, we can begin doing some interesting exploratory data analysis to see what information our data can tell us! Oftentimes, our data has a lot more information than we actually need or it may not be in the correct order. To obtain the data we want, we can use table methods such as `select`, `where`, and `sort` to filter out columns, rows, and sort our data."
   ]
  },
  {
   "cell_type": "markdown",
   "metadata": {},
   "source": [
    "### 1.1: Selecting Columns"
   ]
  },
  {
   "cell_type": "markdown",
   "metadata": {},
   "source": [
    "Sometimes when doing data analysis, we only want to look at a subset of columns. Having too many columns can make the table hard to read if we are only interested in certain information. We can pick which columns we want using the table method `select()`. \n",
    "\n",
    "When we call this method, we specify which columns we want and it returns a brand new table with only the specified columns in the order they are inputted. It's important to note the original table **does not** change. "
   ]
  },
  {
   "cell_type": "markdown",
   "metadata": {},
   "source": [
    "For example, if we wanted to select only the companies and their sector we can run the code below."
   ]
  },
  {
   "cell_type": "code",
   "execution_count": 1,
   "metadata": {},
   "outputs": [
    {
     "ename": "NameError",
     "evalue": "name 'emissions' is not defined",
     "output_type": "error",
     "traceback": [
      "\u001b[0;31m---------------------------------------------------------------------------\u001b[0m",
      "\u001b[0;31mNameError\u001b[0m                                 Traceback (most recent call last)",
      "\u001b[1;32m/Users/amycastillo/Documents/modules/ESPM-136/nb2-eda/nb2-Amy.ipynb Cell 19\u001b[0m line \u001b[0;36m1\n\u001b[0;32m----> <a href='vscode-notebook-cell:/Users/amycastillo/Documents/modules/ESPM-136/nb2-eda/nb2-Amy.ipynb#X24sZmlsZQ%3D%3D?line=0'>1</a>\u001b[0m emissions\u001b[39m.\u001b[39mselect(\u001b[39m'\u001b[39m\u001b[39mCompany Name\u001b[39m\u001b[39m'\u001b[39m, \u001b[39m'\u001b[39m\u001b[39mCompany Sector\u001b[39m\u001b[39m'\u001b[39m)\n",
      "\u001b[0;31mNameError\u001b[0m: name 'emissions' is not defined"
     ]
    }
   ],
   "source": [
    "emissions.select('Company Name', 'Company Sector')"
   ]
  },
  {
   "cell_type": "markdown",
   "metadata": {},
   "source": [
    "### 1.2: Conditioning on Rows"
   ]
  },
  {
   "cell_type": "markdown",
   "metadata": {},
   "source": [
    "We now know how to select certain columns -- but what if we wanted to select rows that met a certain condition? The `where` method allows us to do exactly this. \n",
    "\n",
    "This method takes in two arguments:\n",
    "   1. The name of the column whose values must meet a certain condition\n",
    "   2. The predicate function that tells the condition the row must meet\n",
    "   \n",
    "For example, if we wanted to only select the rows where the company is 'H&M' we could do the following:"
   ]
  },
  {
   "cell_type": "code",
   "execution_count": 4,
   "metadata": {},
   "outputs": [
    {
     "data": {
      "text/html": [
       "<table border=\"1\" class=\"dataframe\">\n",
       "    <thead>\n",
       "        <tr>\n",
       "            <th>Timestamp</th> <th>Username</th> <th>Name</th> <th>Berkeley SID</th> <th>Berkeley Email </th> <th>Company Name</th> <th>Company Sector</th> <th>If you selected \"Other\" for the previous question, please include the sector that the company belongs in.</th> <th>Year of CDP Disclosure</th> <th>Scope 1 value (metric tons CO2e)</th> <th>Scope 2 value (location-based, metric tons CO2e)</th> <th>Scope 2 value (market-based, metric tons CO2e)</th> <th>Scope 3 value (metric tons CO2e)</th> <th>Total Revenue</th> <th>Currency of Total Revenue</th> <th>Does the company have an internal price on carbon?</th> <th>If so, what is the internal price on carbon the company uses?</th> <th>Company 2 Name</th> <th>Company Sector.1</th> <th>If you selected \"Other\" for the previous question, please include the sector that the company belongs in..1</th> <th>Year of CDP Disclosure.1</th> <th>Scope 1 value (metric tons CO2e).1</th> <th>Scope 2 value (location-based, metric tons CO2e).1</th> <th>Scope 2 value (market-based, metric tons CO2e).1</th> <th>Scope 3 value (metric tons CO2e).1</th> <th>Total Revenue.1</th> <th>Currency of Total Revenue.1</th> <th>Does the company have an internal price on carbon?.1</th> <th>If so, what is the internal price on carbon the company uses?.1</th> <th>What is the company's carbon reduction plan and date? (ex: \"Net Zero Carbon by 2050\")</th> <th>What is the company's renewable energy target and date? (ex: \"100% renewably powered by 2030\")</th> <th>What are some efficiency actions the company is taking in order to lower energy and carbon intensity? (ex: energy efficient motors, low-carbon chips, etc.)</th> <th>Is the company adopting low-carbon technologies, such as buying Electric Delivery vans?</th> <th>Is the company making long-term investments in decarbonization innovations?</th> <th>How is the company engaging its supply chain in carbon reduction?</th> <th>What is the company's carbon reduction plan and date? (ex: \"Net Zero Carbon by 2050\").1</th> <th>What is the company's renewable energy target and date? (ex: \"100% renewably powered by 2030\").1</th> <th>What are some efficiency actions the company is taking in order to lower energy and carbon intensity? (ex: energy efficient motors, low-carbon chips, etc.).1</th> <th>Is the company adopting low-carbon technologies, such as buying Electric Delivery vans?.1</th> <th>Is the company making long-term investments in decarbonization innovations?.1</th> <th>How is the company engaging its supply chain in carbon reduction?.1</th> <th>Identify opportunities for each company to improve its sustainability efforts, based on your assessment of best practices in their industry. What is the one big thing each company should focus more on? (200 words or less)\n",
       "\n",
       "Be sure to address each company in your response. The suggested format would be to dedicate one paragraph for each company. </th> <th>Provide a link for Company #1's Sustainability Report </th> <th>Provide any other link(s) you referenced for Company #1</th> <th>Provide a link for Company #2's Sustainability Report </th> <th>Provide any other link(s) you referenced for Company #2</th> <th>Submit your copy of the Google Sheet used to collect company emissions and activity data. Ensure that the name of your file is \"[Your Name] -  Company Emissions & Activity Data Collection\". </th>\n",
       "        </tr>\n",
       "    </thead>\n",
       "    <tbody>\n",
       "        <tr>\n",
       "            <td>2023/09/13 6:03:01 PM MDT </td> <td>lsy.meru@berkeley.edu    </td> <td>Catherine Wang    </td> <td>3036151273  </td> <td>lsy.meru@berkeley.edu    </td> <td>H&M         </td> <td>Apparel & Footwear</td> <td>nan                                                                                                      </td> <td>2022                  </td> <td>21171                           </td> <td>507170                                          </td> <td>37394                                         </td> <td>7.74163e+06                     </td> <td>1.99e+11     </td> <td>SEK                      </td> <td>Yes                                               </td> <td>0                                                            </td> <td>Reformation   </td> <td>Apparel & Footwear</td> <td>nan                                                                                                        </td> <td>2022                    </td> <td>84                                </td> <td>321                                               </td> <td>0                                               </td> <td>33622                             </td> <td>1.71381e+06    </td> <td>USD                        </td> <td>No                                                  </td> <td>nan                                                            </td> <td>goal of net 0 carbon emissions by 2040                                               </td> <td>100% by 2030                                                                                  </td> <td>UNFCCC-promoted coal-phase out projects, common investment fund through the Apparel impact institute (Aii), partnered with WWf Climate Savers to take s ...</td> <td>liquid biofuels, Heating, Ventilation and Air Conditioning, Lighting; plan for all  ...</td> <td>purchased removal service in direct air carbon capture and storage (DAC ...</td> <td>- engagements include information collection, incentivization ...</td> <td>-net-0 emissions (carbon neutral) since 2015, working with Climate Zero to make it  ...</td> <td>-already using all renewable energy, and commit to be 100% renewable energy up to 2030          </td> <td>-partnered with the Apparel Impact Institute (Aii), a non-profit that works to identify, fund, and scale proven environmental impact solutions in the app ...</td> <td>-Launch recycling program for Shoes and R&D to develop recycling program for activewe ...</td> <td>-not much in terms of carbon sequestration directly or in terms of energy ...</td> <td>-incentivization/engagement: partnered with the Apparel Impact  ...</td> <td>Both these two large companies in the fashion industry are aware of climate change and are actively transitioning into more sustainable practices, yet their starting points and emphasis are vastly different.\n",
       "\n",
       "For H&M, since they are relatively established and are a fast fashion brand, even though they are trying to change, a lot of their inf ...</td> <td>https://www.responsibilityreports.com/HostedData/Respons ...</td> <td>nan                                                         </td> <td>https://www.thereformation.com/sustainability/commitment ...</td> <td>nan                                                         </td> <td>https://drive.google.com/u/0/open?usp=forms_web&id=17h8vwK9P8mbmzQIg_RX0QWib1pyaB910                                                                                                          </td>\n",
       "        </tr>\n",
       "        <tr>\n",
       "            <td>2023/09/16 12:41:13 AM MDT</td> <td>emmakelly@berkeley.edu   </td> <td>Emma Kelly        </td> <td>3035758088  </td> <td>emmakelly@berkeley.edu   </td> <td>H&M         </td> <td>Apparel & Footwear</td> <td>nan                                                                                                      </td> <td>2022                  </td> <td>21171                           </td> <td>507170                                          </td> <td>37394                                         </td> <td>7.74163e+06                     </td> <td>1.99e+11     </td> <td>SEK                      </td> <td>Yes                                               </td> <td>0                                                            </td> <td>The RealReal  </td> <td>Apparel & Footwear</td> <td>nan                                                                                                        </td> <td>2022                    </td> <td>2070                              </td> <td>3079                                              </td> <td>0                                               </td> <td>9555                              </td> <td>4.67692e+08    </td> <td>USD                        </td> <td>Yes                                                 </td> <td>nan                                                            </td> <td>Reduce emissions by 56% by 2030; Achieve net-zero by 2040; Goals in-line with 1.5 ...</td> <td>100% renewable energy by 2030                                                                 </td> <td>Energy efficient HVAC and lighting in buildings; LED lighting in stores; Create circular models and systems for products, supply chains, and customer j ...</td> <td>84% usage of recycled material in 2022 with goal for 100% recycled or sustainably s ...</td> <td>Dedicated budget for low-carbon product research and development, energ ...</td> <td>Engage with suppliers, customers/clients, and other partners  ...</td> <td>Reducing GHG emissions by 30% by 2030; Achieve net zero emissions by 2050; Goals in ...</td> <td>Usage of renewable energy with no quantity specified; Net zero target by 2050                   </td> <td>Energy efficient HVAC and lighting in buildings; Contributed over 34 million products to a circular economy; Saved 3.9 billion liters of water and 73,207 ...</td> <td>Establishing a circular economy with low-carbon, recirculated goods; Increase use of  ...</td> <td>Dedicated budget for emissions reduction activities; Developed TRR Sustai ...</td> <td>Engage with suppliers, customers/clients, and other partners in ...</td> <td>The fashion industry is a known emitter with high water usage and massive waste generation. The two firms in focus were H&M as an incumbent firm and The RealReal as a “disruptor” firm through the implementation of a circular economy of clothing resale. H&M has high direct emissions, but even higher indirect emissions totaling 8,296,196 metri ...</td> <td>https://hmgroup.com/wp-content/uploads/2023/03/HM-Group- ...</td> <td>nan                                                         </td> <td>https://investor.therealreal.com/static-files/933fc93b-d ...</td> <td>https://investor.therealreal.com/social-impact              </td> <td>https://drive.google.com/u/0/open?usp=forms_web&id=1W9WEnP2Kr44Ie1qksu6hjuZCbay-_8GY                                                                                                          </td>\n",
       "        </tr>\n",
       "        <tr>\n",
       "            <td>2023/09/17 4:23:00 PM MDT </td> <td>kornelijan@berkeley.edu  </td> <td>Kornelija Newcomer</td> <td>3034566575  </td> <td>kornelijan@berkeley.edu  </td> <td>H&M         </td> <td>Apparel & Footwear</td> <td>nan                                                                                                      </td> <td>2022                  </td> <td>21171                           </td> <td>507170                                          </td> <td>37394                                         </td> <td>7.74163e+06                     </td> <td>1.99e+11     </td> <td>SEK                      </td> <td>Yes                                               </td> <td>nan                                                          </td> <td>Inditex       </td> <td>Apparel & Footwear</td> <td>nan                                                                                                        </td> <td>2022                    </td> <td>11859                             </td> <td>541493                                            </td> <td>47770                                           </td> <td>1.70978e+07                       </td> <td>2.77321e+10    </td> <td>EUR                        </td> <td>No                                                  </td> <td>nan                                                            </td> <td>Net Zero by 2040                                                                     </td> <td>100% renewable energy by 2030                                                                 </td> <td>Expert Program- energy efficiency experts, audits, action planning                                                                                         </td> <td>Products made wholly or partially from recycled polyester, 30% recycled cotton         </td> <td>neutralization efforts: purchasing of direct air carbon capture and sto ...</td> <td>100% of our materials to be recycled or sourced in a more sus ...</td> <td>Net Zero by 2040                                                                       </td> <td>100% renewable electricity target by 2022                                                       </td> <td>LEED certs, 66% stores connected to Inergy (upervises and optimises energy consumption)                                                                      </td> <td>renwable energy installing, LC R&D, LanzaTech partnership - party dresses made with f ...</td> <td>Phase out coal by 2030                                                       </td> <td>raw materials from sustainable sources (vague), 25% water reduc ...</td> <td>H&M has had a history of deep criticism from me for being one of the top fast fashion brands. However, I am quite surprised to see how transparent they are and how their CDP report was easy to follow and not infused with a bunch of confusing jargon. Their Sustainability Report was very long but went into detail for every section. It is clear ...</td> <td>https://hmgroup.com/wp-content/uploads/2023/03/HM-Group- ...</td> <td>nan                                                         </td> <td>https://static.inditex.com/annual_report_2022/pdf/ENVIRO ...</td> <td>https://static.inditex.com/annual_report_2022/pdf/PRODUC ...</td> <td>https://drive.google.com/u/0/open?usp=forms_web&id=17CRp6pPo37IqvBDwSWzCbYS4ZZ87b4f3                                                                                                          </td>\n",
       "        </tr>\n",
       "        <tr>\n",
       "            <td>2023/09/17 8:14:48 PM MDT </td> <td>danibuch0320@berkeley.edu</td> <td>Danielle Buch     </td> <td>3037210190  </td> <td>danibuch0320@berkeley.edu</td> <td>H&M         </td> <td>Apparel & Footwear</td> <td>nan                                                                                                      </td> <td>2022                  </td> <td>21171                           </td> <td>507170                                          </td> <td>37394                                         </td> <td>5.43711e+06                     </td> <td>1.99e+11     </td> <td>SEK                      </td> <td>Yes                                               </td> <td>0                                                            </td> <td>Reformation   </td> <td>Apparel & Footwear</td> <td>nan                                                                                                        </td> <td>2022                    </td> <td>84                                </td> <td>321                                               </td> <td>0                                               </td> <td>227773                            </td> <td>1.71381e+06    </td> <td>USD                        </td> <td>No                                                  </td> <td>nan                                                            </td> <td>- net zero by 2040\n",
       "- climate neutral by 2030\n",
       "- halve GHG emissions by 2030 based  ...</td> <td>- 100% renewable electricity in \"own operations\" by 2030\n",
       "- reduce electrivity intensity in ...</td> <td>- 23% recycled materials in commercial goods in 2022 (want to get to 30% by 2025)\n",
       "- “100% of our materials to be recycled or sourced in a more sustaina ...</td> <td>- Low-carbon energy consumption initiative – liquid biofuels (Est annual CO2e savin ...</td> <td>- Has invested in DACCS through “Climeworks” (Aiming for at least 1% of ...</td> <td>- Anonymous supplier surveys & representative groups (trade u ...</td> <td>- Climate positive AKA carbon negative by 2025 \n",
       "- Offset 100% of carbon footprint;  ...</td> <td>- Commits to annually sourcing 100% renewable electricity through 2030                          </td> <td>- 62% of all garments designed for low-impact garment care\n",
       "- Purchasing renewable energy credits (RECs) to “offset 100% of the energy [they] use in [thei ...</td> <td>- Has an electric company-owned van to transport things between the headquarters\n",
       "- Ha ...</td> <td>- Committed to investing in 100% nature-based or removal projects by 2025 ...</td> <td>- Launched Factory Forward – program(s) for suppliers that help ...</td> <td>As I read through H&M’s CDP report and Sustainability Report, I saw a pattern of vague targets and a lack of transparency. The brand often made claims that they would try to reach certain goals – such as 100% LED lighting in their offices and stores – but would either not offer a specific timeline or report insufficient action being taken. A ...</td> <td>https://hmgroup.com/wp-content/uploads/2023/03/HM-Group- ...</td> <td>nan                                                         </td> <td>https://media.thereformation.com/image/upload/v168392107 ...</td> <td>nan                                                         </td> <td>https://drive.google.com/u/0/open?usp=forms_web&id=1-XcE3U0eG86izt4XQqlVXBJsJ6r5AwD5                                                                                                          </td>\n",
       "        </tr>\n",
       "        <tr>\n",
       "            <td>2023/09/18 12:27:56 AM MDT</td> <td>jocelynthao@berkeley.edu </td> <td>Jocelyn Thao      </td> <td>3037129339  </td> <td>jocelynthao@berkeley.edu </td> <td>H&M         </td> <td>Apparel & Footwear</td> <td>nan                                                                                                      </td> <td>2022                  </td> <td>21171                           </td> <td>507170                                          </td> <td>37394                                         </td> <td>7.74163e+06                     </td> <td>1.99e+11     </td> <td>SEK                      </td> <td>Yes                                               </td> <td>0                                                            </td> <td>Reformation   </td> <td>Apparel & Footwear</td> <td>nan                                                                                                        </td> <td>2022                    </td> <td>84                                </td> <td>321                                               </td> <td>0                                               </td> <td>33622                             </td> <td>1.71381e+06    </td> <td>USD                        </td> <td>No                                                  </td> <td>nan                                                            </td> <td>-56% reduction by 2030 goal \n",
       "- scienced based and covers scope 1 2 3 emissions ex ...</td> <td>- company-wide net-zero by 2040 goal\n",
       "science based and covers scope 1 2 3 emissions except ...</td> <td>- stopped onboarding new suppliers with coal boilers in Jan 2022 and trying to accelerate abandoning all use of coal along supply chain - reached a 23% ...</td> <td>no                                                                                     </td> <td>- Green Fashion Initiative, makes funding available to supply factories ...</td> <td>- engages w. suppliers, customers/clients, and others. - coll ...</td> <td>- 42% reduction by 2030 \n",
       "- reduce absolute scope 1 and 2 emissions 42% by 2030 from ...</td> <td>48% reduction by 2030 \n",
       "- 4 goals: better materials, circularity, transportation, energy mana ...</td> <td>-  purchases renewable energy credits (RECs) to offset 100% of the energy used in factory, offices, and retail facilities                                    </td> <td>- company-owned electric van for small scale transportation and free EV charging for  ...</td> <td>-  launched Factory Forward, suite of programs for suppliers that help th ...</td> <td>- engages w. suppliers, customers/clients, and others. -Reforma ...</td> <td>H&M should invest in their product materials and construction. This is something that Reformation seems to be doing very well, so H&M could potentially learn from Reformation's model. H&M's sustainability report doesn't talk about the sustainability of the materials used in an environmental/agricultural context and instead focuses more on re ...</td> <td>https://hmgroup.com/wp-content/uploads/2023/03/HM-Group- ...</td> <td>nan                                                         </td> <td>https://media.thereformation.com/image/upload/v168392107 ...</td> <td>nan                                                         </td> <td>https://drive.google.com/u/0/open?usp=forms_web&id=1lYaZ5W0PjV0oYG5qNsLSGV4wER_FxXOm                                                                                                          </td>\n",
       "        </tr>\n",
       "        <tr>\n",
       "            <td>2023/09/18 11:23:19 AM MDT</td> <td>dvwilson@berkeley.edu    </td> <td>dylan wilson      </td> <td>3035857486  </td> <td>dvwilson@berkeley.edu    </td> <td>H&M         </td> <td>Apparel & Footwear</td> <td>nan                                                                                                      </td> <td>2022                  </td> <td>21171                           </td> <td>507170                                          </td> <td>37394                                         </td> <td>5.43711e+06                     </td> <td>1.99e+11     </td> <td>SEK                      </td> <td>Yes                                               </td> <td>0                                                            </td> <td>Reformation   </td> <td>Apparel & Footwear</td> <td>nan                                                                                                        </td> <td>2022                    </td> <td>84                                </td> <td>321                                               </td> <td>nan                                             </td> <td>22773                             </td> <td>1.71381e+06    </td> <td>USD                        </td> <td>No                                                  </td> <td>nan                                                            </td> <td>H&M had the goal of cutting emissions by 56% from 2021 to 2022, but only reduced  ...</td> <td>H&M stated the general goal of switching all manufacturing facilities to renewables energy ...</td> <td>H&M states that want to target climate resilience, carbon-sinks, nature-based solutions, regenerative agriculture and relates to emissions in both our  ...</td> <td>H&M purchased a removal service in direct air carbon capture and storage (DACCS) th ...</td> <td>The company broadly says that they are investing in technology such as  ...</td> <td>H&M mentions that they are drafting a coal-phase out projects ...</td> <td>Reformation had the goal of cutting emission by 46%, but cut them by 0%. They have  ...</td> <td>Reformation has the renewable energy goals of: updating the accuracy of data to tackle emiss ...</td> <td>Reformation had a very detail outline of the steps they want further their efficiency all in: better materials that are less carbon intensive but still g ...</td> <td>Reformation has mentioned as stated above new material choices that are less carbon i ...</td> <td>The biggest investments that are being taken are in material usage and tr ...</td> <td>Reformation They have partnered with the Apparel Impact Institu ...</td> <td>Both companies are making impressive headways in the apparel industry. Both have a very detailed report both on the CDP as well as their own published plan on their websites. H&M, of course is the bigger more incumbent company. They have had a complicated relationship surrounding their sustainable endeavors; and have established as notorious ...</td> <td>https://www.cdp.net/en/formatted_responses/responses?cam ...</td> <td>https://hmgroup.com/wp-content/uploads/2023/03/HM-Group- ...</td> <td>https://www.cdp.net/en/formatted_responses/responses?cam ...</td> <td>https://media.thereformation.com/image/upload/v169050028 ...</td> <td>https://drive.google.com/u/0/open?usp=forms_web&id=1CnWHibEAU2QP7sCGQxELoFgFWvFECcgK                                                                                                          </td>\n",
       "        </tr>\n",
       "    </tbody>\n",
       "</table>"
      ],
      "text/plain": [
       "Timestamp                  | Username                  | Name               | Berkeley SID | Berkeley Email            | Company Name | Company Sector     | If you selected \"Other\" for the previous question, please include the sector that the company belongs in. | Year of CDP Disclosure | Scope 1 value (metric tons CO2e) | Scope 2 value (location-based, metric tons CO2e) | Scope 2 value (market-based, metric tons CO2e) | Scope 3 value (metric tons CO2e) | Total Revenue | Currency of Total Revenue | Does the company have an internal price on carbon? | If so, what is the internal price on carbon the company uses? | Company 2 Name | Company Sector.1   | If you selected \"Other\" for the previous question, please include the sector that the company belongs in..1 | Year of CDP Disclosure.1 | Scope 1 value (metric tons CO2e).1 | Scope 2 value (location-based, metric tons CO2e).1 | Scope 2 value (market-based, metric tons CO2e).1 | Scope 3 value (metric tons CO2e).1 | Total Revenue.1 | Currency of Total Revenue.1 | Does the company have an internal price on carbon?.1 | If so, what is the internal price on carbon the company uses?.1 | What is the company's carbon reduction plan and date? (ex: \"Net Zero Carbon by 2050\") | What is the company's renewable energy target and date? (ex: \"100% renewably powered by 2030\") | What are some efficiency actions the company is taking in order to lower energy and carbon intensity? (ex: energy efficient motors, low-carbon chips, etc.) | Is the company adopting low-carbon technologies, such as buying Electric Delivery vans? | Is the company making long-term investments in decarbonization innovations? | How is the company engaging its supply chain in carbon reduction? | What is the company's carbon reduction plan and date? (ex: \"Net Zero Carbon by 2050\").1 | What is the company's renewable energy target and date? (ex: \"100% renewably powered by 2030\").1 | What are some efficiency actions the company is taking in order to lower energy and carbon intensity? (ex: energy efficient motors, low-carbon chips, etc.).1 | Is the company adopting low-carbon technologies, such as buying Electric Delivery vans?.1 | Is the company making long-term investments in decarbonization innovations?.1 | How is the company engaging its supply chain in carbon reduction?.1 | Identify opportunities for each company to improve its sustainability efforts, based on your assessment of best practices in their industry. What is the one big thing each company should focus more on? (200 words or less)\n",
       "\n",
       "Be sure to address each company in your response. The suggested format would be to dedicate one paragraph for each company.  | Provide a link for Company #1's Sustainability Report        | Provide any other link(s) you referenced for Company #1      | Provide a link for Company #2's Sustainability Report        | Provide any other link(s) you referenced for Company #2      | Submit your copy of the Google Sheet used to collect company emissions and activity data. Ensure that the name of your file is \"[Your Name] -  Company Emissions & Activity Data Collection\".\n",
       "2023/09/13 6:03:01 PM MDT  | lsy.meru@berkeley.edu     | Catherine Wang     | 3036151273   | lsy.meru@berkeley.edu     | H&M          | Apparel & Footwear | nan                                                                                                       | 2022                   | 21171                            | 507170                                           | 37394                                          | 7.74163e+06                      | 1.99e+11      | SEK                       | Yes                                                | 0                                                             | Reformation    | Apparel & Footwear | nan                                                                                                         | 2022                     | 84                                 | 321                                                | 0                                                | 33622                              | 1.71381e+06     | USD                         | No                                                   | nan                                                             | goal of net 0 carbon emissions by 2040                                                | 100% by 2030                                                                                   | UNFCCC-promoted coal-phase out projects, common investment fund through the Apparel impact institute (Aii), partnered with WWf Climate Savers to take s ... | liquid biofuels, Heating, Ventilation and Air Conditioning, Lighting; plan for all  ... | purchased removal service in direct air carbon capture and storage (DAC ... | - engagements include information collection, incentivization ... | -net-0 emissions (carbon neutral) since 2015, working with Climate Zero to make it  ... | -already using all renewable energy, and commit to be 100% renewable energy up to 2030           | -partnered with the Apparel Impact Institute (Aii), a non-profit that works to identify, fund, and scale proven environmental impact solutions in the app ... | -Launch recycling program for Shoes and R&D to develop recycling program for activewe ... | -not much in terms of carbon sequestration directly or in terms of energy ... | -incentivization/engagement: partnered with the Apparel Impact  ... | Both these two large companies in the fashion industry are aware of climate change and are actively transitioning into more sustainable practices, yet their starting points and emphasis are vastly different.\n",
       "\n",
       "For H&M, since they are relatively established and are a fast fashion brand, even though they are trying to change, a lot of their inf ... | https://www.responsibilityreports.com/HostedData/Respons ... | nan                                                          | https://www.thereformation.com/sustainability/commitment ... | nan                                                          | https://drive.google.com/u/0/open?usp=forms_web&id=17h8vwK9P8mbmzQIg_RX0QWib1pyaB910\n",
       "2023/09/16 12:41:13 AM MDT | emmakelly@berkeley.edu    | Emma Kelly         | 3035758088   | emmakelly@berkeley.edu    | H&M          | Apparel & Footwear | nan                                                                                                       | 2022                   | 21171                            | 507170                                           | 37394                                          | 7.74163e+06                      | 1.99e+11      | SEK                       | Yes                                                | 0                                                             | The RealReal   | Apparel & Footwear | nan                                                                                                         | 2022                     | 2070                               | 3079                                               | 0                                                | 9555                               | 4.67692e+08     | USD                         | Yes                                                  | nan                                                             | Reduce emissions by 56% by 2030; Achieve net-zero by 2040; Goals in-line with 1.5 ... | 100% renewable energy by 2030                                                                  | Energy efficient HVAC and lighting in buildings; LED lighting in stores; Create circular models and systems for products, supply chains, and customer j ... | 84% usage of recycled material in 2022 with goal for 100% recycled or sustainably s ... | Dedicated budget for low-carbon product research and development, energ ... | Engage with suppliers, customers/clients, and other partners  ... | Reducing GHG emissions by 30% by 2030; Achieve net zero emissions by 2050; Goals in ... | Usage of renewable energy with no quantity specified; Net zero target by 2050                    | Energy efficient HVAC and lighting in buildings; Contributed over 34 million products to a circular economy; Saved 3.9 billion liters of water and 73,207 ... | Establishing a circular economy with low-carbon, recirculated goods; Increase use of  ... | Dedicated budget for emissions reduction activities; Developed TRR Sustai ... | Engage with suppliers, customers/clients, and other partners in ... | The fashion industry is a known emitter with high water usage and massive waste generation. The two firms in focus were H&M as an incumbent firm and The RealReal as a “disruptor” firm through the implementation of a circular economy of clothing resale. H&M has high direct emissions, but even higher indirect emissions totaling 8,296,196 metri ... | https://hmgroup.com/wp-content/uploads/2023/03/HM-Group- ... | nan                                                          | https://investor.therealreal.com/static-files/933fc93b-d ... | https://investor.therealreal.com/social-impact               | https://drive.google.com/u/0/open?usp=forms_web&id=1W9WEnP2Kr44Ie1qksu6hjuZCbay-_8GY\n",
       "2023/09/17 4:23:00 PM MDT  | kornelijan@berkeley.edu   | Kornelija Newcomer | 3034566575   | kornelijan@berkeley.edu   | H&M          | Apparel & Footwear | nan                                                                                                       | 2022                   | 21171                            | 507170                                           | 37394                                          | 7.74163e+06                      | 1.99e+11      | SEK                       | Yes                                                | nan                                                           | Inditex        | Apparel & Footwear | nan                                                                                                         | 2022                     | 11859                              | 541493                                             | 47770                                            | 1.70978e+07                        | 2.77321e+10     | EUR                         | No                                                   | nan                                                             | Net Zero by 2040                                                                      | 100% renewable energy by 2030                                                                  | Expert Program- energy efficiency experts, audits, action planning                                                                                          | Products made wholly or partially from recycled polyester, 30% recycled cotton          | neutralization efforts: purchasing of direct air carbon capture and sto ... | 100% of our materials to be recycled or sourced in a more sus ... | Net Zero by 2040                                                                        | 100% renewable electricity target by 2022                                                        | LEED certs, 66% stores connected to Inergy (upervises and optimises energy consumption)                                                                       | renwable energy installing, LC R&D, LanzaTech partnership - party dresses made with f ... | Phase out coal by 2030                                                        | raw materials from sustainable sources (vague), 25% water reduc ... | H&M has had a history of deep criticism from me for being one of the top fast fashion brands. However, I am quite surprised to see how transparent they are and how their CDP report was easy to follow and not infused with a bunch of confusing jargon. Their Sustainability Report was very long but went into detail for every section. It is clear ... | https://hmgroup.com/wp-content/uploads/2023/03/HM-Group- ... | nan                                                          | https://static.inditex.com/annual_report_2022/pdf/ENVIRO ... | https://static.inditex.com/annual_report_2022/pdf/PRODUC ... | https://drive.google.com/u/0/open?usp=forms_web&id=17CRp6pPo37IqvBDwSWzCbYS4ZZ87b4f3\n",
       "2023/09/17 8:14:48 PM MDT  | danibuch0320@berkeley.edu | Danielle Buch      | 3037210190   | danibuch0320@berkeley.edu | H&M          | Apparel & Footwear | nan                                                                                                       | 2022                   | 21171                            | 507170                                           | 37394                                          | 5.43711e+06                      | 1.99e+11      | SEK                       | Yes                                                | 0                                                             | Reformation    | Apparel & Footwear | nan                                                                                                         | 2022                     | 84                                 | 321                                                | 0                                                | 227773                             | 1.71381e+06     | USD                         | No                                                   | nan                                                             | - net zero by 2040\n",
       "- climate neutral by 2030\n",
       "- halve GHG emissions by 2030 based  ... | - 100% renewable electricity in \"own operations\" by 2030\n",
       "- reduce electrivity intensity in ... | - 23% recycled materials in commercial goods in 2022 (want to get to 30% by 2025)\n",
       "- “100% of our materials to be recycled or sourced in a more sustaina ... | - Low-carbon energy consumption initiative – liquid biofuels (Est annual CO2e savin ... | - Has invested in DACCS through “Climeworks” (Aiming for at least 1% of ... | - Anonymous supplier surveys & representative groups (trade u ... | - Climate positive AKA carbon negative by 2025 \n",
       "- Offset 100% of carbon footprint;  ... | - Commits to annually sourcing 100% renewable electricity through 2030                           | - 62% of all garments designed for low-impact garment care\n",
       "- Purchasing renewable energy credits (RECs) to “offset 100% of the energy [they] use in [thei ... | - Has an electric company-owned van to transport things between the headquarters\n",
       "- Ha ... | - Committed to investing in 100% nature-based or removal projects by 2025 ... | - Launched Factory Forward – program(s) for suppliers that help ... | As I read through H&M’s CDP report and Sustainability Report, I saw a pattern of vague targets and a lack of transparency. The brand often made claims that they would try to reach certain goals – such as 100% LED lighting in their offices and stores – but would either not offer a specific timeline or report insufficient action being taken. A ... | https://hmgroup.com/wp-content/uploads/2023/03/HM-Group- ... | nan                                                          | https://media.thereformation.com/image/upload/v168392107 ... | nan                                                          | https://drive.google.com/u/0/open?usp=forms_web&id=1-XcE3U0eG86izt4XQqlVXBJsJ6r5AwD5\n",
       "2023/09/18 12:27:56 AM MDT | jocelynthao@berkeley.edu  | Jocelyn Thao       | 3037129339   | jocelynthao@berkeley.edu  | H&M          | Apparel & Footwear | nan                                                                                                       | 2022                   | 21171                            | 507170                                           | 37394                                          | 7.74163e+06                      | 1.99e+11      | SEK                       | Yes                                                | 0                                                             | Reformation    | Apparel & Footwear | nan                                                                                                         | 2022                     | 84                                 | 321                                                | 0                                                | 33622                              | 1.71381e+06     | USD                         | No                                                   | nan                                                             | -56% reduction by 2030 goal \n",
       "- scienced based and covers scope 1 2 3 emissions ex ... | - company-wide net-zero by 2040 goal\n",
       "science based and covers scope 1 2 3 emissions except ... | - stopped onboarding new suppliers with coal boilers in Jan 2022 and trying to accelerate abandoning all use of coal along supply chain - reached a 23% ... | no                                                                                      | - Green Fashion Initiative, makes funding available to supply factories ... | - engages w. suppliers, customers/clients, and others. - coll ... | - 42% reduction by 2030 \n",
       "- reduce absolute scope 1 and 2 emissions 42% by 2030 from ... | 48% reduction by 2030 \n",
       "- 4 goals: better materials, circularity, transportation, energy mana ... | -  purchases renewable energy credits (RECs) to offset 100% of the energy used in factory, offices, and retail facilities                                     | - company-owned electric van for small scale transportation and free EV charging for  ... | -  launched Factory Forward, suite of programs for suppliers that help th ... | - engages w. suppliers, customers/clients, and others. -Reforma ... | H&M should invest in their product materials and construction. This is something that Reformation seems to be doing very well, so H&M could potentially learn from Reformation's model. H&M's sustainability report doesn't talk about the sustainability of the materials used in an environmental/agricultural context and instead focuses more on re ... | https://hmgroup.com/wp-content/uploads/2023/03/HM-Group- ... | nan                                                          | https://media.thereformation.com/image/upload/v168392107 ... | nan                                                          | https://drive.google.com/u/0/open?usp=forms_web&id=1lYaZ5W0PjV0oYG5qNsLSGV4wER_FxXOm\n",
       "2023/09/18 11:23:19 AM MDT | dvwilson@berkeley.edu     | dylan wilson       | 3035857486   | dvwilson@berkeley.edu     | H&M          | Apparel & Footwear | nan                                                                                                       | 2022                   | 21171                            | 507170                                           | 37394                                          | 5.43711e+06                      | 1.99e+11      | SEK                       | Yes                                                | 0                                                             | Reformation    | Apparel & Footwear | nan                                                                                                         | 2022                     | 84                                 | 321                                                | nan                                              | 22773                              | 1.71381e+06     | USD                         | No                                                   | nan                                                             | H&M had the goal of cutting emissions by 56% from 2021 to 2022, but only reduced  ... | H&M stated the general goal of switching all manufacturing facilities to renewables energy ... | H&M states that want to target climate resilience, carbon-sinks, nature-based solutions, regenerative agriculture and relates to emissions in both our  ... | H&M purchased a removal service in direct air carbon capture and storage (DACCS) th ... | The company broadly says that they are investing in technology such as  ... | H&M mentions that they are drafting a coal-phase out projects ... | Reformation had the goal of cutting emission by 46%, but cut them by 0%. They have  ... | Reformation has the renewable energy goals of: updating the accuracy of data to tackle emiss ... | Reformation had a very detail outline of the steps they want further their efficiency all in: better materials that are less carbon intensive but still g ... | Reformation has mentioned as stated above new material choices that are less carbon i ... | The biggest investments that are being taken are in material usage and tr ... | Reformation They have partnered with the Apparel Impact Institu ... | Both companies are making impressive headways in the apparel industry. Both have a very detailed report both on the CDP as well as their own published plan on their websites. H&M, of course is the bigger more incumbent company. They have had a complicated relationship surrounding their sustainable endeavors; and have established as notorious ... | https://www.cdp.net/en/formatted_responses/responses?cam ... | https://hmgroup.com/wp-content/uploads/2023/03/HM-Group- ... | https://www.cdp.net/en/formatted_responses/responses?cam ... | https://media.thereformation.com/image/upload/v169050028 ... | https://drive.google.com/u/0/open?usp=forms_web&id=1CnWHibEAU2QP7sCGQxELoFgFWvFECcgK"
      ]
     },
     "execution_count": 4,
     "metadata": {},
     "output_type": "execute_result"
    }
   ],
   "source": [
    "emissions.where('Company Name', are.equal_to('H&M'))"
   ]
  },
  {
   "cell_type": "markdown",
   "metadata": {},
   "source": [
    "The cell above outputs a copy of the original table but **only includes rows where the company is H&M**. There are many other predicate functions, here are a few common ones: \n",
    "\n",
    "|Predicate|Example|Result|\n",
    "|-|-|-|\n",
    "|`are.equal_to`|`are.equal_to(50)`|Find rows with values equal to 50|\n",
    "|`are.not_equal_to`|`are.not_equal_to(50)`|Find rows with values not equal to 50|\n",
    "|`are.above`|`are.above(50)`|Find rows with values above (and not equal to) 50|\n",
    "|`are.above_or_equal_to`|`are.above_or_equal_to(50)`|Find rows with values above 50 or equal to 50|\n",
    "|`are.below`|`are.below(50)`|Find rows with values below 50|\n",
    "|`are.between`|`are.between(2, 10)`|Find rows with values above or equal to 2 and below 10|\n",
    "|`are.between_or_equal_to`|`are.between_or_equal_to(2, 10)`|Find rows with values above or equal to 2 and below or equal to 10|"
   ]
  },
  {
   "cell_type": "markdown",
   "metadata": {},
   "source": [
    "### 1.3: Sorting Values"
   ]
  },
  {
   "cell_type": "markdown",
   "metadata": {},
   "source": [
    "Now that we are able to select the desired columns and rows that we want, we can sort the values in a certain column. The `sort` method accomplishes this if we pass in the column we want to sort. By default, this method sorts a column's values in ascending order unless an *optional* second argument `descending=True` is passed into `sort`.\n",
    "\n",
    "If we wanted to pass a column that contains text, `sort` will sort the values alphabetically. \n",
    "\n",
    "Our `emissions` data is already sorted by companty name alphabetically from A-Z. However, if we wanted to sort the company names alphabetically from Z-A (i.e. descending order) we would run the cell below."
   ]
  },
  {
   "cell_type": "code",
   "execution_count": 4,
   "metadata": {},
   "outputs": [
    {
     "data": {
      "text/html": [
       "<table border=\"1\" class=\"dataframe\">\n",
       "    <thead>\n",
       "        <tr>\n",
       "            <th>Timestamp</th> <th>Username</th> <th>Name</th> <th>Berkeley SID</th> <th>Berkeley Email </th> <th>Company Name</th> <th>Company Sector</th> <th>If you selected \"Other\" for the previous question, please include the sector that the company belongs in.</th> <th>Year of CDP Disclosure</th> <th>Scope 1 value (metric tons CO2e)</th> <th>Scope 2 value (location-based, metric tons CO2e)</th> <th>Scope 2 value (market-based, metric tons CO2e)</th> <th>Scope 3 value (metric tons CO2e)</th> <th>Total Revenue</th> <th>Currency of Total Revenue</th> <th>Does the company have an internal price on carbon?</th> <th>If so, what is the internal price on carbon the company uses?</th> <th>Company 2 Name</th> <th>Company Sector.1</th> <th>If you selected \"Other\" for the previous question, please include the sector that the company belongs in..1</th> <th>Year of CDP Disclosure.1</th> <th>Scope 1 value (metric tons CO2e).1</th> <th>Scope 2 value (location-based, metric tons CO2e).1</th> <th>Scope 2 value (market-based, metric tons CO2e).1</th> <th>Scope 3 value (metric tons CO2e).1</th> <th>Total Revenue.1</th> <th>Currency of Total Revenue.1</th> <th>Does the company have an internal price on carbon?.1</th> <th>If so, what is the internal price on carbon the company uses?.1</th> <th>What is the company's carbon reduction plan and date? (ex: \"Net Zero Carbon by 2050\")</th> <th>What is the company's renewable energy target and date? (ex: \"100% renewably powered by 2030\")</th> <th>What are some efficiency actions the company is taking in order to lower energy and carbon intensity? (ex: energy efficient motors, low-carbon chips, etc.)</th> <th>Is the company adopting low-carbon technologies, such as buying Electric Delivery vans?</th> <th>Is the company making long-term investments in decarbonization innovations?</th> <th>How is the company engaging its supply chain in carbon reduction?</th> <th>What is the company's carbon reduction plan and date? (ex: \"Net Zero Carbon by 2050\").1</th> <th>What is the company's renewable energy target and date? (ex: \"100% renewably powered by 2030\").1</th> <th>What are some efficiency actions the company is taking in order to lower energy and carbon intensity? (ex: energy efficient motors, low-carbon chips, etc.).1</th> <th>Is the company adopting low-carbon technologies, such as buying Electric Delivery vans?.1</th> <th>Is the company making long-term investments in decarbonization innovations?.1</th> <th>How is the company engaging its supply chain in carbon reduction?.1</th> <th>Identify opportunities for each company to improve its sustainability efforts, based on your assessment of best practices in their industry. What is the one big thing each company should focus more on? (200 words or less)\n",
       "\n",
       "Be sure to address each company in your response. The suggested format would be to dedicate one paragraph for each company. </th> <th>Provide a link for Company #1's Sustainability Report </th> <th>Provide any other link(s) you referenced for Company #1</th> <th>Provide a link for Company #2's Sustainability Report </th> <th>Provide any other link(s) you referenced for Company #2</th> <th>Submit your copy of the Google Sheet used to collect company emissions and activity data. Ensure that the name of your file is \"[Your Name] -  Company Emissions & Activity Data Collection\". </th>\n",
       "        </tr>\n",
       "    </thead>\n",
       "    <tbody>\n",
       "        <tr>\n",
       "            <td>2023/09/18 12:57:01 AM MDT</td> <td>abigail24@berkeley.edu      </td> <td>Abby Crisp     </td> <td>3035787754  </td> <td>abigail24@berkeley.edu      </td> <td>Valero                          </td> <td>Energy                 </td> <td>nan                                                                                                      </td> <td>2022                  </td> <td>2.713e+07                       </td> <td>nan                                             </td> <td>4.88e+06                                      </td> <td>0                               </td> <td>1.76382e+11  </td> <td>USD                      </td> <td>No                                                </td> <td>nan                                                          </td> <td>Iberdrola                  </td> <td>Energy                 </td> <td>nan                                                                                                        </td> <td>2022                    </td> <td>1.32534e+07                       </td> <td>2.08758e+06                                       </td> <td>2.06148e+06                                     </td> <td>3.42257e+06                       </td> <td>3.91135e+10    </td> <td>EUR                        </td> <td>Yes                                                 </td> <td>95                                                             </td> <td>Valero has a 2025 target to reduce and offset 63% of their global refining Scope  ...</td> <td>nan                                                                                           </td> <td>Valero is focused on improving process monitoring and control systems to reduce\n",
       "energy consumption. Many of their refineries use power from renewable s ...</td> <td>nan                                                                                    </td> <td>Last year, more than 40% of growth capital expenditures were invested i ...</td> <td>The extent of their supply chain engagement is the engagement ...</td> <td>Iberdrola aspires to achieve carbon neutrality for Scopes 1 and 2 by 2040, offsetti ...</td> <td>Iberdrola committed 20 years ago to renewable energies and that has led it to invest more th ...</td> <td>Iberdrola makes a significant contribution to increasing reliability in system operation by providing great flexibility pumping capacity. Hydroelectric p ...</td> <td>The extent of their low-carbon technology includes their 20-25 year plan of wind and  ...</td> <td>Iberdrola invested a total of 337.5 million euros in R&D in 2021, a 15% i ...</td> <td>Iberdrola runs an engagement campaign to educate suppliers abou ...</td> <td>Valero has the opportunity to conduct energy audits to identify areas where energy efficiency can be improved within the company's facilities, including production processes, transportation, and logistics. Valero could also take note of other distruptors in the energy industry and consider investing in carbon offset projects as well as imple ...</td> <td>https://www.responsibilityreports.com/HostedData/Respons ...</td> <td>https://www.valero.com/responsibility/environmental-stew ...</td> <td>https://www.iberdrola.com/documents/20125/2931678/gsm23_ ...</td> <td>https://www.worldbenchmarkingalliance.org/publication/el ...</td> <td>https://drive.google.com/u/0/open?usp=forms_web&id=1VeL6FSU6pwcOYIg9O5WImYQOi1ouWrnW                                                                                                          </td>\n",
       "        </tr>\n",
       "        <tr>\n",
       "            <td>2023/09/17 7:10:02 PM MDT </td> <td>abishiva@berkeley.edu       </td> <td>Abi Shiva      </td> <td>3037224269  </td> <td>abishiva@berkeley.edu       </td> <td>Dell Technologies               </td> <td>Technology             </td> <td>nan                                                                                                      </td> <td>2022                  </td> <td>45640                           </td> <td>337606                                          </td> <td>158098                                        </td> <td>2.38717e+07                     </td> <td>1.01197e+11  </td> <td>USD                      </td> <td>No                                                </td> <td>nan                                                          </td> <td>Razer                      </td> <td>Technology             </td> <td>nan                                                                                                        </td> <td>2022                    </td> <td>115.6                             </td> <td>896.1                                             </td> <td>nan                                             </td> <td>6342                              </td> <td>1.2e+09        </td> <td>USD                        </td> <td>No                                                  </td> <td>nan                                                            </td> <td>Net zero greenhouse gas emissions across scopes 1, 2 and 3 by 2050; 50% reduction ...</td> <td>Source 75% of electricity from renewable sources across all Dell Technologies facilities b ...</td> <td>By 2030, more than half of Dell product content will be made from recycled or renewable material; since 2013, Dell reduced the energy intensity of thei ...</td> <td>Dell is designing products to last longer and be easier to repair, refurbish or rec ...</td> <td>Dell Technologies unveiled Concept Luna, a prototype to inspire future  ...</td> <td>Dell will partner with direct material suppliers to meet a sc ...</td> <td>Net zero by 2030                                                                       </td> <td>100% renewable energy to power all our global offices achieved in 2022                          </td> <td>Replacing traditional lighting systems with more efficient LED lights and significantly reducing employees’ air travel for business purposes                 </td> <td>Installed motion sensors alongside lights and filters on window panels to block off e ...</td> <td>Razer introduced the world’s first gaming mice to be certified with UL EC ...</td> <td>Razer requires all suppliers to attain ISO 9001 and ISO 14001 c ...</td> <td>Dell has been a strong advocate of environmental sustainability within the tech sector and has made significant strides in improving the sustainability of their packaging, product design, and server emissions. However, a significant avenue where Dell would best uplift their efforts would be to more heavily invest in their reuse and buy-back  ...</td> <td>https://www.dell.com/en-us/dt/corporate/social-impact/es ...</td> <td>nan                                                         </td> <td>https://assets2.razerzone.com/images/go-green/reports/Ra ...</td> <td>nan                                                         </td> <td>https://drive.google.com/u/0/open?usp=forms_web&id=1e5e8t_TpJi2-slA5wwBDWMKoxP6GU-ph                                                                                                          </td>\n",
       "        </tr>\n",
       "        <tr>\n",
       "            <td>2023/09/17 10:46:14 PM MDT</td> <td>adin-esberg@berkeley.edu    </td> <td>Adin Esberg    </td> <td>3035700498  </td> <td>adin-esberg@berkeley.edu    </td> <td>BP                              </td> <td>Energy                 </td> <td>nan                                                                                                      </td> <td>2022                  </td> <td>3.32e+07                        </td> <td>2.4e+06                                         </td> <td>2.4e+06                                       </td> <td>3.036e+08                       </td> <td>1.57739e+11  </td> <td>USD                      </td> <td>Yes                                               </td> <td>50                                                           </td> <td>Ørsted                     </td> <td>Energy                 </td> <td>nan                                                                                                        </td> <td>2022                    </td> <td>2.142e+06                         </td> <td>53000                                             </td> <td>802                                             </td> <td>3.97e+06                          </td> <td>7.7673e+10     </td> <td>DKK                        </td> <td>Yes                                                 </td> <td>750                                                            </td> <td>Net Zero by 2050 or earlier                                                          </td> <td>Aim to generate 50GW by 2030. No target for using renewable for their own operations.         </td> <td>Reducing purchased electricity, well-testing w/o flaring, efficiency of water injection pumps, predictive emissions monitoring, and general water usage ...</td> <td>Venturing into a offshore wind projects, including a 50/50 joint venture with Equinor. </td> <td>Large commitments to sustainable mobility in the auto sector via large  ...</td> <td>Full scale engagement across all actors in the supply chain.  ...</td> <td>Net Zero Operations by 2040, approved goal by SBTi + 50 GW installed capacity by 2030. </td> <td>100% renewable consumption by 2025                                                              </td> <td>Targeting 10 gCO2e/kWh by 2025 and 1 gCO2e/kWh by 2040 based on 2006 levels. Also has committed to increasing efficiency in their buildings, through bett ...</td> <td>The business model of Ørsted is based around adoption of renewable energy infrastruct ...</td> <td>Building partnerships and investments with environmental/conservation/bio ...</td> <td>The firm has their own \"Supply Chain Decarbonization Programme\" ...</td> <td>In my analysis of BP, I found multiple opportunity areas for better sustainability efforts. I will address my two greatest concerns: opposition to best-available science, and slow renewables transition. BP makes a large emphasis in the CDP disclosure about the definition of 'Science-Backed' and does not support the SBTi (backed by the UN, WW ...</td> <td>https://www.bp.com/content/dam/bp/business-sites/en/glob ...</td> <td>nan                                                         </td> <td>https://orstedcdn.azureedge.net/-/media/2022-annual-repo ...</td> <td>nan                                                         </td> <td>https://drive.google.com/u/0/open?usp=forms_web&id=1YosW2vtRAhKfn0NDgk3PqPSpIi8TzWLq                                                                                                          </td>\n",
       "        </tr>\n",
       "        <tr>\n",
       "            <td>2023/09/14 7:27:27 PM MDT </td> <td>alvgrli@berkeley.edu        </td> <td>Alvin Li       </td> <td>3035751926  </td> <td>alvgrli@berkeley.edu        </td> <td>AIRBUS CE                       </td> <td>Other                  </td> <td>Aerospace                                                                                                </td> <td>2022                  </td> <td>561737                          </td> <td>339313                                          </td> <td>265016                                        </td> <td>4.76092e+08                     </td> <td>52856        </td> <td>EUR                      </td> <td>Yes                                               </td> <td>150                                                          </td> <td>ALSTOM                     </td> <td>Other                  </td> <td>Rolling Stock Manufacturer                                                                                 </td> <td>2022                    </td> <td>107073                            </td> <td>144632                                            </td> <td>121789                                          </td> <td>3.34293e+07                       </td> <td>1.5741e+10     </td> <td>EUR                        </td> <td>No                                                  </td> <td>nan                                                            </td> <td>Scope 1 + 2: Reduce 63% of total emissions by 2030 (baseline 2015 + 1.5°C aligned ...</td> <td>Increase the share of renewable electricity to 100% by 2024 (European Airbus sites: France ...</td> <td>- 4 new aircraft product families (A220, A320neo, A330neo and A350XWB family) \n",
       "- Integrating Sustainable Aviation Fuels (SAFs) in Airbus' older + newer ...</td> <td>- HyPort: hydrogen production + distribution hubs for airport ground transport vehi ...</td> <td>- Airbus Ventures: Silicon Valley, Paris and Tokyo-based venture capita ...</td> <td>- Airbus Supplier Code of Conduct: Safe handling of regulated ...</td> <td>Scope 1 + 2: Reduce 40% of total emissions by 2030 (baseline 2021 + 1.5°C aligned)\n",
       " ...</td> <td>Use 100% of electricity from renewable sources by 2025 \n",
       "(of which 10% produced onsite Alstom ...</td> <td>- Improved Heating, Ventilation and Air Conditioning (HVAC) systems in factory buildings (Sites: France, Germany, Australia, Italy and Belgium)\n",
       "- Generat ...</td> <td>- Coradia iLint: World's 1st hydrogen fuel cell train entering service in Germany, em ...</td> <td>- 5.5 billion EUR deal (completed January 2021): Creating a \"Sustainable  ...</td> <td>Sustainable procurement strategy\n",
       "- Ethics and Sustainable Devel ...</td> <td>For Airbus, strong efforts in sustainable aviation fuel (SAF) transitions and aircraft body material redesigns brands Airbus' image as decently sustainable. A major improvement to focus on is more efforts with boldly disclosing their supply chain engagement activities and plans in carbon reduction. Highlight some improvements starting from w ...</td> <td>https://www.airbus.com/sites/g/files/jlcbta136/files/202 ...</td> <td>nan                                                         </td> <td>https://www.alstom.com/sites/alstom.com/files/2023/07/10 ...</td> <td>nan                                                         </td> <td>https://drive.google.com/u/0/open?usp=forms_web&id=1SlGIOyOIPBksHfaSwXGvMH3RT6Sfjfyz                                                                                                          </td>\n",
       "        </tr>\n",
       "        <tr>\n",
       "            <td>2023/09/17 1:10:53 AM MDT </td> <td>amanda.hoang@berkeley.edu   </td> <td>Amanda Hoang   </td> <td>3036149154  </td> <td>amanda.hoang@berkeley.edu   </td> <td>Volkswagen AG                   </td> <td>Other                  </td> <td>Automotive                                                                                               </td> <td>2022                  </td> <td>4.74087e+06                     </td> <td>5.19596e+06                                     </td> <td>2.42214e+06                                   </td> <td>3.53561e+09                     </td> <td>2.502e+11    </td> <td>EUR                      </td> <td>Yes                                               </td> <td>475                                                          </td> <td>Toyota Motor Corporation   </td> <td>Other                  </td> <td>Automotive                                                                                                 </td> <td>2022                    </td> <td>2.56e+06                          </td> <td>3.9e+06                                           </td> <td>3.69e+06                                        </td> <td>1.05955e+08                       </td> <td>8.12472e+06    </td> <td>JPY                        </td> <td>Yes                                                 </td> <td>475                                                            </td> <td>50% carbon reduction compared to 2018 levels by 2030                                 </td> <td>100% increase low-carbon consumption by 2030 compared to 2020 levels                          </td> <td>To target low-carbon energy consumption, Volkswagen AG aims to switch to\n",
       "renewable energy supply (electricity and biofuels). They also aim to focus on\n",
       " ...</td> <td>Yes. In terms of group of products or services, Volkswagen AG is looking to manufac ...</td> <td>Yes. From 2022-2026, Volkswagen AG is going to invest around € 89 billi ...</td> <td>In mid-2019, a sustainability rating (S rating) was introduce ...</td> <td>Absolute target to reduce carbon emissions by 30% by 2025 compared to their 2013 levels</td> <td>25% increased in low-carbon energy consumption or production by 2025 compared to their 2018  ...</td> <td>To target energy efficiency in production processes, the coporation is \n",
       "focused on an ongoing machine/equipment replacement with the\n",
       "introduction of inno ...</td> <td>To focus on power generation from renewable sources, the corporation\n",
       "focuses on using ...</td> <td>Yes. The corporation announced a new plan to enhance the lineup of\n",
       "electr ...</td> <td>To reach the common goal of carbon neutrality by 2050, Toyota M ...</td> <td>It’s commendable, to say the least, that both Volkswagen AG and Toyota Motor Corporation aim to achieve a more sustainable automotive industry, however, if we were to compare the two, Volkswagen AG has a more ambitious goal of cutting their emissions by 50.5% compared to Toyota Motor Corporation, falling 20% short. \n",
       "\n",
       "For Volkswagen AG, they  ...</td> <td>https://annualreport2022.volkswagenag.com/group-manageme ...</td> <td>nan                                                         </td> <td>https://www.responsibilityreports.com/Company/toyota-mot ...</td> <td>nan                                                         </td> <td>https://drive.google.com/u/0/open?usp=forms_web&id=1f-wiNP3Ft9A6ghB41B7tjAs-Ls-hxXnQ                                                                                                          </td>\n",
       "        </tr>\n",
       "        <tr>\n",
       "            <td>2023/09/17 8:51:52 PM MDT </td> <td>aminah.merchant@berkeley.edu</td> <td>Aminah Merchant</td> <td>3036613012  </td> <td>aminah.merchant@berkeley.edu</td> <td>Duke Energy Corporation         </td> <td>Energy                 </td> <td>nan                                                                                                      </td> <td>2022                  </td> <td>7.8e+07                         </td> <td>2100                                            </td> <td>nan                                           </td> <td>17500                           </td> <td>2.5097e+10   </td> <td>USD                      </td> <td>Yes                                               </td> <td>5                                                            </td> <td>Brookfield Renewable Energy</td> <td>Energy                 </td> <td>nan                                                                                                        </td> <td>2022                    </td> <td>134870                            </td> <td>51821                                             </td> <td>55301                                           </td> <td>1.30305e+06                       </td> <td>4.069e+09      </td> <td>USD                        </td> <td>No                                                  </td> <td>nan                                                            </td> <td>Goal #1: 50% reduction in Scope 1 CO2 emissions from electricity generation by 20 ...</td> <td>Goal #1: 100% of U.S. office portfolio committed to be powered by clean energy by 2026\n",
       "Goa ...</td> <td>•  Eliminated all cast iron and bare steel main piping in distribution companies, a major contributor to methane leakage. This resulted in a 96% reduct ...</td> <td>• Plan for $300,000,000 Investment for 225 MW of solar energy generation (Scope 1)\n",
       " ...</td> <td>Yes                                                                        </td> <td> • Runs engagement campaign to educate suppliers about climat ...</td> <td>Goal #1: Net-zero emissions by 2050 or sooner\n",
       "Goal #2: Set emissions reduction targ ...</td> <td>Goal #1: develop an additional 21,000 MW of new clean energy capacity by 2030\n",
       "        • This ...</td> <td> • Energy generation is prioritized from hydroelectric facilities, a higher proportion of biomass generation is only incurred during periods of low preci ...</td> <td> • Hydroelectric power generation--- ~18000000 metric tons of avoided CO2 emissions\n",
       "• ...</td> <td>Yes                                                                          </td> <td>•  Collects climate change and carbon information at least annu ...</td> <td>As the largest investor-owned electric utility in the U.S., Duke Energy’s proclaimed investments in solar and wind energy are miniscule compared to its vast size. While the corporation has drastically reduced its coal/oil usage for power generation (from 60% in 2005 to 17% in 2022) due to EPA lawsuits, it has replaced its coal infrastructure ...</td> <td>https://p-cd.duke-energy.com/-/media/pdfs/our-company/es ...</td> <td>nan                                                         </td> <td>https://bep.brookfield.com/sites/bep-brookfield-ir/files ...</td> <td>https://www.brookfield.com/responsibility/2022-sustainab ...</td> <td>https://drive.google.com/u/0/open?usp=forms_web&id=1aer16ss8mBpKbCz6-322oCwz-5PF5ByW                                                                                                          </td>\n",
       "        </tr>\n",
       "        <tr>\n",
       "            <td>2023/09/18 1:00:44 AM MDT </td> <td>an1nhu6le@berkeley.edu      </td> <td>An Le          </td> <td>3037778486  </td> <td>an1nhu6le@berkeley.edu      </td> <td>Pepsico                         </td> <td>Consumer Packaged Goods</td> <td>nan                                                                                                      </td> <td>2022                  </td> <td>3.59671e+06                     </td> <td>1.81111e+06                                     </td> <td>683136                                        </td> <td>5.97647e+07                     </td> <td>7.9474e+10   </td> <td>USD                      </td> <td>Yes                                               </td> <td>50                                                           </td> <td>Tetra Pak                  </td> <td>Consumer Packaged Goods</td> <td>nan                                                                                                        </td> <td>2022                    </td> <td>64057                             </td> <td>361522                                            </td> <td>74323                                           </td> <td>1.32806e+07                       </td> <td>1.1145e+10     </td> <td>EUR                        </td> <td>Yes                                                 </td> <td>25                                                             </td> <td>Goal 1: ↓40% emissions from 2016-2030 (↓75% Scope 1 & 2 emissions + ↓ 40% Scope 3 ...</td> <td>100% renewable electricity for all operations by 2030                                         </td> <td>\n",
       "       --> new wind/solar installations @ plants / distribution centers (local + sector)\n",
       "       --> more renewable E is purchased thru local grid\n",
       "     ...</td> <td>- improved E efficiency in buildings\n",
       "       --> HVAC (heating, vent. + AC)\n",
       "       - ...</td> <td>- compliance\n",
       "- employee engagement / collaboration\n",
       "- internal incentive ...</td> <td>- supplier info collection\n",
       "       -->behavior,climate change/ ...</td> <td>46% emissions reduction by 2030                                                        </td> <td>100% renewable electricity target for the year 2030 \n",
       "       - all controlled operations + pu ...</td> <td>- Low C E generation\n",
       "       --> solar PV\n",
       "- improved E efficiency in buildings\n",
       "       --> lighting\n",
       "       --> HVAC                                            </td> <td>no; switching to natural gas boilers to heat pumps (baby steps...)                       </td> <td>yes:\n",
       "\n",
       "- Compliance w/ regulatory standards\n",
       "- budget for E efficiency\n",
       "- In ...</td> <td>- supplier info collection\n",
       "       -->report all upstream (cradl ...</td> <td>Though PepsiCo is a reporting a various sustainable initiatives, the company can can improve sustainability by reducing plastic use and exploring more alternate packaging options. Their current focus seems to be more of buying off what emissions they can reduce, as opposed to tackling the issue at its root (their goods / production means). \n",
       " ...</td> <td>https://www.pepsico.com/docs/default-source/sustainabili ...</td> <td>nan                                                         </td> <td>https://www.tetrapak.com/content/dam/tetrapak/media-box/ ...</td> <td>nan                                                         </td> <td>https://drive.google.com/u/0/open?usp=forms_web&id=1-BeBOV9FJx-ZAJrcPeQOgk3JS84ELmyJ                                                                                                          </td>\n",
       "        </tr>\n",
       "        <tr>\n",
       "            <td>2023/09/18 12:11:56 AM MDT</td> <td>andrewdevlin@berkeley.edu   </td> <td>Andrew         </td> <td>3034531501  </td> <td>andrewdevlin@berkeley.edu   </td> <td>Avis Budget                     </td> <td>Transportation         </td> <td>nan                                                                                                      </td> <td>2022                  </td> <td>6.03929e+06                     </td> <td>42481                                           </td> <td>nan                                           </td> <td>0                               </td> <td>9.313e+09    </td> <td>$USD                     </td> <td>No                                                </td> <td>nan                                                          </td> <td>Hertz                      </td> <td>Transportation         </td> <td>nan                                                                                                        </td> <td>2022                    </td> <td>3.73592e+06                       </td> <td>88241                                             </td> <td>93627                                           </td> <td>0                                 </td> <td>7.336e+09      </td> <td>$USD                       </td> <td>No                                                  </td> <td>nan                                                            </td> <td>30% reduction of 2018 levels by 2030                                                 </td> <td>70% renewable target by 2030 -- 5% in 2022                                                    </td> <td>Fuel efficiency in fleet is the most significant. It costs $3000 extra to buy EV/hybrid with $1273 savings in fuel costs to the owner annually.            </td> <td>Adopting electric vehicles in its fleet is the major method of carbon reduction.       </td> <td>The company is not investing in decarbonization inventions but is in bu ...</td> <td>The company offers corporate clients carbon offsets. It also  ...</td> <td>No target, developing over next 2 years intended to align with 1.5C                    </td> <td>No target, developing over next 2 years                                                         </td> <td>Fuel efficiency in its car fleet through the use of EVs/Hybrids is its main method.                                                                          </td> <td>Expanding electric vehicle fleet, headlined by plan to purchase 100k Tesla vehicles.  ...</td> <td>Limited to none for inventions, but the company generally funds lobbying  ...</td> <td>It does not really. It does ask suppliers to \"support\" Hertz by ...</td> <td>Avis and Hertz are notable as ICE cars and business travel are particularly harmful, yet rental cars are a main source of used cars and thus can be a key conduit for the broader adoption of affordable EV's at scale. Although Avis scores a B and has stated emissions/renewable goals, Hertz (C grade) seems further in the EV transition. \n",
       "\n",
       "Avis h ...</td> <td>https://avisbudgetgroup.com/wp-content/uploads/2022/10/E ...</td> <td>https://www.cdp.net/en/formatted_responses/responses?cam ...</td> <td>https://images.hertz.com/pdfs/Hertz-2019-Corporate-Respo ...</td> <td>https://www.cdp.net/en/formatted_responses/responses?cam ...</td> <td>https://drive.google.com/u/0/open?usp=forms_web&id=1M4aeocY9GhxkdXADfICym_eA1edplHiY                                                                                                          </td>\n",
       "        </tr>\n",
       "        <tr>\n",
       "            <td>2023/09/17 7:38:52 PM MDT </td> <td>aw1635@berkeley.edu         </td> <td>Anna Wilcox    </td> <td>3036652168  </td> <td>aw1635@berkeley.edu         </td> <td>Packaging Corporation of America</td> <td>Other                  </td> <td>packaging                                                                                                </td> <td>2022                  </td> <td>1.95e+06                        </td> <td>1.06e+06                                        </td> <td>1.62e+06                                      </td> <td>2.484e+06                       </td> <td>8.478e+09    </td> <td>USD                      </td> <td>No                                                </td> <td>nan                                                          </td> <td>Arkay Packaging Corp       </td> <td>Other                  </td> <td>packaging                                                                                                  </td> <td>2021                    </td> <td>219                               </td> <td>3331                                              </td> <td>nan                                             </td> <td>12825                             </td> <td>4.3e+07        </td> <td>USD                        </td> <td>No                                                  </td> <td>nan                                                            </td> <td>PCA’s carbon reduction targets are as follows: 35% reduction of scopes 1 and 2 (m ...</td> <td>PCA’s 2030 goal is to support 800,000 MWh/year of carbon-pollution-free electricity genera ...</td> <td>PCA’s mills have improved their energy efficiency by replacing fixed speed with variable speed electrical drives. Additionally, PCA has been striving t ...</td> <td>PCA is working on improving the recycling rates of their products. To reduce carbon ...</td> <td>PCA is planning on using carbon capture and storage (CCS) technologies  ...</td> <td>PCA is expecting the electrical grid to become more renewable ...</td> <td>Arkay Packaging Corporation is currently carbon neutral, a status validated by Natu ...</td> <td>Arkay’s renewable energy goals are to reduce overall energy consumption, and thus reduce the ...</td> <td>Arkay offsets their GHG emissions through the purchase of Green-e Energy certified renewable energy credits and carbon offsets. All carbon offsets are pu ...</td> <td>Arkay has not stated that they are adopting any low-carbon technologies at this time.    </td> <td>Arkay is planning on using more reusable materials for packaging to meet  ...</td> <td>In terms of sourcing materials, Arkay is certified to the Susta ...</td> <td>The Packaging Corporation of America should improve their sourcing of materials, and the renewability of their energy. Only 33 percent of first-use fiber comes from certified forests; PCA should work with the Sustainability Forest Inititative to source 100% of their wood and paper product materials from sustainably harvested forests. A point ...</td> <td>https://www.packagingcorp.com/filebin/pdf/Responsibility ...</td> <td>https://www.cdp.net/en/formatted_responses/responses?cam ...</td> <td>https://www.arkay.com/wp-content/uploads/2023/05/Arkay-2 ...</td> <td>https://www.cdp.net/en/formatted_responses/responses?cam ...</td> <td>https://drive.google.com/u/0/open?usp=forms_web&id=1ib-GvlfiMM3Fp0kkW6bL5yan2OWQyMLO                                                                                                          </td>\n",
       "        </tr>\n",
       "        <tr>\n",
       "            <td>2023/09/08 11:45:30 PM MDT</td> <td>bellashahidi1@berkeley.edu  </td> <td>Bella Shahidi  </td> <td>3036661515  </td> <td>bellashahidi1@berkeley.edu  </td> <td>Nike INC                        </td> <td>nan                    </td> <td>nan                                                                                                      </td> <td>2022                  </td> <td>42720                           </td> <td>251578                                          </td> <td>76420                                         </td> <td>6.87838e+06                     </td> <td>4.45e+10     </td> <td>USD                      </td> <td>No                                                </td> <td>nan                                                          </td> <td>Home Depot                 </td> <td>nan                    </td> <td>nan                                                                                                        </td> <td>2022                    </td> <td>642070                            </td> <td>1.00715e+06                                       </td> <td>992128                                          </td> <td>1.96598e+08                       </td> <td>1.51157e+11    </td> <td>USD                        </td> <td>No                                                  </td> <td>nan                                                            </td> <td>Net Zero Carbon by 2050                                                              </td> <td>Achieve 100% renewable electricity usage in owned or operated facilities by the end of 2030   </td> <td>Energy efficiency in buildings, and transitioned to sustainably-sourced, renewable biomass.                                                                </td> <td>Efficiency improvements through Nike’s Energy Minimum Program:\n",
       "- Maximize onsite so ...</td> <td>- Commitment to innovation for decarbonization.\n",
       "- Allocation of resourc ...</td> <td>- Engagement with key suppliers to achieve greenhouse gas emi ...</td> <td>The minimum reduction required is 49% absolute emissions reduction from 2010 to 205 ...</td> <td>Achieve 100% renewable electricity equivalent to the electricity needs for all Home Depot fa ...</td> <td>- Energy conservation efforts, including the implementation of energy conservation measures.\n",
       "- Investments in store energy management upgrades, such as L ...</td> <td>- Hands-on training and resources for customers to reduce their energy consumption.\n",
       "- ...</td> <td>- Marketing support investment of over $26 million in 2021 for Eco Option ...</td> <td>- Type of Engagement: Innovation & collaboration (changing mark ...</td> <td>Nike:\n",
       "Nike has excelled in renewable energy adoption and supply chain engagement but could further enhance sustainability by prioritizing circularity in its products. The fashion industry's environmental impact is considerable, and Nike can lead by emphasizing sustainable product design, recycling, and product longevity. Effective recycling  ...</td> <td>https://www.cdp.net/en/formatted_responses/responses?cam ...</td> <td>nan                                                         </td> <td>https://www.cdp.net/en/formatted_responses/responses?cam ...</td> <td>nan                                                         </td> <td>https://drive.google.com/u/0/open?usp=forms_web&id=1gZlsMcuIGyevmPIkXL6Eb9XSNYrO--yZ                                                                                                          </td>\n",
       "        </tr>\n",
       "    </tbody>\n",
       "</table>\n",
       "<p>... (74 rows omitted)</p>"
      ],
      "text/plain": [
       "Timestamp                  | Username                     | Name            | Berkeley SID | Berkeley Email               | Company Name                     | Company Sector          | If you selected \"Other\" for the previous question, please include the sector that the company belongs in. | Year of CDP Disclosure | Scope 1 value (metric tons CO2e) | Scope 2 value (location-based, metric tons CO2e) | Scope 2 value (market-based, metric tons CO2e) | Scope 3 value (metric tons CO2e) | Total Revenue | Currency of Total Revenue | Does the company have an internal price on carbon? | If so, what is the internal price on carbon the company uses? | Company 2 Name              | Company Sector.1        | If you selected \"Other\" for the previous question, please include the sector that the company belongs in..1 | Year of CDP Disclosure.1 | Scope 1 value (metric tons CO2e).1 | Scope 2 value (location-based, metric tons CO2e).1 | Scope 2 value (market-based, metric tons CO2e).1 | Scope 3 value (metric tons CO2e).1 | Total Revenue.1 | Currency of Total Revenue.1 | Does the company have an internal price on carbon?.1 | If so, what is the internal price on carbon the company uses?.1 | What is the company's carbon reduction plan and date? (ex: \"Net Zero Carbon by 2050\") | What is the company's renewable energy target and date? (ex: \"100% renewably powered by 2030\") | What are some efficiency actions the company is taking in order to lower energy and carbon intensity? (ex: energy efficient motors, low-carbon chips, etc.) | Is the company adopting low-carbon technologies, such as buying Electric Delivery vans? | Is the company making long-term investments in decarbonization innovations? | How is the company engaging its supply chain in carbon reduction? | What is the company's carbon reduction plan and date? (ex: \"Net Zero Carbon by 2050\").1 | What is the company's renewable energy target and date? (ex: \"100% renewably powered by 2030\").1 | What are some efficiency actions the company is taking in order to lower energy and carbon intensity? (ex: energy efficient motors, low-carbon chips, etc.).1 | Is the company adopting low-carbon technologies, such as buying Electric Delivery vans?.1 | Is the company making long-term investments in decarbonization innovations?.1 | How is the company engaging its supply chain in carbon reduction?.1 | Identify opportunities for each company to improve its sustainability efforts, based on your assessment of best practices in their industry. What is the one big thing each company should focus more on? (200 words or less)\n",
       "\n",
       "Be sure to address each company in your response. The suggested format would be to dedicate one paragraph for each company.  | Provide a link for Company #1's Sustainability Report        | Provide any other link(s) you referenced for Company #1      | Provide a link for Company #2's Sustainability Report        | Provide any other link(s) you referenced for Company #2      | Submit your copy of the Google Sheet used to collect company emissions and activity data. Ensure that the name of your file is \"[Your Name] -  Company Emissions & Activity Data Collection\".\n",
       "2023/09/18 12:57:01 AM MDT | abigail24@berkeley.edu       | Abby Crisp      | 3035787754   | abigail24@berkeley.edu       | Valero                           | Energy                  | nan                                                                                                       | 2022                   | 2.713e+07                        | nan                                              | 4.88e+06                                       | 0                                | 1.76382e+11   | USD                       | No                                                 | nan                                                           | Iberdrola                   | Energy                  | nan                                                                                                         | 2022                     | 1.32534e+07                        | 2.08758e+06                                        | 2.06148e+06                                      | 3.42257e+06                        | 3.91135e+10     | EUR                         | Yes                                                  | 95                                                              | Valero has a 2025 target to reduce and offset 63% of their global refining Scope  ... | nan                                                                                            | Valero is focused on improving process monitoring and control systems to reduce\n",
       "energy consumption. Many of their refineries use power from renewable s ... | nan                                                                                     | Last year, more than 40% of growth capital expenditures were invested i ... | The extent of their supply chain engagement is the engagement ... | Iberdrola aspires to achieve carbon neutrality for Scopes 1 and 2 by 2040, offsetti ... | Iberdrola committed 20 years ago to renewable energies and that has led it to invest more th ... | Iberdrola makes a significant contribution to increasing reliability in system operation by providing great flexibility pumping capacity. Hydroelectric p ... | The extent of their low-carbon technology includes their 20-25 year plan of wind and  ... | Iberdrola invested a total of 337.5 million euros in R&D in 2021, a 15% i ... | Iberdrola runs an engagement campaign to educate suppliers abou ... | Valero has the opportunity to conduct energy audits to identify areas where energy efficiency can be improved within the company's facilities, including production processes, transportation, and logistics. Valero could also take note of other distruptors in the energy industry and consider investing in carbon offset projects as well as imple ... | https://www.responsibilityreports.com/HostedData/Respons ... | https://www.valero.com/responsibility/environmental-stew ... | https://www.iberdrola.com/documents/20125/2931678/gsm23_ ... | https://www.worldbenchmarkingalliance.org/publication/el ... | https://drive.google.com/u/0/open?usp=forms_web&id=1VeL6FSU6pwcOYIg9O5WImYQOi1ouWrnW\n",
       "2023/09/17 7:10:02 PM MDT  | abishiva@berkeley.edu        | Abi Shiva       | 3037224269   | abishiva@berkeley.edu        | Dell Technologies                | Technology              | nan                                                                                                       | 2022                   | 45640                            | 337606                                           | 158098                                         | 2.38717e+07                      | 1.01197e+11   | USD                       | No                                                 | nan                                                           | Razer                       | Technology              | nan                                                                                                         | 2022                     | 115.6                              | 896.1                                              | nan                                              | 6342                               | 1.2e+09         | USD                         | No                                                   | nan                                                             | Net zero greenhouse gas emissions across scopes 1, 2 and 3 by 2050; 50% reduction ... | Source 75% of electricity from renewable sources across all Dell Technologies facilities b ... | By 2030, more than half of Dell product content will be made from recycled or renewable material; since 2013, Dell reduced the energy intensity of thei ... | Dell is designing products to last longer and be easier to repair, refurbish or rec ... | Dell Technologies unveiled Concept Luna, a prototype to inspire future  ... | Dell will partner with direct material suppliers to meet a sc ... | Net zero by 2030                                                                        | 100% renewable energy to power all our global offices achieved in 2022                           | Replacing traditional lighting systems with more efficient LED lights and significantly reducing employees’ air travel for business purposes                  | Installed motion sensors alongside lights and filters on window panels to block off e ... | Razer introduced the world’s first gaming mice to be certified with UL EC ... | Razer requires all suppliers to attain ISO 9001 and ISO 14001 c ... | Dell has been a strong advocate of environmental sustainability within the tech sector and has made significant strides in improving the sustainability of their packaging, product design, and server emissions. However, a significant avenue where Dell would best uplift their efforts would be to more heavily invest in their reuse and buy-back  ... | https://www.dell.com/en-us/dt/corporate/social-impact/es ... | nan                                                          | https://assets2.razerzone.com/images/go-green/reports/Ra ... | nan                                                          | https://drive.google.com/u/0/open?usp=forms_web&id=1e5e8t_TpJi2-slA5wwBDWMKoxP6GU-ph\n",
       "2023/09/17 10:46:14 PM MDT | adin-esberg@berkeley.edu     | Adin Esberg     | 3035700498   | adin-esberg@berkeley.edu     | BP                               | Energy                  | nan                                                                                                       | 2022                   | 3.32e+07                         | 2.4e+06                                          | 2.4e+06                                        | 3.036e+08                        | 1.57739e+11   | USD                       | Yes                                                | 50                                                            | Ørsted                      | Energy                  | nan                                                                                                         | 2022                     | 2.142e+06                          | 53000                                              | 802                                              | 3.97e+06                           | 7.7673e+10      | DKK                         | Yes                                                  | 750                                                             | Net Zero by 2050 or earlier                                                           | Aim to generate 50GW by 2030. No target for using renewable for their own operations.          | Reducing purchased electricity, well-testing w/o flaring, efficiency of water injection pumps, predictive emissions monitoring, and general water usage ... | Venturing into a offshore wind projects, including a 50/50 joint venture with Equinor.  | Large commitments to sustainable mobility in the auto sector via large  ... | Full scale engagement across all actors in the supply chain.  ... | Net Zero Operations by 2040, approved goal by SBTi + 50 GW installed capacity by 2030.  | 100% renewable consumption by 2025                                                               | Targeting 10 gCO2e/kWh by 2025 and 1 gCO2e/kWh by 2040 based on 2006 levels. Also has committed to increasing efficiency in their buildings, through bett ... | The business model of Ørsted is based around adoption of renewable energy infrastruct ... | Building partnerships and investments with environmental/conservation/bio ... | The firm has their own \"Supply Chain Decarbonization Programme\" ... | In my analysis of BP, I found multiple opportunity areas for better sustainability efforts. I will address my two greatest concerns: opposition to best-available science, and slow renewables transition. BP makes a large emphasis in the CDP disclosure about the definition of 'Science-Backed' and does not support the SBTi (backed by the UN, WW ... | https://www.bp.com/content/dam/bp/business-sites/en/glob ... | nan                                                          | https://orstedcdn.azureedge.net/-/media/2022-annual-repo ... | nan                                                          | https://drive.google.com/u/0/open?usp=forms_web&id=1YosW2vtRAhKfn0NDgk3PqPSpIi8TzWLq\n",
       "2023/09/14 7:27:27 PM MDT  | alvgrli@berkeley.edu         | Alvin Li        | 3035751926   | alvgrli@berkeley.edu         | AIRBUS CE                        | Other                   | Aerospace                                                                                                 | 2022                   | 561737                           | 339313                                           | 265016                                         | 4.76092e+08                      | 52856         | EUR                       | Yes                                                | 150                                                           | ALSTOM                      | Other                   | Rolling Stock Manufacturer                                                                                  | 2022                     | 107073                             | 144632                                             | 121789                                           | 3.34293e+07                        | 1.5741e+10      | EUR                         | No                                                   | nan                                                             | Scope 1 + 2: Reduce 63% of total emissions by 2030 (baseline 2015 + 1.5°C aligned ... | Increase the share of renewable electricity to 100% by 2024 (European Airbus sites: France ... | - 4 new aircraft product families (A220, A320neo, A330neo and A350XWB family) \n",
       "- Integrating Sustainable Aviation Fuels (SAFs) in Airbus' older + newer ... | - HyPort: hydrogen production + distribution hubs for airport ground transport vehi ... | - Airbus Ventures: Silicon Valley, Paris and Tokyo-based venture capita ... | - Airbus Supplier Code of Conduct: Safe handling of regulated ... | Scope 1 + 2: Reduce 40% of total emissions by 2030 (baseline 2021 + 1.5°C aligned)\n",
       " ... | Use 100% of electricity from renewable sources by 2025 \n",
       "(of which 10% produced onsite Alstom ... | - Improved Heating, Ventilation and Air Conditioning (HVAC) systems in factory buildings (Sites: France, Germany, Australia, Italy and Belgium)\n",
       "- Generat ... | - Coradia iLint: World's 1st hydrogen fuel cell train entering service in Germany, em ... | - 5.5 billion EUR deal (completed January 2021): Creating a \"Sustainable  ... | Sustainable procurement strategy\n",
       "- Ethics and Sustainable Devel ... | For Airbus, strong efforts in sustainable aviation fuel (SAF) transitions and aircraft body material redesigns brands Airbus' image as decently sustainable. A major improvement to focus on is more efforts with boldly disclosing their supply chain engagement activities and plans in carbon reduction. Highlight some improvements starting from w ... | https://www.airbus.com/sites/g/files/jlcbta136/files/202 ... | nan                                                          | https://www.alstom.com/sites/alstom.com/files/2023/07/10 ... | nan                                                          | https://drive.google.com/u/0/open?usp=forms_web&id=1SlGIOyOIPBksHfaSwXGvMH3RT6Sfjfyz\n",
       "2023/09/17 1:10:53 AM MDT  | amanda.hoang@berkeley.edu    | Amanda Hoang    | 3036149154   | amanda.hoang@berkeley.edu    | Volkswagen AG                    | Other                   | Automotive                                                                                                | 2022                   | 4.74087e+06                      | 5.19596e+06                                      | 2.42214e+06                                    | 3.53561e+09                      | 2.502e+11     | EUR                       | Yes                                                | 475                                                           | Toyota Motor Corporation    | Other                   | Automotive                                                                                                  | 2022                     | 2.56e+06                           | 3.9e+06                                            | 3.69e+06                                         | 1.05955e+08                        | 8.12472e+06     | JPY                         | Yes                                                  | 475                                                             | 50% carbon reduction compared to 2018 levels by 2030                                  | 100% increase low-carbon consumption by 2030 compared to 2020 levels                           | To target low-carbon energy consumption, Volkswagen AG aims to switch to\n",
       "renewable energy supply (electricity and biofuels). They also aim to focus on\n",
       " ... | Yes. In terms of group of products or services, Volkswagen AG is looking to manufac ... | Yes. From 2022-2026, Volkswagen AG is going to invest around € 89 billi ... | In mid-2019, a sustainability rating (S rating) was introduce ... | Absolute target to reduce carbon emissions by 30% by 2025 compared to their 2013 levels | 25% increased in low-carbon energy consumption or production by 2025 compared to their 2018  ... | To target energy efficiency in production processes, the coporation is \n",
       "focused on an ongoing machine/equipment replacement with the\n",
       "introduction of inno ... | To focus on power generation from renewable sources, the corporation\n",
       "focuses on using ... | Yes. The corporation announced a new plan to enhance the lineup of\n",
       "electr ... | To reach the common goal of carbon neutrality by 2050, Toyota M ... | It’s commendable, to say the least, that both Volkswagen AG and Toyota Motor Corporation aim to achieve a more sustainable automotive industry, however, if we were to compare the two, Volkswagen AG has a more ambitious goal of cutting their emissions by 50.5% compared to Toyota Motor Corporation, falling 20% short. \n",
       "\n",
       "For Volkswagen AG, they  ... | https://annualreport2022.volkswagenag.com/group-manageme ... | nan                                                          | https://www.responsibilityreports.com/Company/toyota-mot ... | nan                                                          | https://drive.google.com/u/0/open?usp=forms_web&id=1f-wiNP3Ft9A6ghB41B7tjAs-Ls-hxXnQ\n",
       "2023/09/17 8:51:52 PM MDT  | aminah.merchant@berkeley.edu | Aminah Merchant | 3036613012   | aminah.merchant@berkeley.edu | Duke Energy Corporation          | Energy                  | nan                                                                                                       | 2022                   | 7.8e+07                          | 2100                                             | nan                                            | 17500                            | 2.5097e+10    | USD                       | Yes                                                | 5                                                             | Brookfield Renewable Energy | Energy                  | nan                                                                                                         | 2022                     | 134870                             | 51821                                              | 55301                                            | 1.30305e+06                        | 4.069e+09       | USD                         | No                                                   | nan                                                             | Goal #1: 50% reduction in Scope 1 CO2 emissions from electricity generation by 20 ... | Goal #1: 100% of U.S. office portfolio committed to be powered by clean energy by 2026\n",
       "Goa ... | •  Eliminated all cast iron and bare steel main piping in distribution companies, a major contributor to methane leakage. This resulted in a 96% reduct ... | • Plan for $300,000,000 Investment for 225 MW of solar energy generation (Scope 1)\n",
       " ... | Yes                                                                         |  • Runs engagement campaign to educate suppliers about climat ... | Goal #1: Net-zero emissions by 2050 or sooner\n",
       "Goal #2: Set emissions reduction targ ... | Goal #1: develop an additional 21,000 MW of new clean energy capacity by 2030\n",
       "        • This ... |  • Energy generation is prioritized from hydroelectric facilities, a higher proportion of biomass generation is only incurred during periods of low preci ... |  • Hydroelectric power generation--- ~18000000 metric tons of avoided CO2 emissions\n",
       "• ... | Yes                                                                           | •  Collects climate change and carbon information at least annu ... | As the largest investor-owned electric utility in the U.S., Duke Energy’s proclaimed investments in solar and wind energy are miniscule compared to its vast size. While the corporation has drastically reduced its coal/oil usage for power generation (from 60% in 2005 to 17% in 2022) due to EPA lawsuits, it has replaced its coal infrastructure ... | https://p-cd.duke-energy.com/-/media/pdfs/our-company/es ... | nan                                                          | https://bep.brookfield.com/sites/bep-brookfield-ir/files ... | https://www.brookfield.com/responsibility/2022-sustainab ... | https://drive.google.com/u/0/open?usp=forms_web&id=1aer16ss8mBpKbCz6-322oCwz-5PF5ByW\n",
       "2023/09/18 1:00:44 AM MDT  | an1nhu6le@berkeley.edu       | An Le           | 3037778486   | an1nhu6le@berkeley.edu       | Pepsico                          | Consumer Packaged Goods | nan                                                                                                       | 2022                   | 3.59671e+06                      | 1.81111e+06                                      | 683136                                         | 5.97647e+07                      | 7.9474e+10    | USD                       | Yes                                                | 50                                                            | Tetra Pak                   | Consumer Packaged Goods | nan                                                                                                         | 2022                     | 64057                              | 361522                                             | 74323                                            | 1.32806e+07                        | 1.1145e+10      | EUR                         | Yes                                                  | 25                                                              | Goal 1: ↓40% emissions from 2016-2030 (↓75% Scope 1 & 2 emissions + ↓ 40% Scope 3 ... | 100% renewable electricity for all operations by 2030                                          | \n",
       "       --> new wind/solar installations @ plants / distribution centers (local + sector)\n",
       "       --> more renewable E is purchased thru local grid\n",
       "     ... | - improved E efficiency in buildings\n",
       "       --> HVAC (heating, vent. + AC)\n",
       "       - ... | - compliance\n",
       "- employee engagement / collaboration\n",
       "- internal incentive ... | - supplier info collection\n",
       "       -->behavior,climate change/ ... | 46% emissions reduction by 2030                                                         | 100% renewable electricity target for the year 2030 \n",
       "       - all controlled operations + pu ... | - Low C E generation\n",
       "       --> solar PV\n",
       "- improved E efficiency in buildings\n",
       "       --> lighting\n",
       "       --> HVAC                                             | no; switching to natural gas boilers to heat pumps (baby steps...)                        | yes:\n",
       "\n",
       "- Compliance w/ regulatory standards\n",
       "- budget for E efficiency\n",
       "- In ... | - supplier info collection\n",
       "       -->report all upstream (cradl ... | Though PepsiCo is a reporting a various sustainable initiatives, the company can can improve sustainability by reducing plastic use and exploring more alternate packaging options. Their current focus seems to be more of buying off what emissions they can reduce, as opposed to tackling the issue at its root (their goods / production means). \n",
       " ... | https://www.pepsico.com/docs/default-source/sustainabili ... | nan                                                          | https://www.tetrapak.com/content/dam/tetrapak/media-box/ ... | nan                                                          | https://drive.google.com/u/0/open?usp=forms_web&id=1-BeBOV9FJx-ZAJrcPeQOgk3JS84ELmyJ\n",
       "2023/09/18 12:11:56 AM MDT | andrewdevlin@berkeley.edu    | Andrew          | 3034531501   | andrewdevlin@berkeley.edu    | Avis Budget                      | Transportation          | nan                                                                                                       | 2022                   | 6.03929e+06                      | 42481                                            | nan                                            | 0                                | 9.313e+09     | $USD                      | No                                                 | nan                                                           | Hertz                       | Transportation          | nan                                                                                                         | 2022                     | 3.73592e+06                        | 88241                                              | 93627                                            | 0                                  | 7.336e+09       | $USD                        | No                                                   | nan                                                             | 30% reduction of 2018 levels by 2030                                                  | 70% renewable target by 2030 -- 5% in 2022                                                     | Fuel efficiency in fleet is the most significant. It costs $3000 extra to buy EV/hybrid with $1273 savings in fuel costs to the owner annually.             | Adopting electric vehicles in its fleet is the major method of carbon reduction.        | The company is not investing in decarbonization inventions but is in bu ... | The company offers corporate clients carbon offsets. It also  ... | No target, developing over next 2 years intended to align with 1.5C                     | No target, developing over next 2 years                                                          | Fuel efficiency in its car fleet through the use of EVs/Hybrids is its main method.                                                                           | Expanding electric vehicle fleet, headlined by plan to purchase 100k Tesla vehicles.  ... | Limited to none for inventions, but the company generally funds lobbying  ... | It does not really. It does ask suppliers to \"support\" Hertz by ... | Avis and Hertz are notable as ICE cars and business travel are particularly harmful, yet rental cars are a main source of used cars and thus can be a key conduit for the broader adoption of affordable EV's at scale. Although Avis scores a B and has stated emissions/renewable goals, Hertz (C grade) seems further in the EV transition. \n",
       "\n",
       "Avis h ... | https://avisbudgetgroup.com/wp-content/uploads/2022/10/E ... | https://www.cdp.net/en/formatted_responses/responses?cam ... | https://images.hertz.com/pdfs/Hertz-2019-Corporate-Respo ... | https://www.cdp.net/en/formatted_responses/responses?cam ... | https://drive.google.com/u/0/open?usp=forms_web&id=1M4aeocY9GhxkdXADfICym_eA1edplHiY\n",
       "2023/09/17 7:38:52 PM MDT  | aw1635@berkeley.edu          | Anna Wilcox     | 3036652168   | aw1635@berkeley.edu          | Packaging Corporation of America | Other                   | packaging                                                                                                 | 2022                   | 1.95e+06                         | 1.06e+06                                         | 1.62e+06                                       | 2.484e+06                        | 8.478e+09     | USD                       | No                                                 | nan                                                           | Arkay Packaging Corp        | Other                   | packaging                                                                                                   | 2021                     | 219                                | 3331                                               | nan                                              | 12825                              | 4.3e+07         | USD                         | No                                                   | nan                                                             | PCA’s carbon reduction targets are as follows: 35% reduction of scopes 1 and 2 (m ... | PCA’s 2030 goal is to support 800,000 MWh/year of carbon-pollution-free electricity genera ... | PCA’s mills have improved their energy efficiency by replacing fixed speed with variable speed electrical drives. Additionally, PCA has been striving t ... | PCA is working on improving the recycling rates of their products. To reduce carbon ... | PCA is planning on using carbon capture and storage (CCS) technologies  ... | PCA is expecting the electrical grid to become more renewable ... | Arkay Packaging Corporation is currently carbon neutral, a status validated by Natu ... | Arkay’s renewable energy goals are to reduce overall energy consumption, and thus reduce the ... | Arkay offsets their GHG emissions through the purchase of Green-e Energy certified renewable energy credits and carbon offsets. All carbon offsets are pu ... | Arkay has not stated that they are adopting any low-carbon technologies at this time.     | Arkay is planning on using more reusable materials for packaging to meet  ... | In terms of sourcing materials, Arkay is certified to the Susta ... | The Packaging Corporation of America should improve their sourcing of materials, and the renewability of their energy. Only 33 percent of first-use fiber comes from certified forests; PCA should work with the Sustainability Forest Inititative to source 100% of their wood and paper product materials from sustainably harvested forests. A point ... | https://www.packagingcorp.com/filebin/pdf/Responsibility ... | https://www.cdp.net/en/formatted_responses/responses?cam ... | https://www.arkay.com/wp-content/uploads/2023/05/Arkay-2 ... | https://www.cdp.net/en/formatted_responses/responses?cam ... | https://drive.google.com/u/0/open?usp=forms_web&id=1ib-GvlfiMM3Fp0kkW6bL5yan2OWQyMLO\n",
       "2023/09/08 11:45:30 PM MDT | bellashahidi1@berkeley.edu   | Bella Shahidi   | 3036661515   | bellashahidi1@berkeley.edu   | Nike INC                         | nan                     | nan                                                                                                       | 2022                   | 42720                            | 251578                                           | 76420                                          | 6.87838e+06                      | 4.45e+10      | USD                       | No                                                 | nan                                                           | Home Depot                  | nan                     | nan                                                                                                         | 2022                     | 642070                             | 1.00715e+06                                        | 992128                                           | 1.96598e+08                        | 1.51157e+11     | USD                         | No                                                   | nan                                                             | Net Zero Carbon by 2050                                                               | Achieve 100% renewable electricity usage in owned or operated facilities by the end of 2030    | Energy efficiency in buildings, and transitioned to sustainably-sourced, renewable biomass.                                                                 | Efficiency improvements through Nike’s Energy Minimum Program:\n",
       "- Maximize onsite so ... | - Commitment to innovation for decarbonization.\n",
       "- Allocation of resourc ... | - Engagement with key suppliers to achieve greenhouse gas emi ... | The minimum reduction required is 49% absolute emissions reduction from 2010 to 205 ... | Achieve 100% renewable electricity equivalent to the electricity needs for all Home Depot fa ... | - Energy conservation efforts, including the implementation of energy conservation measures.\n",
       "- Investments in store energy management upgrades, such as L ... | - Hands-on training and resources for customers to reduce their energy consumption.\n",
       "- ... | - Marketing support investment of over $26 million in 2021 for Eco Option ... | - Type of Engagement: Innovation & collaboration (changing mark ... | Nike:\n",
       "Nike has excelled in renewable energy adoption and supply chain engagement but could further enhance sustainability by prioritizing circularity in its products. The fashion industry's environmental impact is considerable, and Nike can lead by emphasizing sustainable product design, recycling, and product longevity. Effective recycling  ... | https://www.cdp.net/en/formatted_responses/responses?cam ... | nan                                                          | https://www.cdp.net/en/formatted_responses/responses?cam ... | nan                                                          | https://drive.google.com/u/0/open?usp=forms_web&id=1gZlsMcuIGyevmPIkXL6Eb9XSNYrO--yZ\n",
       "... (74 rows omitted)"
      ]
     },
     "execution_count": 4,
     "metadata": {},
     "output_type": "execute_result"
    }
   ],
   "source": [
    "emissions.sort('Company Name', descending=True)"
   ]
  },
  {
   "cell_type": "markdown",
   "metadata": {},
   "source": [
    "If we wanted to sort integer values to find the company with the higest total revenue, we could run:"
   ]
  },
  {
   "cell_type": "code",
   "execution_count": 4,
   "metadata": {},
   "outputs": [
    {
     "ename": "NameError",
     "evalue": "name 'emissions' is not defined",
     "output_type": "error",
     "traceback": [
      "\u001b[0;31m---------------------------------------------------------------------------\u001b[0m",
      "\u001b[0;31mNameError\u001b[0m                                 Traceback (most recent call last)",
      "\u001b[1;32m/Users/amycastillo/Documents/modules/ESPM-136/nb2-eda/nb2-Amy.ipynb Cell 28\u001b[0m line \u001b[0;36m1\n\u001b[0;32m----> <a href='vscode-notebook-cell:/Users/amycastillo/Documents/modules/ESPM-136/nb2-eda/nb2-Amy.ipynb#X45sZmlsZQ%3D%3D?line=0'>1</a>\u001b[0m emissions\u001b[39m.\u001b[39msort(\u001b[39m'\u001b[39m\u001b[39mTotal Revenue\u001b[39m\u001b[39m'\u001b[39m, descending\u001b[39m=\u001b[39m\u001b[39mTrue\u001b[39;00m)\n",
      "\u001b[0;31mNameError\u001b[0m: name 'emissions' is not defined"
     ]
    }
   ],
   "source": [
    "emissions.sort('Total Revenue', descending=True)"
   ]
  },
  {
   "cell_type": "markdown",
   "metadata": {},
   "source": [
    "<hr style=\"border: 2px solid #003262\">\n",
    "<hr style=\"border: 2px solid #C9B676\">"
   ]
  },
  {
   "cell_type": "markdown",
   "metadata": {},
   "source": [
    "## more advanced table functions: apply, group, pivot (if applicable)\n",
    "\n",
    "similar structure to previous section: total freedom with what you want to explore or emphasize! just show the student an example first and then ask them questions."
   ]
  },
  {
   "cell_type": "markdown",
   "metadata": {},
   "source": [
    "**Note:** we want to include some tabular data looking at the data grouped by the Sector attribute"
   ]
  },
  {
   "cell_type": "markdown",
   "metadata": {},
   "source": [
    "note: can also add section subheadings if you want to break it up into apply, group, and pivot; example:"
   ]
  },
  {
   "cell_type": "markdown",
   "metadata": {},
   "source": [
    "### section_number.subsection_number: Applying Functions"
   ]
  },
  {
   "cell_type": "markdown",
   "metadata": {},
   "source": [
    "question formatting:"
   ]
  },
  {
   "cell_type": "markdown",
   "metadata": {},
   "source": [
    "<!-- BEGIN QUESTION -->\n",
    "<div class=\"alert alert-warning\">\n",
    "\n",
    "### Question section_number.question_number:\n",
    "coding or short answer question here\n",
    "</div>"
   ]
  },
  {
   "cell_type": "markdown",
   "metadata": {},
   "source": [
    "for short answers:"
   ]
  },
  {
   "cell_type": "markdown",
   "metadata": {},
   "source": [
    "*Type your answer here. Double-click to edit this cell and replace this text with your answer. Run this cell to proceed when finished.*"
   ]
  },
  {
   "cell_type": "markdown",
   "metadata": {},
   "source": [
    "for coding"
   ]
  },
  {
   "cell_type": "code",
   "execution_count": 1,
   "metadata": {},
   "outputs": [
    {
     "ename": "NameError",
     "evalue": "name 'emissions' is not defined",
     "output_type": "error",
     "traceback": [
      "\u001b[0;31m---------------------------------------------------------------------------\u001b[0m",
      "\u001b[0;31mNameError\u001b[0m                                 Traceback (most recent call last)",
      "Cell \u001b[0;32mIn[1], line 1\u001b[0m\n\u001b[0;32m----> 1\u001b[0m \u001b[43memissions\u001b[49m\u001b[38;5;241m.\u001b[39msort(\u001b[38;5;241m.\u001b[39m\u001b[38;5;241m.\u001b[39m\u001b[38;5;241m.\u001b[39m) \u001b[38;5;66;03m# Fill in the ellipsis with blah blah blah\u001b[39;00m\n",
      "\u001b[0;31mNameError\u001b[0m: name 'emissions' is not defined"
     ]
    }
   ],
   "source": [
    "emissions.group(...) # Fill in the ellipsis with blah blah blah"
   ]
  },
  {
   "cell_type": "markdown",
   "metadata": {},
   "source": [
    "note: the END QUESTION tag for the otter pdf generator is in the blank cell right below this one! You need a BEGIN QUESTION and END QUESTION tag for every question."
   ]
  },
  {
   "cell_type": "markdown",
   "metadata": {},
   "source": [
    "<!-- END QUESTION -->"
   ]
  },
  {
   "cell_type": "markdown",
   "metadata": {},
   "source": [
    "<hr style=\"border: 2px solid #003262\">\n",
    "<hr style=\"border: 2px solid #C9B676\">"
   ]
  },
  {
   "cell_type": "markdown",
   "metadata": {
    "cell_id": "00009-52f60190-e21f-4107-99a9-d42ab128df40",
    "deepnote_cell_type": "markdown",
    "tags": [
     "ignore"
    ]
   },
   "source": [
    "## visualizations (probably a large section, 2 devs)\n",
    "\n",
    "this section is probably going to be a bigger one, since its a lot more interesting for the students to analyze the data through visualizations than just in the table --> can use datascience plotting, seaborn, or plotly, just like notebook 1 showed."
   ]
  },
  {
   "cell_type": "markdown",
   "metadata": {},
   "source": [
    "**Note:** we want to include some visualizations looking at the data grouped by the Sector attribute; also, I've kept the plotting section from the previous section below as a small reference / source of inspiration! we'll delete it later"
   ]
  },
  {
   "cell_type": "markdown",
   "metadata": {},
   "source": [
    "some of the visualizations you create might be difficult, because the data has to be cleaned up first. that's fine, just keep whatever visualizations you make that you think could be interesting and i'll filter through them as we're finishing the notebook"
   ]
  },
  {
   "cell_type": "markdown",
   "metadata": {},
   "source": [
    "remember, students probably arent that familiar with python: use a lot of fill in the ... questions and only very basic do it yourself questions. always give them an example before asking them to do it themselves!"
   ]
  },
  {
   "cell_type": "markdown",
   "metadata": {},
   "source": [
    "also, add widgets if you are able to! those would be great for comparisons"
   ]
  },
  {
   "cell_type": "markdown",
   "metadata": {},
   "source": [
    "note: can also add section subheadings if you want to break it up into different sections / exploring different features of the data; example:"
   ]
  },
  {
   "cell_type": "markdown",
   "metadata": {},
   "source": [
    "### section_number.subsection_number: Visualizing by Sector"
   ]
  },
  {
   "cell_type": "markdown",
   "metadata": {},
   "source": [
    "question formatting:"
   ]
  },
  {
   "cell_type": "markdown",
   "metadata": {},
   "source": [
    "<!-- BEGIN QUESTION -->\n",
    "<div class=\"alert alert-warning\">\n",
    "\n",
    "### Question section_number.question_number:\n",
    "coding or short answer question here\n",
    "</div>"
   ]
  },
  {
   "cell_type": "markdown",
   "metadata": {},
   "source": [
    "for short answers:"
   ]
  },
  {
   "cell_type": "markdown",
   "metadata": {},
   "source": [
    "*Type your answer here. Double-click to edit this cell and replace this text with your answer. Run this cell to proceed when finished.*"
   ]
  },
  {
   "cell_type": "markdown",
   "metadata": {},
   "source": [
    "for coding"
   ]
  },
  {
   "cell_type": "code",
   "execution_count": 1,
   "metadata": {},
   "outputs": [
    {
     "ename": "NameError",
     "evalue": "name 'emissions' is not defined",
     "output_type": "error",
     "traceback": [
      "\u001b[0;31m---------------------------------------------------------------------------\u001b[0m",
      "\u001b[0;31mNameError\u001b[0m                                 Traceback (most recent call last)",
      "Cell \u001b[0;32mIn[1], line 1\u001b[0m\n\u001b[0;32m----> 1\u001b[0m \u001b[43memissions\u001b[49m\u001b[38;5;241m.\u001b[39msort(\u001b[38;5;241m.\u001b[39m\u001b[38;5;241m.\u001b[39m\u001b[38;5;241m.\u001b[39m) \u001b[38;5;66;03m# Fill in the ellipsis with blah blah blah\u001b[39;00m\n",
      "\u001b[0;31mNameError\u001b[0m: name 'emissions' is not defined"
     ]
    }
   ],
   "source": [
    "emissions.group(...) # Fill in the ellipsis with blah blah blah"
   ]
  },
  {
   "cell_type": "markdown",
   "metadata": {},
   "source": [
    "note: the END QUESTION tag for the otter pdf generator is in the blank cell right below this one! You need a BEGIN QUESTION and END QUESTION tag for every question."
   ]
  },
  {
   "cell_type": "markdown",
   "metadata": {},
   "source": [
    "<!-- END QUESTION -->"
   ]
  },
  {
   "cell_type": "markdown",
   "metadata": {},
   "source": [
    "<hr style=\"border: 2px solid #003262\">\n",
    "<hr style=\"border: 2px solid #C9B676\">"
   ]
  },
  {
   "cell_type": "markdown",
   "metadata": {},
   "source": [
    "## Plotting [Reference - will be deleted later]"
   ]
  },
  {
   "cell_type": "markdown",
   "metadata": {},
   "source": [
    "While knowing the average, the largest, and the smallest values are useful, they don't tell us the whole story. Along with this, just looking at a bunch of numbers isn't always fun or efficient. To further expand on our analysis, let's make some visualizations of our data!\n",
    "\n",
    "Fortunately, in Python, there are lots of functions that can do this for us. We'll examine a few below."
   ]
  },
  {
   "cell_type": "markdown",
   "metadata": {},
   "source": [
    "### Histogram\n",
    "The `hist` function will plot a [histogram](https://en.wikipedia.org/wiki/Histogram) of the column you specify."
   ]
  },
  {
   "cell_type": "code",
   "execution_count": null,
   "metadata": {},
   "outputs": [],
   "source": [
    "tips.hist(\"total\", bins=np.arange(0, 60, 5))"
   ]
  },
  {
   "cell_type": "markdown",
   "metadata": {},
   "source": [
    "### Scatter Plot\n",
    "\n",
    "The `scatter` function makes a [scatter plot](https://en.wikipedia.org/wiki/Scatter_plot), where the first parameter below (`total`) is the column we want to display on the x-axis, and the second parameter (`tip`) is the column we want to display on the y-axis."
   ]
  },
  {
   "cell_type": "code",
   "execution_count": null,
   "metadata": {},
   "outputs": [],
   "source": [
    "tips.scatter(\"total\", \"tip\")"
   ]
  },
  {
   "cell_type": "markdown",
   "metadata": {},
   "source": [
    "### Interactive Visualizations"
   ]
  },
  {
   "cell_type": "markdown",
   "metadata": {},
   "source": [
    "<div class=\"alert alert-block alert-success\">\n",
    "    <p style=\"font-size:20px\">This section is advanced/optional\n",
    "</div>"
   ]
  },
  {
   "cell_type": "markdown",
   "metadata": {},
   "source": [
    "The plots above are great, and are suitible for almost all cases. However, we can take it one step further by creating an interactive plot! We can do this with the `plotly` library. In these plots you can hover your mouse over data, and information about it will pop up!\n",
    "\n",
    "Don't worry about understanding the code below, just check out the cool visualizations, and try hovering over the data with your mouse in different spots. \n",
    "\n",
    "Check out the comments for a description of the visualizations."
   ]
  },
  {
   "cell_type": "code",
   "execution_count": null,
   "metadata": {},
   "outputs": [],
   "source": [
    "px.histogram(x=tips.column(\"total\"), title=\"Histogram of Total Bill Amounts\", \n",
    "             template = \"seaborn\", labels={\"x\":\"Total Bill Amounts\", \"y\":\"Count\"},\n",
    "             width = 600, height = 400, nbins=20)\n",
    "# Plots a histogram of the total bill amounts"
   ]
  },
  {
   "cell_type": "code",
   "execution_count": null,
   "metadata": {},
   "outputs": [],
   "source": [
    "px.histogram(x=tips.column(\"time\"), y=tips.column(\"tip\"), color = tips.column(\"time\"), \n",
    "             template = \"seaborn\", title = \"Average Tips by Meal\", labels = {\"x\": \"Day\", \"y\": \"Tips\"},\n",
    "             histfunc = \"avg\", width = 600, height = 400)\n",
    "# Plots a bar chart of the tips by meal"
   ]
  },
  {
   "cell_type": "code",
   "execution_count": null,
   "metadata": {},
   "outputs": [],
   "source": [
    "px.histogram(x=tips.column(\"day\"), y=tips.column(\"tip\"), color = tips.column(\"day\"), \n",
    "             template = \"seaborn\", title = \"Tips by Day\", labels = {\"x\": \"Day\", \"y\": \"Tips\"},\n",
    "             width = 600, height = 400)\n",
    "# Plots a bar chart of the tips by day"
   ]
  },
  {
   "cell_type": "code",
   "execution_count": null,
   "metadata": {},
   "outputs": [],
   "source": [
    "px.scatter(x=tips.column(\"total\"), y=tips.column(\"tip\"), \n",
    "           title=\"Scatter Plot of Total Bill Amounts vs. Tip Amounts\", template = \"seaborn\",\n",
    "           labels = {\"x\": \"Total Bill Amount\", \"y\": \"Tip Amount\"},\n",
    "           width=500, height=500)\n",
    "# Plots a scatter plot of the total bill amounts vs. the tip amounts"
   ]
  },
  {
   "cell_type": "markdown",
   "metadata": {},
   "source": [
    "<hr style=\"border: 2px solid #003262\">\n",
    "<hr style=\"border: 2px solid #C9B676\">"
   ]
  },
  {
   "cell_type": "markdown",
   "metadata": {},
   "source": [
    "**to do for Manaar**: potentially add pdf generator if necessary; if not, take out otter grader stuff. also potentially add data science resources section"
   ]
  },
  {
   "cell_type": "markdown",
   "metadata": {},
   "source": [
    "## Conclusion"
   ]
  },
  {
   "cell_type": "markdown",
   "metadata": {},
   "source": [
    "In this notebook, you've learned quite a bit, below is a summary of the topics we have covered:\n",
    "- Jupyter Notebooks\n",
    "    - History of Jupyter\n",
    "    - Structure of a Notebook\n",
    "    - Editing a notebook\n",
    "- Python \n",
    "    - Math\n",
    "    - Strings\n",
    "    - Errors\n",
    "    - Variables\n",
    "    - Lists\n",
    "    - Functions\n",
    "    - Loops\n",
    "    - Modules\n",
    "    - Dot Notation\n",
    "- Tables\n",
    "    - Loading a Table\n",
    "    - Context of a Table\n",
    "    - Size of a Table\n",
    "    - Selecting Columns\n",
    "    - Sorting Tables\n",
    "- Columns\n",
    "    - Statistics of Columns\n",
    "- Plotting\n",
    "    - Histograms\n",
    "    - Scatter Plots\n",
    "    - Interactive Plots\n",
    "\n",
    "<h3>Congratulations on finishing the notebook!</h3>"
   ]
  },
  {
   "cell_type": "markdown",
   "metadata": {},
   "source": [
    "<hr style=\"border: 2px solid #003262\">\n",
    "<hr style=\"border: 2px solid #C9B676\">"
   ]
  },
  {
   "cell_type": "markdown",
   "metadata": {},
   "source": [
    "## A Final Request: Feedback Form"
   ]
  },
  {
   "cell_type": "markdown",
   "metadata": {},
   "source": [
    "<div class=\"alert alert-block alert-info\">\n",
    "    <p style=\"font-size:20px\">We encourage students to fill out the following feedback form to share your experience with this Module created notebook. This feedback form will take no longer than 5 minutes. At UC Berkeley Data Science Undergraduate Studies – Modules, we appreciate all feedback to improve the learning of students and experience utilizing Jupyter Notebooks for Data Science Education. You can fill out the survey by running the below and clicking the button that appears. Thank you in advance for your time!\n",
    "</div>"
   ]
  },
  {
   "cell_type": "code",
   "execution_count": null,
   "metadata": {},
   "outputs": [],
   "source": [
    "feedback_button()"
   ]
  }
 ],
 "metadata": {
  "deepnote_execution_queue": [],
  "deepnote_notebook_id": "693e9760-244f-475b-aa3d-f49b62665db0",
  "kernelspec": {
   "display_name": "Python 3 (ipykernel)",
   "language": "python",
   "name": "python3"
  },
  "language_info": {
   "codemirror_mode": {
    "name": "ipython",
    "version": 3
   },
   "file_extension": ".py",
   "mimetype": "text/x-python",
   "name": "python",
   "nbconvert_exporter": "python",
   "pygments_lexer": "ipython3",
   "version": "3.11.0"
  },
  "vscode": {
   "interpreter": {
    "hash": "aee8b7b246df8f9039afb4144a1f6fd8d2ca17a180786b69acc140d282b71a49"
   }
  },
  "widgets": {
   "application/vnd.jupyter.widget-state+json": {
    "state": {},
    "version_major": 2,
    "version_minor": 0
   }
  }
 },
 "nbformat": 4,
 "nbformat_minor": 4
}
