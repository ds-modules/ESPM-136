{
  "cells": [
    {
      "cell_type": "markdown",
      "metadata": {
        "cell_id": "00001-eedf9a46-cb0c-42bc-a90f-96265663c0d3",
        "deepnote_cell_type": "markdown",
        "id": "_g7FBZ8j7m-_",
        "tags": [
          "ignore"
        ]
      },
      "source": [
        "## [ESPM-136] Notebook 2: Company Emissions Exploratory Data Analysis (EDA)\n",
        "\n",
        "## **Introduction Section here**\n",
        "\n",
        "Discuss overview of notebook and what students can take away from it here. Can also provide any relevant resources here.\n",
        "\n",
        "need to also mention that this notebook has questions that are bolded in yellow for the students to answer: probably won't be graded, might change later?"
      ]
    },
    {
      "cell_type": "markdown",
      "metadata": {
        "id": "Hkf4XS4G7m_Q"
      },
      "source": [
        "keeping below cell just for reference, in case we have advanced/optional sections. delete later!"
      ]
    },
    {
      "cell_type": "markdown",
      "metadata": {
        "id": "sj2MuUa47m_R"
      },
      "source": [
        "<div class=\"alert alert-block alert-success\">\n",
        "    <p style=\"font-size:20px\">This section is advanced/optional\n",
        "</div>"
      ]
    },
    {
      "cell_type": "markdown",
      "metadata": {
        "id": "v2KnZL-H7m_R"
      },
      "source": [
        "<hr style=\"border: 2px solid #003262\">\n",
        "<hr style=\"border: 2px solid #C9B676\">"
      ]
    },
    {
      "cell_type": "markdown",
      "metadata": {
        "id": "HOYgGCFP7m_S"
      },
      "source": [
        "## Learning Outcomes\n",
        "Working through this notebook, you will learn about:\n",
        "1. complete later when sections are establish\n",
        "\n",
        "Also, may want to add table of contents beneath this section, depending on how long notebook is."
      ]
    },
    {
      "cell_type": "markdown",
      "metadata": {
        "id": "Aw0Zw7ke7m_U"
      },
      "source": [
        "<hr style=\"border: 2px solid #003262\">\n",
        "<hr style=\"border: 2px solid #C9B676\">"
      ]
    },
    {
      "cell_type": "markdown",
      "metadata": {
        "cell_id": "00003-a9cd1167-2276-4e0f-85b6-43d803731627",
        "deepnote_cell_type": "markdown",
        "id": "-sexGLgO7m_U",
        "tags": []
      },
      "source": [
        "## Review / recap of data collection [likely be done by Manaar and/or Zcjanin]\n",
        "\n",
        "this section will provide a brief recap of the data collection process so far, to discuss how we got from google forms to here and why we want to import the data in a jupyter notebook as compared to other mediums / what we can accomplish with it. may also be good to quickly discuss implications of the data collection / inputting process.\n",
        "\n",
        "want this section to be pretty short -- dont want a wall of text!"
      ]
    },
    {
      "cell_type": "markdown",
      "metadata": {
        "id": "ViiR8t907m_V"
      },
      "source": [
        "<hr style=\"border: 2px solid #003262\">\n",
        "<hr style=\"border: 2px solid #C9B676\">"
      ]
    },
    {
      "cell_type": "markdown",
      "metadata": {
        "cell_id": "00003-058e2913-9587-45ac-8c2f-f284333ac4f3",
        "deepnote_cell_type": "markdown",
        "id": "DlfFBRmS7m_V"
      },
      "source": [
        "## Importing and Taking an Initial Look at the Data (manaar will do?)\n",
        "\n",
        "description of the steps we need to take to read_table to create a datascience table to look at our data in tabular format.\n",
        "\n",
        "first, import libraries (note: add any additional libraries you use in your code here! good to keep it all in one place), then read table:"
      ]
    },
    {
      "cell_type": "code",
      "execution_count": 3,
      "metadata": {},
      "outputs": [
        {
          "name": "stdout",
          "output_type": "stream",
          "text": [
            "Collecting seaborn\n",
            "  Obtaining dependency information for seaborn from https://files.pythonhosted.org/packages/7b/e5/83fcd7e9db036c179e0352bfcd20f81d728197a16f883e7b90307a88e65e/seaborn-0.13.0-py3-none-any.whl.metadata\n",
            "  Downloading seaborn-0.13.0-py3-none-any.whl.metadata (5.3 kB)\n",
            "Requirement already satisfied: numpy!=1.24.0,>=1.20 in /Library/Frameworks/Python.framework/Versions/3.11/lib/python3.11/site-packages (from seaborn) (1.25.2)\n",
            "Requirement already satisfied: pandas>=1.2 in /Library/Frameworks/Python.framework/Versions/3.11/lib/python3.11/site-packages (from seaborn) (2.1.1)\n",
            "Requirement already satisfied: matplotlib!=3.6.1,>=3.3 in /Library/Frameworks/Python.framework/Versions/3.11/lib/python3.11/site-packages (from seaborn) (3.7.2)\n",
            "Requirement already satisfied: contourpy>=1.0.1 in /Library/Frameworks/Python.framework/Versions/3.11/lib/python3.11/site-packages (from matplotlib!=3.6.1,>=3.3->seaborn) (1.1.0)\n",
            "Requirement already satisfied: cycler>=0.10 in /Library/Frameworks/Python.framework/Versions/3.11/lib/python3.11/site-packages (from matplotlib!=3.6.1,>=3.3->seaborn) (0.11.0)\n",
            "Requirement already satisfied: fonttools>=4.22.0 in /Library/Frameworks/Python.framework/Versions/3.11/lib/python3.11/site-packages (from matplotlib!=3.6.1,>=3.3->seaborn) (4.42.1)\n",
            "Requirement already satisfied: kiwisolver>=1.0.1 in /Library/Frameworks/Python.framework/Versions/3.11/lib/python3.11/site-packages (from matplotlib!=3.6.1,>=3.3->seaborn) (1.4.5)\n",
            "Requirement already satisfied: packaging>=20.0 in /Library/Frameworks/Python.framework/Versions/3.11/lib/python3.11/site-packages (from matplotlib!=3.6.1,>=3.3->seaborn) (23.1)\n",
            "Requirement already satisfied: pillow>=6.2.0 in /Library/Frameworks/Python.framework/Versions/3.11/lib/python3.11/site-packages (from matplotlib!=3.6.1,>=3.3->seaborn) (10.0.0)\n",
            "Requirement already satisfied: pyparsing<3.1,>=2.3.1 in /Library/Frameworks/Python.framework/Versions/3.11/lib/python3.11/site-packages (from matplotlib!=3.6.1,>=3.3->seaborn) (3.0.9)\n",
            "Requirement already satisfied: python-dateutil>=2.7 in /Library/Frameworks/Python.framework/Versions/3.11/lib/python3.11/site-packages (from matplotlib!=3.6.1,>=3.3->seaborn) (2.8.2)\n",
            "Requirement already satisfied: pytz>=2020.1 in /Library/Frameworks/Python.framework/Versions/3.11/lib/python3.11/site-packages (from pandas>=1.2->seaborn) (2023.3.post1)\n",
            "Requirement already satisfied: tzdata>=2022.1 in /Library/Frameworks/Python.framework/Versions/3.11/lib/python3.11/site-packages (from pandas>=1.2->seaborn) (2023.3)\n",
            "Requirement already satisfied: six>=1.5 in /Library/Frameworks/Python.framework/Versions/3.11/lib/python3.11/site-packages (from python-dateutil>=2.7->matplotlib!=3.6.1,>=3.3->seaborn) (1.16.0)\n",
            "Downloading seaborn-0.13.0-py3-none-any.whl (294 kB)\n",
            "\u001b[2K   \u001b[90m━━━━━━━━━━━━━━━━━━━━━━━━━━━━━━━━━━━━━━━━\u001b[0m \u001b[32m294.6/294.6 kB\u001b[0m \u001b[31m2.2 MB/s\u001b[0m eta \u001b[36m0:00:00\u001b[0ma \u001b[36m0:00:01\u001b[0m\n",
            "\u001b[?25hInstalling collected packages: seaborn\n",
            "Successfully installed seaborn-0.13.0\n"
          ]
        }
      ],
      "source": [
        "!pip3 install seaborn"
      ]
    },
    {
      "cell_type": "code",
      "execution_count": 3,
      "metadata": {
        "id": "opQl5-B_7m_W"
      },
      "outputs": [],
      "source": [
        "import numpy as np\n",
        "from datascience import *\n",
        "import matplotlib.pyplot as plt\n",
        "%matplotlib inline\n",
        "plt.style.use(\"fivethirtyeight\")\n",
        "import seaborn as sns, plotly.express as px"
      ]
    },
    {
      "cell_type": "code",
      "execution_count": 4,
      "metadata": {
        "colab": {
          "base_uri": "https://localhost:8080/",
          "height": 1000
        },
        "id": "hKQ7JmNQ7m_a",
        "outputId": "f0d35670-3be7-4b40-88a3-a16b2356e25e"
      },
      "outputs": [
        {
          "data": {
            "text/html": [
              "<table border=\"1\" class=\"dataframe\">\n",
              "    <thead>\n",
              "        <tr>\n",
              "            <th>Index</th> <th>Company Name</th> <th>Company Sector</th> <th>Company Sector (Other)</th> <th>Year of CDP Disclosure</th> <th>Scope 1 value</th> <th>Scope 2 value (location-based)</th> <th>Scope 2 value (market-based)</th> <th>Scope 3 value</th> <th>Total Revenue</th> <th>Currency of Total Revenue</th> <th>Internal Price on Carbon (Y/N)</th> <th>Price</th>\n",
              "        </tr>\n",
              "    </thead>\n",
              "    <tbody>\n",
              "        <tr>\n",
              "            <td>0    </td> <td>ADIDAS              </td> <td>APPAREL & FOOTWEAR     </td> <td>nan                        </td> <td>2022                  </td> <td>12908.4      </td> <td>nan                           </td> <td>125502                      </td> <td>7.25451e+06  </td> <td>2.1234e+10   </td> <td>EUR                      </td> <td>Yes                           </td> <td>85   </td>\n",
              "        </tr>\n",
              "        <tr>\n",
              "            <td>1    </td> <td>ADIDAS              </td> <td>APPAREL & FOOTWEAR     </td> <td>nan                        </td> <td>2022                  </td> <td>12908.4      </td> <td>nan                           </td> <td>125502                      </td> <td>7.25451e+06  </td> <td>2.1234e+10   </td> <td>EUR                      </td> <td>Yes                           </td> <td>85   </td>\n",
              "        </tr>\n",
              "        <tr>\n",
              "            <td>2    </td> <td>ADIDAS              </td> <td>APPAREL & FOOTWEAR     </td> <td>nan                        </td> <td>2022                  </td> <td>12908.4      </td> <td>nan                           </td> <td>125502                      </td> <td>7.25451e+06  </td> <td>2.1234e+10   </td> <td>EUR                      </td> <td>Yes                           </td> <td>85   </td>\n",
              "        </tr>\n",
              "        <tr>\n",
              "            <td>3    </td> <td>AHOLD DELHAIZE      </td> <td>CONSUMER PACKAGED GOODS</td> <td>GROCERY / FOOD DISTRIBUTION</td> <td>2022                  </td> <td>1.728e+06    </td> <td>1.748e+06                     </td> <td>1.099e+06                   </td> <td>6.59304e+07  </td> <td>75600        </td> <td>EUR                      </td> <td>Yes                           </td> <td>150  </td>\n",
              "        </tr>\n",
              "        <tr>\n",
              "            <td>4    </td> <td>AIR FRANCE-KLM      </td> <td>TRANSPORTATION         </td> <td>nan                        </td> <td>2022                  </td> <td>1.63363e+07  </td> <td>nan                           </td> <td>19104.7                     </td> <td>8.70067e+06  </td> <td>1.4315e+10   </td> <td>EUR                      </td> <td>Yes                           </td> <td>nan  </td>\n",
              "        </tr>\n",
              "        <tr>\n",
              "            <td>5    </td> <td>AIRBUS              </td> <td>OTHER                  </td> <td>ROLLING STOCK MANUFACTURER </td> <td>2022                  </td> <td>561737       </td> <td>339313                        </td> <td>265016                      </td> <td>4.76092e+08  </td> <td>52856        </td> <td>EUR                      </td> <td>Yes                           </td> <td>150  </td>\n",
              "        </tr>\n",
              "        <tr>\n",
              "            <td>6    </td> <td>ALBERTSONS COMPANIES</td> <td>CONSUMER PACKAGED GOODS</td> <td>GROCERY / FOOD DISTRIBUTION</td> <td>2022                  </td> <td>2.76738e+06  </td> <td>1.66352e+06                   </td> <td>1.64609e+06                 </td> <td>7.50445e+06  </td> <td>6.96904e+10  </td> <td>USD                      </td> <td>No                            </td> <td>nan  </td>\n",
              "        </tr>\n",
              "        <tr>\n",
              "            <td>7    </td> <td>ALLY FINANCIAL      </td> <td>OTHER                  </td> <td>FINANCE / BANKING          </td> <td>2022                  </td> <td>4228         </td> <td>9758                          </td> <td>0                           </td> <td>13986        </td> <td>8.381e+09    </td> <td>USD                      </td> <td>No                            </td> <td>nan  </td>\n",
              "        </tr>\n",
              "        <tr>\n",
              "            <td>8    </td> <td>ALSTOM              </td> <td>OTHER                  </td> <td>AEROSPACE                  </td> <td>2022                  </td> <td>107073       </td> <td>144632                        </td> <td>121789                      </td> <td>3.34293e+07  </td> <td>1.5741e+10   </td> <td>EUR                      </td> <td>No                            </td> <td>nan  </td>\n",
              "        </tr>\n",
              "        <tr>\n",
              "            <td>9    </td> <td>AMCOR               </td> <td>CONSUMER PACKAGED GOODS</td> <td>nan                        </td> <td>2022                  </td> <td>529192       </td> <td>1.43269e+06                   </td> <td>1.43208e+06                 </td> <td>1.96516e+07  </td> <td>1.2861e+10   </td> <td>USD                      </td> <td>No                            </td> <td>nan  </td>\n",
              "        </tr>\n",
              "    </tbody>\n",
              "</table>\n",
              "<p>... (146 rows omitted)</p>"
            ],
            "text/plain": [
              "Index | Company Name         | Company Sector          | Company Sector (Other)      | Year of CDP Disclosure | Scope 1 value | Scope 2 value (location-based) | Scope 2 value (market-based) | Scope 3 value | Total Revenue | Currency of Total Revenue | Internal Price on Carbon (Y/N) | Price\n",
              "0     | ADIDAS               | APPAREL & FOOTWEAR      | nan                         | 2022                   | 12908.4       | nan                            | 125502                       | 7.25451e+06   | 2.1234e+10    | EUR                       | Yes                            | 85\n",
              "1     | ADIDAS               | APPAREL & FOOTWEAR      | nan                         | 2022                   | 12908.4       | nan                            | 125502                       | 7.25451e+06   | 2.1234e+10    | EUR                       | Yes                            | 85\n",
              "2     | ADIDAS               | APPAREL & FOOTWEAR      | nan                         | 2022                   | 12908.4       | nan                            | 125502                       | 7.25451e+06   | 2.1234e+10    | EUR                       | Yes                            | 85\n",
              "3     | AHOLD DELHAIZE       | CONSUMER PACKAGED GOODS | GROCERY / FOOD DISTRIBUTION | 2022                   | 1.728e+06     | 1.748e+06                      | 1.099e+06                    | 6.59304e+07   | 75600         | EUR                       | Yes                            | 150\n",
              "4     | AIR FRANCE-KLM       | TRANSPORTATION          | nan                         | 2022                   | 1.63363e+07   | nan                            | 19104.7                      | 8.70067e+06   | 1.4315e+10    | EUR                       | Yes                            | nan\n",
              "5     | AIRBUS               | OTHER                   | ROLLING STOCK MANUFACTURER  | 2022                   | 561737        | 339313                         | 265016                       | 4.76092e+08   | 52856         | EUR                       | Yes                            | 150\n",
              "6     | ALBERTSONS COMPANIES | CONSUMER PACKAGED GOODS | GROCERY / FOOD DISTRIBUTION | 2022                   | 2.76738e+06   | 1.66352e+06                    | 1.64609e+06                  | 7.50445e+06   | 6.96904e+10   | USD                       | No                             | nan\n",
              "7     | ALLY FINANCIAL       | OTHER                   | FINANCE / BANKING           | 2022                   | 4228          | 9758                           | 0                            | 13986         | 8.381e+09     | USD                       | No                             | nan\n",
              "8     | ALSTOM               | OTHER                   | AEROSPACE                   | 2022                   | 107073        | 144632                         | 121789                       | 3.34293e+07   | 1.5741e+10    | EUR                       | No                             | nan\n",
              "9     | AMCOR                | CONSUMER PACKAGED GOODS | nan                         | 2022                   | 529192        | 1.43269e+06                    | 1.43208e+06                  | 1.96516e+07   | 1.2861e+10    | USD                       | No                             | nan\n",
              "... (146 rows omitted)"
            ]
          },
          "execution_count": 4,
          "metadata": {},
          "output_type": "execute_result"
        }
      ],
      "source": [
        "emissions = Table.read_table('emissions.csv')\n",
        "emissions"
      ]
    },
    {
      "cell_type": "markdown",
      "metadata": {
        "id": "PQBwp_XN7m_g"
      },
      "source": [
        "<hr style=\"border: 2px solid #003262\">\n",
        "<hr style=\"border: 2px solid #C9B676\">"
      ]
    },
    {
      "cell_type": "markdown",
      "metadata": {
        "id": "O3IFwgPU7m_l"
      },
      "source": [
        "## 2. More Advanced table Operation: `apply`, `group`, `pivot`\n"
      ]
    },
    {
      "cell_type": "markdown",
      "metadata": {
        "id": "OmZxJ1eD7m_m"
      },
      "source": [
        "Now that we have learned how to get the data we want from the dataset and how to format it to our preferences, we can start exploring more advanced techniques such as applying functions to data, grouping data based on specific criteria, and pivoting data to reshape it for advanced analysis and visualization."
      ]
    },
    {
      "cell_type": "markdown",
      "metadata": {
        "id": "PWtVHf3W7m_n"
      },
      "source": [
        "### 1.1 Apply\n",
        "\n",
        "The apply function in Python applies a function to each element of a data structure and return a new serie or dataframe. When we call this function, we need to specify the function we are using and which column(s) we are applying it to. This function can be used in a lot of different scenarios, and we will be talking about two of them in this lab. "
      ]
    },
    {
      "cell_type": "markdown",
      "metadata": {},
      "source": [
        "**First of all**, we can use the apply function to change each element in a numerical variable with the same calculation process. For example, you can notice that the currency of total revenue are in different currency, which can make future analysis become difficult. As a result, we would like to implement a function to the \"Total Revenue\" column that changes all the currency to USD"
      ]
    },
    {
      "cell_type": "code",
      "execution_count": 5,
      "metadata": {},
      "outputs": [
        {
          "data": {
            "text/plain": [
              "array(['AUD', 'CAD', 'CHF', 'DKK', 'EUR', 'GBP', 'JPY', 'KRW', 'NOK',\n",
              "       'RUB', 'SEK', 'USD'],\n",
              "      dtype='<U3')"
            ]
          },
          "execution_count": 5,
          "metadata": {},
          "output_type": "execute_result"
        }
      ],
      "source": [
        "#First of all, we want to know what are the currencies in this dataset\n",
        "np.unique(emissions['Currency of Total Revenue'])"
      ]
    },
    {
      "cell_type": "code",
      "execution_count": 6,
      "metadata": {},
      "outputs": [
        {
          "data": {
            "text/html": [
              "<table border=\"1\" class=\"dataframe\">\n",
              "    <thead>\n",
              "        <tr>\n",
              "            <th>Index</th> <th>Company Name</th> <th>Company Sector</th> <th>Company Sector (Other)</th> <th>Year of CDP Disclosure</th> <th>Scope 1 value</th> <th>Scope 2 value (location-based)</th> <th>Scope 2 value (market-based)</th> <th>Scope 3 value</th> <th>Total Revenue</th> <th>Currency of Total Revenue</th> <th>Internal Price on Carbon (Y/N)</th> <th>Price</th> <th>Revenue with Currency</th>\n",
              "        </tr>\n",
              "    </thead>\n",
              "    <tbody>\n",
              "        <tr>\n",
              "            <td>0    </td> <td>ADIDAS              </td> <td>APPAREL & FOOTWEAR     </td> <td>nan                        </td> <td>2022                  </td> <td>12908.4      </td> <td>nan                           </td> <td>125502                      </td> <td>7.25451e+06  </td> <td>2.1234e+10   </td> <td>EUR                      </td> <td>Yes                           </td> <td>85   </td> <td>['EUR' 21234000000.0]</td>\n",
              "        </tr>\n",
              "        <tr>\n",
              "            <td>1    </td> <td>ADIDAS              </td> <td>APPAREL & FOOTWEAR     </td> <td>nan                        </td> <td>2022                  </td> <td>12908.4      </td> <td>nan                           </td> <td>125502                      </td> <td>7.25451e+06  </td> <td>2.1234e+10   </td> <td>EUR                      </td> <td>Yes                           </td> <td>85   </td> <td>['EUR' 21234000000.0]</td>\n",
              "        </tr>\n",
              "        <tr>\n",
              "            <td>2    </td> <td>ADIDAS              </td> <td>APPAREL & FOOTWEAR     </td> <td>nan                        </td> <td>2022                  </td> <td>12908.4      </td> <td>nan                           </td> <td>125502                      </td> <td>7.25451e+06  </td> <td>2.1234e+10   </td> <td>EUR                      </td> <td>Yes                           </td> <td>85   </td> <td>['EUR' 21234000000.0]</td>\n",
              "        </tr>\n",
              "        <tr>\n",
              "            <td>3    </td> <td>AHOLD DELHAIZE      </td> <td>CONSUMER PACKAGED GOODS</td> <td>GROCERY / FOOD DISTRIBUTION</td> <td>2022                  </td> <td>1.728e+06    </td> <td>1.748e+06                     </td> <td>1.099e+06                   </td> <td>6.59304e+07  </td> <td>75600        </td> <td>EUR                      </td> <td>Yes                           </td> <td>150  </td> <td>['EUR' 75600.0]      </td>\n",
              "        </tr>\n",
              "        <tr>\n",
              "            <td>4    </td> <td>AIR FRANCE-KLM      </td> <td>TRANSPORTATION         </td> <td>nan                        </td> <td>2022                  </td> <td>1.63363e+07  </td> <td>nan                           </td> <td>19104.7                     </td> <td>8.70067e+06  </td> <td>1.4315e+10   </td> <td>EUR                      </td> <td>Yes                           </td> <td>nan  </td> <td>['EUR' 14315000000.0]</td>\n",
              "        </tr>\n",
              "        <tr>\n",
              "            <td>5    </td> <td>AIRBUS              </td> <td>OTHER                  </td> <td>ROLLING STOCK MANUFACTURER </td> <td>2022                  </td> <td>561737       </td> <td>339313                        </td> <td>265016                      </td> <td>4.76092e+08  </td> <td>52856        </td> <td>EUR                      </td> <td>Yes                           </td> <td>150  </td> <td>['EUR' 52856.0]      </td>\n",
              "        </tr>\n",
              "        <tr>\n",
              "            <td>6    </td> <td>ALBERTSONS COMPANIES</td> <td>CONSUMER PACKAGED GOODS</td> <td>GROCERY / FOOD DISTRIBUTION</td> <td>2022                  </td> <td>2.76738e+06  </td> <td>1.66352e+06                   </td> <td>1.64609e+06                 </td> <td>7.50445e+06  </td> <td>6.96904e+10  </td> <td>USD                      </td> <td>No                            </td> <td>nan  </td> <td>['USD' 69690400000.0]</td>\n",
              "        </tr>\n",
              "        <tr>\n",
              "            <td>7    </td> <td>ALLY FINANCIAL      </td> <td>OTHER                  </td> <td>FINANCE / BANKING          </td> <td>2022                  </td> <td>4228         </td> <td>9758                          </td> <td>0                           </td> <td>13986        </td> <td>8.381e+09    </td> <td>USD                      </td> <td>No                            </td> <td>nan  </td> <td>['USD' 8381000000.0] </td>\n",
              "        </tr>\n",
              "        <tr>\n",
              "            <td>8    </td> <td>ALSTOM              </td> <td>OTHER                  </td> <td>AEROSPACE                  </td> <td>2022                  </td> <td>107073       </td> <td>144632                        </td> <td>121789                      </td> <td>3.34293e+07  </td> <td>1.5741e+10   </td> <td>EUR                      </td> <td>No                            </td> <td>nan  </td> <td>['EUR' 15741000000.0]</td>\n",
              "        </tr>\n",
              "        <tr>\n",
              "            <td>9    </td> <td>AMCOR               </td> <td>CONSUMER PACKAGED GOODS</td> <td>nan                        </td> <td>2022                  </td> <td>529192       </td> <td>1.43269e+06                   </td> <td>1.43208e+06                 </td> <td>1.96516e+07  </td> <td>1.2861e+10   </td> <td>USD                      </td> <td>No                            </td> <td>nan  </td> <td>['USD' 12861000000.0]</td>\n",
              "        </tr>\n",
              "    </tbody>\n",
              "</table>\n",
              "<p>... (146 rows omitted)</p>"
            ],
            "text/plain": [
              "Index | Company Name         | Company Sector          | Company Sector (Other)      | Year of CDP Disclosure | Scope 1 value | Scope 2 value (location-based) | Scope 2 value (market-based) | Scope 3 value | Total Revenue | Currency of Total Revenue | Internal Price on Carbon (Y/N) | Price | Revenue with Currency\n",
              "0     | ADIDAS               | APPAREL & FOOTWEAR      | nan                         | 2022                   | 12908.4       | nan                            | 125502                       | 7.25451e+06   | 2.1234e+10    | EUR                       | Yes                            | 85    | ['EUR' 21234000000.0]\n",
              "1     | ADIDAS               | APPAREL & FOOTWEAR      | nan                         | 2022                   | 12908.4       | nan                            | 125502                       | 7.25451e+06   | 2.1234e+10    | EUR                       | Yes                            | 85    | ['EUR' 21234000000.0]\n",
              "2     | ADIDAS               | APPAREL & FOOTWEAR      | nan                         | 2022                   | 12908.4       | nan                            | 125502                       | 7.25451e+06   | 2.1234e+10    | EUR                       | Yes                            | 85    | ['EUR' 21234000000.0]\n",
              "3     | AHOLD DELHAIZE       | CONSUMER PACKAGED GOODS | GROCERY / FOOD DISTRIBUTION | 2022                   | 1.728e+06     | 1.748e+06                      | 1.099e+06                    | 6.59304e+07   | 75600         | EUR                       | Yes                            | 150   | ['EUR' 75600.0]\n",
              "4     | AIR FRANCE-KLM       | TRANSPORTATION          | nan                         | 2022                   | 1.63363e+07   | nan                            | 19104.7                      | 8.70067e+06   | 1.4315e+10    | EUR                       | Yes                            | nan   | ['EUR' 14315000000.0]\n",
              "5     | AIRBUS               | OTHER                   | ROLLING STOCK MANUFACTURER  | 2022                   | 561737        | 339313                         | 265016                       | 4.76092e+08   | 52856         | EUR                       | Yes                            | 150   | ['EUR' 52856.0]\n",
              "6     | ALBERTSONS COMPANIES | CONSUMER PACKAGED GOODS | GROCERY / FOOD DISTRIBUTION | 2022                   | 2.76738e+06   | 1.66352e+06                    | 1.64609e+06                  | 7.50445e+06   | 6.96904e+10   | USD                       | No                             | nan   | ['USD' 69690400000.0]\n",
              "7     | ALLY FINANCIAL       | OTHER                   | FINANCE / BANKING           | 2022                   | 4228          | 9758                           | 0                            | 13986         | 8.381e+09     | USD                       | No                             | nan   | ['USD' 8381000000.0]\n",
              "8     | ALSTOM               | OTHER                   | AEROSPACE                   | 2022                   | 107073        | 144632                         | 121789                       | 3.34293e+07   | 1.5741e+10    | EUR                       | No                             | nan   | ['EUR' 15741000000.0]\n",
              "9     | AMCOR                | CONSUMER PACKAGED GOODS | nan                         | 2022                   | 529192        | 1.43269e+06                    | 1.43208e+06                  | 1.96516e+07   | 1.2861e+10    | USD                       | No                             | nan   | ['USD' 12861000000.0]\n",
              "... (146 rows omitted)"
            ]
          },
          "execution_count": 6,
          "metadata": {},
          "output_type": "execute_result"
        }
      ],
      "source": [
        "#Then let's create a new column with both the revenue and its currency in the format of [Currency, Revenue]\n",
        "combined = [[emissions['Currency of Total Revenue'][i], emissions['Total Revenue'][i]] for i in range(len(emissions['Currency of Total Revenue']))]\n",
        "emissions['Revenue with Currency'] = combined\n",
        "emissions"
      ]
    },
    {
      "cell_type": "code",
      "execution_count": 8,
      "metadata": {},
      "outputs": [],
      "source": [
        "#now lets write the function that will be used in applying. You don't need to understand how to write this function in order to understand the follow part of this lab\n",
        "#This function takes in all element in the \"Revenue with Currency\" column and turns all the non-USD revenue into USD currency\n",
        "def toUSD(i):\n",
        "    dic = {\n",
        "    'AUD': 0.75,   # 1 AUD to USD\n",
        "    'CAD': 0.78,   # 1 CAD to USD\n",
        "    'CHF': 1.09,   # 1 CHF to USD\n",
        "    'DKK': 0.15,   # 1 DKK to USD\n",
        "    'EUR': 1.16,   # 1 EUR to USD\n",
        "    'GBP': 1.37,   # 1 GBP to USD\n",
        "    'JPY': 0.009,  # 1 JPY to USD\n",
        "    'KRW': 0.0009, # 1 KRW to USD\n",
        "    'NOK': 0.11,   # 1 NOK to USD\n",
        "    'RUB': 0.014,  # 1 RUB to USD\n",
        "    'SEK': 0.11,   # 1 SEK to USD\n",
        "    'USD': 1       # No Change\n",
        "    }\n",
        "    return i[1] * dic[i[0]] #The revenue multiply by the corresponding currency difference\n",
        "\n"
      ]
    },
    {
      "cell_type": "code",
      "execution_count": 9,
      "metadata": {
        "id": "2sldgb3vHmDw"
      },
      "outputs": [
        {
          "data": {
            "text/html": [
              "<table border=\"1\" class=\"dataframe\">\n",
              "    <thead>\n",
              "        <tr>\n",
              "            <th>Index</th> <th>Company Name</th> <th>Company Sector</th> <th>Company Sector (Other)</th> <th>Year of CDP Disclosure</th> <th>Scope 1 value</th> <th>Scope 2 value (location-based)</th> <th>Scope 2 value (market-based)</th> <th>Scope 3 value</th> <th>Total Revenue</th> <th>Currency of Total Revenue</th> <th>Internal Price on Carbon (Y/N)</th> <th>Price</th> <th>Revenue with Currency</th> <th>Revenue(USD)</th>\n",
              "        </tr>\n",
              "    </thead>\n",
              "    <tbody>\n",
              "        <tr>\n",
              "            <td>0    </td> <td>ADIDAS              </td> <td>APPAREL & FOOTWEAR     </td> <td>nan                        </td> <td>2022                  </td> <td>12908.4      </td> <td>nan                           </td> <td>125502                      </td> <td>7.25451e+06  </td> <td>2.1234e+10   </td> <td>EUR                      </td> <td>Yes                           </td> <td>85   </td> <td>['EUR' 21234000000.0]</td> <td>2.46314e+10 </td>\n",
              "        </tr>\n",
              "        <tr>\n",
              "            <td>1    </td> <td>ADIDAS              </td> <td>APPAREL & FOOTWEAR     </td> <td>nan                        </td> <td>2022                  </td> <td>12908.4      </td> <td>nan                           </td> <td>125502                      </td> <td>7.25451e+06  </td> <td>2.1234e+10   </td> <td>EUR                      </td> <td>Yes                           </td> <td>85   </td> <td>['EUR' 21234000000.0]</td> <td>2.46314e+10 </td>\n",
              "        </tr>\n",
              "        <tr>\n",
              "            <td>2    </td> <td>ADIDAS              </td> <td>APPAREL & FOOTWEAR     </td> <td>nan                        </td> <td>2022                  </td> <td>12908.4      </td> <td>nan                           </td> <td>125502                      </td> <td>7.25451e+06  </td> <td>2.1234e+10   </td> <td>EUR                      </td> <td>Yes                           </td> <td>85   </td> <td>['EUR' 21234000000.0]</td> <td>2.46314e+10 </td>\n",
              "        </tr>\n",
              "        <tr>\n",
              "            <td>3    </td> <td>AHOLD DELHAIZE      </td> <td>CONSUMER PACKAGED GOODS</td> <td>GROCERY / FOOD DISTRIBUTION</td> <td>2022                  </td> <td>1.728e+06    </td> <td>1.748e+06                     </td> <td>1.099e+06                   </td> <td>6.59304e+07  </td> <td>75600        </td> <td>EUR                      </td> <td>Yes                           </td> <td>150  </td> <td>['EUR' 75600.0]      </td> <td>87696       </td>\n",
              "        </tr>\n",
              "        <tr>\n",
              "            <td>4    </td> <td>AIR FRANCE-KLM      </td> <td>TRANSPORTATION         </td> <td>nan                        </td> <td>2022                  </td> <td>1.63363e+07  </td> <td>nan                           </td> <td>19104.7                     </td> <td>8.70067e+06  </td> <td>1.4315e+10   </td> <td>EUR                      </td> <td>Yes                           </td> <td>nan  </td> <td>['EUR' 14315000000.0]</td> <td>1.66054e+10 </td>\n",
              "        </tr>\n",
              "        <tr>\n",
              "            <td>5    </td> <td>AIRBUS              </td> <td>OTHER                  </td> <td>ROLLING STOCK MANUFACTURER </td> <td>2022                  </td> <td>561737       </td> <td>339313                        </td> <td>265016                      </td> <td>4.76092e+08  </td> <td>52856        </td> <td>EUR                      </td> <td>Yes                           </td> <td>150  </td> <td>['EUR' 52856.0]      </td> <td>61313       </td>\n",
              "        </tr>\n",
              "        <tr>\n",
              "            <td>6    </td> <td>ALBERTSONS COMPANIES</td> <td>CONSUMER PACKAGED GOODS</td> <td>GROCERY / FOOD DISTRIBUTION</td> <td>2022                  </td> <td>2.76738e+06  </td> <td>1.66352e+06                   </td> <td>1.64609e+06                 </td> <td>7.50445e+06  </td> <td>6.96904e+10  </td> <td>USD                      </td> <td>No                            </td> <td>nan  </td> <td>['USD' 69690400000.0]</td> <td>6.96904e+10 </td>\n",
              "        </tr>\n",
              "        <tr>\n",
              "            <td>7    </td> <td>ALLY FINANCIAL      </td> <td>OTHER                  </td> <td>FINANCE / BANKING          </td> <td>2022                  </td> <td>4228         </td> <td>9758                          </td> <td>0                           </td> <td>13986        </td> <td>8.381e+09    </td> <td>USD                      </td> <td>No                            </td> <td>nan  </td> <td>['USD' 8381000000.0] </td> <td>8.381e+09   </td>\n",
              "        </tr>\n",
              "        <tr>\n",
              "            <td>8    </td> <td>ALSTOM              </td> <td>OTHER                  </td> <td>AEROSPACE                  </td> <td>2022                  </td> <td>107073       </td> <td>144632                        </td> <td>121789                      </td> <td>3.34293e+07  </td> <td>1.5741e+10   </td> <td>EUR                      </td> <td>No                            </td> <td>nan  </td> <td>['EUR' 15741000000.0]</td> <td>1.82596e+10 </td>\n",
              "        </tr>\n",
              "        <tr>\n",
              "            <td>9    </td> <td>AMCOR               </td> <td>CONSUMER PACKAGED GOODS</td> <td>nan                        </td> <td>2022                  </td> <td>529192       </td> <td>1.43269e+06                   </td> <td>1.43208e+06                 </td> <td>1.96516e+07  </td> <td>1.2861e+10   </td> <td>USD                      </td> <td>No                            </td> <td>nan  </td> <td>['USD' 12861000000.0]</td> <td>1.2861e+10  </td>\n",
              "        </tr>\n",
              "    </tbody>\n",
              "</table>\n",
              "<p>... (146 rows omitted)</p>"
            ],
            "text/plain": [
              "Index | Company Name         | Company Sector          | Company Sector (Other)      | Year of CDP Disclosure | Scope 1 value | Scope 2 value (location-based) | Scope 2 value (market-based) | Scope 3 value | Total Revenue | Currency of Total Revenue | Internal Price on Carbon (Y/N) | Price | Revenue with Currency | Revenue(USD)\n",
              "0     | ADIDAS               | APPAREL & FOOTWEAR      | nan                         | 2022                   | 12908.4       | nan                            | 125502                       | 7.25451e+06   | 2.1234e+10    | EUR                       | Yes                            | 85    | ['EUR' 21234000000.0] | 2.46314e+10\n",
              "1     | ADIDAS               | APPAREL & FOOTWEAR      | nan                         | 2022                   | 12908.4       | nan                            | 125502                       | 7.25451e+06   | 2.1234e+10    | EUR                       | Yes                            | 85    | ['EUR' 21234000000.0] | 2.46314e+10\n",
              "2     | ADIDAS               | APPAREL & FOOTWEAR      | nan                         | 2022                   | 12908.4       | nan                            | 125502                       | 7.25451e+06   | 2.1234e+10    | EUR                       | Yes                            | 85    | ['EUR' 21234000000.0] | 2.46314e+10\n",
              "3     | AHOLD DELHAIZE       | CONSUMER PACKAGED GOODS | GROCERY / FOOD DISTRIBUTION | 2022                   | 1.728e+06     | 1.748e+06                      | 1.099e+06                    | 6.59304e+07   | 75600         | EUR                       | Yes                            | 150   | ['EUR' 75600.0]       | 87696\n",
              "4     | AIR FRANCE-KLM       | TRANSPORTATION          | nan                         | 2022                   | 1.63363e+07   | nan                            | 19104.7                      | 8.70067e+06   | 1.4315e+10    | EUR                       | Yes                            | nan   | ['EUR' 14315000000.0] | 1.66054e+10\n",
              "5     | AIRBUS               | OTHER                   | ROLLING STOCK MANUFACTURER  | 2022                   | 561737        | 339313                         | 265016                       | 4.76092e+08   | 52856         | EUR                       | Yes                            | 150   | ['EUR' 52856.0]       | 61313\n",
              "6     | ALBERTSONS COMPANIES | CONSUMER PACKAGED GOODS | GROCERY / FOOD DISTRIBUTION | 2022                   | 2.76738e+06   | 1.66352e+06                    | 1.64609e+06                  | 7.50445e+06   | 6.96904e+10   | USD                       | No                             | nan   | ['USD' 69690400000.0] | 6.96904e+10\n",
              "7     | ALLY FINANCIAL       | OTHER                   | FINANCE / BANKING           | 2022                   | 4228          | 9758                           | 0                            | 13986         | 8.381e+09     | USD                       | No                             | nan   | ['USD' 8381000000.0]  | 8.381e+09\n",
              "8     | ALSTOM               | OTHER                   | AEROSPACE                   | 2022                   | 107073        | 144632                         | 121789                       | 3.34293e+07   | 1.5741e+10    | EUR                       | No                             | nan   | ['EUR' 15741000000.0] | 1.82596e+10\n",
              "9     | AMCOR                | CONSUMER PACKAGED GOODS | nan                         | 2022                   | 529192        | 1.43269e+06                    | 1.43208e+06                  | 1.96516e+07   | 1.2861e+10    | USD                       | No                             | nan   | ['USD' 12861000000.0] | 1.2861e+10\n",
              "... (146 rows omitted)"
            ]
          },
          "execution_count": 9,
          "metadata": {},
          "output_type": "execute_result"
        }
      ],
      "source": [
        "#Now let's use this function to add a new column with all revenues in USD!\n",
        "emissions['Revenue(USD)'] = emissions.apply(toUSD, 'Revenue with Currency')\n",
        "emissions.drop('Revenue with Currency') #dropping this column so the dataset does not look to messy\n",
        "emissions"
      ]
    },
    {
      "cell_type": "markdown",
      "metadata": {},
      "source": [
        "Now we have a column with revenues only in USD!"
      ]
    },
    {
      "cell_type": "markdown",
      "metadata": {},
      "source": [
        "**Secondly**, we can also use `apply()` to transform numerical variable into categorical variable. As instance, here we want to add a column that categorize the Revenue into \"High\", \"Medium\", and \"Low\" base on its value, we can achieve this using the apply function"
      ]
    },
    {
      "cell_type": "code",
      "execution_count": 26,
      "metadata": {},
      "outputs": [],
      "source": [
        "#as usual, let's create the function needed for this operation\n",
        "def rev_level(rev):\n",
        "    if rev > 10**10:\n",
        "        return 'High'\n",
        "    if rev < 10**5:\n",
        "        return 'Low'\n",
        "    else:\n",
        "        return 'Medium'"
      ]
    },
    {
      "cell_type": "code",
      "execution_count": 28,
      "metadata": {},
      "outputs": [
        {
          "data": {
            "text/html": [
              "<table border=\"1\" class=\"dataframe\">\n",
              "    <thead>\n",
              "        <tr>\n",
              "            <th>Index</th> <th>Company Name</th> <th>Company Sector</th> <th>Company Sector (Other)</th> <th>Year of CDP Disclosure</th> <th>Scope 1 value</th> <th>Scope 2 value (location-based)</th> <th>Scope 2 value (market-based)</th> <th>Scope 3 value</th> <th>Total Revenue</th> <th>Currency of Total Revenue</th> <th>Internal Price on Carbon (Y/N)</th> <th>Price</th> <th>Revenue with Currency</th> <th>Revenue(USD)</th> <th>Revenue Level</th>\n",
              "        </tr>\n",
              "    </thead>\n",
              "    <tbody>\n",
              "        <tr>\n",
              "            <td>0    </td> <td>ADIDAS              </td> <td>APPAREL & FOOTWEAR     </td> <td>nan                        </td> <td>2022                  </td> <td>12908.4      </td> <td>nan                           </td> <td>125502                      </td> <td>7.25451e+06  </td> <td>2.1234e+10   </td> <td>EUR                      </td> <td>Yes                           </td> <td>85   </td> <td>['EUR' 21234000000.0]</td> <td>2.46314e+10 </td> <td>High         </td>\n",
              "        </tr>\n",
              "        <tr>\n",
              "            <td>1    </td> <td>ADIDAS              </td> <td>APPAREL & FOOTWEAR     </td> <td>nan                        </td> <td>2022                  </td> <td>12908.4      </td> <td>nan                           </td> <td>125502                      </td> <td>7.25451e+06  </td> <td>2.1234e+10   </td> <td>EUR                      </td> <td>Yes                           </td> <td>85   </td> <td>['EUR' 21234000000.0]</td> <td>2.46314e+10 </td> <td>High         </td>\n",
              "        </tr>\n",
              "        <tr>\n",
              "            <td>2    </td> <td>ADIDAS              </td> <td>APPAREL & FOOTWEAR     </td> <td>nan                        </td> <td>2022                  </td> <td>12908.4      </td> <td>nan                           </td> <td>125502                      </td> <td>7.25451e+06  </td> <td>2.1234e+10   </td> <td>EUR                      </td> <td>Yes                           </td> <td>85   </td> <td>['EUR' 21234000000.0]</td> <td>2.46314e+10 </td> <td>High         </td>\n",
              "        </tr>\n",
              "        <tr>\n",
              "            <td>3    </td> <td>AHOLD DELHAIZE      </td> <td>CONSUMER PACKAGED GOODS</td> <td>GROCERY / FOOD DISTRIBUTION</td> <td>2022                  </td> <td>1.728e+06    </td> <td>1.748e+06                     </td> <td>1.099e+06                   </td> <td>6.59304e+07  </td> <td>75600        </td> <td>EUR                      </td> <td>Yes                           </td> <td>150  </td> <td>['EUR' 75600.0]      </td> <td>87696       </td> <td>Low          </td>\n",
              "        </tr>\n",
              "        <tr>\n",
              "            <td>4    </td> <td>AIR FRANCE-KLM      </td> <td>TRANSPORTATION         </td> <td>nan                        </td> <td>2022                  </td> <td>1.63363e+07  </td> <td>nan                           </td> <td>19104.7                     </td> <td>8.70067e+06  </td> <td>1.4315e+10   </td> <td>EUR                      </td> <td>Yes                           </td> <td>nan  </td> <td>['EUR' 14315000000.0]</td> <td>1.66054e+10 </td> <td>High         </td>\n",
              "        </tr>\n",
              "        <tr>\n",
              "            <td>5    </td> <td>AIRBUS              </td> <td>OTHER                  </td> <td>ROLLING STOCK MANUFACTURER </td> <td>2022                  </td> <td>561737       </td> <td>339313                        </td> <td>265016                      </td> <td>4.76092e+08  </td> <td>52856        </td> <td>EUR                      </td> <td>Yes                           </td> <td>150  </td> <td>['EUR' 52856.0]      </td> <td>61313       </td> <td>Low          </td>\n",
              "        </tr>\n",
              "        <tr>\n",
              "            <td>6    </td> <td>ALBERTSONS COMPANIES</td> <td>CONSUMER PACKAGED GOODS</td> <td>GROCERY / FOOD DISTRIBUTION</td> <td>2022                  </td> <td>2.76738e+06  </td> <td>1.66352e+06                   </td> <td>1.64609e+06                 </td> <td>7.50445e+06  </td> <td>6.96904e+10  </td> <td>USD                      </td> <td>No                            </td> <td>nan  </td> <td>['USD' 69690400000.0]</td> <td>6.96904e+10 </td> <td>High         </td>\n",
              "        </tr>\n",
              "        <tr>\n",
              "            <td>7    </td> <td>ALLY FINANCIAL      </td> <td>OTHER                  </td> <td>FINANCE / BANKING          </td> <td>2022                  </td> <td>4228         </td> <td>9758                          </td> <td>0                           </td> <td>13986        </td> <td>8.381e+09    </td> <td>USD                      </td> <td>No                            </td> <td>nan  </td> <td>['USD' 8381000000.0] </td> <td>8.381e+09   </td> <td>Medium       </td>\n",
              "        </tr>\n",
              "        <tr>\n",
              "            <td>8    </td> <td>ALSTOM              </td> <td>OTHER                  </td> <td>AEROSPACE                  </td> <td>2022                  </td> <td>107073       </td> <td>144632                        </td> <td>121789                      </td> <td>3.34293e+07  </td> <td>1.5741e+10   </td> <td>EUR                      </td> <td>No                            </td> <td>nan  </td> <td>['EUR' 15741000000.0]</td> <td>1.82596e+10 </td> <td>High         </td>\n",
              "        </tr>\n",
              "        <tr>\n",
              "            <td>9    </td> <td>AMCOR               </td> <td>CONSUMER PACKAGED GOODS</td> <td>nan                        </td> <td>2022                  </td> <td>529192       </td> <td>1.43269e+06                   </td> <td>1.43208e+06                 </td> <td>1.96516e+07  </td> <td>1.2861e+10   </td> <td>USD                      </td> <td>No                            </td> <td>nan  </td> <td>['USD' 12861000000.0]</td> <td>1.2861e+10  </td> <td>High         </td>\n",
              "        </tr>\n",
              "    </tbody>\n",
              "</table>\n",
              "<p>... (146 rows omitted)</p>"
            ],
            "text/plain": [
              "Index | Company Name         | Company Sector          | Company Sector (Other)      | Year of CDP Disclosure | Scope 1 value | Scope 2 value (location-based) | Scope 2 value (market-based) | Scope 3 value | Total Revenue | Currency of Total Revenue | Internal Price on Carbon (Y/N) | Price | Revenue with Currency | Revenue(USD) | Revenue Level\n",
              "0     | ADIDAS               | APPAREL & FOOTWEAR      | nan                         | 2022                   | 12908.4       | nan                            | 125502                       | 7.25451e+06   | 2.1234e+10    | EUR                       | Yes                            | 85    | ['EUR' 21234000000.0] | 2.46314e+10  | High\n",
              "1     | ADIDAS               | APPAREL & FOOTWEAR      | nan                         | 2022                   | 12908.4       | nan                            | 125502                       | 7.25451e+06   | 2.1234e+10    | EUR                       | Yes                            | 85    | ['EUR' 21234000000.0] | 2.46314e+10  | High\n",
              "2     | ADIDAS               | APPAREL & FOOTWEAR      | nan                         | 2022                   | 12908.4       | nan                            | 125502                       | 7.25451e+06   | 2.1234e+10    | EUR                       | Yes                            | 85    | ['EUR' 21234000000.0] | 2.46314e+10  | High\n",
              "3     | AHOLD DELHAIZE       | CONSUMER PACKAGED GOODS | GROCERY / FOOD DISTRIBUTION | 2022                   | 1.728e+06     | 1.748e+06                      | 1.099e+06                    | 6.59304e+07   | 75600         | EUR                       | Yes                            | 150   | ['EUR' 75600.0]       | 87696        | Low\n",
              "4     | AIR FRANCE-KLM       | TRANSPORTATION          | nan                         | 2022                   | 1.63363e+07   | nan                            | 19104.7                      | 8.70067e+06   | 1.4315e+10    | EUR                       | Yes                            | nan   | ['EUR' 14315000000.0] | 1.66054e+10  | High\n",
              "5     | AIRBUS               | OTHER                   | ROLLING STOCK MANUFACTURER  | 2022                   | 561737        | 339313                         | 265016                       | 4.76092e+08   | 52856         | EUR                       | Yes                            | 150   | ['EUR' 52856.0]       | 61313        | Low\n",
              "6     | ALBERTSONS COMPANIES | CONSUMER PACKAGED GOODS | GROCERY / FOOD DISTRIBUTION | 2022                   | 2.76738e+06   | 1.66352e+06                    | 1.64609e+06                  | 7.50445e+06   | 6.96904e+10   | USD                       | No                             | nan   | ['USD' 69690400000.0] | 6.96904e+10  | High\n",
              "7     | ALLY FINANCIAL       | OTHER                   | FINANCE / BANKING           | 2022                   | 4228          | 9758                           | 0                            | 13986         | 8.381e+09     | USD                       | No                             | nan   | ['USD' 8381000000.0]  | 8.381e+09    | Medium\n",
              "8     | ALSTOM               | OTHER                   | AEROSPACE                   | 2022                   | 107073        | 144632                         | 121789                       | 3.34293e+07   | 1.5741e+10    | EUR                       | No                             | nan   | ['EUR' 15741000000.0] | 1.82596e+10  | High\n",
              "9     | AMCOR                | CONSUMER PACKAGED GOODS | nan                         | 2022                   | 529192        | 1.43269e+06                    | 1.43208e+06                  | 1.96516e+07   | 1.2861e+10    | USD                       | No                             | nan   | ['USD' 12861000000.0] | 1.2861e+10   | High\n",
              "... (146 rows omitted)"
            ]
          },
          "execution_count": 28,
          "metadata": {},
          "output_type": "execute_result"
        }
      ],
      "source": [
        "#Now let's apply the function to the dataset and add the column\n",
        "emissions['Revenue Level'] = emissions.apply(rev_level, 'Revenue(USD)')\n",
        "emissions"
      ]
    },
    {
      "cell_type": "markdown",
      "metadata": {},
      "source": [
        "Now we know how to categorize numerical data, we can use this to do more advanced operation sand visualizations!"
      ]
    },
    {
      "cell_type": "markdown",
      "metadata": {
        "id": "9s7AJmqcJ0p8"
      },
      "source": [
        "### 2.2 Group"
      ]
    },
    {
      "cell_type": "markdown",
      "metadata": {},
      "source": [
        "Since we now have revenues with the same format, let's do more aggregations with the `group` function, which  groups data by a specific attribute, allowing for analysis and aggregation within each group. Here we are using it to look at the average revenue of each company sector"
      ]
    },
    {
      "cell_type": "code",
      "execution_count": 37,
      "metadata": {
        "id": "uyrGncpzJ8kx"
      },
      "outputs": [
        {
          "data": {
            "text/html": [
              "<table border=\"1\" class=\"dataframe\">\n",
              "    <thead>\n",
              "        <tr>\n",
              "            <th>Company Sector</th> <th>Revenue(USD) mean</th>\n",
              "        </tr>\n",
              "    </thead>\n",
              "    <tbody>\n",
              "        <tr>\n",
              "            <td>APPAREL & FOOTWEAR     </td> <td>1.21045e+10      </td>\n",
              "        </tr>\n",
              "        <tr>\n",
              "            <td>CONSUMER PACKAGED GOODS</td> <td>6.82165e+10      </td>\n",
              "        </tr>\n",
              "        <tr>\n",
              "            <td>ENERGY                 </td> <td>8.53938e+10      </td>\n",
              "        </tr>\n",
              "        <tr>\n",
              "            <td>FOOD & AGRICULTURE     </td> <td>2.68682e+10      </td>\n",
              "        </tr>\n",
              "        <tr>\n",
              "            <td>MATERIALS              </td> <td>2.90295e+10      </td>\n",
              "        </tr>\n",
              "        <tr>\n",
              "            <td>OTHER                  </td> <td>2.47897e+10      </td>\n",
              "        </tr>\n",
              "        <tr>\n",
              "            <td>TECHNOLOGY             </td> <td>9.02242e+10      </td>\n",
              "        </tr>\n",
              "        <tr>\n",
              "            <td>TRANSPORTATION         </td> <td>3.60605e+10      </td>\n",
              "        </tr>\n",
              "    </tbody>\n",
              "</table>"
            ],
            "text/plain": [
              "Company Sector          | Revenue(USD) mean\n",
              "APPAREL & FOOTWEAR      | 1.21045e+10\n",
              "CONSUMER PACKAGED GOODS | 6.82165e+10\n",
              "ENERGY                  | 8.53938e+10\n",
              "FOOD & AGRICULTURE      | 2.68682e+10\n",
              "MATERIALS               | 2.90295e+10\n",
              "OTHER                   | 2.47897e+10\n",
              "TECHNOLOGY              | 9.02242e+10\n",
              "TRANSPORTATION          | 3.60605e+10"
            ]
          },
          "execution_count": 37,
          "metadata": {},
          "output_type": "execute_result"
        }
      ],
      "source": [
        "emission_g = emissions.select('Company Sector', 'Revenue(USD)') #Select the columns we want to look at\n",
        "emission_g.group('Company Sector', np.mean) #call the group function with the specific attribute and the aggregation we want to use"
      ]
    },
    {
      "cell_type": "code",
      "execution_count": 32,
      "metadata": {},
      "outputs": [
        {
          "data": {
            "text/html": [
              "<table border=\"1\" class=\"dataframe\">\n",
              "    <thead>\n",
              "        <tr>\n",
              "            <th>Company Sector</th> <th>Revenue(USD) median</th>\n",
              "        </tr>\n",
              "    </thead>\n",
              "    <tbody>\n",
              "        <tr>\n",
              "            <td>APPAREL & FOOTWEAR     </td> <td>5.38739e+09        </td>\n",
              "        </tr>\n",
              "        <tr>\n",
              "            <td>CONSUMER PACKAGED GOODS</td> <td>1.29282e+10        </td>\n",
              "        </tr>\n",
              "        <tr>\n",
              "            <td>ENERGY                 </td> <td>2.90683e+10        </td>\n",
              "        </tr>\n",
              "        <tr>\n",
              "            <td>FOOD & AGRICULTURE     </td> <td>1.743e+10          </td>\n",
              "        </tr>\n",
              "        <tr>\n",
              "            <td>MATERIALS              </td> <td>2.90295e+10        </td>\n",
              "        </tr>\n",
              "        <tr>\n",
              "            <td>OTHER                  </td> <td>6.152e+09          </td>\n",
              "        </tr>\n",
              "        <tr>\n",
              "            <td>TECHNOLOGY             </td> <td>8.08485e+10        </td>\n",
              "        </tr>\n",
              "        <tr>\n",
              "            <td>TRANSPORTATION         </td> <td>1.27989e+10        </td>\n",
              "        </tr>\n",
              "    </tbody>\n",
              "</table>"
            ],
            "text/plain": [
              "Company Sector          | Revenue(USD) median\n",
              "APPAREL & FOOTWEAR      | 5.38739e+09\n",
              "CONSUMER PACKAGED GOODS | 1.29282e+10\n",
              "ENERGY                  | 2.90683e+10\n",
              "FOOD & AGRICULTURE      | 1.743e+10\n",
              "MATERIALS               | 2.90295e+10\n",
              "OTHER                   | 6.152e+09\n",
              "TECHNOLOGY              | 8.08485e+10\n",
              "TRANSPORTATION          | 1.27989e+10"
            ]
          },
          "execution_count": 32,
          "metadata": {},
          "output_type": "execute_result"
        }
      ],
      "source": [
        "#We can also explore the data in different ways using different attributes\n",
        "emission_g.group('Company Sector', np.median)"
      ]
    },
    {
      "cell_type": "code",
      "execution_count": 38,
      "metadata": {},
      "outputs": [
        {
          "data": {
            "text/html": [
              "<table border=\"1\" class=\"dataframe\">\n",
              "    <thead>\n",
              "        <tr>\n",
              "            <th>Company Sector</th> <th>Company Name</th> <th>Revenue(USD) max</th>\n",
              "        </tr>\n",
              "    </thead>\n",
              "    <tbody>\n",
              "        <tr>\n",
              "            <td>APPAREL & FOOTWEAR</td> <td>ADIDAS                   </td> <td>2.46314e+10     </td>\n",
              "        </tr>\n",
              "        <tr>\n",
              "            <td>APPAREL & FOOTWEAR</td> <td>AMERICAN EAGLE OUTFITTERS</td> <td>5.01078e+09     </td>\n",
              "        </tr>\n",
              "        <tr>\n",
              "            <td>APPAREL & FOOTWEAR</td> <td>ARITZIA                  </td> <td>1.16581e+09     </td>\n",
              "        </tr>\n",
              "        <tr>\n",
              "            <td>APPAREL & FOOTWEAR</td> <td>BURBERRY                 </td> <td>3.87162e+09     </td>\n",
              "        </tr>\n",
              "        <tr>\n",
              "            <td>APPAREL & FOOTWEAR</td> <td>FILA HOLDINGS            </td> <td>3.4146e+09      </td>\n",
              "        </tr>\n",
              "        <tr>\n",
              "            <td>APPAREL & FOOTWEAR</td> <td>GIORGIO ARMANI           </td> <td>2.38447e+09     </td>\n",
              "        </tr>\n",
              "        <tr>\n",
              "            <td>APPAREL & FOOTWEAR</td> <td>H&M                      </td> <td>2.3e+10         </td>\n",
              "        </tr>\n",
              "        <tr>\n",
              "            <td>APPAREL & FOOTWEAR</td> <td>INDITEX                  </td> <td>3.21692e+10     </td>\n",
              "        </tr>\n",
              "        <tr>\n",
              "            <td>APPAREL & FOOTWEAR</td> <td>LEVI STRAUSS & CO.       </td> <td>5.764e+09       </td>\n",
              "        </tr>\n",
              "        <tr>\n",
              "            <td>APPAREL & FOOTWEAR</td> <td>LYMI DBA REFORMATION     </td> <td>1.71381e+06     </td>\n",
              "        </tr>\n",
              "    </tbody>\n",
              "</table>\n",
              "<p>... (97 rows omitted)</p>"
            ],
            "text/plain": [
              "Company Sector     | Company Name              | Revenue(USD) max\n",
              "APPAREL & FOOTWEAR | ADIDAS                    | 2.46314e+10\n",
              "APPAREL & FOOTWEAR | AMERICAN EAGLE OUTFITTERS | 5.01078e+09\n",
              "APPAREL & FOOTWEAR | ARITZIA                   | 1.16581e+09\n",
              "APPAREL & FOOTWEAR | BURBERRY                  | 3.87162e+09\n",
              "APPAREL & FOOTWEAR | FILA HOLDINGS             | 3.4146e+09\n",
              "APPAREL & FOOTWEAR | GIORGIO ARMANI            | 2.38447e+09\n",
              "APPAREL & FOOTWEAR | H&M                       | 2.3e+10\n",
              "APPAREL & FOOTWEAR | INDITEX                   | 3.21692e+10\n",
              "APPAREL & FOOTWEAR | LEVI STRAUSS & CO.        | 5.764e+09\n",
              "APPAREL & FOOTWEAR | LYMI DBA REFORMATION      | 1.71381e+06\n",
              "... (97 rows omitted)"
            ]
          },
          "execution_count": 38,
          "metadata": {},
          "output_type": "execute_result"
        }
      ],
      "source": [
        "#We can also group more than one variables\n",
        "emission_g1 = emissions.select('Company Sector', 'Company Name', 'Revenue(USD)')\n",
        "emission_g1.group(['Company Sector', 'Company Name'], np.max)"
      ]
    },
    {
      "cell_type": "markdown",
      "metadata": {
        "id": "CbDmBEij7m_n"
      },
      "source": [
        "### 2.3 Pivot"
      ]
    },
    {
      "cell_type": "markdown",
      "metadata": {
        "id": "Q2UNY2bU7m_o"
      },
      "source": [
        "The pivot function in Python reshapes data, making rows into columns. Similar to group, it summarizes data, but it is a little more complicated with changing some column values into column indexes. \n",
        "\n",
        "If we want to see the count of each currency in each company section, we can use the pivot function as shown below"
      ]
    },
    {
      "cell_type": "code",
      "execution_count": 41,
      "metadata": {
        "id": "BwY4hmLz7m_p",
        "outputId": "2d9aee17-0844-49f0-bd70-07e4cbf18321"
      },
      "outputs": [
        {
          "data": {
            "text/html": [
              "<table border=\"1\" class=\"dataframe\">\n",
              "    <thead>\n",
              "        <tr>\n",
              "            <th>Company Sector</th> <th>AUD</th> <th>CAD</th> <th>CHF</th> <th>DKK</th> <th>EUR</th> <th>GBP</th> <th>JPY</th> <th>KRW</th> <th>NOK</th> <th>RUB</th> <th>SEK</th> <th>USD</th>\n",
              "        </tr>\n",
              "    </thead>\n",
              "    <tbody>\n",
              "        <tr>\n",
              "            <td>APPAREL & FOOTWEAR     </td> <td>0   </td> <td>2   </td> <td>0   </td> <td>0   </td> <td>8   </td> <td>1   </td> <td>0   </td> <td>1   </td> <td>0   </td> <td>0   </td> <td>9   </td> <td>23  </td>\n",
              "        </tr>\n",
              "        <tr>\n",
              "            <td>CONSUMER PACKAGED GOODS</td> <td>0   </td> <td>0   </td> <td>0   </td> <td>0   </td> <td>5   </td> <td>0   </td> <td>0   </td> <td>0   </td> <td>0   </td> <td>0   </td> <td>0   </td> <td>8   </td>\n",
              "        </tr>\n",
              "        <tr>\n",
              "            <td>ENERGY                 </td> <td>0   </td> <td>0   </td> <td>0   </td> <td>4   </td> <td>6   </td> <td>0   </td> <td>1   </td> <td>0   </td> <td>1   </td> <td>1   </td> <td>0   </td> <td>21  </td>\n",
              "        </tr>\n",
              "        <tr>\n",
              "            <td>FOOD & AGRICULTURE     </td> <td>1   </td> <td>0   </td> <td>3   </td> <td>0   </td> <td>2   </td> <td>1   </td> <td>0   </td> <td>0   </td> <td>0   </td> <td>0   </td> <td>0   </td> <td>21  </td>\n",
              "        </tr>\n",
              "        <tr>\n",
              "            <td>MATERIALS              </td> <td>0   </td> <td>0   </td> <td>0   </td> <td>0   </td> <td>0   </td> <td>0   </td> <td>0   </td> <td>0   </td> <td>0   </td> <td>0   </td> <td>0   </td> <td>2   </td>\n",
              "        </tr>\n",
              "        <tr>\n",
              "            <td>OTHER                  </td> <td>0   </td> <td>0   </td> <td>0   </td> <td>0   </td> <td>3   </td> <td>0   </td> <td>1   </td> <td>2   </td> <td>0   </td> <td>0   </td> <td>0   </td> <td>13  </td>\n",
              "        </tr>\n",
              "        <tr>\n",
              "            <td>TECHNOLOGY             </td> <td>0   </td> <td>0   </td> <td>0   </td> <td>0   </td> <td>0   </td> <td>0   </td> <td>0   </td> <td>0   </td> <td>0   </td> <td>0   </td> <td>0   </td> <td>4   </td>\n",
              "        </tr>\n",
              "        <tr>\n",
              "            <td>TRANSPORTATION         </td> <td>0   </td> <td>0   </td> <td>0   </td> <td>0   </td> <td>4   </td> <td>0   </td> <td>1   </td> <td>0   </td> <td>0   </td> <td>0   </td> <td>0   </td> <td>7   </td>\n",
              "        </tr>\n",
              "    </tbody>\n",
              "</table>"
            ],
            "text/plain": [
              "Company Sector          | AUD  | CAD  | CHF  | DKK  | EUR  | GBP  | JPY  | KRW  | NOK  | RUB  | SEK  | USD\n",
              "APPAREL & FOOTWEAR      | 0    | 2    | 0    | 0    | 8    | 1    | 0    | 1    | 0    | 0    | 9    | 23\n",
              "CONSUMER PACKAGED GOODS | 0    | 0    | 0    | 0    | 5    | 0    | 0    | 0    | 0    | 0    | 0    | 8\n",
              "ENERGY                  | 0    | 0    | 0    | 4    | 6    | 0    | 1    | 0    | 1    | 1    | 0    | 21\n",
              "FOOD & AGRICULTURE      | 1    | 0    | 3    | 0    | 2    | 1    | 0    | 0    | 0    | 0    | 0    | 21\n",
              "MATERIALS               | 0    | 0    | 0    | 0    | 0    | 0    | 0    | 0    | 0    | 0    | 0    | 2\n",
              "OTHER                   | 0    | 0    | 0    | 0    | 3    | 0    | 1    | 2    | 0    | 0    | 0    | 13\n",
              "TECHNOLOGY              | 0    | 0    | 0    | 0    | 0    | 0    | 0    | 0    | 0    | 0    | 0    | 4\n",
              "TRANSPORTATION          | 0    | 0    | 0    | 0    | 4    | 0    | 1    | 0    | 0    | 0    | 0    | 7"
            ]
          },
          "execution_count": 41,
          "metadata": {},
          "output_type": "execute_result"
        }
      ],
      "source": [
        "emissions.pivot('Currency of Total Revenue', #the row index\n",
        "                'Company Sector', #the column index\n",
        "                )"
      ]
    },
    {
      "cell_type": "markdown",
      "metadata": {},
      "source": [
        "Instead of value counts, we can also incorporate aggregations into this function just like group()\n",
        "\n",
        "Now lets look at the average scope 1 value of each combination of currency and company Sector"
      ]
    },
    {
      "cell_type": "code",
      "execution_count": 44,
      "metadata": {},
      "outputs": [
        {
          "data": {
            "text/html": [
              "<table border=\"1\" class=\"dataframe\">\n",
              "    <thead>\n",
              "        <tr>\n",
              "            <th>Company Sector</th> <th>AUD</th> <th>CAD</th> <th>CHF</th> <th>DKK</th> <th>EUR</th> <th>GBP</th> <th>JPY</th> <th>KRW</th> <th>NOK</th> <th>RUB</th> <th>SEK</th> <th>USD</th>\n",
              "        </tr>\n",
              "    </thead>\n",
              "    <tbody>\n",
              "        <tr>\n",
              "            <td>APPAREL & FOOTWEAR     </td> <td>0          </td> <td>786.755</td> <td>0          </td> <td>0        </td> <td>11005.4    </td> <td>1834 </td> <td>0         </td> <td>1245.9 </td> <td>0         </td> <td>0          </td> <td>21171</td> <td>8668.31    </td>\n",
              "        </tr>\n",
              "        <tr>\n",
              "            <td>CONSUMER PACKAGED GOODS</td> <td>0          </td> <td>0      </td> <td>0          </td> <td>0        </td> <td>977242     </td> <td>0    </td> <td>0         </td> <td>0      </td> <td>0         </td> <td>0          </td> <td>0    </td> <td>1.87267e+06</td>\n",
              "        </tr>\n",
              "        <tr>\n",
              "            <td>ENERGY                 </td> <td>0          </td> <td>0      </td> <td>0          </td> <td>2.142e+06</td> <td>6.27514e+06</td> <td>0    </td> <td>1.7875e+07</td> <td>0      </td> <td>1.0445e+06</td> <td>3.63883e+07</td> <td>0    </td> <td>3.27379e+07</td>\n",
              "        </tr>\n",
              "        <tr>\n",
              "            <td>FOOD & AGRICULTURE     </td> <td>3.11218e+06</td> <td>0      </td> <td>3.37829e+06</td> <td>0        </td> <td>983030     </td> <td>15797</td> <td>0         </td> <td>0      </td> <td>0         </td> <td>0          </td> <td>0    </td> <td>1.93261e+06</td>\n",
              "        </tr>\n",
              "        <tr>\n",
              "            <td>MATERIALS              </td> <td>0          </td> <td>0      </td> <td>0          </td> <td>0        </td> <td>0          </td> <td>0    </td> <td>0         </td> <td>0      </td> <td>0         </td> <td>0          </td> <td>0    </td> <td>7.64138e+07</td>\n",
              "        </tr>\n",
              "        <tr>\n",
              "            <td>OTHER                  </td> <td>0          </td> <td>0      </td> <td>0          </td> <td>0        </td> <td>1.80323e+06</td> <td>0    </td> <td>2.56e+06  </td> <td>29813.9</td> <td>0         </td> <td>0          </td> <td>0    </td> <td>1.01883e+07</td>\n",
              "        </tr>\n",
              "        <tr>\n",
              "            <td>TECHNOLOGY             </td> <td>0          </td> <td>0      </td> <td>0          </td> <td>0        </td> <td>0          </td> <td>0    </td> <td>0         </td> <td>0      </td> <td>0         </td> <td>0          </td> <td>0    </td> <td>66042.1    </td>\n",
              "        </tr>\n",
              "        <tr>\n",
              "            <td>TRANSPORTATION         </td> <td>0          </td> <td>0      </td> <td>0          </td> <td>0        </td> <td>7.00752e+06</td> <td>0    </td> <td>2.56e+06  </td> <td>0      </td> <td>0         </td> <td>0          </td> <td>0    </td> <td>9.48256e+06</td>\n",
              "        </tr>\n",
              "    </tbody>\n",
              "</table>"
            ],
            "text/plain": [
              "Company Sector          | AUD         | CAD     | CHF         | DKK       | EUR         | GBP   | JPY        | KRW     | NOK        | RUB         | SEK   | USD\n",
              "APPAREL & FOOTWEAR      | 0           | 786.755 | 0           | 0         | 11005.4     | 1834  | 0          | 1245.9  | 0          | 0           | 21171 | 8668.31\n",
              "CONSUMER PACKAGED GOODS | 0           | 0       | 0           | 0         | 977242      | 0     | 0          | 0       | 0          | 0           | 0     | 1.87267e+06\n",
              "ENERGY                  | 0           | 0       | 0           | 2.142e+06 | 6.27514e+06 | 0     | 1.7875e+07 | 0       | 1.0445e+06 | 3.63883e+07 | 0     | 3.27379e+07\n",
              "FOOD & AGRICULTURE      | 3.11218e+06 | 0       | 3.37829e+06 | 0         | 983030      | 15797 | 0          | 0       | 0          | 0           | 0     | 1.93261e+06\n",
              "MATERIALS               | 0           | 0       | 0           | 0         | 0           | 0     | 0          | 0       | 0          | 0           | 0     | 7.64138e+07\n",
              "OTHER                   | 0           | 0       | 0           | 0         | 1.80323e+06 | 0     | 2.56e+06   | 29813.9 | 0          | 0           | 0     | 1.01883e+07\n",
              "TECHNOLOGY              | 0           | 0       | 0           | 0         | 0           | 0     | 0          | 0       | 0          | 0           | 0     | 66042.1\n",
              "TRANSPORTATION          | 0           | 0       | 0           | 0         | 7.00752e+06 | 0     | 2.56e+06   | 0       | 0          | 0           | 0     | 9.48256e+06"
            ]
          },
          "execution_count": 44,
          "metadata": {},
          "output_type": "execute_result"
        }
      ],
      "source": [
        "emissions.pivot('Currency of Total Revenue', #the row index\n",
        "                'Company Sector', #the column index\n",
        "                values = 'Scope 1 value', #the variable that is being evaluated for each combination\n",
        "                collect = np.mean #how the value is going to be aggregated\n",
        "                )"
      ]
    },
    {
      "cell_type": "markdown",
      "metadata": {
        "id": "RogITKdq7m_r"
      },
      "source": [
        "<!-- END QUESTION -->"
      ]
    },
    {
      "cell_type": "markdown",
      "metadata": {
        "id": "c3bMHpB67m_r"
      },
      "source": [
        "<hr style=\"border: 2px solid #003262\">\n",
        "<hr style=\"border: 2px solid #C9B676\">"
      ]
    },
    {
      "cell_type": "markdown",
      "metadata": {
        "cell_id": "00009-52f60190-e21f-4107-99a9-d42ab128df40",
        "deepnote_cell_type": "markdown",
        "id": "scdpUjwI7nAF",
        "tags": [
          "ignore"
        ]
      },
      "source": [
        "## visualizations (probably a large section, 2 devs)\n",
        "\n",
        "this section is probably going to be a bigger one, since its a lot more interesting for the students to analyze the data through visualizations than just in the table --> can use datascience plotting, seaborn, or plotly, just like notebook 1 showed."
      ]
    },
    {
      "cell_type": "markdown",
      "metadata": {
        "id": "lszK-TzJ7nAG"
      },
      "source": [
        "**Note:** we want to include some visualizations looking at the data grouped by the Sector attribute; also, I've kept the plotting section from the previous section below as a small reference / source of inspiration! we'll delete it later"
      ]
    },
    {
      "cell_type": "markdown",
      "metadata": {
        "id": "spn0lUU97nAG"
      },
      "source": [
        "some of the visualizations you create might be difficult, because the data has to be cleaned up first. that's fine, just keep whatever visualizations you make that you think could be interesting and i'll filter through them as we're finishing the notebook"
      ]
    },
    {
      "cell_type": "markdown",
      "metadata": {
        "id": "JUr7bhmf7nAH"
      },
      "source": [
        "remember, students probably arent that familiar with python: use a lot of fill in the ... questions and only very basic do it yourself questions. always give them an example before asking them to do it themselves!"
      ]
    },
    {
      "cell_type": "markdown",
      "metadata": {
        "id": "iMVe7_uc7nAH"
      },
      "source": [
        "also, add widgets if you are able to! those would be great for comparisons"
      ]
    },
    {
      "cell_type": "markdown",
      "metadata": {
        "id": "IQAuoGKG7nAH"
      },
      "source": [
        "note: can also add section subheadings if you want to break it up into different sections / exploring different features of the data; example:"
      ]
    },
    {
      "cell_type": "markdown",
      "metadata": {
        "id": "qx1veHmL7nAH"
      },
      "source": [
        "### section_number.subsection_number: Visualizing by Sector"
      ]
    },
    {
      "cell_type": "markdown",
      "metadata": {
        "id": "9OjtzMrg7nAI"
      },
      "source": [
        "question formatting:"
      ]
    },
    {
      "cell_type": "markdown",
      "metadata": {
        "id": "AbMP3rUs7nAI"
      },
      "source": [
        "<!-- BEGIN QUESTION -->\n",
        "<div class=\"alert alert-warning\">\n",
        "\n",
        "### Question section_number.question_number:\n",
        "coding or short answer question here\n",
        "</div>"
      ]
    },
    {
      "cell_type": "markdown",
      "metadata": {
        "id": "98emhDSS7nAI"
      },
      "source": [
        "for short answers:"
      ]
    },
    {
      "cell_type": "markdown",
      "metadata": {
        "id": "JImEQ7cN7nAI"
      },
      "source": [
        "*Type your answer here. Double-click to edit this cell and replace this text with your answer. Run this cell to proceed when finished.*"
      ]
    },
    {
      "cell_type": "markdown",
      "metadata": {
        "id": "tYxpewT97nAI"
      },
      "source": [
        "for coding"
      ]
    },
    {
      "cell_type": "code",
      "execution_count": null,
      "metadata": {
        "id": "AzN61UYE7nAJ",
        "outputId": "80b0a3af-9c5c-4524-dcf4-b0818b260527"
      },
      "outputs": [
        {
          "ename": "NameError",
          "evalue": "name 'emissions' is not defined",
          "output_type": "error",
          "traceback": [
            "\u001b[0;31m---------------------------------------------------------------------------\u001b[0m",
            "\u001b[0;31mNameError\u001b[0m                                 Traceback (most recent call last)",
            "Cell \u001b[0;32mIn[1], line 1\u001b[0m\n\u001b[0;32m----> 1\u001b[0m \u001b[43memissions\u001b[49m\u001b[38;5;241m.\u001b[39msort(\u001b[38;5;241m.\u001b[39m\u001b[38;5;241m.\u001b[39m\u001b[38;5;241m.\u001b[39m) \u001b[38;5;66;03m# Fill in the ellipsis with blah blah blah\u001b[39;00m\n",
            "\u001b[0;31mNameError\u001b[0m: name 'emissions' is not defined"
          ]
        }
      ],
      "source": [
        "emissions.group(...) # Fill in the ellipsis with blah blah blah"
      ]
    },
    {
      "cell_type": "markdown",
      "metadata": {
        "id": "tZP-deOH7nAJ"
      },
      "source": [
        "note: the END QUESTION tag for the otter pdf generator is in the blank cell right below this one! You need a BEGIN QUESTION and END QUESTION tag for every question."
      ]
    },
    {
      "cell_type": "markdown",
      "metadata": {
        "id": "nwONRNFD7nAJ"
      },
      "source": [
        "<!-- END QUESTION -->"
      ]
    },
    {
      "cell_type": "markdown",
      "metadata": {
        "id": "-6eFtWDq7nAK"
      },
      "source": [
        "<hr style=\"border: 2px solid #003262\">\n",
        "<hr style=\"border: 2px solid #C9B676\">"
      ]
    },
    {
      "cell_type": "markdown",
      "metadata": {
        "id": "JsQMcZBX7nAM"
      },
      "source": [
        "## Plotting [Reference - will be deleted later]"
      ]
    },
    {
      "cell_type": "markdown",
      "metadata": {
        "id": "SG_6ffvW7nAN"
      },
      "source": [
        "While knowing the average, the largest, and the smallest values are useful, they don't tell us the whole story. Along with this, just looking at a bunch of numbers isn't always fun or efficient. To further expand on our analysis, let's make some visualizations of our data!\n",
        "\n",
        "Fortunately, in Python, there are lots of functions that can do this for us. We'll examine a few below."
      ]
    },
    {
      "cell_type": "markdown",
      "metadata": {
        "id": "8bQggp337nAO"
      },
      "source": [
        "### Histogram\n",
        "The `hist` function will plot a [histogram](https://en.wikipedia.org/wiki/Histogram) of the column you specify."
      ]
    },
    {
      "cell_type": "code",
      "execution_count": null,
      "metadata": {
        "id": "IUoYzW577nAP"
      },
      "outputs": [],
      "source": [
        "tips.hist(\"total\", bins=np.arange(0, 60, 5))"
      ]
    },
    {
      "cell_type": "markdown",
      "metadata": {
        "id": "M555-jjR7nAP"
      },
      "source": [
        "### Scatter Plot\n",
        "\n",
        "The `scatter` function makes a [scatter plot](https://en.wikipedia.org/wiki/Scatter_plot), where the first parameter below (`total`) is the column we want to display on the x-axis, and the second parameter (`tip`) is the column we want to display on the y-axis."
      ]
    },
    {
      "cell_type": "code",
      "execution_count": null,
      "metadata": {
        "id": "CvVZgeHs7nAP"
      },
      "outputs": [],
      "source": [
        "tips.scatter(\"total\", \"tip\")"
      ]
    },
    {
      "cell_type": "markdown",
      "metadata": {
        "id": "LZSlAKzq7nAR"
      },
      "source": [
        "### Interactive Visualizations"
      ]
    },
    {
      "cell_type": "markdown",
      "metadata": {
        "id": "NmEJgvy27nAS"
      },
      "source": [
        "<div class=\"alert alert-block alert-success\">\n",
        "    <p style=\"font-size:20px\">This section is advanced/optional\n",
        "</div>"
      ]
    },
    {
      "cell_type": "markdown",
      "metadata": {
        "id": "Mk7aS0g17nAS"
      },
      "source": [
        "The plots above are great, and are suitible for almost all cases. However, we can take it one step further by creating an interactive plot! We can do this with the `plotly` library. In these plots you can hover your mouse over data, and information about it will pop up!\n",
        "\n",
        "Don't worry about understanding the code below, just check out the cool visualizations, and try hovering over the data with your mouse in different spots.\n",
        "\n",
        "Check out the comments for a description of the visualizations."
      ]
    },
    {
      "cell_type": "code",
      "execution_count": null,
      "metadata": {
        "id": "Wovk7LqL7nAS"
      },
      "outputs": [],
      "source": [
        "px.histogram(x=tips.column(\"total\"), title=\"Histogram of Total Bill Amounts\",\n",
        "             template = \"seaborn\", labels={\"x\":\"Total Bill Amounts\", \"y\":\"Count\"},\n",
        "             width = 600, height = 400, nbins=20)\n",
        "# Plots a histogram of the total bill amounts"
      ]
    },
    {
      "cell_type": "code",
      "execution_count": null,
      "metadata": {
        "id": "63232Ldo7nAS"
      },
      "outputs": [],
      "source": [
        "px.histogram(x=tips.column(\"time\"), y=tips.column(\"tip\"), color = tips.column(\"time\"),\n",
        "             template = \"seaborn\", title = \"Average Tips by Meal\", labels = {\"x\": \"Day\", \"y\": \"Tips\"},\n",
        "             histfunc = \"avg\", width = 600, height = 400)\n",
        "# Plots a bar chart of the tips by meal"
      ]
    },
    {
      "cell_type": "code",
      "execution_count": null,
      "metadata": {
        "id": "QX7yfpbT7nAT"
      },
      "outputs": [],
      "source": [
        "px.histogram(x=tips.column(\"day\"), y=tips.column(\"tip\"), color = tips.column(\"day\"),\n",
        "             template = \"seaborn\", title = \"Tips by Day\", labels = {\"x\": \"Day\", \"y\": \"Tips\"},\n",
        "             width = 600, height = 400)\n",
        "# Plots a bar chart of the tips by day"
      ]
    },
    {
      "cell_type": "code",
      "execution_count": null,
      "metadata": {
        "id": "3GdwKwHT7nAT"
      },
      "outputs": [],
      "source": [
        "px.scatter(x=tips.column(\"total\"), y=tips.column(\"tip\"),\n",
        "           title=\"Scatter Plot of Total Bill Amounts vs. Tip Amounts\", template = \"seaborn\",\n",
        "           labels = {\"x\": \"Total Bill Amount\", \"y\": \"Tip Amount\"},\n",
        "           width=500, height=500)\n",
        "# Plots a scatter plot of the total bill amounts vs. the tip amounts"
      ]
    },
    {
      "cell_type": "markdown",
      "metadata": {
        "id": "j5xa-Chu7nAU"
      },
      "source": [
        "<hr style=\"border: 2px solid #003262\">\n",
        "<hr style=\"border: 2px solid #C9B676\">"
      ]
    },
    {
      "cell_type": "markdown",
      "metadata": {
        "id": "AZkB-3SL7nAV"
      },
      "source": [
        "**to do for Manaar**: potentially add pdf generator if necessary; if not, take out otter grader stuff. also potentially add data science resources section"
      ]
    },
    {
      "cell_type": "markdown",
      "metadata": {
        "id": "edEbqtL97nAW"
      },
      "source": [
        "## Conclusion"
      ]
    },
    {
      "cell_type": "markdown",
      "metadata": {
        "id": "Y9Bvtru67nAX"
      },
      "source": [
        "In this notebook, you've learned quite a bit, below is a summary of the topics we have covered:\n",
        "- Jupyter Notebooks\n",
        "    - History of Jupyter\n",
        "    - Structure of a Notebook\n",
        "    - Editing a notebook\n",
        "- Python\n",
        "    - Math\n",
        "    - Strings\n",
        "    - Errors\n",
        "    - Variables\n",
        "    - Lists\n",
        "    - Functions\n",
        "    - Loops\n",
        "    - Modules\n",
        "    - Dot Notation\n",
        "- Tables\n",
        "    - Loading a Table\n",
        "    - Context of a Table\n",
        "    - Size of a Table\n",
        "    - Selecting Columns\n",
        "    - Sorting Tables\n",
        "- Columns\n",
        "    - Statistics of Columns\n",
        "- Plotting\n",
        "    - Histograms\n",
        "    - Scatter Plots\n",
        "    - Interactive Plots\n",
        "\n",
        "<h3>Congratulations on finishing the notebook!</h3>"
      ]
    },
    {
      "cell_type": "markdown",
      "metadata": {
        "id": "F-v5rZfM7nAX"
      },
      "source": [
        "<hr style=\"border: 2px solid #003262\">\n",
        "<hr style=\"border: 2px solid #C9B676\">"
      ]
    },
    {
      "cell_type": "markdown",
      "metadata": {
        "id": "yXqeDm3L7nAX"
      },
      "source": [
        "## A Final Request: Feedback Form"
      ]
    },
    {
      "cell_type": "markdown",
      "metadata": {
        "id": "ztWXbVo37nAY"
      },
      "source": [
        "<div class=\"alert alert-block alert-info\">\n",
        "    <p style=\"font-size:20px\">We encourage students to fill out the following feedback form to share your experience with this Module created notebook. This feedback form will take no longer than 5 minutes. At UC Berkeley Data Science Undergraduate Studies – Modules, we appreciate all feedback to improve the learning of students and experience utilizing Jupyter Notebooks for Data Science Education. You can fill out the survey by running the below and clicking the button that appears. Thank you in advance for your time!\n",
        "</div>"
      ]
    },
    {
      "cell_type": "code",
      "execution_count": null,
      "metadata": {
        "id": "zSX5cn8D7nAY"
      },
      "outputs": [],
      "source": [
        "feedback_button()"
      ]
    }
  ],
  "metadata": {
    "colab": {
      "provenance": []
    },
    "deepnote_execution_queue": [],
    "deepnote_notebook_id": "693e9760-244f-475b-aa3d-f49b62665db0",
    "kernelspec": {
      "display_name": "Python 3 (ipykernel)",
      "language": "python",
      "name": "python3"
    },
    "language_info": {
      "codemirror_mode": {
        "name": "ipython",
        "version": 3
      },
      "file_extension": ".py",
      "mimetype": "text/x-python",
      "name": "python",
      "nbconvert_exporter": "python",
      "pygments_lexer": "ipython3",
      "version": "3.11.5"
    },
    "vscode": {
      "interpreter": {
        "hash": "aee8b7b246df8f9039afb4144a1f6fd8d2ca17a180786b69acc140d282b71a49"
      }
    }
  },
  "nbformat": 4,
  "nbformat_minor": 0
}
