{
 "cells": [
  {
   "cell_type": "markdown",
   "metadata": {
    "cell_id": "00001-eedf9a46-cb0c-42bc-a90f-96265663c0d3",
    "deepnote_cell_type": "markdown",
    "tags": [
     "ignore"
    ]
   },
   "source": [
    "## [ESPM-136] Notebook 2: Company Emissions Exploratory Data Analysis (EDA)\n",
    "\n",
    "## **Introduction Section here**\n",
    "\n",
    "Discuss overview of notebook and what students can take away from it here. Can also provide any relevant resources here.\n",
    "\n",
    "need to also mention that this notebook has questions that are bolded in yellow for the students to answer: probably won't be graded, might change later?"
   ]
  },
  {
   "cell_type": "markdown",
   "metadata": {},
   "source": [
    "keeping below cell just for reference, in case we have advanced/optional sections. delete later!"
   ]
  },
  {
   "cell_type": "markdown",
   "metadata": {},
   "source": [
    "<div class=\"alert alert-block alert-success\">\n",
    "    <p style=\"font-size:20px\">This section is advanced/optional\n",
    "</div>"
   ]
  },
  {
   "cell_type": "markdown",
   "metadata": {},
   "source": [
    "<hr style=\"border: 2px solid #003262\">\n",
    "<hr style=\"border: 2px solid #C9B676\">"
   ]
  },
  {
   "cell_type": "markdown",
   "metadata": {},
   "source": [
    "## Learning Outcomes\n",
    "Working through this notebook, you will learn about:\n",
    "1. complete later when sections are establish\n",
    "\n",
    "Also, may want to add table of contents beneath this section, depending on how long notebook is."
   ]
  },
  {
   "cell_type": "markdown",
   "metadata": {},
   "source": [
    "<hr style=\"border: 2px solid #003262\">\n",
    "<hr style=\"border: 2px solid #C9B676\">"
   ]
  },
  {
   "cell_type": "markdown",
   "metadata": {
    "cell_id": "00003-a9cd1167-2276-4e0f-85b6-43d803731627",
    "deepnote_cell_type": "markdown",
    "tags": []
   },
   "source": [
    "## Review / recap of data collection [likely be done by Manaar and/or Zcjanin]\n",
    "\n",
    "this section will provide a brief recap of the data collection process so far, to discuss how we got from google forms to here and why we want to import the data in a jupyter notebook as compared to other mediums / what we can accomplish with it. may also be good to quickly discuss implications of the data collection / inputting process.\n",
    "\n",
    "want this section to be pretty short -- dont want a wall of text!"
   ]
  },
  {
   "cell_type": "markdown",
   "metadata": {},
   "source": [
    "<hr style=\"border: 2px solid #003262\">\n",
    "<hr style=\"border: 2px solid #C9B676\">"
   ]
  },
  {
   "cell_type": "markdown",
   "metadata": {
    "cell_id": "00003-058e2913-9587-45ac-8c2f-f284333ac4f3",
    "deepnote_cell_type": "markdown"
   },
   "source": [
    "## Importing and Taking an Initial Look at the Data (manaar will do?)\n",
    "\n",
    "description of the steps we need to take to read_table to create a datascience table to look at our data in tabular format.\n",
    "\n",
    "first, import libraries (note: add any additional libraries you use in your code here! good to keep it all in one place), then read table:"
   ]
  },
  {
   "cell_type": "code",
   "execution_count": 62,
   "metadata": {},
   "outputs": [],
   "source": [
    "from ipywidgets import *\n",
    "import numpy as np\n",
    "from datascience import *\n",
    "import otter\n",
    "grader = otter.Notebook()\n",
    "import matplotlib.pyplot as plt\n",
    "%matplotlib inline\n",
    "plt.style.use(\"fivethirtyeight\")\n",
    "import seaborn as sns, plotly.express as px"
   ]
  },
  {
   "cell_type": "code",
   "execution_count": 63,
   "metadata": {},
   "outputs": [
    {
     "data": {
      "text/html": [
       "<table border=\"1\" class=\"dataframe\">\n",
       "    <thead>\n",
       "        <tr>\n",
       "            <th>Index</th> <th>Company Name</th> <th>Company Sector</th> <th>Company Sector (Other)</th> <th>Year of CDP Disclosure</th> <th>Scope 1 value</th> <th>Scope 2 value (location-based)</th> <th>Scope 2 value (market-based)</th> <th>Scope 3 value</th> <th>Total Revenue</th> <th>Currency of Total Revenue</th> <th>Internal Price on Carbon (Y/N)</th> <th>Price</th>\n",
       "        </tr>\n",
       "    </thead>\n",
       "    <tbody>\n",
       "        <tr>\n",
       "            <td>0    </td> <td>ADIDAS              </td> <td>APPAREL & FOOTWEAR     </td> <td>nan                        </td> <td>2022                  </td> <td>12908.4      </td> <td>nan                           </td> <td>125502                      </td> <td>7.25451e+06  </td> <td>2.1234e+10   </td> <td>EUR                      </td> <td>Yes                           </td> <td>85   </td>\n",
       "        </tr>\n",
       "        <tr>\n",
       "            <td>1    </td> <td>ADIDAS              </td> <td>APPAREL & FOOTWEAR     </td> <td>nan                        </td> <td>2022                  </td> <td>12908.4      </td> <td>nan                           </td> <td>125502                      </td> <td>7.25451e+06  </td> <td>2.1234e+10   </td> <td>EUR                      </td> <td>Yes                           </td> <td>85   </td>\n",
       "        </tr>\n",
       "        <tr>\n",
       "            <td>2    </td> <td>ADIDAS              </td> <td>APPAREL & FOOTWEAR     </td> <td>nan                        </td> <td>2022                  </td> <td>12908.4      </td> <td>nan                           </td> <td>125502                      </td> <td>7.25451e+06  </td> <td>2.1234e+10   </td> <td>EUR                      </td> <td>Yes                           </td> <td>85   </td>\n",
       "        </tr>\n",
       "        <tr>\n",
       "            <td>3    </td> <td>AHOLD DELHAIZE      </td> <td>CONSUMER PACKAGED GOODS</td> <td>GROCERY / FOOD DISTRIBUTION</td> <td>2022                  </td> <td>1.728e+06    </td> <td>1.748e+06                     </td> <td>1.099e+06                   </td> <td>6.59304e+07  </td> <td>75600        </td> <td>EUR                      </td> <td>Yes                           </td> <td>150  </td>\n",
       "        </tr>\n",
       "        <tr>\n",
       "            <td>4    </td> <td>AIR FRANCE-KLM      </td> <td>TRANSPORTATION         </td> <td>nan                        </td> <td>2022                  </td> <td>1.63363e+07  </td> <td>nan                           </td> <td>19104.7                     </td> <td>8.70067e+06  </td> <td>1.4315e+10   </td> <td>EUR                      </td> <td>Yes                           </td> <td>nan  </td>\n",
       "        </tr>\n",
       "        <tr>\n",
       "            <td>5    </td> <td>AIRBUS              </td> <td>OTHER                  </td> <td>ROLLING STOCK MANUFACTURER </td> <td>2022                  </td> <td>561737       </td> <td>339313                        </td> <td>265016                      </td> <td>4.76092e+08  </td> <td>52856        </td> <td>EUR                      </td> <td>Yes                           </td> <td>150  </td>\n",
       "        </tr>\n",
       "        <tr>\n",
       "            <td>6    </td> <td>ALBERTSONS COMPANIES</td> <td>CONSUMER PACKAGED GOODS</td> <td>GROCERY / FOOD DISTRIBUTION</td> <td>2022                  </td> <td>2.76738e+06  </td> <td>1.66352e+06                   </td> <td>1.64609e+06                 </td> <td>7.50445e+06  </td> <td>6.96904e+10  </td> <td>USD                      </td> <td>No                            </td> <td>nan  </td>\n",
       "        </tr>\n",
       "        <tr>\n",
       "            <td>7    </td> <td>ALLY FINANCIAL      </td> <td>OTHER                  </td> <td>FINANCE / BANKING          </td> <td>2022                  </td> <td>4228         </td> <td>9758                          </td> <td>0                           </td> <td>13986        </td> <td>8.381e+09    </td> <td>USD                      </td> <td>No                            </td> <td>nan  </td>\n",
       "        </tr>\n",
       "        <tr>\n",
       "            <td>8    </td> <td>ALSTOM              </td> <td>OTHER                  </td> <td>AEROSPACE                  </td> <td>2022                  </td> <td>107073       </td> <td>144632                        </td> <td>121789                      </td> <td>3.34293e+07  </td> <td>1.5741e+10   </td> <td>EUR                      </td> <td>No                            </td> <td>nan  </td>\n",
       "        </tr>\n",
       "        <tr>\n",
       "            <td>9    </td> <td>AMCOR               </td> <td>CONSUMER PACKAGED GOODS</td> <td>nan                        </td> <td>2022                  </td> <td>529192       </td> <td>1.43269e+06                   </td> <td>1.43208e+06                 </td> <td>1.96516e+07  </td> <td>1.2861e+10   </td> <td>USD                      </td> <td>No                            </td> <td>nan  </td>\n",
       "        </tr>\n",
       "    </tbody>\n",
       "</table>\n",
       "<p>... (146 rows omitted)</p>"
      ],
      "text/plain": [
       "Index | Company Name         | Company Sector          | Company Sector (Other)      | Year of CDP Disclosure | Scope 1 value | Scope 2 value (location-based) | Scope 2 value (market-based) | Scope 3 value | Total Revenue | Currency of Total Revenue | Internal Price on Carbon (Y/N) | Price\n",
       "0     | ADIDAS               | APPAREL & FOOTWEAR      | nan                         | 2022                   | 12908.4       | nan                            | 125502                       | 7.25451e+06   | 2.1234e+10    | EUR                       | Yes                            | 85\n",
       "1     | ADIDAS               | APPAREL & FOOTWEAR      | nan                         | 2022                   | 12908.4       | nan                            | 125502                       | 7.25451e+06   | 2.1234e+10    | EUR                       | Yes                            | 85\n",
       "2     | ADIDAS               | APPAREL & FOOTWEAR      | nan                         | 2022                   | 12908.4       | nan                            | 125502                       | 7.25451e+06   | 2.1234e+10    | EUR                       | Yes                            | 85\n",
       "3     | AHOLD DELHAIZE       | CONSUMER PACKAGED GOODS | GROCERY / FOOD DISTRIBUTION | 2022                   | 1.728e+06     | 1.748e+06                      | 1.099e+06                    | 6.59304e+07   | 75600         | EUR                       | Yes                            | 150\n",
       "4     | AIR FRANCE-KLM       | TRANSPORTATION          | nan                         | 2022                   | 1.63363e+07   | nan                            | 19104.7                      | 8.70067e+06   | 1.4315e+10    | EUR                       | Yes                            | nan\n",
       "5     | AIRBUS               | OTHER                   | ROLLING STOCK MANUFACTURER  | 2022                   | 561737        | 339313                         | 265016                       | 4.76092e+08   | 52856         | EUR                       | Yes                            | 150\n",
       "6     | ALBERTSONS COMPANIES | CONSUMER PACKAGED GOODS | GROCERY / FOOD DISTRIBUTION | 2022                   | 2.76738e+06   | 1.66352e+06                    | 1.64609e+06                  | 7.50445e+06   | 6.96904e+10   | USD                       | No                             | nan\n",
       "7     | ALLY FINANCIAL       | OTHER                   | FINANCE / BANKING           | 2022                   | 4228          | 9758                           | 0                            | 13986         | 8.381e+09     | USD                       | No                             | nan\n",
       "8     | ALSTOM               | OTHER                   | AEROSPACE                   | 2022                   | 107073        | 144632                         | 121789                       | 3.34293e+07   | 1.5741e+10    | EUR                       | No                             | nan\n",
       "9     | AMCOR                | CONSUMER PACKAGED GOODS | nan                         | 2022                   | 529192        | 1.43269e+06                    | 1.43208e+06                  | 1.96516e+07   | 1.2861e+10    | USD                       | No                             | nan\n",
       "... (146 rows omitted)"
      ]
     },
     "execution_count": 63,
     "metadata": {},
     "output_type": "execute_result"
    }
   ],
   "source": [
    "# emissions = Table.read_table('uncleaned_data.csv')\n",
    "emissions = Table.read_table('emissions.csv')\n",
    "emissions"
   ]
  },
  {
   "cell_type": "markdown",
   "metadata": {},
   "source": [
    "### data dictionary\n",
    "\n",
    "probably be done by Manaar / Zcjanin, can leave this alone for now\n",
    "\n",
    "|column name| meaning |type|\n",
    "|--|--|--|\n",
    "|total|total cost of the bill |number |\n",
    "|tip|the tip left by the party |number |\n",
    "|sex|sex of the person paying |category |\n",
    "|smoker|if the person paying was smoking |category |\n",
    "|day|day of the week |category |\n",
    "|time|meal (e.g., Lunch, Dinner, etc.) |category |\n",
    "|size|how many people were in the party |number |"
   ]
  },
  {
   "cell_type": "markdown",
   "metadata": {
    "cell_id": "00004-a9f5f74b-a641-44a7-8dd5-2f9f58c10236",
    "deepnote_cell_type": "code",
    "execution": {
     "iopub.execute_input": "2022-08-03T09:02:40.079967Z",
     "iopub.status.busy": "2022-08-03T09:02:40.079000Z",
     "iopub.status.idle": "2022-08-03T09:02:40.118322Z",
     "shell.execute_reply": "2022-08-03T09:02:40.117260Z",
     "shell.execute_reply.started": "2022-08-03T09:02:40.079911Z"
    },
    "tags": [
     "ignore"
    ]
   },
   "source": [
    "Next, have a small section looking into certain basic summary statistics like num_rows and num_cols and labels"
   ]
  },
  {
   "cell_type": "markdown",
   "metadata": {},
   "source": [
    "<hr style=\"border: 2px solid #003262\">\n",
    "<hr style=\"border: 2px solid #C9B676\">"
   ]
  },
  {
   "cell_type": "markdown",
   "metadata": {
    "cell_id": "00006-dadd2623-2173-4cdb-8c95-207741ecc765",
    "deepnote_cell_type": "markdown",
    "tags": [
     "ignore"
    ]
   },
   "source": [
    "## Selecting columns / Conditioning on rows / sorting\n",
    "\n",
    "This section will be all about doing interesting EDA in tabular format using .select, .where, and .sort. Can use whatever data analysis / columns you would like -- just show an example of selecting or using .where first, and then provide the question statement for the student to try it themselves!"
   ]
  },
  {
   "cell_type": "markdown",
   "metadata": {},
   "source": [
    "note: can also add section subheadings if you want to break it up into select, where, and sort; example:"
   ]
  },
  {
   "cell_type": "markdown",
   "metadata": {},
   "source": [
    "### section_number.subsection_number: Selecting Columns"
   ]
  },
  {
   "cell_type": "markdown",
   "metadata": {},
   "source": [
    "question formatting:"
   ]
  },
  {
   "cell_type": "markdown",
   "metadata": {},
   "source": [
    "<!-- BEGIN QUESTION -->\n",
    "<div class=\"alert alert-warning\">\n",
    "\n",
    "### Question section_number.question_number:\n",
    "coding or short answer question here\n",
    "</div>"
   ]
  },
  {
   "cell_type": "markdown",
   "metadata": {},
   "source": [
    "for short answers:"
   ]
  },
  {
   "cell_type": "markdown",
   "metadata": {},
   "source": [
    "*Type your answer here. Double-click to edit this cell and replace this text with your answer. Run this cell to proceed when finished.*"
   ]
  },
  {
   "cell_type": "markdown",
   "metadata": {},
   "source": [
    "for coding"
   ]
  },
  {
   "cell_type": "code",
   "execution_count": 64,
   "metadata": {},
   "outputs": [
    {
     "ename": "TypeError",
     "evalue": "object of type 'ellipsis' has no len()",
     "output_type": "error",
     "traceback": [
      "\u001b[0;31m---------------------------------------------------------------------------\u001b[0m",
      "\u001b[0;31mTypeError\u001b[0m                                 Traceback (most recent call last)",
      "\u001b[1;32mc:\\Users\\jason\\OneDrive\\Desktop\\modules\\ESPM-136\\nb2-eda\\nb2-Jason.ipynb Cell 23\u001b[0m line \u001b[0;36m1\n\u001b[0;32m----> <a href='vscode-notebook-cell:/c%3A/Users/jason/OneDrive/Desktop/modules/ESPM-136/nb2-eda/nb2-Jason.ipynb#X31sZmlsZQ%3D%3D?line=0'>1</a>\u001b[0m emissions\u001b[39m.\u001b[39;49msort(\u001b[39m.\u001b[39;49m\u001b[39m.\u001b[39;49m\u001b[39m.\u001b[39;49m) \u001b[39m# Fill in the ellipsis with blah blah blah\u001b[39;00m\n",
      "File \u001b[0;32m/opt/conda/lib/python3.9/site-packages/datascience/tables.py:1411\u001b[0m, in \u001b[0;36mTable.sort\u001b[0;34m(self, column_or_label, descending, distinct)\u001b[0m\n\u001b[1;32m   1350\u001b[0m \u001b[39mdef\u001b[39;00m \u001b[39msort\u001b[39m(\u001b[39mself\u001b[39m, column_or_label, descending\u001b[39m=\u001b[39m\u001b[39mFalse\u001b[39;00m, distinct\u001b[39m=\u001b[39m\u001b[39mFalse\u001b[39;00m):\n\u001b[1;32m   1351\u001b[0m \u001b[39m    \u001b[39m\u001b[39m\"\"\"Return a Table of rows sorted according to the values in a column.\u001b[39;00m\n\u001b[1;32m   1352\u001b[0m \n\u001b[1;32m   1353\u001b[0m \u001b[39m    Args:\u001b[39;00m\n\u001b[0;32m   (...)\u001b[0m\n\u001b[1;32m   1409\u001b[0m \u001b[39m    Blue  | Rectangular | 12     | 2\u001b[39;00m\n\u001b[1;32m   1410\u001b[0m \u001b[39m    \"\"\"\u001b[39;00m\n\u001b[0;32m-> 1411\u001b[0m     column \u001b[39m=\u001b[39m \u001b[39mself\u001b[39;49m\u001b[39m.\u001b[39;49m_get_column(column_or_label)\n\u001b[1;32m   1412\u001b[0m     \u001b[39mif\u001b[39;00m distinct:\n\u001b[1;32m   1413\u001b[0m         _, row_numbers \u001b[39m=\u001b[39m np\u001b[39m.\u001b[39munique(column, return_index\u001b[39m=\u001b[39m\u001b[39mTrue\u001b[39;00m)\n",
      "File \u001b[0;32m/opt/conda/lib/python3.9/site-packages/datascience/tables.py:1999\u001b[0m, in \u001b[0;36mTable._get_column\u001b[0;34m(self, column_or_label)\u001b[0m\n\u001b[1;32m   1997\u001b[0m     \u001b[39mraise\u001b[39;00m \u001b[39mValueError\u001b[39;00m(\u001b[39m'\u001b[39m\u001b[39mlabel \u001b[39m\u001b[39m\"\u001b[39m\u001b[39m{}\u001b[39;00m\u001b[39m\"\u001b[39m\u001b[39m not in labels \u001b[39m\u001b[39m{}\u001b[39;00m\u001b[39m'\u001b[39m\u001b[39m.\u001b[39mformat(c, \u001b[39mself\u001b[39m\u001b[39m.\u001b[39mlabels))\n\u001b[1;32m   1998\u001b[0m \u001b[39melse\u001b[39;00m:\n\u001b[0;32m-> 1999\u001b[0m     \u001b[39massert\u001b[39;00m \u001b[39mlen\u001b[39;49m(c) \u001b[39m==\u001b[39m \u001b[39mself\u001b[39m\u001b[39m.\u001b[39mnum_rows, \u001b[39m'\u001b[39m\u001b[39mcolumn length mismatch\u001b[39m\u001b[39m'\u001b[39m\n\u001b[1;32m   2000\u001b[0m     \u001b[39mreturn\u001b[39;00m c\n",
      "\u001b[0;31mTypeError\u001b[0m: object of type 'ellipsis' has no len()"
     ]
    }
   ],
   "source": [
    "emissions.sort(...) # Fill in the ellipsis with blah blah blah"
   ]
  },
  {
   "cell_type": "markdown",
   "metadata": {},
   "source": [
    "note: the END QUESTION tag for the otter pdf generator is in the blank cell right below this one! You need a BEGIN QUESTION and END QUESTION tag for every question."
   ]
  },
  {
   "cell_type": "markdown",
   "metadata": {},
   "source": [
    "<!-- END QUESTION -->"
   ]
  },
  {
   "cell_type": "markdown",
   "metadata": {},
   "source": [
    "<hr style=\"border: 2px solid #003262\">\n",
    "<hr style=\"border: 2px solid #C9B676\">"
   ]
  },
  {
   "cell_type": "markdown",
   "metadata": {},
   "source": [
    "## more advanced table functions: apply, group, pivot (if applicable)\n",
    "\n",
    "similar structure to previous section: total freedom with what you want to explore or emphasize! just show the student an example first and then ask them questions."
   ]
  },
  {
   "cell_type": "markdown",
   "metadata": {},
   "source": [
    "**Note:** we want to include some tabular data looking at the data grouped by the Sector attribute"
   ]
  },
  {
   "cell_type": "markdown",
   "metadata": {},
   "source": [
    "note: can also add section subheadings if you want to break it up into apply, group, and pivot; example:"
   ]
  },
  {
   "cell_type": "markdown",
   "metadata": {},
   "source": [
    "### section_number.subsection_number: Applying Functions"
   ]
  },
  {
   "cell_type": "markdown",
   "metadata": {},
   "source": [
    "question formatting:"
   ]
  },
  {
   "cell_type": "markdown",
   "metadata": {},
   "source": [
    "<!-- BEGIN QUESTION -->\n",
    "<div class=\"alert alert-warning\">\n",
    "\n",
    "### Question section_number.question_number:\n",
    "coding or short answer question here\n",
    "</div>"
   ]
  },
  {
   "cell_type": "markdown",
   "metadata": {},
   "source": [
    "for short answers:"
   ]
  },
  {
   "cell_type": "markdown",
   "metadata": {},
   "source": [
    "*Type your answer here. Double-click to edit this cell and replace this text with your answer. Run this cell to proceed when finished.*"
   ]
  },
  {
   "cell_type": "markdown",
   "metadata": {},
   "source": [
    "for coding"
   ]
  },
  {
   "cell_type": "code",
   "execution_count": null,
   "metadata": {},
   "outputs": [
    {
     "ename": "NameError",
     "evalue": "name 'emissions' is not defined",
     "output_type": "error",
     "traceback": [
      "\u001b[0;31m---------------------------------------------------------------------------\u001b[0m",
      "\u001b[0;31mNameError\u001b[0m                                 Traceback (most recent call last)",
      "Cell \u001b[0;32mIn[1], line 1\u001b[0m\n\u001b[0;32m----> 1\u001b[0m \u001b[43memissions\u001b[49m\u001b[38;5;241m.\u001b[39msort(\u001b[38;5;241m.\u001b[39m\u001b[38;5;241m.\u001b[39m\u001b[38;5;241m.\u001b[39m) \u001b[38;5;66;03m# Fill in the ellipsis with blah blah blah\u001b[39;00m\n",
      "\u001b[0;31mNameError\u001b[0m: name 'emissions' is not defined"
     ]
    }
   ],
   "source": [
    "emissions.group(...) # Fill in the ellipsis with blah blah blah"
   ]
  },
  {
   "cell_type": "markdown",
   "metadata": {},
   "source": [
    "note: the END QUESTION tag for the otter pdf generator is in the blank cell right below this one! You need a BEGIN QUESTION and END QUESTION tag for every question."
   ]
  },
  {
   "cell_type": "markdown",
   "metadata": {},
   "source": [
    "<!-- END QUESTION -->"
   ]
  },
  {
   "cell_type": "markdown",
   "metadata": {},
   "source": [
    "<hr style=\"border: 2px solid #003262\">\n",
    "<hr style=\"border: 2px solid #C9B676\">"
   ]
  },
  {
   "cell_type": "markdown",
   "metadata": {
    "cell_id": "00009-52f60190-e21f-4107-99a9-d42ab128df40",
    "deepnote_cell_type": "markdown",
    "tags": [
     "ignore"
    ]
   },
   "source": [
    "## visualizations (probably a large section, 2 devs)\n",
    "\n",
    "this section is probably going to be a bigger one, since its a lot more interesting for the students to analyze the data through visualizations than just in the table --> can use datascience plotting, seaborn, or plotly, just like notebook 1 showed."
   ]
  },
  {
   "cell_type": "markdown",
   "metadata": {},
   "source": [
    "**Note:** we want to include some visualizations looking at the data grouped by the Sector attribute; also, I've kept the plotting section from the previous section below as a small reference / source of inspiration! we'll delete it later"
   ]
  },
  {
   "cell_type": "markdown",
   "metadata": {},
   "source": [
    "some of the visualizations you create might be difficult, because the data has to be cleaned up first. that's fine, just keep whatever visualizations you make that you think could be interesting and i'll filter through them as we're finishing the notebook"
   ]
  },
  {
   "cell_type": "markdown",
   "metadata": {},
   "source": [
    "remember, students probably arent that familiar with python: use a lot of fill in the ... questions and only very basic do it yourself questions. always give them an example before asking them to do it themselves!"
   ]
  },
  {
   "cell_type": "markdown",
   "metadata": {},
   "source": [
    "also, add widgets if you are able to! those would be great for comparisons"
   ]
  },
  {
   "cell_type": "markdown",
   "metadata": {},
   "source": [
    "note: can also add section subheadings if you want to break it up into different sections / exploring different features of the data; example:"
   ]
  },
  {
   "cell_type": "markdown",
   "metadata": {},
   "source": [
    "### section_number.subsection_number: Visualizing by Sector"
   ]
  },
  {
   "cell_type": "markdown",
   "metadata": {},
   "source": [
    "question formatting:"
   ]
  },
  {
   "cell_type": "markdown",
   "metadata": {},
   "source": [
    "<!-- BEGIN QUESTION -->\n",
    "<div class=\"alert alert-warning\">\n",
    "\n",
    "### Question section_number.question_number:\n",
    "coding or short answer question here\n",
    "</div>"
   ]
  },
  {
   "cell_type": "markdown",
   "metadata": {},
   "source": [
    "for short answers:"
   ]
  },
  {
   "cell_type": "markdown",
   "metadata": {},
   "source": [
    "*Type your answer here. Double-click to edit this cell and replace this text with your answer. Run this cell to proceed when finished.*"
   ]
  },
  {
   "cell_type": "markdown",
   "metadata": {},
   "source": [
    "for coding"
   ]
  },
  {
   "cell_type": "code",
   "execution_count": null,
   "metadata": {},
   "outputs": [
    {
     "ename": "NameError",
     "evalue": "name 'emissions' is not defined",
     "output_type": "error",
     "traceback": [
      "\u001b[0;31m---------------------------------------------------------------------------\u001b[0m",
      "\u001b[0;31mNameError\u001b[0m                                 Traceback (most recent call last)",
      "Cell \u001b[0;32mIn[1], line 1\u001b[0m\n\u001b[0;32m----> 1\u001b[0m \u001b[43memissions\u001b[49m\u001b[38;5;241m.\u001b[39msort(\u001b[38;5;241m.\u001b[39m\u001b[38;5;241m.\u001b[39m\u001b[38;5;241m.\u001b[39m) \u001b[38;5;66;03m# Fill in the ellipsis with blah blah blah\u001b[39;00m\n",
      "\u001b[0;31mNameError\u001b[0m: name 'emissions' is not defined"
     ]
    }
   ],
   "source": [
    "emissions.group(...) # Fill in the ellipsis with blah blah blah"
   ]
  },
  {
   "cell_type": "markdown",
   "metadata": {},
   "source": [
    "note: the END QUESTION tag for the otter pdf generator is in the blank cell right below this one! You need a BEGIN QUESTION and END QUESTION tag for every question."
   ]
  },
  {
   "cell_type": "markdown",
   "metadata": {},
   "source": [
    "<!-- END QUESTION -->"
   ]
  },
  {
   "cell_type": "code",
   "execution_count": null,
   "metadata": {},
   "outputs": [
    {
     "data": {
      "image/png": "[encoded data removed]",
      "text/plain": [
       "<Figure size 640x480 with 1 Axes>"
      ]
     },
     "metadata": {},
     "output_type": "display_data"
    }
   ],
   "source": [
    "sns.countplot(y=emissions['Company Sector'])\n",
    "plt.show()\n"
   ]
  },
  {
   "cell_type": "code",
   "execution_count": null,
   "metadata": {},
   "outputs": [
    {
     "data": {
      "image/png": "[encoded data removed]",
      "text/plain": [
       "<Figure size 640x480 with 1 Axes>"
      ]
     },
     "metadata": {},
     "output_type": "display_data"
    }
   ],
   "source": [
    "sns.scatterplot(x=emissions['Year of CDP Disclosure'],\n",
    "                y=emissions['Scope 1 value'], )\n",
    "plt.show()\n"
   ]
  },
  {
   "cell_type": "code",
   "execution_count": 73,
   "metadata": {},
   "outputs": [
    {
     "data": {
      "text/html": [
       "<div>\n",
       "<style scoped>\n",
       "    .dataframe tbody tr th:only-of-type {\n",
       "        vertical-align: middle;\n",
       "    }\n",
       "\n",
       "    .dataframe tbody tr th {\n",
       "        vertical-align: top;\n",
       "    }\n",
       "\n",
       "    .dataframe thead th {\n",
       "        text-align: right;\n",
       "    }\n",
       "</style>\n",
       "<table border=\"1\" class=\"dataframe\">\n",
       "  <thead>\n",
       "    <tr style=\"text-align: right;\">\n",
       "      <th></th>\n",
       "      <th>Index</th>\n",
       "      <th>Company Name</th>\n",
       "      <th>Company Sector</th>\n",
       "      <th>Company Sector (Other)</th>\n",
       "      <th>Year of CDP Disclosure</th>\n",
       "      <th>Scope 1 value</th>\n",
       "      <th>Scope 2 value (location-based)</th>\n",
       "      <th>Scope 2 value (market-based)</th>\n",
       "      <th>Scope 3 value</th>\n",
       "      <th>Total Revenue</th>\n",
       "      <th>Currency of Total Revenue</th>\n",
       "      <th>Internal Price on Carbon (Y/N)</th>\n",
       "      <th>Price</th>\n",
       "    </tr>\n",
       "  </thead>\n",
       "  <tbody>\n",
       "    <tr>\n",
       "      <th>0</th>\n",
       "      <td>0</td>\n",
       "      <td>ADIDAS</td>\n",
       "      <td>APPAREL &amp; FOOTWEAR</td>\n",
       "      <td>NaN</td>\n",
       "      <td>2022.0</td>\n",
       "      <td>12908.4</td>\n",
       "      <td>NaN</td>\n",
       "      <td>125502.20</td>\n",
       "      <td>7.254510e+06</td>\n",
       "      <td>2.123400e+10</td>\n",
       "      <td>EUR</td>\n",
       "      <td>Yes</td>\n",
       "      <td>85.0</td>\n",
       "    </tr>\n",
       "    <tr>\n",
       "      <th>1</th>\n",
       "      <td>1</td>\n",
       "      <td>ADIDAS</td>\n",
       "      <td>APPAREL &amp; FOOTWEAR</td>\n",
       "      <td>NaN</td>\n",
       "      <td>2022.0</td>\n",
       "      <td>12908.4</td>\n",
       "      <td>NaN</td>\n",
       "      <td>125502.20</td>\n",
       "      <td>7.254510e+06</td>\n",
       "      <td>2.123400e+10</td>\n",
       "      <td>EUR</td>\n",
       "      <td>Yes</td>\n",
       "      <td>85.0</td>\n",
       "    </tr>\n",
       "    <tr>\n",
       "      <th>2</th>\n",
       "      <td>2</td>\n",
       "      <td>ADIDAS</td>\n",
       "      <td>APPAREL &amp; FOOTWEAR</td>\n",
       "      <td>NaN</td>\n",
       "      <td>2022.0</td>\n",
       "      <td>12908.4</td>\n",
       "      <td>NaN</td>\n",
       "      <td>125502.20</td>\n",
       "      <td>7.254510e+06</td>\n",
       "      <td>2.123400e+10</td>\n",
       "      <td>EUR</td>\n",
       "      <td>Yes</td>\n",
       "      <td>85.0</td>\n",
       "    </tr>\n",
       "    <tr>\n",
       "      <th>3</th>\n",
       "      <td>3</td>\n",
       "      <td>AHOLD DELHAIZE</td>\n",
       "      <td>CONSUMER PACKAGED GOODS</td>\n",
       "      <td>GROCERY / FOOD DISTRIBUTION</td>\n",
       "      <td>2022.0</td>\n",
       "      <td>1728000.0</td>\n",
       "      <td>1748000.0</td>\n",
       "      <td>1099000.00</td>\n",
       "      <td>6.593040e+07</td>\n",
       "      <td>7.560000e+04</td>\n",
       "      <td>EUR</td>\n",
       "      <td>Yes</td>\n",
       "      <td>150.0</td>\n",
       "    </tr>\n",
       "    <tr>\n",
       "      <th>4</th>\n",
       "      <td>4</td>\n",
       "      <td>AIR FRANCE-KLM</td>\n",
       "      <td>TRANSPORTATION</td>\n",
       "      <td>NaN</td>\n",
       "      <td>2022.0</td>\n",
       "      <td>16336323.0</td>\n",
       "      <td>NaN</td>\n",
       "      <td>19104.68</td>\n",
       "      <td>8.700666e+06</td>\n",
       "      <td>1.431500e+10</td>\n",
       "      <td>EUR</td>\n",
       "      <td>Yes</td>\n",
       "      <td>NaN</td>\n",
       "    </tr>\n",
       "    <tr>\n",
       "      <th>...</th>\n",
       "      <td>...</td>\n",
       "      <td>...</td>\n",
       "      <td>...</td>\n",
       "      <td>...</td>\n",
       "      <td>...</td>\n",
       "      <td>...</td>\n",
       "      <td>...</td>\n",
       "      <td>...</td>\n",
       "      <td>...</td>\n",
       "      <td>...</td>\n",
       "      <td>...</td>\n",
       "      <td>...</td>\n",
       "      <td>...</td>\n",
       "    </tr>\n",
       "    <tr>\n",
       "      <th>151</th>\n",
       "      <td>151</td>\n",
       "      <td>VALERO</td>\n",
       "      <td>ENERGY</td>\n",
       "      <td>NaN</td>\n",
       "      <td>2022.0</td>\n",
       "      <td>27130000.0</td>\n",
       "      <td>NaN</td>\n",
       "      <td>4880000.00</td>\n",
       "      <td>0.000000e+00</td>\n",
       "      <td>1.763820e+11</td>\n",
       "      <td>USD</td>\n",
       "      <td>No</td>\n",
       "      <td>NaN</td>\n",
       "    </tr>\n",
       "    <tr>\n",
       "      <th>152</th>\n",
       "      <td>152</td>\n",
       "      <td>VESTAS</td>\n",
       "      <td>ENERGY</td>\n",
       "      <td>NaN</td>\n",
       "      <td>2022.0</td>\n",
       "      <td>99290.0</td>\n",
       "      <td>78640.0</td>\n",
       "      <td>2673.00</td>\n",
       "      <td>9.696099e+06</td>\n",
       "      <td>1.558700e+10</td>\n",
       "      <td>EUR</td>\n",
       "      <td>Yes</td>\n",
       "      <td>120.0</td>\n",
       "    </tr>\n",
       "    <tr>\n",
       "      <th>153</th>\n",
       "      <td>153</td>\n",
       "      <td>VF CORPORATION</td>\n",
       "      <td>APPAREL &amp; FOOTWEAR</td>\n",
       "      <td>NaN</td>\n",
       "      <td>2022.0</td>\n",
       "      <td>12551.0</td>\n",
       "      <td>69212.0</td>\n",
       "      <td>54693.00</td>\n",
       "      <td>3.375728e+06</td>\n",
       "      <td>1.184184e+10</td>\n",
       "      <td>USD</td>\n",
       "      <td>No</td>\n",
       "      <td>0.0</td>\n",
       "    </tr>\n",
       "    <tr>\n",
       "      <th>154</th>\n",
       "      <td>154</td>\n",
       "      <td>VOLKSWAGEN</td>\n",
       "      <td>OTHER</td>\n",
       "      <td>AUTOMOTIVE</td>\n",
       "      <td>2022.0</td>\n",
       "      <td>4740873.0</td>\n",
       "      <td>5195961.0</td>\n",
       "      <td>2422137.00</td>\n",
       "      <td>3.535605e+09</td>\n",
       "      <td>2.502000e+11</td>\n",
       "      <td>EUR</td>\n",
       "      <td>Yes</td>\n",
       "      <td>475.0</td>\n",
       "    </tr>\n",
       "    <tr>\n",
       "      <th>155</th>\n",
       "      <td>155</td>\n",
       "      <td>WALMART</td>\n",
       "      <td>CONSUMER PACKAGED GOODS</td>\n",
       "      <td>NaN</td>\n",
       "      <td>2022.0</td>\n",
       "      <td>7312245.0</td>\n",
       "      <td>9475167.0</td>\n",
       "      <td>6544173.00</td>\n",
       "      <td>2.138456e+08</td>\n",
       "      <td>5.727540e+11</td>\n",
       "      <td>USD</td>\n",
       "      <td>No</td>\n",
       "      <td>NaN</td>\n",
       "    </tr>\n",
       "  </tbody>\n",
       "</table>\n",
       "<p>156 rows × 13 columns</p>\n",
       "</div>"
      ],
      "text/plain": [
       "     Index    Company Name           Company Sector  \\\n",
       "0        0          ADIDAS       APPAREL & FOOTWEAR   \n",
       "1        1          ADIDAS       APPAREL & FOOTWEAR   \n",
       "2        2          ADIDAS       APPAREL & FOOTWEAR   \n",
       "3        3  AHOLD DELHAIZE  CONSUMER PACKAGED GOODS   \n",
       "4        4  AIR FRANCE-KLM           TRANSPORTATION   \n",
       "..     ...             ...                      ...   \n",
       "151    151          VALERO                   ENERGY   \n",
       "152    152          VESTAS                   ENERGY   \n",
       "153    153  VF CORPORATION       APPAREL & FOOTWEAR   \n",
       "154    154      VOLKSWAGEN                    OTHER   \n",
       "155    155         WALMART  CONSUMER PACKAGED GOODS   \n",
       "\n",
       "          Company Sector (Other)  Year of CDP Disclosure  Scope 1 value  \\\n",
       "0                            NaN                  2022.0        12908.4   \n",
       "1                            NaN                  2022.0        12908.4   \n",
       "2                            NaN                  2022.0        12908.4   \n",
       "3    GROCERY / FOOD DISTRIBUTION                  2022.0      1728000.0   \n",
       "4                            NaN                  2022.0     16336323.0   \n",
       "..                           ...                     ...            ...   \n",
       "151                          NaN                  2022.0     27130000.0   \n",
       "152                          NaN                  2022.0        99290.0   \n",
       "153                          NaN                  2022.0        12551.0   \n",
       "154                   AUTOMOTIVE                  2022.0      4740873.0   \n",
       "155                          NaN                  2022.0      7312245.0   \n",
       "\n",
       "     Scope 2 value (location-based)  Scope 2 value (market-based)  \\\n",
       "0                               NaN                     125502.20   \n",
       "1                               NaN                     125502.20   \n",
       "2                               NaN                     125502.20   \n",
       "3                         1748000.0                    1099000.00   \n",
       "4                               NaN                      19104.68   \n",
       "..                              ...                           ...   \n",
       "151                             NaN                    4880000.00   \n",
       "152                         78640.0                       2673.00   \n",
       "153                         69212.0                      54693.00   \n",
       "154                       5195961.0                    2422137.00   \n",
       "155                       9475167.0                    6544173.00   \n",
       "\n",
       "     Scope 3 value  Total Revenue Currency of Total Revenue  \\\n",
       "0     7.254510e+06   2.123400e+10                       EUR   \n",
       "1     7.254510e+06   2.123400e+10                       EUR   \n",
       "2     7.254510e+06   2.123400e+10                       EUR   \n",
       "3     6.593040e+07   7.560000e+04                       EUR   \n",
       "4     8.700666e+06   1.431500e+10                       EUR   \n",
       "..             ...            ...                       ...   \n",
       "151   0.000000e+00   1.763820e+11                       USD   \n",
       "152   9.696099e+06   1.558700e+10                       EUR   \n",
       "153   3.375728e+06   1.184184e+10                       USD   \n",
       "154   3.535605e+09   2.502000e+11                       EUR   \n",
       "155   2.138456e+08   5.727540e+11                       USD   \n",
       "\n",
       "    Internal Price on Carbon (Y/N)  Price  \n",
       "0                              Yes   85.0  \n",
       "1                              Yes   85.0  \n",
       "2                              Yes   85.0  \n",
       "3                              Yes  150.0  \n",
       "4                              Yes    NaN  \n",
       "..                             ...    ...  \n",
       "151                             No    NaN  \n",
       "152                            Yes  120.0  \n",
       "153                             No    0.0  \n",
       "154                            Yes  475.0  \n",
       "155                             No    NaN  \n",
       "\n",
       "[156 rows x 13 columns]"
      ]
     },
     "execution_count": 73,
     "metadata": {},
     "output_type": "execute_result"
    }
   ],
   "source": [
    "import pandas as pd\n",
    "\n",
    "# name = pd.DataFrame(emissions.column('Company Name'), columns=['Company Name'])\n",
    "# revenue = pd.DataFrame(emissions.column('Total Revenue'), columns=['Total Revenue'])\n",
    "# currency = pd.DataFrame(emissions.column(\n",
    "#     'Currency of Total Revenue'), columns=['Currency of Total Revenue'])\n",
    "# emission = pd.DataFrame(emissions.column('Scope 1 value'), columns=['Scope 1 value'])\n",
    "# sector = pd.DataFrame(emissions.column('Company Sector'), columns=['Company Sector'])\n",
    "\n",
    "# df = pd.concat([name, revenue, currency, emission, sector], axis=1)\n",
    "df = pd.read_csv('emissions.csv')\n",
    "df"
   ]
  },
  {
   "cell_type": "code",
   "execution_count": 74,
   "metadata": {},
   "outputs": [
    {
     "data": {
      "application/vnd.jupyter.widget-view+json": {
       "model_id": "df8c226478c34ae482981d3e5b89ca91",
       "version_major": 2,
       "version_minor": 0
      },
      "text/plain": [
       "interactive(children=(Dropdown(description='currency', index=11, options=('AUD', 'CAD', 'CHF', 'DKK', 'EUR', '…"
      ]
     },
     "metadata": {},
     "output_type": "display_data"
    },
    {
     "data": {
      "application/vnd.plotly.v1+json": {
       "config": {
        "plotlyServerURL": "https://plot.ly"
       },
       "data": [
        {
         "customdata": [
          [
           "ALBERTSONS COMPANIES"
          ],
          [
           "AMCOR"
          ],
          [
           "AMCOR"
          ],
          [
           "COLGATE PALMOLIVE"
          ],
          [
           "ESTEE LAUDER"
          ],
          [
           "HELEN OF TROY"
          ],
          [
           "PEPSICO."
          ],
          [
           "WALMART"
          ]
         ],
         "hovertemplate": "Company Sector=CONSUMER PACKAGED GOODS<br>Total Revenue=%{x}<br>Emissions=%{y}<br>Company Name=%{customdata[0]}<extra></extra>",
         "legendgroup": "CONSUMER PACKAGED GOODS",
         "marker": {
          "color": "#636efa",
          "symbol": "circle"
         },
         "mode": "markers",
         "name": "CONSUMER PACKAGED GOODS",
         "orientation": "v",
         "showlegend": true,
         "type": "scatter",
         "x": [
          69690400000,
          12861000000,
          12861000000,
          17421000,
          16215000000,
          2223.36,
          79474000000,
          572754000000
         ],
         "xaxis": "x",
         "y": [
          2767382,
          529192,
          529192,
          218500,
          24139.67,
          4000,
          3596712,
          7312245
         ],
         "yaxis": "y"
        },
        {
         "customdata": [
          [
           "ALLY FINANCIAL"
          ],
          [
           "AMERICAN AIRLINES"
          ],
          [
           "AMGEN"
          ],
          [
           "ARKAY PACKAGING"
          ],
          [
           "ATLANTICA SUSTAINABLE INFRASTRUCTURE"
          ],
          [
           "GILEAD"
          ],
          [
           "INDIAN HOTELS"
          ],
          [
           "J.P.MORGAN CHASE & CO."
          ],
          [
           "KRAFT HEINZ"
          ],
          [
           "PACKAGING CORPORATION OF AMERICA"
          ],
          [
           "SOUTHERN COMPANY"
          ],
          [
           "SOUTHWEST AIRLINES"
          ],
          [
           "ULTA BEAUTY"
          ]
         ],
         "hovertemplate": "Company Sector=OTHER<br>Total Revenue=%{x}<br>Emissions=%{y}<br>Company Name=%{customdata[0]}<extra></extra>",
         "legendgroup": "OTHER",
         "marker": {
          "color": "#EF553B",
          "symbol": "circle"
         },
         "mode": "markers",
         "name": "OTHER",
         "orientation": "v",
         "showlegend": true,
         "type": "scatter",
         "x": [
          8381000000,
          29882000000,
          25979000000,
          43000000,
          10981796,
          27305000000,
          5788000000,
          0,
          26000000000,
          8478000000,
          188984403,
          15790000000,
          6152000000
         ],
         "xaxis": "x",
         "y": [
          4228,
          28810236,
          133084,
          219,
          1794737,
          54584,
          205958,
          84911,
          586455,
          1950000,
          82465415,
          16351057,
          6815
         ],
         "yaxis": "y"
        },
        {
         "customdata": [
          [
           "AMERICAN EAGLE OUTFITTERS"
          ],
          [
           "AMERICAN EAGLE OUTFITTERS"
          ],
          [
           "H&M"
          ],
          [
           "LEVI STRAUSS & CO."
          ],
          [
           "LEVI STRAUSS & CO."
          ],
          [
           "LYMI DBA REFORMATION"
          ],
          [
           "LYMI DBA REFORMATION"
          ],
          [
           "NIKE"
          ],
          [
           "NIKE"
          ],
          [
           "RALPH LAUREN CORPORATION"
          ],
          [
           "REFORMATION"
          ],
          [
           "REFORMATION"
          ],
          [
           "REFORMATION"
          ],
          [
           "REFORMATION"
          ],
          [
           "REFORMATION"
          ],
          [
           "REFORMATION"
          ],
          [
           "REFORMATION"
          ],
          [
           "REFORMATION"
          ],
          [
           "REFORMATION"
          ],
          [
           "REFORMATION"
          ],
          [
           "THE REALREAL"
          ],
          [
           "TJX INDUSTRIES"
          ],
          [
           "VF CORPORATION"
          ]
         ],
         "hovertemplate": "Company Sector=APPAREL & FOOTWEAR<br>Total Revenue=%{x}<br>Emissions=%{y}<br>Company Name=%{customdata[0]}<extra></extra>",
         "legendgroup": "APPAREL & FOOTWEAR",
         "marker": {
          "color": "#00cc96",
          "symbol": "circle"
         },
         "mode": "markers",
         "name": "APPAREL & FOOTWEAR",
         "orientation": "v",
         "showlegend": true,
         "type": "scatter",
         "x": [
          5010785000,
          5010785000,
          23000000000,
          589937,
          5764000000,
          1713809,
          1713809,
          44500000000,
          44500000000,
          6218500000,
          72000000,
          1713809,
          1713809,
          1713809,
          1713809,
          1713809,
          1713809,
          1713809,
          1713809,
          1713809,
          467692000,
          1156351,
          11841840000
         ],
         "xaxis": "x",
         "y": [
          9248,
          9248,
          21171,
          2908,
          10703.24,
          84,
          84,
          42720,
          42720,
          11582,
          84,
          84,
          84,
          84,
          84,
          84,
          84,
          84,
          84,
          84,
          2070,
          33442,
          12551
         ],
         "yaxis": "y"
        },
        {
         "customdata": [
          [
           "ATLANTICA SUSTAINABLE INFRASTRUCTURE"
          ],
          [
           "BP"
          ],
          [
           "BP"
          ],
          [
           "BROOKFIELD RENEWABLE ENERGY"
          ],
          [
           "CONOCOPHILLIPS"
          ],
          [
           "DUKE ENERGY"
          ],
          [
           "EQUINOR"
          ],
          [
           "FIRST SOLAR"
          ],
          [
           "FIRST SOLAR"
          ],
          [
           "GENERAL ELECTRIC"
          ],
          [
           "MARATHON PETROLEUM"
          ],
          [
           "NEXTERA ENERGY"
          ],
          [
           "NEXTERA ENERGY"
          ],
          [
           "PG&E"
          ],
          [
           "SHELL"
          ],
          [
           "SHELL"
          ],
          [
           "SHELL"
          ],
          [
           "SHELL"
          ],
          [
           "SHELL"
          ],
          [
           "SHELL"
          ],
          [
           "VALERO"
          ]
         ],
         "hovertemplate": "Company Sector=ENERGY<br>Total Revenue=%{x}<br>Emissions=%{y}<br>Company Name=%{customdata[0]}<extra></extra>",
         "legendgroup": "ENERGY",
         "marker": {
          "color": "#ab63fa",
          "symbol": "circle"
         },
         "mode": "markers",
         "name": "ENERGY",
         "orientation": "v",
         "showlegend": true,
         "type": "scatter",
         "x": [
          1102029000,
          157739000000,
          157739000000,
          4069000000,
          45828000000,
          25097000000,
          90924000000,
          2619000000,
          2923377000,
          74196000000,
          120930000000,
          221288681,
          221288681,
          20642000000,
          261504000000,
          261504000000,
          261504000000,
          261504000000,
          261504000000,
          381300000000,
          176382000000
         ],
         "xaxis": "x",
         "y": [
          1794737,
          33200000,
          33200000,
          134870,
          17720000,
          78000000,
          12009607,
          8536,
          8536,
          737976.963,
          33000000,
          43046734,
          43046734,
          4458777,
          60000000,
          60000000,
          60000000,
          60000000,
          60000000,
          60000000,
          27130000
         ],
         "yaxis": "y"
        },
        {
         "customdata": [
          [
           "AVIS BUDGET"
          ],
          [
           "FEDEX"
          ],
          [
           "FORD MOTOR COMPANY"
          ],
          [
           "HERTZ"
          ],
          [
           "JETBLUE AIRWAYS"
          ],
          [
           "SOUTHWEST AIRLINES"
          ],
          [
           "UPS (UNITED PARCEL SERVICE)"
          ]
         ],
         "hovertemplate": "Company Sector=TRANSPORTATION<br>Total Revenue=%{x}<br>Emissions=%{y}<br>Company Name=%{customdata[0]}<extra></extra>",
         "legendgroup": "TRANSPORTATION",
         "marker": {
          "color": "#FFA15A",
          "symbol": "circle"
         },
         "mode": "markers",
         "name": "TRANSPORTATION",
         "orientation": "v",
         "showlegend": true,
         "type": "scatter",
         "x": [
          9313000000,
          83959000000,
          158057000000,
          7336000000,
          6037000000,
          15790000000,
          96223000000
         ],
         "xaxis": "x",
         "y": [
          6039288,
          16659842,
          1069906.74,
          3735922,
          6853927,
          16351057,
          15668000
         ],
         "yaxis": "y"
        },
        {
         "customdata": [
          [
           "BLUE DIAMOND GROWERS"
          ],
          [
           "CARGILL"
          ],
          [
           "CARGILL"
          ],
          [
           "CLIF BAR & COMPANY"
          ],
          [
           "CLIF BAR & COMPANY"
          ],
          [
           "COCA COLA"
          ],
          [
           "COCA COLA"
          ],
          [
           "COCA COLA"
          ],
          [
           "CONAGRA BRANDS"
          ],
          [
           "GENERAL MILLS"
          ],
          [
           "MCDONALD'S CORPORATION"
          ],
          [
           "NUTRIEN"
          ],
          [
           "PEPSICO."
          ],
          [
           "PEPSICO."
          ],
          [
           "STARBUCKS CORPORATION"
          ],
          [
           "SYNGENTA"
          ],
          [
           "TAYLOR FARMS"
          ],
          [
           "THE HAIN CELESTIAL GROUP"
          ],
          [
           "TYSON FOODS"
          ],
          [
           "TYSON FOODS"
          ],
          [
           "TYSON FOODS"
          ]
         ],
         "hovertemplate": "Company Sector=FOOD & AGRICULTURE<br>Total Revenue=%{x}<br>Emissions=%{y}<br>Company Name=%{customdata[0]}<extra></extra>",
         "legendgroup": "FOOD & AGRICULTURE",
         "marker": {
          "color": "#19d3f3",
          "symbol": "circle"
         },
         "mode": "markers",
         "name": "FOOD & AGRICULTURE",
         "orientation": "v",
         "showlegend": true,
         "type": "scatter",
         "x": [
          1590593000,
          134400000000,
          5311697582,
          800000000,
          15262,
          38660000000,
          38660000000,
          38660000000,
          11187700000,
          18127000000,
          23223000000,
          27712000000,
          79474000000,
          79474000000,
          29100000000,
          16733000000,
          5311697582,
          1890000000,
          47050000000,
          47050000000,
          47050000000
         ],
         "xaxis": "x",
         "y": [
          92626,
          7287595,
          19406,
          7525,
          7525,
          555510,
          555510,
          555510,
          427153,
          364311,
          113286,
          11052529,
          3596712,
          3596712,
          372020,
          427000,
          27652.81,
          47468,
          3826285.87,
          3826285.87,
          3826285.87
         ],
         "yaxis": "y"
        },
        {
         "customdata": [
          [
           "CRH"
          ],
          [
           "HOLCIM"
          ]
         ],
         "hovertemplate": "Company Sector=MATERIALS<br>Total Revenue=%{x}<br>Emissions=%{y}<br>Company Name=%{customdata[0]}<extra></extra>",
         "legendgroup": "MATERIALS",
         "marker": {
          "color": "#FF6692",
          "symbol": "circle"
         },
         "mode": "markers",
         "name": "MATERIALS",
         "orientation": "v",
         "showlegend": true,
         "type": "scatter",
         "x": [
          32700000000,
          25359000000
         ],
         "xaxis": "x",
         "y": [
          33400000,
          119427598
         ],
         "yaxis": "y"
        },
        {
         "customdata": [
          [
           "DELL TECHNOLOGIES"
          ],
          [
           "IBM"
          ],
          [
           "MICROSOFT"
          ],
          [
           "RAZER"
          ]
         ],
         "hovertemplate": "Company Sector=TECHNOLOGY<br>Total Revenue=%{x}<br>Emissions=%{y}<br>Company Name=%{customdata[0]}<extra></extra>",
         "legendgroup": "TECHNOLOGY",
         "marker": {
          "color": "#B6E880",
          "symbol": "circle"
         },
         "mode": "markers",
         "name": "TECHNOLOGY",
         "orientation": "v",
         "showlegend": true,
         "type": "scatter",
         "x": [
          101197000000,
          60500000000,
          198000000000,
          1200000000
         ],
         "xaxis": "x",
         "y": [
          45640,
          79000,
          139413,
          115.6
         ],
         "yaxis": "y"
        }
       ],
       "layout": {
        "legend": {
         "title": {
          "text": "Company Sector"
         },
         "tracegroupgap": 0
        },
        "margin": {
         "t": 60
        },
        "template": {
         "data": {
          "bar": [
           {
            "error_x": {
             "color": "#2a3f5f"
            },
            "error_y": {
             "color": "#2a3f5f"
            },
            "marker": {
             "line": {
              "color": "#E5ECF6",
              "width": 0.5
             },
             "pattern": {
              "fillmode": "overlay",
              "size": 10,
              "solidity": 0.2
             }
            },
            "type": "bar"
           }
          ],
          "barpolar": [
           {
            "marker": {
             "line": {
              "color": "#E5ECF6",
              "width": 0.5
             },
             "pattern": {
              "fillmode": "overlay",
              "size": 10,
              "solidity": 0.2
             }
            },
            "type": "barpolar"
           }
          ],
          "carpet": [
           {
            "aaxis": {
             "endlinecolor": "#2a3f5f",
             "gridcolor": "white",
             "linecolor": "white",
             "minorgridcolor": "white",
             "startlinecolor": "#2a3f5f"
            },
            "baxis": {
             "endlinecolor": "#2a3f5f",
             "gridcolor": "white",
             "linecolor": "white",
             "minorgridcolor": "white",
             "startlinecolor": "#2a3f5f"
            },
            "type": "carpet"
           }
          ],
          "choropleth": [
           {
            "colorbar": {
             "outlinewidth": 0,
             "ticks": ""
            },
            "type": "choropleth"
           }
          ],
          "contour": [
           {
            "colorbar": {
             "outlinewidth": 0,
             "ticks": ""
            },
            "colorscale": [
             [
              0,
              "#0d0887"
             ],
             [
              0.1111111111111111,
              "#46039f"
             ],
             [
              0.2222222222222222,
              "#7201a8"
             ],
             [
              0.3333333333333333,
              "#9c179e"
             ],
             [
              0.4444444444444444,
              "#bd3786"
             ],
             [
              0.5555555555555556,
              "#d8576b"
             ],
             [
              0.6666666666666666,
              "#ed7953"
             ],
             [
              0.7777777777777778,
              "#fb9f3a"
             ],
             [
              0.8888888888888888,
              "#fdca26"
             ],
             [
              1,
              "#f0f921"
             ]
            ],
            "type": "contour"
           }
          ],
          "contourcarpet": [
           {
            "colorbar": {
             "outlinewidth": 0,
             "ticks": ""
            },
            "type": "contourcarpet"
           }
          ],
          "heatmap": [
           {
            "colorbar": {
             "outlinewidth": 0,
             "ticks": ""
            },
            "colorscale": [
             [
              0,
              "#0d0887"
             ],
             [
              0.1111111111111111,
              "#46039f"
             ],
             [
              0.2222222222222222,
              "#7201a8"
             ],
             [
              0.3333333333333333,
              "#9c179e"
             ],
             [
              0.4444444444444444,
              "#bd3786"
             ],
             [
              0.5555555555555556,
              "#d8576b"
             ],
             [
              0.6666666666666666,
              "#ed7953"
             ],
             [
              0.7777777777777778,
              "#fb9f3a"
             ],
             [
              0.8888888888888888,
              "#fdca26"
             ],
             [
              1,
              "#f0f921"
             ]
            ],
            "type": "heatmap"
           }
          ],
          "heatmapgl": [
           {
            "colorbar": {
             "outlinewidth": 0,
             "ticks": ""
            },
            "colorscale": [
             [
              0,
              "#0d0887"
             ],
             [
              0.1111111111111111,
              "#46039f"
             ],
             [
              0.2222222222222222,
              "#7201a8"
             ],
             [
              0.3333333333333333,
              "#9c179e"
             ],
             [
              0.4444444444444444,
              "#bd3786"
             ],
             [
              0.5555555555555556,
              "#d8576b"
             ],
             [
              0.6666666666666666,
              "#ed7953"
             ],
             [
              0.7777777777777778,
              "#fb9f3a"
             ],
             [
              0.8888888888888888,
              "#fdca26"
             ],
             [
              1,
              "#f0f921"
             ]
            ],
            "type": "heatmapgl"
           }
          ],
          "histogram": [
           {
            "marker": {
             "pattern": {
              "fillmode": "overlay",
              "size": 10,
              "solidity": 0.2
             }
            },
            "type": "histogram"
           }
          ],
          "histogram2d": [
           {
            "colorbar": {
             "outlinewidth": 0,
             "ticks": ""
            },
            "colorscale": [
             [
              0,
              "#0d0887"
             ],
             [
              0.1111111111111111,
              "#46039f"
             ],
             [
              0.2222222222222222,
              "#7201a8"
             ],
             [
              0.3333333333333333,
              "#9c179e"
             ],
             [
              0.4444444444444444,
              "#bd3786"
             ],
             [
              0.5555555555555556,
              "#d8576b"
             ],
             [
              0.6666666666666666,
              "#ed7953"
             ],
             [
              0.7777777777777778,
              "#fb9f3a"
             ],
             [
              0.8888888888888888,
              "#fdca26"
             ],
             [
              1,
              "#f0f921"
             ]
            ],
            "type": "histogram2d"
           }
          ],
          "histogram2dcontour": [
           {
            "colorbar": {
             "outlinewidth": 0,
             "ticks": ""
            },
            "colorscale": [
             [
              0,
              "#0d0887"
             ],
             [
              0.1111111111111111,
              "#46039f"
             ],
             [
              0.2222222222222222,
              "#7201a8"
             ],
             [
              0.3333333333333333,
              "#9c179e"
             ],
             [
              0.4444444444444444,
              "#bd3786"
             ],
             [
              0.5555555555555556,
              "#d8576b"
             ],
             [
              0.6666666666666666,
              "#ed7953"
             ],
             [
              0.7777777777777778,
              "#fb9f3a"
             ],
             [
              0.8888888888888888,
              "#fdca26"
             ],
             [
              1,
              "#f0f921"
             ]
            ],
            "type": "histogram2dcontour"
           }
          ],
          "mesh3d": [
           {
            "colorbar": {
             "outlinewidth": 0,
             "ticks": ""
            },
            "type": "mesh3d"
           }
          ],
          "parcoords": [
           {
            "line": {
             "colorbar": {
              "outlinewidth": 0,
              "ticks": ""
             }
            },
            "type": "parcoords"
           }
          ],
          "pie": [
           {
            "automargin": true,
            "type": "pie"
           }
          ],
          "scatter": [
           {
            "marker": {
             "colorbar": {
              "outlinewidth": 0,
              "ticks": ""
             }
            },
            "type": "scatter"
           }
          ],
          "scatter3d": [
           {
            "line": {
             "colorbar": {
              "outlinewidth": 0,
              "ticks": ""
             }
            },
            "marker": {
             "colorbar": {
              "outlinewidth": 0,
              "ticks": ""
             }
            },
            "type": "scatter3d"
           }
          ],
          "scattercarpet": [
           {
            "marker": {
             "colorbar": {
              "outlinewidth": 0,
              "ticks": ""
             }
            },
            "type": "scattercarpet"
           }
          ],
          "scattergeo": [
           {
            "marker": {
             "colorbar": {
              "outlinewidth": 0,
              "ticks": ""
             }
            },
            "type": "scattergeo"
           }
          ],
          "scattergl": [
           {
            "marker": {
             "colorbar": {
              "outlinewidth": 0,
              "ticks": ""
             }
            },
            "type": "scattergl"
           }
          ],
          "scattermapbox": [
           {
            "marker": {
             "colorbar": {
              "outlinewidth": 0,
              "ticks": ""
             }
            },
            "type": "scattermapbox"
           }
          ],
          "scatterpolar": [
           {
            "marker": {
             "colorbar": {
              "outlinewidth": 0,
              "ticks": ""
             }
            },
            "type": "scatterpolar"
           }
          ],
          "scatterpolargl": [
           {
            "marker": {
             "colorbar": {
              "outlinewidth": 0,
              "ticks": ""
             }
            },
            "type": "scatterpolargl"
           }
          ],
          "scatterternary": [
           {
            "marker": {
             "colorbar": {
              "outlinewidth": 0,
              "ticks": ""
             }
            },
            "type": "scatterternary"
           }
          ],
          "surface": [
           {
            "colorbar": {
             "outlinewidth": 0,
             "ticks": ""
            },
            "colorscale": [
             [
              0,
              "#0d0887"
             ],
             [
              0.1111111111111111,
              "#46039f"
             ],
             [
              0.2222222222222222,
              "#7201a8"
             ],
             [
              0.3333333333333333,
              "#9c179e"
             ],
             [
              0.4444444444444444,
              "#bd3786"
             ],
             [
              0.5555555555555556,
              "#d8576b"
             ],
             [
              0.6666666666666666,
              "#ed7953"
             ],
             [
              0.7777777777777778,
              "#fb9f3a"
             ],
             [
              0.8888888888888888,
              "#fdca26"
             ],
             [
              1,
              "#f0f921"
             ]
            ],
            "type": "surface"
           }
          ],
          "table": [
           {
            "cells": {
             "fill": {
              "color": "#EBF0F8"
             },
             "line": {
              "color": "white"
             }
            },
            "header": {
             "fill": {
              "color": "#C8D4E3"
             },
             "line": {
              "color": "white"
             }
            },
            "type": "table"
           }
          ]
         },
         "layout": {
          "annotationdefaults": {
           "arrowcolor": "#2a3f5f",
           "arrowhead": 0,
           "arrowwidth": 1
          },
          "autotypenumbers": "strict",
          "coloraxis": {
           "colorbar": {
            "outlinewidth": 0,
            "ticks": ""
           }
          },
          "colorscale": {
           "diverging": [
            [
             0,
             "#8e0152"
            ],
            [
             0.1,
             "#c51b7d"
            ],
            [
             0.2,
             "#de77ae"
            ],
            [
             0.3,
             "#f1b6da"
            ],
            [
             0.4,
             "#fde0ef"
            ],
            [
             0.5,
             "#f7f7f7"
            ],
            [
             0.6,
             "#e6f5d0"
            ],
            [
             0.7,
             "#b8e186"
            ],
            [
             0.8,
             "#7fbc41"
            ],
            [
             0.9,
             "#4d9221"
            ],
            [
             1,
             "#276419"
            ]
           ],
           "sequential": [
            [
             0,
             "#0d0887"
            ],
            [
             0.1111111111111111,
             "#46039f"
            ],
            [
             0.2222222222222222,
             "#7201a8"
            ],
            [
             0.3333333333333333,
             "#9c179e"
            ],
            [
             0.4444444444444444,
             "#bd3786"
            ],
            [
             0.5555555555555556,
             "#d8576b"
            ],
            [
             0.6666666666666666,
             "#ed7953"
            ],
            [
             0.7777777777777778,
             "#fb9f3a"
            ],
            [
             0.8888888888888888,
             "#fdca26"
            ],
            [
             1,
             "#f0f921"
            ]
           ],
           "sequentialminus": [
            [
             0,
             "#0d0887"
            ],
            [
             0.1111111111111111,
             "#46039f"
            ],
            [
             0.2222222222222222,
             "#7201a8"
            ],
            [
             0.3333333333333333,
             "#9c179e"
            ],
            [
             0.4444444444444444,
             "#bd3786"
            ],
            [
             0.5555555555555556,
             "#d8576b"
            ],
            [
             0.6666666666666666,
             "#ed7953"
            ],
            [
             0.7777777777777778,
             "#fb9f3a"
            ],
            [
             0.8888888888888888,
             "#fdca26"
            ],
            [
             1,
             "#f0f921"
            ]
           ]
          },
          "colorway": [
           "#636efa",
           "#EF553B",
           "#00cc96",
           "#ab63fa",
           "#FFA15A",
           "#19d3f3",
           "#FF6692",
           "#B6E880",
           "#FF97FF",
           "#FECB52"
          ],
          "font": {
           "color": "#2a3f5f"
          },
          "geo": {
           "bgcolor": "white",
           "lakecolor": "white",
           "landcolor": "#E5ECF6",
           "showlakes": true,
           "showland": true,
           "subunitcolor": "white"
          },
          "hoverlabel": {
           "align": "left"
          },
          "hovermode": "closest",
          "mapbox": {
           "style": "light"
          },
          "paper_bgcolor": "white",
          "plot_bgcolor": "#E5ECF6",
          "polar": {
           "angularaxis": {
            "gridcolor": "white",
            "linecolor": "white",
            "ticks": ""
           },
           "bgcolor": "#E5ECF6",
           "radialaxis": {
            "gridcolor": "white",
            "linecolor": "white",
            "ticks": ""
           }
          },
          "scene": {
           "xaxis": {
            "backgroundcolor": "#E5ECF6",
            "gridcolor": "white",
            "gridwidth": 2,
            "linecolor": "white",
            "showbackground": true,
            "ticks": "",
            "zerolinecolor": "white"
           },
           "yaxis": {
            "backgroundcolor": "#E5ECF6",
            "gridcolor": "white",
            "gridwidth": 2,
            "linecolor": "white",
            "showbackground": true,
            "ticks": "",
            "zerolinecolor": "white"
           },
           "zaxis": {
            "backgroundcolor": "#E5ECF6",
            "gridcolor": "white",
            "gridwidth": 2,
            "linecolor": "white",
            "showbackground": true,
            "ticks": "",
            "zerolinecolor": "white"
           }
          },
          "shapedefaults": {
           "line": {
            "color": "#2a3f5f"
           }
          },
          "ternary": {
           "aaxis": {
            "gridcolor": "white",
            "linecolor": "white",
            "ticks": ""
           },
           "baxis": {
            "gridcolor": "white",
            "linecolor": "white",
            "ticks": ""
           },
           "bgcolor": "#E5ECF6",
           "caxis": {
            "gridcolor": "white",
            "linecolor": "white",
            "ticks": ""
           }
          },
          "title": {
           "x": 0.05
          },
          "xaxis": {
           "automargin": true,
           "gridcolor": "white",
           "linecolor": "white",
           "ticks": "",
           "title": {
            "standoff": 15
           },
           "zerolinecolor": "white",
           "zerolinewidth": 2
          },
          "yaxis": {
           "automargin": true,
           "gridcolor": "white",
           "linecolor": "white",
           "ticks": "",
           "title": {
            "standoff": 15
           },
           "zerolinecolor": "white",
           "zerolinewidth": 2
          }
         }
        },
        "xaxis": {
         "anchor": "y",
         "domain": [
          0,
          1
         ],
         "title": {
          "text": "Total Revenue"
         }
        },
        "yaxis": {
         "anchor": "x",
         "domain": [
          0,
          1
         ],
         "title": {
          "text": "Total Emissions"
         }
        }
       }
      },
      "text/html": [
       "<div>                            <div id=\"33713ccb-4863-42af-aa8b-570d9be42877\" class=\"plotly-graph-div\" style=\"height:525px; width:100%;\"></div>            <script type=\"text/javascript\">                require([\"plotly\"], function(Plotly) {                    window.PLOTLYENV=window.PLOTLYENV || {};                                    if (document.getElementById(\"33713ccb-4863-42af-aa8b-570d9be42877\")) {                    Plotly.newPlot(                        \"33713ccb-4863-42af-aa8b-570d9be42877\",                        [{\"customdata\":[[\"ALBERTSONS COMPANIES\"],[\"AMCOR\"],[\"AMCOR\"],[\"COLGATE PALMOLIVE\"],[\"ESTEE LAUDER\"],[\"HELEN OF TROY\"],[\"PEPSICO.\"],[\"WALMART\"]],\"hovertemplate\":\"Company Sector=CONSUMER PACKAGED GOODS<br>Total Revenue=%{x}<br>Emissions=%{y}<br>Company Name=%{customdata[0]}<extra></extra>\",\"legendgroup\":\"CONSUMER PACKAGED GOODS\",\"marker\":{\"color\":\"#636efa\",\"symbol\":\"circle\"},\"mode\":\"markers\",\"name\":\"CONSUMER PACKAGED GOODS\",\"orientation\":\"v\",\"showlegend\":true,\"type\":\"scatter\",\"x\":[69690400000.0,12861000000.0,12861000000.0,17421000.0,16215000000.0,2223.36,79474000000.0,572754000000.0],\"xaxis\":\"x\",\"y\":[2767382.0,529192.0,529192.0,218500.0,24139.67,4000.0,3596712.0,7312245.0],\"yaxis\":\"y\"},{\"customdata\":[[\"ALLY FINANCIAL\"],[\"AMERICAN AIRLINES\"],[\"AMGEN\"],[\"ARKAY PACKAGING\"],[\"ATLANTICA SUSTAINABLE INFRASTRUCTURE\"],[\"GILEAD\"],[\"INDIAN HOTELS\"],[\"J.P.MORGAN CHASE & CO.\"],[\"KRAFT HEINZ\"],[\"PACKAGING CORPORATION OF AMERICA\"],[\"SOUTHERN COMPANY\"],[\"SOUTHWEST AIRLINES\"],[\"ULTA BEAUTY\"]],\"hovertemplate\":\"Company Sector=OTHER<br>Total Revenue=%{x}<br>Emissions=%{y}<br>Company Name=%{customdata[0]}<extra></extra>\",\"legendgroup\":\"OTHER\",\"marker\":{\"color\":\"#EF553B\",\"symbol\":\"circle\"},\"mode\":\"markers\",\"name\":\"OTHER\",\"orientation\":\"v\",\"showlegend\":true,\"type\":\"scatter\",\"x\":[8381000000.0,29882000000.0,25979000000.0,43000000.0,10981796.0,27305000000.0,5788000000.0,0.0,26000000000.0,8478000000.0,188984403.0,15790000000.0,6152000000.0],\"xaxis\":\"x\",\"y\":[4228.0,28810236.0,133084.0,219.0,1794737.0,54584.0,205958.0,84911.0,586455.0,1950000.0,82465415.0,16351057.0,6815.0],\"yaxis\":\"y\"},{\"customdata\":[[\"AMERICAN EAGLE OUTFITTERS\"],[\"AMERICAN EAGLE OUTFITTERS\"],[\"H&M\"],[\"LEVI STRAUSS & CO.\"],[\"LEVI STRAUSS & CO.\"],[\"LYMI DBA REFORMATION\"],[\"LYMI DBA REFORMATION\"],[\"NIKE\"],[\"NIKE\"],[\"RALPH LAUREN CORPORATION\"],[\"REFORMATION\"],[\"REFORMATION\"],[\"REFORMATION\"],[\"REFORMATION\"],[\"REFORMATION\"],[\"REFORMATION\"],[\"REFORMATION\"],[\"REFORMATION\"],[\"REFORMATION\"],[\"REFORMATION\"],[\"THE REALREAL\"],[\"TJX INDUSTRIES\"],[\"VF CORPORATION\"]],\"hovertemplate\":\"Company Sector=APPAREL & FOOTWEAR<br>Total Revenue=%{x}<br>Emissions=%{y}<br>Company Name=%{customdata[0]}<extra></extra>\",\"legendgroup\":\"APPAREL & FOOTWEAR\",\"marker\":{\"color\":\"#00cc96\",\"symbol\":\"circle\"},\"mode\":\"markers\",\"name\":\"APPAREL & FOOTWEAR\",\"orientation\":\"v\",\"showlegend\":true,\"type\":\"scatter\",\"x\":[5010785000.0,5010785000.0,23000000000.0,589937.0,5764000000.0,1713809.0,1713809.0,44500000000.0,44500000000.0,6218500000.0,72000000.0,1713809.0,1713809.0,1713809.0,1713809.0,1713809.0,1713809.0,1713809.0,1713809.0,1713809.0,467692000.0,1156351.0,11841840000.0],\"xaxis\":\"x\",\"y\":[9248.0,9248.0,21171.0,2908.0,10703.24,84.0,84.0,42720.0,42720.0,11582.0,84.0,84.0,84.0,84.0,84.0,84.0,84.0,84.0,84.0,84.0,2070.0,33442.0,12551.0],\"yaxis\":\"y\"},{\"customdata\":[[\"ATLANTICA SUSTAINABLE INFRASTRUCTURE\"],[\"BP\"],[\"BP\"],[\"BROOKFIELD RENEWABLE ENERGY\"],[\"CONOCOPHILLIPS\"],[\"DUKE ENERGY\"],[\"EQUINOR\"],[\"FIRST SOLAR\"],[\"FIRST SOLAR\"],[\"GENERAL ELECTRIC\"],[\"MARATHON PETROLEUM\"],[\"NEXTERA ENERGY\"],[\"NEXTERA ENERGY\"],[\"PG&E\"],[\"SHELL\"],[\"SHELL\"],[\"SHELL\"],[\"SHELL\"],[\"SHELL\"],[\"SHELL\"],[\"VALERO\"]],\"hovertemplate\":\"Company Sector=ENERGY<br>Total Revenue=%{x}<br>Emissions=%{y}<br>Company Name=%{customdata[0]}<extra></extra>\",\"legendgroup\":\"ENERGY\",\"marker\":{\"color\":\"#ab63fa\",\"symbol\":\"circle\"},\"mode\":\"markers\",\"name\":\"ENERGY\",\"orientation\":\"v\",\"showlegend\":true,\"type\":\"scatter\",\"x\":[1102029000.0,157739000000.0,157739000000.0,4069000000.0,45828000000.0,25097000000.0,90924000000.0,2619000000.0,2923377000.0,74196000000.0,120930000000.0,221288681.0,221288681.0,20642000000.0,261504000000.0,261504000000.0,261504000000.0,261504000000.0,261504000000.0,381300000000.0,176382000000.0],\"xaxis\":\"x\",\"y\":[1794737.0,33200000.0,33200000.0,134870.0,17720000.0,78000000.0,12009607.0,8536.0,8536.0,737976.963,33000000.0,43046734.0,43046734.0,4458777.0,60000000.0,60000000.0,60000000.0,60000000.0,60000000.0,60000000.0,27130000.0],\"yaxis\":\"y\"},{\"customdata\":[[\"AVIS BUDGET\"],[\"FEDEX\"],[\"FORD MOTOR COMPANY\"],[\"HERTZ\"],[\"JETBLUE AIRWAYS\"],[\"SOUTHWEST AIRLINES\"],[\"UPS (UNITED PARCEL SERVICE)\"]],\"hovertemplate\":\"Company Sector=TRANSPORTATION<br>Total Revenue=%{x}<br>Emissions=%{y}<br>Company Name=%{customdata[0]}<extra></extra>\",\"legendgroup\":\"TRANSPORTATION\",\"marker\":{\"color\":\"#FFA15A\",\"symbol\":\"circle\"},\"mode\":\"markers\",\"name\":\"TRANSPORTATION\",\"orientation\":\"v\",\"showlegend\":true,\"type\":\"scatter\",\"x\":[9313000000.0,83959000000.0,158057000000.0,7336000000.0,6037000000.0,15790000000.0,96223000000.0],\"xaxis\":\"x\",\"y\":[6039288.0,16659842.0,1069906.74,3735922.0,6853927.0,16351057.0,15668000.0],\"yaxis\":\"y\"},{\"customdata\":[[\"BLUE DIAMOND GROWERS\"],[\"CARGILL\"],[\"CARGILL\"],[\"CLIF BAR & COMPANY\"],[\"CLIF BAR & COMPANY\"],[\"COCA COLA\"],[\"COCA COLA\"],[\"COCA COLA\"],[\"CONAGRA BRANDS\"],[\"GENERAL MILLS\"],[\"MCDONALD'S CORPORATION\"],[\"NUTRIEN\"],[\"PEPSICO.\"],[\"PEPSICO.\"],[\"STARBUCKS CORPORATION\"],[\"SYNGENTA\"],[\"TAYLOR FARMS\"],[\"THE HAIN CELESTIAL GROUP\"],[\"TYSON FOODS\"],[\"TYSON FOODS\"],[\"TYSON FOODS\"]],\"hovertemplate\":\"Company Sector=FOOD & AGRICULTURE<br>Total Revenue=%{x}<br>Emissions=%{y}<br>Company Name=%{customdata[0]}<extra></extra>\",\"legendgroup\":\"FOOD & AGRICULTURE\",\"marker\":{\"color\":\"#19d3f3\",\"symbol\":\"circle\"},\"mode\":\"markers\",\"name\":\"FOOD & AGRICULTURE\",\"orientation\":\"v\",\"showlegend\":true,\"type\":\"scatter\",\"x\":[1590593000.0,134400000000.0,5311697582.0,800000000.0,15262.0,38660000000.0,38660000000.0,38660000000.0,11187700000.0,18127000000.0,23223000000.0,27712000000.0,79474000000.0,79474000000.0,29100000000.0,16733000000.0,5311697582.0,1890000000.0,47050000000.0,47050000000.0,47050000000.0],\"xaxis\":\"x\",\"y\":[92626.0,7287595.0,19406.0,7525.0,7525.0,555510.0,555510.0,555510.0,427153.0,364311.0,113286.0,11052529.0,3596712.0,3596712.0,372020.0,427000.0,27652.81,47468.0,3826285.87,3826285.87,3826285.87],\"yaxis\":\"y\"},{\"customdata\":[[\"CRH\"],[\"HOLCIM\"]],\"hovertemplate\":\"Company Sector=MATERIALS<br>Total Revenue=%{x}<br>Emissions=%{y}<br>Company Name=%{customdata[0]}<extra></extra>\",\"legendgroup\":\"MATERIALS\",\"marker\":{\"color\":\"#FF6692\",\"symbol\":\"circle\"},\"mode\":\"markers\",\"name\":\"MATERIALS\",\"orientation\":\"v\",\"showlegend\":true,\"type\":\"scatter\",\"x\":[32700000000.0,25359000000.0],\"xaxis\":\"x\",\"y\":[33400000.0,119427598.0],\"yaxis\":\"y\"},{\"customdata\":[[\"DELL TECHNOLOGIES\"],[\"IBM\"],[\"MICROSOFT\"],[\"RAZER\"]],\"hovertemplate\":\"Company Sector=TECHNOLOGY<br>Total Revenue=%{x}<br>Emissions=%{y}<br>Company Name=%{customdata[0]}<extra></extra>\",\"legendgroup\":\"TECHNOLOGY\",\"marker\":{\"color\":\"#B6E880\",\"symbol\":\"circle\"},\"mode\":\"markers\",\"name\":\"TECHNOLOGY\",\"orientation\":\"v\",\"showlegend\":true,\"type\":\"scatter\",\"x\":[101197000000.0,60500000000.0,198000000000.0,1200000000.0],\"xaxis\":\"x\",\"y\":[45640.0,79000.0,139413.0,115.6],\"yaxis\":\"y\"}],                        {\"legend\":{\"title\":{\"text\":\"Company Sector\"},\"tracegroupgap\":0},\"margin\":{\"t\":60},\"template\":{\"data\":{\"bar\":[{\"error_x\":{\"color\":\"#2a3f5f\"},\"error_y\":{\"color\":\"#2a3f5f\"},\"marker\":{\"line\":{\"color\":\"#E5ECF6\",\"width\":0.5},\"pattern\":{\"fillmode\":\"overlay\",\"size\":10,\"solidity\":0.2}},\"type\":\"bar\"}],\"barpolar\":[{\"marker\":{\"line\":{\"color\":\"#E5ECF6\",\"width\":0.5},\"pattern\":{\"fillmode\":\"overlay\",\"size\":10,\"solidity\":0.2}},\"type\":\"barpolar\"}],\"carpet\":[{\"aaxis\":{\"endlinecolor\":\"#2a3f5f\",\"gridcolor\":\"white\",\"linecolor\":\"white\",\"minorgridcolor\":\"white\",\"startlinecolor\":\"#2a3f5f\"},\"baxis\":{\"endlinecolor\":\"#2a3f5f\",\"gridcolor\":\"white\",\"linecolor\":\"white\",\"minorgridcolor\":\"white\",\"startlinecolor\":\"#2a3f5f\"},\"type\":\"carpet\"}],\"choropleth\":[{\"colorbar\":{\"outlinewidth\":0,\"ticks\":\"\"},\"type\":\"choropleth\"}],\"contour\":[{\"colorbar\":{\"outlinewidth\":0,\"ticks\":\"\"},\"colorscale\":[[0.0,\"#0d0887\"],[0.1111111111111111,\"#46039f\"],[0.2222222222222222,\"#7201a8\"],[0.3333333333333333,\"#9c179e\"],[0.4444444444444444,\"#bd3786\"],[0.5555555555555556,\"#d8576b\"],[0.6666666666666666,\"#ed7953\"],[0.7777777777777778,\"#fb9f3a\"],[0.8888888888888888,\"#fdca26\"],[1.0,\"#f0f921\"]],\"type\":\"contour\"}],\"contourcarpet\":[{\"colorbar\":{\"outlinewidth\":0,\"ticks\":\"\"},\"type\":\"contourcarpet\"}],\"heatmap\":[{\"colorbar\":{\"outlinewidth\":0,\"ticks\":\"\"},\"colorscale\":[[0.0,\"#0d0887\"],[0.1111111111111111,\"#46039f\"],[0.2222222222222222,\"#7201a8\"],[0.3333333333333333,\"#9c179e\"],[0.4444444444444444,\"#bd3786\"],[0.5555555555555556,\"#d8576b\"],[0.6666666666666666,\"#ed7953\"],[0.7777777777777778,\"#fb9f3a\"],[0.8888888888888888,\"#fdca26\"],[1.0,\"#f0f921\"]],\"type\":\"heatmap\"}],\"heatmapgl\":[{\"colorbar\":{\"outlinewidth\":0,\"ticks\":\"\"},\"colorscale\":[[0.0,\"#0d0887\"],[0.1111111111111111,\"#46039f\"],[0.2222222222222222,\"#7201a8\"],[0.3333333333333333,\"#9c179e\"],[0.4444444444444444,\"#bd3786\"],[0.5555555555555556,\"#d8576b\"],[0.6666666666666666,\"#ed7953\"],[0.7777777777777778,\"#fb9f3a\"],[0.8888888888888888,\"#fdca26\"],[1.0,\"#f0f921\"]],\"type\":\"heatmapgl\"}],\"histogram\":[{\"marker\":{\"pattern\":{\"fillmode\":\"overlay\",\"size\":10,\"solidity\":0.2}},\"type\":\"histogram\"}],\"histogram2d\":[{\"colorbar\":{\"outlinewidth\":0,\"ticks\":\"\"},\"colorscale\":[[0.0,\"#0d0887\"],[0.1111111111111111,\"#46039f\"],[0.2222222222222222,\"#7201a8\"],[0.3333333333333333,\"#9c179e\"],[0.4444444444444444,\"#bd3786\"],[0.5555555555555556,\"#d8576b\"],[0.6666666666666666,\"#ed7953\"],[0.7777777777777778,\"#fb9f3a\"],[0.8888888888888888,\"#fdca26\"],[1.0,\"#f0f921\"]],\"type\":\"histogram2d\"}],\"histogram2dcontour\":[{\"colorbar\":{\"outlinewidth\":0,\"ticks\":\"\"},\"colorscale\":[[0.0,\"#0d0887\"],[0.1111111111111111,\"#46039f\"],[0.2222222222222222,\"#7201a8\"],[0.3333333333333333,\"#9c179e\"],[0.4444444444444444,\"#bd3786\"],[0.5555555555555556,\"#d8576b\"],[0.6666666666666666,\"#ed7953\"],[0.7777777777777778,\"#fb9f3a\"],[0.8888888888888888,\"#fdca26\"],[1.0,\"#f0f921\"]],\"type\":\"histogram2dcontour\"}],\"mesh3d\":[{\"colorbar\":{\"outlinewidth\":0,\"ticks\":\"\"},\"type\":\"mesh3d\"}],\"parcoords\":[{\"line\":{\"colorbar\":{\"outlinewidth\":0,\"ticks\":\"\"}},\"type\":\"parcoords\"}],\"pie\":[{\"automargin\":true,\"type\":\"pie\"}],\"scatter\":[{\"marker\":{\"colorbar\":{\"outlinewidth\":0,\"ticks\":\"\"}},\"type\":\"scatter\"}],\"scatter3d\":[{\"line\":{\"colorbar\":{\"outlinewidth\":0,\"ticks\":\"\"}},\"marker\":{\"colorbar\":{\"outlinewidth\":0,\"ticks\":\"\"}},\"type\":\"scatter3d\"}],\"scattercarpet\":[{\"marker\":{\"colorbar\":{\"outlinewidth\":0,\"ticks\":\"\"}},\"type\":\"scattercarpet\"}],\"scattergeo\":[{\"marker\":{\"colorbar\":{\"outlinewidth\":0,\"ticks\":\"\"}},\"type\":\"scattergeo\"}],\"scattergl\":[{\"marker\":{\"colorbar\":{\"outlinewidth\":0,\"ticks\":\"\"}},\"type\":\"scattergl\"}],\"scattermapbox\":[{\"marker\":{\"colorbar\":{\"outlinewidth\":0,\"ticks\":\"\"}},\"type\":\"scattermapbox\"}],\"scatterpolar\":[{\"marker\":{\"colorbar\":{\"outlinewidth\":0,\"ticks\":\"\"}},\"type\":\"scatterpolar\"}],\"scatterpolargl\":[{\"marker\":{\"colorbar\":{\"outlinewidth\":0,\"ticks\":\"\"}},\"type\":\"scatterpolargl\"}],\"scatterternary\":[{\"marker\":{\"colorbar\":{\"outlinewidth\":0,\"ticks\":\"\"}},\"type\":\"scatterternary\"}],\"surface\":[{\"colorbar\":{\"outlinewidth\":0,\"ticks\":\"\"},\"colorscale\":[[0.0,\"#0d0887\"],[0.1111111111111111,\"#46039f\"],[0.2222222222222222,\"#7201a8\"],[0.3333333333333333,\"#9c179e\"],[0.4444444444444444,\"#bd3786\"],[0.5555555555555556,\"#d8576b\"],[0.6666666666666666,\"#ed7953\"],[0.7777777777777778,\"#fb9f3a\"],[0.8888888888888888,\"#fdca26\"],[1.0,\"#f0f921\"]],\"type\":\"surface\"}],\"table\":[{\"cells\":{\"fill\":{\"color\":\"#EBF0F8\"},\"line\":{\"color\":\"white\"}},\"header\":{\"fill\":{\"color\":\"#C8D4E3\"},\"line\":{\"color\":\"white\"}},\"type\":\"table\"}]},\"layout\":{\"annotationdefaults\":{\"arrowcolor\":\"#2a3f5f\",\"arrowhead\":0,\"arrowwidth\":1},\"autotypenumbers\":\"strict\",\"coloraxis\":{\"colorbar\":{\"outlinewidth\":0,\"ticks\":\"\"}},\"colorscale\":{\"diverging\":[[0,\"#8e0152\"],[0.1,\"#c51b7d\"],[0.2,\"#de77ae\"],[0.3,\"#f1b6da\"],[0.4,\"#fde0ef\"],[0.5,\"#f7f7f7\"],[0.6,\"#e6f5d0\"],[0.7,\"#b8e186\"],[0.8,\"#7fbc41\"],[0.9,\"#4d9221\"],[1,\"#276419\"]],\"sequential\":[[0.0,\"#0d0887\"],[0.1111111111111111,\"#46039f\"],[0.2222222222222222,\"#7201a8\"],[0.3333333333333333,\"#9c179e\"],[0.4444444444444444,\"#bd3786\"],[0.5555555555555556,\"#d8576b\"],[0.6666666666666666,\"#ed7953\"],[0.7777777777777778,\"#fb9f3a\"],[0.8888888888888888,\"#fdca26\"],[1.0,\"#f0f921\"]],\"sequentialminus\":[[0.0,\"#0d0887\"],[0.1111111111111111,\"#46039f\"],[0.2222222222222222,\"#7201a8\"],[0.3333333333333333,\"#9c179e\"],[0.4444444444444444,\"#bd3786\"],[0.5555555555555556,\"#d8576b\"],[0.6666666666666666,\"#ed7953\"],[0.7777777777777778,\"#fb9f3a\"],[0.8888888888888888,\"#fdca26\"],[1.0,\"#f0f921\"]]},\"colorway\":[\"#636efa\",\"#EF553B\",\"#00cc96\",\"#ab63fa\",\"#FFA15A\",\"#19d3f3\",\"#FF6692\",\"#B6E880\",\"#FF97FF\",\"#FECB52\"],\"font\":{\"color\":\"#2a3f5f\"},\"geo\":{\"bgcolor\":\"white\",\"lakecolor\":\"white\",\"landcolor\":\"#E5ECF6\",\"showlakes\":true,\"showland\":true,\"subunitcolor\":\"white\"},\"hoverlabel\":{\"align\":\"left\"},\"hovermode\":\"closest\",\"mapbox\":{\"style\":\"light\"},\"paper_bgcolor\":\"white\",\"plot_bgcolor\":\"#E5ECF6\",\"polar\":{\"angularaxis\":{\"gridcolor\":\"white\",\"linecolor\":\"white\",\"ticks\":\"\"},\"bgcolor\":\"#E5ECF6\",\"radialaxis\":{\"gridcolor\":\"white\",\"linecolor\":\"white\",\"ticks\":\"\"}},\"scene\":{\"xaxis\":{\"backgroundcolor\":\"#E5ECF6\",\"gridcolor\":\"white\",\"gridwidth\":2,\"linecolor\":\"white\",\"showbackground\":true,\"ticks\":\"\",\"zerolinecolor\":\"white\"},\"yaxis\":{\"backgroundcolor\":\"#E5ECF6\",\"gridcolor\":\"white\",\"gridwidth\":2,\"linecolor\":\"white\",\"showbackground\":true,\"ticks\":\"\",\"zerolinecolor\":\"white\"},\"zaxis\":{\"backgroundcolor\":\"#E5ECF6\",\"gridcolor\":\"white\",\"gridwidth\":2,\"linecolor\":\"white\",\"showbackground\":true,\"ticks\":\"\",\"zerolinecolor\":\"white\"}},\"shapedefaults\":{\"line\":{\"color\":\"#2a3f5f\"}},\"ternary\":{\"aaxis\":{\"gridcolor\":\"white\",\"linecolor\":\"white\",\"ticks\":\"\"},\"baxis\":{\"gridcolor\":\"white\",\"linecolor\":\"white\",\"ticks\":\"\"},\"bgcolor\":\"#E5ECF6\",\"caxis\":{\"gridcolor\":\"white\",\"linecolor\":\"white\",\"ticks\":\"\"}},\"title\":{\"x\":0.05},\"xaxis\":{\"automargin\":true,\"gridcolor\":\"white\",\"linecolor\":\"white\",\"ticks\":\"\",\"title\":{\"standoff\":15},\"zerolinecolor\":\"white\",\"zerolinewidth\":2},\"yaxis\":{\"automargin\":true,\"gridcolor\":\"white\",\"linecolor\":\"white\",\"ticks\":\"\",\"title\":{\"standoff\":15},\"zerolinecolor\":\"white\",\"zerolinewidth\":2}}},\"xaxis\":{\"anchor\":\"y\",\"domain\":[0.0,1.0],\"title\":{\"text\":\"Total Revenue\"}},\"yaxis\":{\"anchor\":\"x\",\"domain\":[0.0,1.0],\"title\":{\"text\":\"Total Emissions\"}}},                        {\"responsive\": true}                    ).then(function(){\n",
       "                            \n",
       "var gd = document.getElementById('33713ccb-4863-42af-aa8b-570d9be42877');\n",
       "var x = new MutationObserver(function (mutations, observer) {{\n",
       "        var display = window.getComputedStyle(gd).display;\n",
       "        if (!display || display === 'none') {{\n",
       "            console.log([gd, 'removed!']);\n",
       "            Plotly.purge(gd);\n",
       "            observer.disconnect();\n",
       "        }}\n",
       "}});\n",
       "\n",
       "// Listen for the removal of the full notebook cells\n",
       "var notebookContainer = gd.closest('#notebook-container');\n",
       "if (notebookContainer) {{\n",
       "    x.observe(notebookContainer, {childList: true});\n",
       "}}\n",
       "\n",
       "// Listen for the clearing of the current output cell\n",
       "var outputEl = gd.closest('.output');\n",
       "if (outputEl) {{\n",
       "    x.observe(outputEl, {childList: true});\n",
       "}}\n",
       "\n",
       "                        })                };                });            </script>        </div>"
      ]
     },
     "metadata": {},
     "output_type": "display_data"
    }
   ],
   "source": [
    "@interact(currency=Dropdown(options=np.unique(emissions['Currency of Total Revenue']), value='USD'))\n",
    "def plot_px(currency):\n",
    "    mask = df['Currency of Total Revenue'].isin([currency])\n",
    "    fig = px.scatter(df[mask], x='Total Revenue',\n",
    "                    y='Scope 1 value',\n",
    "                    color='Company Sector', \n",
    "                    hover_data=['Company Name'],\n",
    "                    labels={\n",
    "                        'Scope 1 value': 'Emissions',\n",
    "                    },\n",
    "                )\n",
    "    fig.update_layout(xaxis_title=\"Total Revenue\", yaxis_title=\"Total Emissions\")\n",
    "    fig.show()"
   ]
  },
  {
   "cell_type": "markdown",
   "metadata": {},
   "source": [
    "<hr style=\"border: 2px solid #003262\">\n",
    "<hr style=\"border: 2px solid #C9B676\">"
   ]
  },
  {
   "cell_type": "markdown",
   "metadata": {},
   "source": [
    "## Plotting [Reference - will be deleted later]"
   ]
  },
  {
   "cell_type": "markdown",
   "metadata": {},
   "source": [
    "While knowing the average, the largest, and the smallest values are useful, they don't tell us the whole story. Along with this, just looking at a bunch of numbers isn't always fun or efficient. To further expand on our analysis, let's make some visualizations of our data!\n",
    "\n",
    "Fortunately, in Python, there are lots of functions that can do this for us. We'll examine a few below."
   ]
  },
  {
   "cell_type": "markdown",
   "metadata": {},
   "source": [
    "### Histogram\n",
    "The `hist` function will plot a [histogram](https://en.wikipedia.org/wiki/Histogram) of the column you specify."
   ]
  },
  {
   "cell_type": "code",
   "execution_count": null,
   "metadata": {},
   "outputs": [
    {
     "ename": "NameError",
     "evalue": "name 'tips' is not defined",
     "output_type": "error",
     "traceback": [
      "\u001b[0;31m---------------------------------------------------------------------------\u001b[0m",
      "\u001b[0;31mNameError\u001b[0m                                 Traceback (most recent call last)",
      "\u001b[1;32mc:\\Users\\jason\\OneDrive\\Desktop\\modules\\ESPM-136\\nb2-eda\\nb2-Jason.ipynb Cell 59\u001b[0m line \u001b[0;36m1\n\u001b[0;32m----> <a href='vscode-notebook-cell:/c%3A/Users/jason/OneDrive/Desktop/modules/ESPM-136/nb2-eda/nb2-Jason.ipynb#Y114sZmlsZQ%3D%3D?line=0'>1</a>\u001b[0m tips\u001b[39m.\u001b[39mhist(\u001b[39m\"\u001b[39m\u001b[39mtotal\u001b[39m\u001b[39m\"\u001b[39m, bins\u001b[39m=\u001b[39mnp\u001b[39m.\u001b[39marange(\u001b[39m0\u001b[39m, \u001b[39m60\u001b[39m, \u001b[39m5\u001b[39m))\n",
      "\u001b[0;31mNameError\u001b[0m: name 'tips' is not defined"
     ]
    }
   ],
   "source": [
    "tips.hist(\"total\", bins=np.arange(0, 60, 5))"
   ]
  },
  {
   "cell_type": "markdown",
   "metadata": {},
   "source": [
    "### Scatter Plot\n",
    "\n",
    "The `scatter` function makes a [scatter plot](https://en.wikipedia.org/wiki/Scatter_plot), where the first parameter below (`total`) is the column we want to display on the x-axis, and the second parameter (`tip`) is the column we want to display on the y-axis."
   ]
  },
  {
   "cell_type": "code",
   "execution_count": null,
   "metadata": {},
   "outputs": [],
   "source": [
    "tips.scatter(\"total\", \"tip\")"
   ]
  },
  {
   "cell_type": "markdown",
   "metadata": {},
   "source": [
    "### Interactive Visualizations"
   ]
  },
  {
   "cell_type": "markdown",
   "metadata": {},
   "source": [
    "<div class=\"alert alert-block alert-success\">\n",
    "    <p style=\"font-size:20px\">This section is advanced/optional\n",
    "</div>"
   ]
  },
  {
   "cell_type": "markdown",
   "metadata": {},
   "source": [
    "The plots above are great, and are suitible for almost all cases. However, we can take it one step further by creating an interactive plot! We can do this with the `plotly` library. In these plots you can hover your mouse over data, and information about it will pop up!\n",
    "\n",
    "Don't worry about understanding the code below, just check out the cool visualizations, and try hovering over the data with your mouse in different spots. \n",
    "\n",
    "Check out the comments for a description of the visualizations."
   ]
  },
  {
   "cell_type": "code",
   "execution_count": null,
   "metadata": {},
   "outputs": [
    {
     "ename": "NameError",
     "evalue": "name 'tips' is not defined",
     "output_type": "error",
     "traceback": [
      "\u001b[0;31m---------------------------------------------------------------------------\u001b[0m",
      "\u001b[0;31mNameError\u001b[0m                                 Traceback (most recent call last)",
      "\u001b[1;32mc:\\Users\\jason\\OneDrive\\Desktop\\modules\\ESPM-136\\nb2-eda\\nb2-Jason.ipynb Cell 68\u001b[0m line \u001b[0;36m1\n\u001b[0;32m----> <a href='vscode-notebook-cell:/c%3A/Users/jason/OneDrive/Desktop/modules/ESPM-136/nb2-eda/nb2-Jason.ipynb#Y123sZmlsZQ%3D%3D?line=0'>1</a>\u001b[0m px\u001b[39m.\u001b[39mhistogram(x\u001b[39m=\u001b[39mtips\u001b[39m.\u001b[39mcolumn(\u001b[39m\"\u001b[39m\u001b[39mtotal\u001b[39m\u001b[39m\"\u001b[39m), title\u001b[39m=\u001b[39m\u001b[39m\"\u001b[39m\u001b[39mHistogram of Total Bill Amounts\u001b[39m\u001b[39m\"\u001b[39m, \n\u001b[1;32m      <a href='vscode-notebook-cell:/c%3A/Users/jason/OneDrive/Desktop/modules/ESPM-136/nb2-eda/nb2-Jason.ipynb#Y123sZmlsZQ%3D%3D?line=1'>2</a>\u001b[0m              template \u001b[39m=\u001b[39m \u001b[39m\"\u001b[39m\u001b[39mseaborn\u001b[39m\u001b[39m\"\u001b[39m, labels\u001b[39m=\u001b[39m{\u001b[39m\"\u001b[39m\u001b[39mx\u001b[39m\u001b[39m\"\u001b[39m:\u001b[39m\"\u001b[39m\u001b[39mTotal Bill Amounts\u001b[39m\u001b[39m\"\u001b[39m, \u001b[39m\"\u001b[39m\u001b[39my\u001b[39m\u001b[39m\"\u001b[39m:\u001b[39m\"\u001b[39m\u001b[39mCount\u001b[39m\u001b[39m\"\u001b[39m},\n\u001b[1;32m      <a href='vscode-notebook-cell:/c%3A/Users/jason/OneDrive/Desktop/modules/ESPM-136/nb2-eda/nb2-Jason.ipynb#Y123sZmlsZQ%3D%3D?line=2'>3</a>\u001b[0m              width \u001b[39m=\u001b[39m \u001b[39m600\u001b[39m, height \u001b[39m=\u001b[39m \u001b[39m400\u001b[39m, nbins\u001b[39m=\u001b[39m\u001b[39m20\u001b[39m)\n\u001b[1;32m      <a href='vscode-notebook-cell:/c%3A/Users/jason/OneDrive/Desktop/modules/ESPM-136/nb2-eda/nb2-Jason.ipynb#Y123sZmlsZQ%3D%3D?line=3'>4</a>\u001b[0m \u001b[39m# Plots a histogram of the total bill amounts\u001b[39;00m\n",
      "\u001b[0;31mNameError\u001b[0m: name 'tips' is not defined"
     ]
    }
   ],
   "source": [
    "px.histogram(x=tips.column(\"total\"), title=\"Histogram of Total Bill Amounts\", \n",
    "             template = \"seaborn\", labels={\"x\":\"Total Bill Amounts\", \"y\":\"Count\"},\n",
    "             width = 600, height = 400, nbins=20)\n",
    "# Plots a histogram of the total bill amounts"
   ]
  },
  {
   "cell_type": "code",
   "execution_count": null,
   "metadata": {},
   "outputs": [],
   "source": [
    "px.histogram(x=tips.column(\"time\"), y=tips.column(\"tip\"), color = tips.column(\"time\"), \n",
    "             template = \"seaborn\", title = \"Average Tips by Meal\", labels = {\"x\": \"Day\", \"y\": \"Tips\"},\n",
    "             histfunc = \"avg\", width = 600, height = 400)\n",
    "# Plots a bar chart of the tips by meal"
   ]
  },
  {
   "cell_type": "code",
   "execution_count": null,
   "metadata": {},
   "outputs": [],
   "source": [
    "px.histogram(x=tips.column(\"day\"), y=tips.column(\"tip\"), color = tips.column(\"day\"), \n",
    "             template = \"seaborn\", title = \"Tips by Day\", labels = {\"x\": \"Day\", \"y\": \"Tips\"},\n",
    "             width = 600, height = 400)\n",
    "# Plots a bar chart of the tips by day"
   ]
  },
  {
   "cell_type": "code",
   "execution_count": null,
   "metadata": {},
   "outputs": [],
   "source": [
    "px.scatter(x=tips.column(\"total\"), y=tips.column(\"tip\"), \n",
    "           title=\"Scatter Plot of Total Bill Amounts vs. Tip Amounts\", template = \"seaborn\",\n",
    "           labels = {\"x\": \"Total Bill Amount\", \"y\": \"Tip Amount\"},\n",
    "           width=500, height=500)\n",
    "# Plots a scatter plot of the total bill amounts vs. the tip amounts"
   ]
  },
  {
   "cell_type": "markdown",
   "metadata": {},
   "source": [
    "<hr style=\"border: 2px solid #003262\">\n",
    "<hr style=\"border: 2px solid #C9B676\">"
   ]
  },
  {
   "cell_type": "markdown",
   "metadata": {},
   "source": [
    "**to do for Manaar**: potentially add pdf generator if necessary; if not, take out otter grader stuff. also potentially add data science resources section"
   ]
  },
  {
   "cell_type": "markdown",
   "metadata": {},
   "source": [
    "## Conclusion"
   ]
  },
  {
   "cell_type": "markdown",
   "metadata": {},
   "source": [
    "In this notebook, you've learned quite a bit, below is a summary of the topics we have covered:\n",
    "- Jupyter Notebooks\n",
    "    - History of Jupyter\n",
    "    - Structure of a Notebook\n",
    "    - Editing a notebook\n",
    "- Python \n",
    "    - Math\n",
    "    - Strings\n",
    "    - Errors\n",
    "    - Variables\n",
    "    - Lists\n",
    "    - Functions\n",
    "    - Loops\n",
    "    - Modules\n",
    "    - Dot Notation\n",
    "- Tables\n",
    "    - Loading a Table\n",
    "    - Context of a Table\n",
    "    - Size of a Table\n",
    "    - Selecting Columns\n",
    "    - Sorting Tables\n",
    "- Columns\n",
    "    - Statistics of Columns\n",
    "- Plotting\n",
    "    - Histograms\n",
    "    - Scatter Plots\n",
    "    - Interactive Plots\n",
    "\n",
    "<h3>Congratulations on finishing the notebook!</h3>"
   ]
  },
  {
   "cell_type": "markdown",
   "metadata": {},
   "source": [
    "<hr style=\"border: 2px solid #003262\">\n",
    "<hr style=\"border: 2px solid #C9B676\">"
   ]
  },
  {
   "cell_type": "markdown",
   "metadata": {},
   "source": [
    "## A Final Request: Feedback Form"
   ]
  },
  {
   "cell_type": "markdown",
   "metadata": {},
   "source": [
    "<div class=\"alert alert-block alert-info\">\n",
    "    <p style=\"font-size:20px\">We encourage students to fill out the following feedback form to share your experience with this Module created notebook. This feedback form will take no longer than 5 minutes. At UC Berkeley Data Science Undergraduate Studies – Modules, we appreciate all feedback to improve the learning of students and experience utilizing Jupyter Notebooks for Data Science Education. You can fill out the survey by running the below and clicking the button that appears. Thank you in advance for your time!\n",
    "</div>"
   ]
  },
  {
   "cell_type": "code",
   "execution_count": null,
   "metadata": {},
   "outputs": [],
   "source": [
    "feedback_button()"
   ]
  }
 ],
 "metadata": {
  "deepnote_execution_queue": [],
  "deepnote_notebook_id": "693e9760-244f-475b-aa3d-f49b62665db0",
  "kernelspec": {
   "display_name": "Python 3 (ipykernel)",
   "language": "python",
   "name": "python3"
  },
  "vscode": {
   "interpreter": {
    "hash": "aee8b7b246df8f9039afb4144a1f6fd8d2ca17a180786b69acc140d282b71a49"
   }
  },
  "widgets": {
   "application/vnd.jupyter.widget-state+json": {
    "state": {},
    "version_major": 2,
    "version_minor": 0
   }
  }
 },
 "nbformat": 4,
 "nbformat_minor": 4
}
