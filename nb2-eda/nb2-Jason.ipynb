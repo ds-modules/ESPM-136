{
 "cells": [
  {
   "cell_type": "markdown",
   "metadata": {
    "cell_id": "00001-eedf9a46-cb0c-42bc-a90f-96265663c0d3",
    "deepnote_cell_type": "markdown",
    "tags": [
     "ignore"
    ]
   },
   "source": [
    "## [ESPM-136] Notebook 2: Company Emissions Exploratory Data Analysis (EDA)\n",
    "\n",
    "## **Introduction Section here**\n",
    "\n",
    "Discuss overview of notebook and what students can take away from it here. Can also provide any relevant resources here.\n",
    "\n",
    "need to also mention that this notebook has questions that are bolded in yellow for the students to answer: probably won't be graded, might change later?"
   ]
  },
  {
   "cell_type": "markdown",
   "metadata": {},
   "source": [
    "keeping below cell just for reference, in case we have advanced/optional sections. delete later!"
   ]
  },
  {
   "cell_type": "markdown",
   "metadata": {},
   "source": [
    "<div class=\"alert alert-block alert-success\">\n",
    "    <p style=\"font-size:20px\">This section is advanced/optional\n",
    "</div>"
   ]
  },
  {
   "cell_type": "markdown",
   "metadata": {},
   "source": [
    "<hr style=\"border: 2px solid #003262\">\n",
    "<hr style=\"border: 2px solid #C9B676\">"
   ]
  },
  {
   "cell_type": "markdown",
   "metadata": {},
   "source": [
    "## Learning Outcomes\n",
    "Working through this notebook, you will learn about:\n",
    "1. complete later when sections are establish\n",
    "\n",
    "Also, may want to add table of contents beneath this section, depending on how long notebook is."
   ]
  },
  {
   "cell_type": "markdown",
   "metadata": {},
   "source": [
    "<hr style=\"border: 2px solid #003262\">\n",
    "<hr style=\"border: 2px solid #C9B676\">"
   ]
  },
  {
   "cell_type": "markdown",
   "metadata": {
    "cell_id": "00003-a9cd1167-2276-4e0f-85b6-43d803731627",
    "deepnote_cell_type": "markdown",
    "tags": []
   },
   "source": [
    "## Review / recap of data collection [likely be done by Manaar and/or Zcjanin]\n",
    "\n",
    "this section will provide a brief recap of the data collection process so far, to discuss how we got from google forms to here and why we want to import the data in a jupyter notebook as compared to other mediums / what we can accomplish with it. may also be good to quickly discuss implications of the data collection / inputting process.\n",
    "\n",
    "want this section to be pretty short -- dont want a wall of text!"
   ]
  },
  {
   "cell_type": "markdown",
   "metadata": {},
   "source": [
    "<hr style=\"border: 2px solid #003262\">\n",
    "<hr style=\"border: 2px solid #C9B676\">"
   ]
  },
  {
   "cell_type": "markdown",
   "metadata": {
    "cell_id": "00003-058e2913-9587-45ac-8c2f-f284333ac4f3",
    "deepnote_cell_type": "markdown"
   },
   "source": [
    "## Importing and Taking an Initial Look at the Data (manaar will do?)\n",
    "\n",
    "description of the steps we need to take to read_table to create a datascience table to look at our data in tabular format.\n",
    "\n",
    "first, import libraries (note: add any additional libraries you use in your code here! good to keep it all in one place), then read table:"
   ]
  },
  {
   "cell_type": "code",
   "execution_count": 28,
   "metadata": {},
   "outputs": [],
   "source": [
    "from ipywidgets import *\n",
    "import numpy as np\n",
    "from datascience import *\n",
    "import otter\n",
    "grader = otter.Notebook()\n",
    "import matplotlib.pyplot as plt\n",
    "%matplotlib inline\n",
    "plt.style.use(\"fivethirtyeight\")\n",
    "import seaborn as sns, plotly.express as px"
   ]
  },
  {
   "cell_type": "code",
   "execution_count": 29,
   "metadata": {},
   "outputs": [
    {
     "data": {
      "text/html": [
       "<table border=\"1\" class=\"dataframe\">\n",
       "    <thead>\n",
       "        <tr>\n",
       "            <th>Timestamp</th> <th>Username</th> <th>Name</th> <th>Berkeley SID</th> <th>Berkeley Email </th> <th>Company Name</th> <th>Company Sector</th> <th>If you selected \"Other\" for the previous question, please include the sector that the company belongs in.</th> <th>Year of CDP Disclosure</th> <th>Scope 1 value (metric tons CO2e)</th> <th>Scope 2 value (location-based, metric tons CO2e)</th> <th>Scope 2 value (market-based, metric tons CO2e)</th> <th>Scope 3 value (metric tons CO2e)</th> <th>Total Revenue</th> <th>Currency of Total Revenue</th> <th>Does the company have an internal price on carbon?</th> <th>If so, what is the internal price on carbon the company uses?</th> <th>Company 2 Name</th> <th>Company Sector.1</th> <th>If you selected \"Other\" for the previous question, please include the sector that the company belongs in..1</th> <th>Year of CDP Disclosure.1</th> <th>Scope 1 value (metric tons CO2e).1</th> <th>Scope 2 value (location-based, metric tons CO2e).1</th> <th>Scope 2 value (market-based, metric tons CO2e).1</th> <th>Scope 3 value (metric tons CO2e).1</th> <th>Total Revenue.1</th> <th>Currency of Total Revenue.1</th> <th>Does the company have an internal price on carbon?.1</th> <th>If so, what is the internal price on carbon the company uses?.1</th> <th>What is the company's carbon reduction plan and date? (ex: \"Net Zero Carbon by 2050\")</th> <th>What is the company's renewable energy target and date? (ex: \"100% renewably powered by 2030\")</th> <th>What are some efficiency actions the company is taking in order to lower energy and carbon intensity? (ex: energy efficient motors, low-carbon chips, etc.)</th> <th>Is the company adopting low-carbon technologies, such as buying Electric Delivery vans?</th> <th>Is the company making long-term investments in decarbonization innovations?</th> <th>How is the company engaging its supply chain in carbon reduction?</th> <th>What is the company's carbon reduction plan and date? (ex: \"Net Zero Carbon by 2050\").1</th> <th>What is the company's renewable energy target and date? (ex: \"100% renewably powered by 2030\").1</th> <th>What are some efficiency actions the company is taking in order to lower energy and carbon intensity? (ex: energy efficient motors, low-carbon chips, etc.).1</th> <th>Is the company adopting low-carbon technologies, such as buying Electric Delivery vans?.1</th> <th>Is the company making long-term investments in decarbonization innovations?.1</th> <th>How is the company engaging its supply chain in carbon reduction?.1</th> <th>Identify opportunities for each company to improve its sustainability efforts, based on your assessment of best practices in their industry. What is the one big thing each company should focus more on? (200 words or less)\r\n",
       "\r\n",
       "Be sure to address each company in your response. The suggested format would be to dedicate one paragraph for each company. </th> <th>Provide a link for Company #1's Sustainability Report </th> <th>Provide any other link(s) you referenced for Company #1</th> <th>Provide a link for Company #2's Sustainability Report </th> <th>Provide any other link(s) you referenced for Company #2</th> <th>Submit your copy of the Google Sheet used to collect company emissions and activity data. Ensure that the name of your file is \"[Your Name] -  Company Emissions & Activity Data Collection\". </th>\n",
       "        </tr>\n",
       "    </thead>\n",
       "    <tbody>\n",
       "        <tr>\n",
       "            <td>2023/09/08 11:45:30 PM MDT</td> <td>bellashahidi1@berkeley.edu  </td> <td>Bella Shahidi             </td> <td>3036661515  </td> <td>bellashahidi1@berkeley.edu  </td> <td>Nike INC                   </td> <td>nan                    </td> <td>nan                                                                                                      </td> <td>2022                  </td> <td>42720                           </td> <td>251578                                          </td> <td>76420                                         </td> <td>6.87838e+06                     </td> <td>4.45e+10     </td> <td>USD                      </td> <td>No                                                </td> <td>nan                                                          </td> <td>Home Depot    </td> <td>nan                    </td> <td>nan                                                                                                        </td> <td>2022                    </td> <td>642070                            </td> <td>1.00715e+06                                       </td> <td>992128                                          </td> <td>1.96598e+08                       </td> <td>1.51157e+11    </td> <td>USD                        </td> <td>No                                                  </td> <td>nan                                                            </td> <td>Net Zero Carbon by 2050                                                              </td> <td>Achieve 100% renewable electricity usage in owned or operated facilities by the end of 2030   </td> <td>Energy efficiency in buildings, and transitioned to sustainably-sourced, renewable biomass.                                                                </td> <td>Efficiency improvements through Nike’s Energy Minimum Program:\r\n",
       "- Maximize onsite s ...</td> <td>- Commitment to innovation for decarbonization.\r\n",
       "- Allocation of resour ...</td> <td>- Engagement with key suppliers to achieve greenhouse gas emi ...</td> <td>The minimum reduction required is 49% absolute emissions reduction from 2010 to 205 ...</td> <td>Achieve 100% renewable electricity equivalent to the electricity needs for all Home Depot fa ...</td> <td>- Energy conservation efforts, including the implementation of energy conservation measures.\r\n",
       "- Investments in store energy management upgrades, such as  ...</td> <td>- Hands-on training and resources for customers to reduce their energy consumption.\r\n",
       " ...</td> <td>- Marketing support investment of over $26 million in 2021 for Eco Option ...</td> <td>- Type of Engagement: Innovation & collaboration (changing mark ...</td> <td>Nike:\r\n",
       "Nike has excelled in renewable energy adoption and supply chain engagement but could further enhance sustainability by prioritizing circularity in its products. The fashion industry's environmental impact is considerable, and Nike can lead by emphasizing sustainable product design, recycling, and product longevity. Effective recycling p ...</td> <td>https://www.cdp.net/en/formatted_responses/responses?cam ...</td> <td>nan                                                         </td> <td>https://www.cdp.net/en/formatted_responses/responses?cam ...</td> <td>nan                                                         </td> <td>https://drive.google.com/u/0/open?usp=forms_web&id=1gZlsMcuIGyevmPIkXL6Eb9XSNYrO--yZ                                                                                                          </td>\n",
       "        </tr>\n",
       "        <tr>\n",
       "            <td>2023/09/13 6:03:01 PM MDT </td> <td>lsy.meru@berkeley.edu       </td> <td>Catherine Wang            </td> <td>3036151273  </td> <td>lsy.meru@berkeley.edu       </td> <td>H&M                        </td> <td>Apparel & Footwear     </td> <td>nan                                                                                                      </td> <td>2022                  </td> <td>21171                           </td> <td>507170                                          </td> <td>37394                                         </td> <td>7.74163e+06                     </td> <td>1.99e+11     </td> <td>SEK                      </td> <td>Yes                                               </td> <td>0                                                            </td> <td>Reformation   </td> <td>Apparel & Footwear     </td> <td>nan                                                                                                        </td> <td>2022                    </td> <td>84                                </td> <td>321                                               </td> <td>0                                               </td> <td>33622                             </td> <td>1.71381e+06    </td> <td>USD                        </td> <td>No                                                  </td> <td>nan                                                            </td> <td>goal of net 0 carbon emissions by 2040                                               </td> <td>100% by 2030                                                                                  </td> <td>UNFCCC-promoted coal-phase out projects, common investment fund through the Apparel impact institute (Aii), partnered with WWf Climate Savers to take s ...</td> <td>liquid biofuels, Heating, Ventilation and Air Conditioning, Lighting; plan for all  ...</td> <td>purchased removal service in direct air carbon capture and storage (DAC ...</td> <td>- engagements include information collection, incentivization ...</td> <td>-net-0 emissions (carbon neutral) since 2015, working with Climate Zero to make it  ...</td> <td>-already using all renewable energy, and commit to be 100% renewable energy up to 2030          </td> <td>-partnered with the Apparel Impact Institute (Aii), a non-profit that works to identify, fund, and scale proven environmental impact solutions in the app ...</td> <td>-Launch recycling program for Shoes and R&D to develop recycling program for activewe ...</td> <td>-not much in terms of carbon sequestration directly or in terms of energy ...</td> <td>-incentivization/engagement: partnered with the Apparel Impact  ...</td> <td>Both these two large companies in the fashion industry are aware of climate change and are actively transitioning into more sustainable practices, yet their starting points and emphasis are vastly different.\r\n",
       "\r\n",
       "For H&M, since they are relatively established and are a fast fashion brand, even though they are trying to change, a lot of their inf ...</td> <td>https://www.responsibilityreports.com/HostedData/Respons ...</td> <td>nan                                                         </td> <td>https://www.thereformation.com/sustainability/commitment ...</td> <td>nan                                                         </td> <td>https://drive.google.com/u/0/open?usp=forms_web&id=17h8vwK9P8mbmzQIg_RX0QWib1pyaB910                                                                                                          </td>\n",
       "        </tr>\n",
       "        <tr>\n",
       "            <td>2023/09/13 7:16:10 PM MDT </td> <td>liamganion@berkeley.edu     </td> <td>Liam Ganion               </td> <td>3035677696  </td> <td>liamganion@berkeley.edu     </td> <td>Incitec Pivot              </td> <td>Food & Agriculture     </td> <td>nan                                                                                                      </td> <td>2022                  </td> <td>3.11218e+06                     </td> <td>299838                                          </td> <td>nan                                           </td> <td>6.278e+06                       </td> <td>4.3485e+09   </td> <td>AUD                      </td> <td>Yes                                               </td> <td>20                                                           </td> <td>Nutrien Ltd   </td> <td>Food & Agriculture     </td> <td>nan                                                                                                        </td> <td>2022                    </td> <td>1.10525e+07                       </td> <td>2.70498e+06                                       </td> <td>2.56234e+06                                     </td> <td>1                                 </td> <td>2.7712e+10     </td> <td>USD                        </td> <td>No                                                  </td> <td>nan                                                            </td> <td>The goal is to reduce GHG emissions by 25% by 2030. Also, they are aiming to be N ...</td> <td>Banking on renewable hydrogen being suitable for ammonia manufacturing before 2040. They w ...</td> <td>Abatement of nitrous oxide emissions from nitric acid plants in multiple manufacturing plants.                                                             </td> <td>97% of their GHGe relate to the chemical manufacturing processes. Their plans will  ...</td> <td>Feedstock conversion would go from natural gas to renewable hydrogen at ...</td> <td>Diversifying away from single source suppliers is already bei ...</td> <td>Goal is to reduce GHG emissions by at least 30% by 2030. The 30% target covers all  ...</td> <td>Powered entirely by renewable energy sources by 2025. Lower energy options include self-gene ...</td> <td>Nitrous oxide abatement, which would abate ~ 1 million tons of CO2e per year by the end of 2023, from nitric acid manufacturing processes. Energy efficie ...</td> <td>Cabon capture utilization and storage at Redwater and Geismar facilities. Will both c ...</td> <td>Have deployed renewable-based wind and solar energy resource data collect ...</td> <td>End-to-end capabilities allow for Nutiren to generate supply ch ...</td> <td>Incitec Pivot is at the forefront of sustainability practices in the synthetic fertilizer industry. Creating more efficient routes to implement their future sustainable ideas would catapult them even further among their competition. Much of their emissions come from the manufacturing processes, and the current plan is to schedule shut downs of ...</td> <td>https://www.responsibilityreports.com/HostedData/Respons ...</td> <td>https://www.cdp.net/en/formatted_responses/responses?cam ...</td> <td>https://www.responsibilityreports.com/HostedData/Respons ...</td> <td>https://www.cdp.net/en/formatted_responses/responses?cam ...</td> <td>https://drive.google.com/u/0/open?usp=forms_web&id=1g2KdBauCyhO2iksc1wVdVkWop-ff7yxC                                                                                                          </td>\n",
       "        </tr>\n",
       "        <tr>\n",
       "            <td>2023/09/13 8:15:14 PM MDT </td> <td>bellashahidi1@berkeley.edu  </td> <td>Bella Shahidi             </td> <td>3036661515  </td> <td>bellashahidi1@berkeley.edu  </td> <td>PJSC Lukoil                </td> <td>Energy                 </td> <td>nan                                                                                                      </td> <td>2022                  </td> <td>3.63883e+07                     </td> <td>5.10258e+06                                     </td> <td>nan                                           </td> <td>3.51541e+08                     </td> <td>9.435e+12    </td> <td>RUB                      </td> <td>Yes                                               </td> <td>6711                                                         </td> <td>Ørsted        </td> <td>Energy                 </td> <td>nan                                                                                                        </td> <td>2022                    </td> <td>2.142e+06                         </td> <td>53000                                             </td> <td>802                                             </td> <td>1.8179e+07                        </td> <td>7.7673e+10     </td> <td>DKK                        </td> <td>Yes                                                 </td> <td>750                                                            </td> <td>Aimed at a 20% emissions reduction by 2030 compared to 2017.                         </td> <td>Zero routine flaring of associated petroleum gas by 2030                                      </td> <td>- Introduction of energy-efficient pumps for reservoir pressure maintenance (RPM).\r\n",
       "- Utilization of Sulzer pumps as part of the 2021 initiative.\r\n",
       "- Ac ...</td> <td>- Transition to Energy-Efficient Technologies: Embracing energy-efficient technolog ...</td> <td>- Scientific and Technical Center: LUKOIL Group's Scientific and Techni ...</td> <td>- Supply chain engagement: collaboration and innovation\r\n",
       "- Cu ...</td> <td>Net zero carbon by latest 2050, but aiming towards 2040.                               </td> <td>100% green electricity usage by 2025                                                            </td> <td>- Maintanence program: energy efficiency in buildings \r\n",
       "- Energy efficiency in buildings with lighting\r\n",
       "- Energy efficiency in buildings with heating, ve ...</td> <td>- Ørsted relies significantly on offshore wind for earnings, particularly in Denmark  ...</td> <td>- Ørsted's decarbonization innovation strategy is driven by the need to a ...</td> <td>- Supply Chain Engagement - Innovation & Collaboration\r\n",
       "- Ørste ...</td> <td>Ørsted stands out as a disruptor firm due to its remarkable shift from a traditional fossil fuel-based energy company to a global renewable energy leader. This transformation has disrupted the energy industry on multiple fronts. Ørsted pioneered offshore wind technology, leading numerous global offshore wind projects. Moreover, it has set ambi ...</td> <td>https://www.cdp.net/en/formatted_responses/responses?cam ...</td> <td>nan                                                         </td> <td>https://www.cdp.net/en/formatted_responses/responses?cam ...</td> <td>nan                                                         </td> <td>https://drive.google.com/u/0/open?usp=forms_web&id=1iTuWIbJ-ProkS6VPJCYPE1WqGlNTEhQc                                                                                                          </td>\n",
       "        </tr>\n",
       "        <tr>\n",
       "            <td>2023/09/14 3:17:04 PM MDT </td> <td>olivercrawford@berkeley.edu </td> <td>Oliver Crawford-Shelmadine</td> <td>3039587735  </td> <td>olivercrawford@berkeley.edu </td> <td>Gilead                     </td> <td>Other                  </td> <td>Biotech                                                                                                  </td> <td>2022                  </td> <td>54584                           </td> <td>56754                                           </td> <td>34127                                         </td> <td>928388                          </td> <td>2.7305e+10   </td> <td>USD                      </td> <td>No                                                </td> <td>nan                                                          </td> <td>Amgen         </td> <td>Other                  </td> <td>Biotech                                                                                                    </td> <td>2022                    </td> <td>133084                            </td> <td>155549                                            </td> <td>58137                                           </td> <td>3.51982e+06                       </td> <td>2.5979e+10     </td> <td>USD                        </td> <td>Yes                                                 </td> <td>1600                                                           </td> <td>Gilead plans to reduce its scope 1 and scope 2 emissions by 46% by 2030 and its s ...</td> <td>100% renewable energy by 2025                                                                 </td> <td>renewable energy, EV cars, sustainable jet fuel, energy efficient infrastructure                                                                           </td> <td>Yes                                                                                    </td> <td>Yes                                                                        </td> <td>They collect their supply chains carbon emission information  ...</td> <td>Carbon Neutral by 2027                                                                 </td> <td>100% renewable powered by 2027                                                                  </td> <td>energy innovation and efficiency, purchasing renewable electricity                                                                                           </td> <td>Yes                                                                                      </td> <td>Yes                                                                          </td> <td>Engage with supply chain to collect yearly carbon emissions. Th ...</td> <td>Gilead is doing a great job by transitioning to 100 percent renewable energy by 2030. One of their biggest issues seems to be their jets. Through all of the research I did into companies not many mentioned their company jets. Flying is one of the worst things that human can do to increase their carbon footprint. My suggestion is not one of inn ...</td> <td>https://www.gilead.com/-/media/files/pdfs/yir-2022-pdfs/ ...</td> <td>nan                                                         </td> <td>https://www.amgen.com/responsibility/-/media/Themes/Corp ...</td> <td>nan                                                         </td> <td>https://drive.google.com/u/0/open?usp=forms_web&id=1MF1JFKiTcGqbL4FrOp4ZP-BJ9oPuI2eD                                                                                                          </td>\n",
       "        </tr>\n",
       "        <tr>\n",
       "            <td>2023/09/14 4:47:55 PM MDT </td> <td>ltress@berkeley.edu         </td> <td>Lucas Tress               </td> <td>3036534021  </td> <td>ltress@berkeley.edu         </td> <td>UPS (United Parcel Service)</td> <td>Transportation         </td> <td>nan                                                                                                      </td> <td>2022                  </td> <td>1.5668e+07                      </td> <td>676000                                          </td> <td>654000                                        </td> <td>1.9486e+07                      </td> <td>9.6223e+10   </td> <td>USD                      </td> <td>No                                                </td> <td>nan                                                          </td> <td>FedEx         </td> <td>Transportation         </td> <td>nan                                                                                                        </td> <td>2022                    </td> <td>1.66598e+07                       </td> <td>934060                                            </td> <td>934060                                          </td> <td>3.45841e+06                       </td> <td>8.3959e+10     </td> <td>USD                        </td> <td>No                                                  </td> <td>nan                                                            </td> <td>Carbon Neutrality by 2050                                                            </td> <td>100% Renewable Energy by 2035 in all facilities                                               </td> <td>Efficiency actions in alternative fuel and advanced technology vehicles                                                                                    </td> <td>Many low-carbon technologies such as alternative fuel and electric vehicles (includ ...</td> <td>Long-term investments in decarbonization and renewable innovations for  ...</td> <td>Attempting to engage in aviation and trucking associations to ...</td> <td>Carbon neutrality by 2040                                                              </td> <td>transition the vehicle fleet to zero emission vehicles by 2040. In process of transitioning  ...</td> <td>Efficiency actions that lower energy and carbon intensity, such as obtaining jet fuel from alternative fuels, a 30% reduction in aircraft emissions inten ...</td> <td>Many low-carbon technologies such as alternative fuel (for ground and air) and electr ...</td> <td>Long-term investments in decarbonization and renewable innovations for ai ...</td> <td>Working with all sectors of the supply chain to reduce emission ...</td> <td>UPS and FedEx are both very similar in their operational strategies and facilities. They also have similar goals and have chosen to focus on the same targets of transitioning to electric vehicles, renewably powered facilities, and alternative aviation and ground fuel. However, there are some gaps. UPS stood out as the disruptor when comparing  ...</td> <td>https://about.ups.com/content/dam/upsstories/assets/soci ...</td> <td>nan                                                         </td> <td>https://www.responsibilityreports.com/HostedData/Respons ...</td> <td>https://www.fedex.com/en-us/sustainability.html             </td> <td>https://drive.google.com/u/0/open?usp=forms_web&id=1Rd6HVVSxbul8n1nbPMPkh7qJs5Rx1DQS                                                                                                          </td>\n",
       "        </tr>\n",
       "        <tr>\n",
       "            <td>2023/09/14 7:27:27 PM MDT </td> <td>alvgrli@berkeley.edu        </td> <td>Alvin Li                  </td> <td>3035751926  </td> <td>alvgrli@berkeley.edu        </td> <td>AIRBUS CE                  </td> <td>Other                  </td> <td>Aerospace                                                                                                </td> <td>2022                  </td> <td>561737                          </td> <td>339313                                          </td> <td>265016                                        </td> <td>4.76092e+08                     </td> <td>52856        </td> <td>EUR                      </td> <td>Yes                                               </td> <td>150                                                          </td> <td>ALSTOM        </td> <td>Other                  </td> <td>Rolling Stock Manufacturer                                                                                 </td> <td>2022                    </td> <td>107073                            </td> <td>144632                                            </td> <td>121789                                          </td> <td>3.34293e+07                       </td> <td>1.5741e+10     </td> <td>EUR                        </td> <td>No                                                  </td> <td>nan                                                            </td> <td>Scope 1 + 2: Reduce 63% of total emissions by 2030 (baseline 2015 + 1.5°C aligned ...</td> <td>Increase the share of renewable electricity to 100% by 2024 (European Airbus sites: France ...</td> <td>- 4 new aircraft product families (A220, A320neo, A330neo and A350XWB family) \r\n",
       "- Integrating Sustainable Aviation Fuels (SAFs) in Airbus' older + newe ...</td> <td>- HyPort: hydrogen production + distribution hubs for airport ground transport vehi ...</td> <td>- Airbus Ventures: Silicon Valley, Paris and Tokyo-based venture capita ...</td> <td>- Airbus Supplier Code of Conduct: Safe handling of regulated ...</td> <td>Scope 1 + 2: Reduce 40% of total emissions by 2030 (baseline 2021 + 1.5°C aligned)\r ...</td> <td>Use 100% of electricity from renewable sources by 2025 \r\n",
       "(of which 10% produced onsite Alsto ...</td> <td>- Improved Heating, Ventilation and Air Conditioning (HVAC) systems in factory buildings (Sites: France, Germany, Australia, Italy and Belgium)\r\n",
       "- Genera ...</td> <td>- Coradia iLint: World's 1st hydrogen fuel cell train entering service in Germany, em ...</td> <td>- 5.5 billion EUR deal (completed January 2021): Creating a \"Sustainable  ...</td> <td>Sustainable procurement strategy\r\n",
       "- Ethics and Sustainable Deve ...</td> <td>For Airbus, strong efforts in sustainable aviation fuel (SAF) transitions and aircraft body material redesigns brands Airbus' image as decently sustainable. A major improvement to focus on is more efforts with boldly disclosing their supply chain engagement activities and plans in carbon reduction. Highlight some improvements starting from wha ...</td> <td>https://www.airbus.com/sites/g/files/jlcbta136/files/202 ...</td> <td>nan                                                         </td> <td>https://www.alstom.com/sites/alstom.com/files/2023/07/10 ...</td> <td>nan                                                         </td> <td>https://drive.google.com/u/0/open?usp=forms_web&id=1SlGIOyOIPBksHfaSwXGvMH3RT6Sfjfyz                                                                                                          </td>\n",
       "        </tr>\n",
       "        <tr>\n",
       "            <td>2023/09/15 2:52:27 PM MDT </td> <td>mollynance04@berkeley.edu   </td> <td>Molly Nance               </td> <td>3039214609  </td> <td>mollynance04@berkeley.edu   </td> <td>Cargill                    </td> <td>Food & Agriculture     </td> <td>nan                                                                                                      </td> <td>2022                  </td> <td>7.2876e+06                      </td> <td>4.26575e+06                                     </td> <td>4.18606e+06                                   </td> <td>1.97437e+08                     </td> <td>1.344e+11    </td> <td>USD                      </td> <td>Yes                                               </td> <td>40                                                           </td> <td>Nestle        </td> <td>Food & Agriculture     </td> <td>nan                                                                                                        </td> <td>2022                    </td> <td>3.372e+06                         </td> <td>2.6e+06                                           </td> <td>1.61e+06                                        </td> <td>1.1372e+08                        </td> <td>87088          </td> <td>CHF                        </td> <td>No                                                  </td> <td>nan                                                            </td> <td>Cargill plans to reduce green house gas emissions by 50% by 2050.  This is a smal ...</td> <td>I could not find a concrete date and target that Cargill had published in terms of renewab ...</td> <td>Investing in wind powered technologies for ships that can cut down on 20-30% of fuel usage.                                                                </td> <td>The company has methanol fueled cargo ships set to debut in 2025.  They are also wo ...</td> <td>The company has been investing millions into biodiesel production.  Thi ...</td> <td>Cargill is pushing to reduce green house gas emissions in bee ...</td> <td>Nestle plans to hit net zero carbon emissions by 2050.                                 </td> <td>They plan to have 100% renewably sourced electricity company-wide by 2025.                      </td> <td>Nestle is creating a system to recycle & reuse their water, also monitoring amounts of discharged waste water in order to hold themselves accountable and ...</td> <td>The company is adopting sustainable transportation & currently working on hydrogen po ...</td> <td>The company is investing in reusable and refillable options for consumers ...</td> <td>Nestle is enforcing that all suppliers be completely deforestat ...</td> <td>Cargill still has a lot of opportunities to improve their sustainability efforts.  While they are working on all areas in their company (including transportation, land, water, human rights), there is still a lot of room for growth.  The company has made targets to improve their sustainability but many of them are pretty small, especially in co ...</td> <td>https://www.cargill.com/sustainability                      </td> <td>https://www.cargill.com/story/soil-sails-and-solar-how-c ...</td> <td>https://www.nestle.com/sustainability/climate-change/zer ...</td> <td>https://www.nestle.com/sustainability/sustainable-sourci ...</td> <td>https://drive.google.com/u/0/open?usp=forms_web&id=1jrvgZoIUHmmYO4A-SwZ65TpgICJF7oAc                                                                                                          </td>\n",
       "        </tr>\n",
       "        <tr>\n",
       "            <td>2023/09/15 7:13:42 PM MDT </td> <td>madelinebrown@berkeley.edu  </td> <td>Maddy Brown               </td> <td>3035816965  </td> <td>madelinebrown@berkeley.edu  </td> <td>Loreal                     </td> <td>Consumer Packaged Goods</td> <td>nan                                                                                                      </td> <td>2022                  </td> <td>27668                           </td> <td>160368                                          </td> <td>12971                                         </td> <td>1.2488e+07                      </td> <td>3.2288e+10   </td> <td>euros                    </td> <td>No                                                </td> <td>nan                                                          </td> <td>Estee Lauder  </td> <td>Consumer Packaged Goods</td> <td>nan                                                                                                        </td> <td>2022                    </td> <td>24139.7                           </td> <td>54044.2                                           </td> <td>0                                               </td> <td>2.33527e+06                       </td> <td>1.6215e+10     </td> <td>USD                        </td> <td>No                                                  </td> <td>nan                                                            </td> <td>Target to reduce the CO2 emissions of operations by 35% from 2019 to 2021, carbon ...</td> <td>100% renewable target by 2025                                                                 </td> <td>reduction in the quantity of water used for rinse-off products, internal reuse and returnable packaging, reduction in the use of air freight, use of mu ...</td> <td>Biogas purchase, sustainable and local biofuel procurement, solar PV panels on-site ...</td> <td>2021 study conducted to prioritize decarbonization strategies for each  ...</td> <td>Engages suppliers and customers/clients through engagement an ...</td> <td>Committed to reducing absolute scope 1 and 2 GHG emissions by 50% by 2030, committe ...</td> <td>Company sourced 100% renewable electricity in 2021 achieving goal set in 2017, goal was 100% ...</td> <td>Replace existing fluorescent lighting with LED throughout facility, replace aging cooling tower modules, remove oil heating system and connect to the dis ...</td> <td> Purchase equipment to support compressed air leak detection and repair, compressor r ...</td> <td>Dedicated budget for energy efficiency, lower return on investment specif ...</td> <td>Engage suppliers on climate-related issues to align supply chai ...</td> <td>Loreal's carbon reduction target is carbon neutrality by 2025. This leads me to believe they are relying on carbon offsets as a sustainability strategy. Loreal can elevate its sustainability protocols by investing directly in renewable energy sources rather than relying solely on carbon offsets. By funding and deploying renewable energy infras ...</td> <td>https://www.loreal.com/-/media/project/loreal/brand-site ...</td> <td>nan                                                         </td> <td>https://media.elcompanies.com/files/e/estee-lauder-compa ...</td> <td>nan                                                         </td> <td>https://drive.google.com/u/0/open?usp=forms_web&id=1jje_WsiJ5vgMm66mLptGXGE2EP6vvINn                                                                                                          </td>\n",
       "        </tr>\n",
       "        <tr>\n",
       "            <td>2023/09/15 7:51:55 PM MDT </td> <td>maddiebraniff14@berkeley.edu</td> <td>Maddie Braniff            </td> <td>3039234590  </td> <td>maddiebraniff14@berkeley.edu</td> <td>CRH                        </td> <td>Materials              </td> <td>nan                                                                                                      </td> <td>2021                  </td> <td>3.34e+07                        </td> <td>2.6e+06                                         </td> <td>nan                                           </td> <td>7.5e+06                         </td> <td>3.27e+10     </td> <td>US Dollar                </td> <td>Yes                                               </td> <td>63                                                           </td> <td>Holcim Ltd.   </td> <td>Materials              </td> <td>nan                                                                                                        </td> <td>2021                    </td> <td>1.19428e+08                       </td> <td>7.01604e+06                                       </td> <td>6.92461e+06                                     </td> <td>2.91627e+07                       </td> <td>2.5359e+10     </td> <td>US Dollar                  </td> <td>Yes                                                 </td> <td>51.5                                                           </td> <td>Goal of net-zero by 2050. CRH has a company wide goal of achieving 25% reduction  ...</td> <td>CRH helps install renewable energy sources, yet there is no clear statement that they are  ...</td> <td>With lime and cement activities accountable for 77% of CRH's energy use, the company is 'continuously driving energy efficiency and have developed prog ...</td> <td>CRH's main adoption of low-carbon technologies, is using low-carbon wastes and by-p ...</td> <td>Investing in ICSC to support research in sustainable innovations that w ...</td> <td>CRH has vowed to remain in close contact with their suppliers ...</td> <td>Reduce Scope 1 and 2 emissions per ton cementitious material by 25% by 2030.           </td> <td>Increased use of alternative fuels used for the cement kilns.                                   </td> <td>The launch of their circular economy policy has created waste efficiency within the company. Recycling volumes have increased by 8% since its implementation.</td> <td>In 2022, Holcim launched their \"Office Goes Green\" initiative to bring sustainability ...</td> <td>Holcim is accelerating efforts in decarbonization through increased use o ...</td> <td>Holcim just missed their 100% target by 2022, by achieving 95%  ...</td> <td>While CRH is beginning to utilize alternative fuels as a source of energy in their cement sector, their extensive research into cost efficiency and environmental benefit is not shown in their efforts. Not only is the burning of fossil fuels environmentally damaging, but it is a financial burden as CRH has to purchase carbon offsets to account  ...</td> <td>https://www.cdp.net/en/formatted_responses/responses?cam ...</td> <td>https://www.responsibilityreports.com/HostedData/Respons ...</td> <td>https://www.cdp.net/en/formatted_responses/responses?cam ...</td> <td>https://www.holcim.com/sites/holcim/files/2023-02/240220 ...</td> <td>https://drive.google.com/u/0/open?usp=forms_web&id=1ZXQJY4qtygwhR7D87wi-hb4-Iqn_sBqQ                                                                                                          </td>\n",
       "        </tr>\n",
       "    </tbody>\n",
       "</table>\n",
       "<p>... (74 rows omitted)</p>"
      ],
      "text/plain": [
       "Timestamp                  | Username                     | Name                       | Berkeley SID | Berkeley Email               | Company Name                | Company Sector          | If you selected \"Other\" for the previous question, please include the sector that the company belongs in. | Year of CDP Disclosure | Scope 1 value (metric tons CO2e) | Scope 2 value (location-based, metric tons CO2e) | Scope 2 value (market-based, metric tons CO2e) | Scope 3 value (metric tons CO2e) | Total Revenue | Currency of Total Revenue | Does the company have an internal price on carbon? | If so, what is the internal price on carbon the company uses? | Company 2 Name | Company Sector.1        | If you selected \"Other\" for the previous question, please include the sector that the company belongs in..1 | Year of CDP Disclosure.1 | Scope 1 value (metric tons CO2e).1 | Scope 2 value (location-based, metric tons CO2e).1 | Scope 2 value (market-based, metric tons CO2e).1 | Scope 3 value (metric tons CO2e).1 | Total Revenue.1 | Currency of Total Revenue.1 | Does the company have an internal price on carbon?.1 | If so, what is the internal price on carbon the company uses?.1 | What is the company's carbon reduction plan and date? (ex: \"Net Zero Carbon by 2050\") | What is the company's renewable energy target and date? (ex: \"100% renewably powered by 2030\") | What are some efficiency actions the company is taking in order to lower energy and carbon intensity? (ex: energy efficient motors, low-carbon chips, etc.) | Is the company adopting low-carbon technologies, such as buying Electric Delivery vans? | Is the company making long-term investments in decarbonization innovations? | How is the company engaging its supply chain in carbon reduction? | What is the company's carbon reduction plan and date? (ex: \"Net Zero Carbon by 2050\").1 | What is the company's renewable energy target and date? (ex: \"100% renewably powered by 2030\").1 | What are some efficiency actions the company is taking in order to lower energy and carbon intensity? (ex: energy efficient motors, low-carbon chips, etc.).1 | Is the company adopting low-carbon technologies, such as buying Electric Delivery vans?.1 | Is the company making long-term investments in decarbonization innovations?.1 | How is the company engaging its supply chain in carbon reduction?.1 | Identify opportunities for each company to improve its sustainability efforts, based on your assessment of best practices in their industry. What is the one big thing each company should focus more on? (200 words or less)\n",
       "\n",
       "Be sure to address each company in your response. The suggested format would be to dedicate one paragraph for each company.  | Provide a link for Company #1's Sustainability Report        | Provide any other link(s) you referenced for Company #1      | Provide a link for Company #2's Sustainability Report        | Provide any other link(s) you referenced for Company #2      | Submit your copy of the Google Sheet used to collect company emissions and activity data. Ensure that the name of your file is \"[Your Name] -  Company Emissions & Activity Data Collection\".\n",
       "2023/09/08 11:45:30 PM MDT | bellashahidi1@berkeley.edu   | Bella Shahidi              | 3036661515   | bellashahidi1@berkeley.edu   | Nike INC                    | nan                     | nan                                                                                                       | 2022                   | 42720                            | 251578                                           | 76420                                          | 6.87838e+06                      | 4.45e+10      | USD                       | No                                                 | nan                                                           | Home Depot     | nan                     | nan                                                                                                         | 2022                     | 642070                             | 1.00715e+06                                        | 992128                                           | 1.96598e+08                        | 1.51157e+11     | USD                         | No                                                   | nan                                                             | Net Zero Carbon by 2050                                                               | Achieve 100% renewable electricity usage in owned or operated facilities by the end of 2030    | Energy efficiency in buildings, and transitioned to sustainably-sourced, renewable biomass.                                                                 | Efficiency improvements through Nike’s Energy Minimum Program:\n",
       "- Maximize onsite s ... | - Commitment to innovation for decarbonization.\n",
       "- Allocation of resour ... | - Engagement with key suppliers to achieve greenhouse gas emi ... | The minimum reduction required is 49% absolute emissions reduction from 2010 to 205 ... | Achieve 100% renewable electricity equivalent to the electricity needs for all Home Depot fa ... | - Energy conservation efforts, including the implementation of energy conservation measures.\n",
       "- Investments in store energy management upgrades, such as  ... | - Hands-on training and resources for customers to reduce their energy consumption.\n",
       " ... | - Marketing support investment of over $26 million in 2021 for Eco Option ... | - Type of Engagement: Innovation & collaboration (changing mark ... | Nike:\n",
       "Nike has excelled in renewable energy adoption and supply chain engagement but could further enhance sustainability by prioritizing circularity in its products. The fashion industry's environmental impact is considerable, and Nike can lead by emphasizing sustainable product design, recycling, and product longevity. Effective recycling p ... | https://www.cdp.net/en/formatted_responses/responses?cam ... | nan                                                          | https://www.cdp.net/en/formatted_responses/responses?cam ... | nan                                                          | https://drive.google.com/u/0/open?usp=forms_web&id=1gZlsMcuIGyevmPIkXL6Eb9XSNYrO--yZ\n",
       "2023/09/13 6:03:01 PM MDT  | lsy.meru@berkeley.edu        | Catherine Wang             | 3036151273   | lsy.meru@berkeley.edu        | H&M                         | Apparel & Footwear      | nan                                                                                                       | 2022                   | 21171                            | 507170                                           | 37394                                          | 7.74163e+06                      | 1.99e+11      | SEK                       | Yes                                                | 0                                                             | Reformation    | Apparel & Footwear      | nan                                                                                                         | 2022                     | 84                                 | 321                                                | 0                                                | 33622                              | 1.71381e+06     | USD                         | No                                                   | nan                                                             | goal of net 0 carbon emissions by 2040                                                | 100% by 2030                                                                                   | UNFCCC-promoted coal-phase out projects, common investment fund through the Apparel impact institute (Aii), partnered with WWf Climate Savers to take s ... | liquid biofuels, Heating, Ventilation and Air Conditioning, Lighting; plan for all  ... | purchased removal service in direct air carbon capture and storage (DAC ... | - engagements include information collection, incentivization ... | -net-0 emissions (carbon neutral) since 2015, working with Climate Zero to make it  ... | -already using all renewable energy, and commit to be 100% renewable energy up to 2030           | -partnered with the Apparel Impact Institute (Aii), a non-profit that works to identify, fund, and scale proven environmental impact solutions in the app ... | -Launch recycling program for Shoes and R&D to develop recycling program for activewe ... | -not much in terms of carbon sequestration directly or in terms of energy ... | -incentivization/engagement: partnered with the Apparel Impact  ... | Both these two large companies in the fashion industry are aware of climate change and are actively transitioning into more sustainable practices, yet their starting points and emphasis are vastly different.\n",
       "\n",
       "For H&M, since they are relatively established and are a fast fashion brand, even though they are trying to change, a lot of their inf ... | https://www.responsibilityreports.com/HostedData/Respons ... | nan                                                          | https://www.thereformation.com/sustainability/commitment ... | nan                                                          | https://drive.google.com/u/0/open?usp=forms_web&id=17h8vwK9P8mbmzQIg_RX0QWib1pyaB910\n",
       "2023/09/13 7:16:10 PM MDT  | liamganion@berkeley.edu      | Liam Ganion                | 3035677696   | liamganion@berkeley.edu      | Incitec Pivot               | Food & Agriculture      | nan                                                                                                       | 2022                   | 3.11218e+06                      | 299838                                           | nan                                            | 6.278e+06                        | 4.3485e+09    | AUD                       | Yes                                                | 20                                                            | Nutrien Ltd    | Food & Agriculture      | nan                                                                                                         | 2022                     | 1.10525e+07                        | 2.70498e+06                                        | 2.56234e+06                                      | 1                                  | 2.7712e+10      | USD                         | No                                                   | nan                                                             | The goal is to reduce GHG emissions by 25% by 2030. Also, they are aiming to be N ... | Banking on renewable hydrogen being suitable for ammonia manufacturing before 2040. They w ... | Abatement of nitrous oxide emissions from nitric acid plants in multiple manufacturing plants.                                                              | 97% of their GHGe relate to the chemical manufacturing processes. Their plans will  ... | Feedstock conversion would go from natural gas to renewable hydrogen at ... | Diversifying away from single source suppliers is already bei ... | Goal is to reduce GHG emissions by at least 30% by 2030. The 30% target covers all  ... | Powered entirely by renewable energy sources by 2025. Lower energy options include self-gene ... | Nitrous oxide abatement, which would abate ~ 1 million tons of CO2e per year by the end of 2023, from nitric acid manufacturing processes. Energy efficie ... | Cabon capture utilization and storage at Redwater and Geismar facilities. Will both c ... | Have deployed renewable-based wind and solar energy resource data collect ... | End-to-end capabilities allow for Nutiren to generate supply ch ... | Incitec Pivot is at the forefront of sustainability practices in the synthetic fertilizer industry. Creating more efficient routes to implement their future sustainable ideas would catapult them even further among their competition. Much of their emissions come from the manufacturing processes, and the current plan is to schedule shut downs of ... | https://www.responsibilityreports.com/HostedData/Respons ... | https://www.cdp.net/en/formatted_responses/responses?cam ... | https://www.responsibilityreports.com/HostedData/Respons ... | https://www.cdp.net/en/formatted_responses/responses?cam ... | https://drive.google.com/u/0/open?usp=forms_web&id=1g2KdBauCyhO2iksc1wVdVkWop-ff7yxC\n",
       "2023/09/13 8:15:14 PM MDT  | bellashahidi1@berkeley.edu   | Bella Shahidi              | 3036661515   | bellashahidi1@berkeley.edu   | PJSC Lukoil                 | Energy                  | nan                                                                                                       | 2022                   | 3.63883e+07                      | 5.10258e+06                                      | nan                                            | 3.51541e+08                      | 9.435e+12     | RUB                       | Yes                                                | 6711                                                          | Ørsted         | Energy                  | nan                                                                                                         | 2022                     | 2.142e+06                          | 53000                                              | 802                                              | 1.8179e+07                         | 7.7673e+10      | DKK                         | Yes                                                  | 750                                                             | Aimed at a 20% emissions reduction by 2030 compared to 2017.                          | Zero routine flaring of associated petroleum gas by 2030                                       | - Introduction of energy-efficient pumps for reservoir pressure maintenance (RPM).\n",
       "- Utilization of Sulzer pumps as part of the 2021 initiative.\n",
       "- Ac ... | - Transition to Energy-Efficient Technologies: Embracing energy-efficient technolog ... | - Scientific and Technical Center: LUKOIL Group's Scientific and Techni ... | - Supply chain engagement: collaboration and innovation\n",
       "- Cu ... | Net zero carbon by latest 2050, but aiming towards 2040.                                | 100% green electricity usage by 2025                                                             | - Maintanence program: energy efficiency in buildings \n",
       "- Energy efficiency in buildings with lighting\n",
       "- Energy efficiency in buildings with heating, ve ... | - Ørsted relies significantly on offshore wind for earnings, particularly in Denmark  ... | - Ørsted's decarbonization innovation strategy is driven by the need to a ... | - Supply Chain Engagement - Innovation & Collaboration\n",
       "- Ørste ... | Ørsted stands out as a disruptor firm due to its remarkable shift from a traditional fossil fuel-based energy company to a global renewable energy leader. This transformation has disrupted the energy industry on multiple fronts. Ørsted pioneered offshore wind technology, leading numerous global offshore wind projects. Moreover, it has set ambi ... | https://www.cdp.net/en/formatted_responses/responses?cam ... | nan                                                          | https://www.cdp.net/en/formatted_responses/responses?cam ... | nan                                                          | https://drive.google.com/u/0/open?usp=forms_web&id=1iTuWIbJ-ProkS6VPJCYPE1WqGlNTEhQc\n",
       "2023/09/14 3:17:04 PM MDT  | olivercrawford@berkeley.edu  | Oliver Crawford-Shelmadine | 3039587735   | olivercrawford@berkeley.edu  | Gilead                      | Other                   | Biotech                                                                                                   | 2022                   | 54584                            | 56754                                            | 34127                                          | 928388                           | 2.7305e+10    | USD                       | No                                                 | nan                                                           | Amgen          | Other                   | Biotech                                                                                                     | 2022                     | 133084                             | 155549                                             | 58137                                            | 3.51982e+06                        | 2.5979e+10      | USD                         | Yes                                                  | 1600                                                            | Gilead plans to reduce its scope 1 and scope 2 emissions by 46% by 2030 and its s ... | 100% renewable energy by 2025                                                                  | renewable energy, EV cars, sustainable jet fuel, energy efficient infrastructure                                                                            | Yes                                                                                     | Yes                                                                         | They collect their supply chains carbon emission information  ... | Carbon Neutral by 2027                                                                  | 100% renewable powered by 2027                                                                   | energy innovation and efficiency, purchasing renewable electricity                                                                                            | Yes                                                                                       | Yes                                                                           | Engage with supply chain to collect yearly carbon emissions. Th ... | Gilead is doing a great job by transitioning to 100 percent renewable energy by 2030. One of their biggest issues seems to be their jets. Through all of the research I did into companies not many mentioned their company jets. Flying is one of the worst things that human can do to increase their carbon footprint. My suggestion is not one of inn ... | https://www.gilead.com/-/media/files/pdfs/yir-2022-pdfs/ ... | nan                                                          | https://www.amgen.com/responsibility/-/media/Themes/Corp ... | nan                                                          | https://drive.google.com/u/0/open?usp=forms_web&id=1MF1JFKiTcGqbL4FrOp4ZP-BJ9oPuI2eD\n",
       "2023/09/14 4:47:55 PM MDT  | ltress@berkeley.edu          | Lucas Tress                | 3036534021   | ltress@berkeley.edu          | UPS (United Parcel Service) | Transportation          | nan                                                                                                       | 2022                   | 1.5668e+07                       | 676000                                           | 654000                                         | 1.9486e+07                       | 9.6223e+10    | USD                       | No                                                 | nan                                                           | FedEx          | Transportation          | nan                                                                                                         | 2022                     | 1.66598e+07                        | 934060                                             | 934060                                           | 3.45841e+06                        | 8.3959e+10      | USD                         | No                                                   | nan                                                             | Carbon Neutrality by 2050                                                             | 100% Renewable Energy by 2035 in all facilities                                                | Efficiency actions in alternative fuel and advanced technology vehicles                                                                                     | Many low-carbon technologies such as alternative fuel and electric vehicles (includ ... | Long-term investments in decarbonization and renewable innovations for  ... | Attempting to engage in aviation and trucking associations to ... | Carbon neutrality by 2040                                                               | transition the vehicle fleet to zero emission vehicles by 2040. In process of transitioning  ... | Efficiency actions that lower energy and carbon intensity, such as obtaining jet fuel from alternative fuels, a 30% reduction in aircraft emissions inten ... | Many low-carbon technologies such as alternative fuel (for ground and air) and electr ... | Long-term investments in decarbonization and renewable innovations for ai ... | Working with all sectors of the supply chain to reduce emission ... | UPS and FedEx are both very similar in their operational strategies and facilities. They also have similar goals and have chosen to focus on the same targets of transitioning to electric vehicles, renewably powered facilities, and alternative aviation and ground fuel. However, there are some gaps. UPS stood out as the disruptor when comparing  ... | https://about.ups.com/content/dam/upsstories/assets/soci ... | nan                                                          | https://www.responsibilityreports.com/HostedData/Respons ... | https://www.fedex.com/en-us/sustainability.html              | https://drive.google.com/u/0/open?usp=forms_web&id=1Rd6HVVSxbul8n1nbPMPkh7qJs5Rx1DQS\n",
       "2023/09/14 7:27:27 PM MDT  | alvgrli@berkeley.edu         | Alvin Li                   | 3035751926   | alvgrli@berkeley.edu         | AIRBUS CE                   | Other                   | Aerospace                                                                                                 | 2022                   | 561737                           | 339313                                           | 265016                                         | 4.76092e+08                      | 52856         | EUR                       | Yes                                                | 150                                                           | ALSTOM         | Other                   | Rolling Stock Manufacturer                                                                                  | 2022                     | 107073                             | 144632                                             | 121789                                           | 3.34293e+07                        | 1.5741e+10      | EUR                         | No                                                   | nan                                                             | Scope 1 + 2: Reduce 63% of total emissions by 2030 (baseline 2015 + 1.5°C aligned ... | Increase the share of renewable electricity to 100% by 2024 (European Airbus sites: France ... | - 4 new aircraft product families (A220, A320neo, A330neo and A350XWB family) \n",
       "- Integrating Sustainable Aviation Fuels (SAFs) in Airbus' older + newe ... | - HyPort: hydrogen production + distribution hubs for airport ground transport vehi ... | - Airbus Ventures: Silicon Valley, Paris and Tokyo-based venture capita ... | - Airbus Supplier Code of Conduct: Safe handling of regulated ... | Scope 1 + 2: Reduce 40% of total emissions by 2030 (baseline 2021 + 1.5°C aligned)\n",
       " ... | Use 100% of electricity from renewable sources by 2025 \n",
       "(of which 10% produced onsite Alsto ... | - Improved Heating, Ventilation and Air Conditioning (HVAC) systems in factory buildings (Sites: France, Germany, Australia, Italy and Belgium)\n",
       "- Genera ... | - Coradia iLint: World's 1st hydrogen fuel cell train entering service in Germany, em ... | - 5.5 billion EUR deal (completed January 2021): Creating a \"Sustainable  ... | Sustainable procurement strategy\n",
       "- Ethics and Sustainable Deve ... | For Airbus, strong efforts in sustainable aviation fuel (SAF) transitions and aircraft body material redesigns brands Airbus' image as decently sustainable. A major improvement to focus on is more efforts with boldly disclosing their supply chain engagement activities and plans in carbon reduction. Highlight some improvements starting from wha ... | https://www.airbus.com/sites/g/files/jlcbta136/files/202 ... | nan                                                          | https://www.alstom.com/sites/alstom.com/files/2023/07/10 ... | nan                                                          | https://drive.google.com/u/0/open?usp=forms_web&id=1SlGIOyOIPBksHfaSwXGvMH3RT6Sfjfyz\n",
       "2023/09/15 2:52:27 PM MDT  | mollynance04@berkeley.edu    | Molly Nance                | 3039214609   | mollynance04@berkeley.edu    | Cargill                     | Food & Agriculture      | nan                                                                                                       | 2022                   | 7.2876e+06                       | 4.26575e+06                                      | 4.18606e+06                                    | 1.97437e+08                      | 1.344e+11     | USD                       | Yes                                                | 40                                                            | Nestle         | Food & Agriculture      | nan                                                                                                         | 2022                     | 3.372e+06                          | 2.6e+06                                            | 1.61e+06                                         | 1.1372e+08                         | 87088           | CHF                         | No                                                   | nan                                                             | Cargill plans to reduce green house gas emissions by 50% by 2050.  This is a smal ... | I could not find a concrete date and target that Cargill had published in terms of renewab ... | Investing in wind powered technologies for ships that can cut down on 20-30% of fuel usage.                                                                 | The company has methanol fueled cargo ships set to debut in 2025.  They are also wo ... | The company has been investing millions into biodiesel production.  Thi ... | Cargill is pushing to reduce green house gas emissions in bee ... | Nestle plans to hit net zero carbon emissions by 2050.                                  | They plan to have 100% renewably sourced electricity company-wide by 2025.                       | Nestle is creating a system to recycle & reuse their water, also monitoring amounts of discharged waste water in order to hold themselves accountable and ... | The company is adopting sustainable transportation & currently working on hydrogen po ... | The company is investing in reusable and refillable options for consumers ... | Nestle is enforcing that all suppliers be completely deforestat ... | Cargill still has a lot of opportunities to improve their sustainability efforts.  While they are working on all areas in their company (including transportation, land, water, human rights), there is still a lot of room for growth.  The company has made targets to improve their sustainability but many of them are pretty small, especially in co ... | https://www.cargill.com/sustainability                       | https://www.cargill.com/story/soil-sails-and-solar-how-c ... | https://www.nestle.com/sustainability/climate-change/zer ... | https://www.nestle.com/sustainability/sustainable-sourci ... | https://drive.google.com/u/0/open?usp=forms_web&id=1jrvgZoIUHmmYO4A-SwZ65TpgICJF7oAc\n",
       "2023/09/15 7:13:42 PM MDT  | madelinebrown@berkeley.edu   | Maddy Brown                | 3035816965   | madelinebrown@berkeley.edu   | Loreal                      | Consumer Packaged Goods | nan                                                                                                       | 2022                   | 27668                            | 160368                                           | 12971                                          | 1.2488e+07                       | 3.2288e+10    | euros                     | No                                                 | nan                                                           | Estee Lauder   | Consumer Packaged Goods | nan                                                                                                         | 2022                     | 24139.7                            | 54044.2                                            | 0                                                | 2.33527e+06                        | 1.6215e+10      | USD                         | No                                                   | nan                                                             | Target to reduce the CO2 emissions of operations by 35% from 2019 to 2021, carbon ... | 100% renewable target by 2025                                                                  | reduction in the quantity of water used for rinse-off products, internal reuse and returnable packaging, reduction in the use of air freight, use of mu ... | Biogas purchase, sustainable and local biofuel procurement, solar PV panels on-site ... | 2021 study conducted to prioritize decarbonization strategies for each  ... | Engages suppliers and customers/clients through engagement an ... | Committed to reducing absolute scope 1 and 2 GHG emissions by 50% by 2030, committe ... | Company sourced 100% renewable electricity in 2021 achieving goal set in 2017, goal was 100% ... | Replace existing fluorescent lighting with LED throughout facility, replace aging cooling tower modules, remove oil heating system and connect to the dis ... |  Purchase equipment to support compressed air leak detection and repair, compressor r ... | Dedicated budget for energy efficiency, lower return on investment specif ... | Engage suppliers on climate-related issues to align supply chai ... | Loreal's carbon reduction target is carbon neutrality by 2025. This leads me to believe they are relying on carbon offsets as a sustainability strategy. Loreal can elevate its sustainability protocols by investing directly in renewable energy sources rather than relying solely on carbon offsets. By funding and deploying renewable energy infras ... | https://www.loreal.com/-/media/project/loreal/brand-site ... | nan                                                          | https://media.elcompanies.com/files/e/estee-lauder-compa ... | nan                                                          | https://drive.google.com/u/0/open?usp=forms_web&id=1jje_WsiJ5vgMm66mLptGXGE2EP6vvINn\n",
       "2023/09/15 7:51:55 PM MDT  | maddiebraniff14@berkeley.edu | Maddie Braniff             | 3039234590   | maddiebraniff14@berkeley.edu | CRH                         | Materials               | nan                                                                                                       | 2021                   | 3.34e+07                         | 2.6e+06                                          | nan                                            | 7.5e+06                          | 3.27e+10      | US Dollar                 | Yes                                                | 63                                                            | Holcim Ltd.    | Materials               | nan                                                                                                         | 2021                     | 1.19428e+08                        | 7.01604e+06                                        | 6.92461e+06                                      | 2.91627e+07                        | 2.5359e+10      | US Dollar                   | Yes                                                  | 51.5                                                            | Goal of net-zero by 2050. CRH has a company wide goal of achieving 25% reduction  ... | CRH helps install renewable energy sources, yet there is no clear statement that they are  ... | With lime and cement activities accountable for 77% of CRH's energy use, the company is 'continuously driving energy efficiency and have developed prog ... | CRH's main adoption of low-carbon technologies, is using low-carbon wastes and by-p ... | Investing in ICSC to support research in sustainable innovations that w ... | CRH has vowed to remain in close contact with their suppliers ... | Reduce Scope 1 and 2 emissions per ton cementitious material by 25% by 2030.            | Increased use of alternative fuels used for the cement kilns.                                    | The launch of their circular economy policy has created waste efficiency within the company. Recycling volumes have increased by 8% since its implementation. | In 2022, Holcim launched their \"Office Goes Green\" initiative to bring sustainability ... | Holcim is accelerating efforts in decarbonization through increased use o ... | Holcim just missed their 100% target by 2022, by achieving 95%  ... | While CRH is beginning to utilize alternative fuels as a source of energy in their cement sector, their extensive research into cost efficiency and environmental benefit is not shown in their efforts. Not only is the burning of fossil fuels environmentally damaging, but it is a financial burden as CRH has to purchase carbon offsets to account  ... | https://www.cdp.net/en/formatted_responses/responses?cam ... | https://www.responsibilityreports.com/HostedData/Respons ... | https://www.cdp.net/en/formatted_responses/responses?cam ... | https://www.holcim.com/sites/holcim/files/2023-02/240220 ... | https://drive.google.com/u/0/open?usp=forms_web&id=1ZXQJY4qtygwhR7D87wi-hb4-Iqn_sBqQ\n",
       "... (74 rows omitted)"
      ]
     },
     "execution_count": 29,
     "metadata": {},
     "output_type": "execute_result"
    }
   ],
   "source": [
    "emissions = Table.read_table('uncleaned_data.csv')\n",
    "emissions"
   ]
  },
  {
   "cell_type": "markdown",
   "metadata": {},
   "source": [
    "### data dictionary\n",
    "\n",
    "probably be done by Manaar / Zcjanin, can leave this alone for now\n",
    "\n",
    "|column name| meaning |type|\n",
    "|--|--|--|\n",
    "|total|total cost of the bill |number |\n",
    "|tip|the tip left by the party |number |\n",
    "|sex|sex of the person paying |category |\n",
    "|smoker|if the person paying was smoking |category |\n",
    "|day|day of the week |category |\n",
    "|time|meal (e.g., Lunch, Dinner, etc.) |category |\n",
    "|size|how many people were in the party |number |"
   ]
  },
  {
   "cell_type": "markdown",
   "metadata": {
    "cell_id": "00004-a9f5f74b-a641-44a7-8dd5-2f9f58c10236",
    "deepnote_cell_type": "code",
    "execution": {
     "iopub.execute_input": "2022-08-03T09:02:40.079967Z",
     "iopub.status.busy": "2022-08-03T09:02:40.079000Z",
     "iopub.status.idle": "2022-08-03T09:02:40.118322Z",
     "shell.execute_reply": "2022-08-03T09:02:40.117260Z",
     "shell.execute_reply.started": "2022-08-03T09:02:40.079911Z"
    },
    "tags": [
     "ignore"
    ]
   },
   "source": [
    "Next, have a small section looking into certain basic summary statistics like num_rows and num_cols and labels"
   ]
  },
  {
   "cell_type": "markdown",
   "metadata": {},
   "source": [
    "<hr style=\"border: 2px solid #003262\">\n",
    "<hr style=\"border: 2px solid #C9B676\">"
   ]
  },
  {
   "cell_type": "markdown",
   "metadata": {
    "cell_id": "00006-dadd2623-2173-4cdb-8c95-207741ecc765",
    "deepnote_cell_type": "markdown",
    "tags": [
     "ignore"
    ]
   },
   "source": [
    "## Selecting columns / Conditioning on rows / sorting\n",
    "\n",
    "This section will be all about doing interesting EDA in tabular format using .select, .where, and .sort. Can use whatever data analysis / columns you would like -- just show an example of selecting or using .where first, and then provide the question statement for the student to try it themselves!"
   ]
  },
  {
   "cell_type": "markdown",
   "metadata": {},
   "source": [
    "note: can also add section subheadings if you want to break it up into select, where, and sort; example:"
   ]
  },
  {
   "cell_type": "markdown",
   "metadata": {},
   "source": [
    "### section_number.subsection_number: Selecting Columns"
   ]
  },
  {
   "cell_type": "markdown",
   "metadata": {},
   "source": [
    "question formatting:"
   ]
  },
  {
   "cell_type": "markdown",
   "metadata": {},
   "source": [
    "<!-- BEGIN QUESTION -->\n",
    "<div class=\"alert alert-warning\">\n",
    "\n",
    "### Question section_number.question_number:\n",
    "coding or short answer question here\n",
    "</div>"
   ]
  },
  {
   "cell_type": "markdown",
   "metadata": {},
   "source": [
    "for short answers:"
   ]
  },
  {
   "cell_type": "markdown",
   "metadata": {},
   "source": [
    "*Type your answer here. Double-click to edit this cell and replace this text with your answer. Run this cell to proceed when finished.*"
   ]
  },
  {
   "cell_type": "markdown",
   "metadata": {},
   "source": [
    "for coding"
   ]
  },
  {
   "cell_type": "code",
   "execution_count": 30,
   "metadata": {},
   "outputs": [
    {
     "ename": "TypeError",
     "evalue": "object of type 'ellipsis' has no len()",
     "output_type": "error",
     "traceback": [
      "\u001b[0;31m---------------------------------------------------------------------------\u001b[0m",
      "\u001b[0;31mTypeError\u001b[0m                                 Traceback (most recent call last)",
      "\u001b[1;32mc:\\Users\\jason\\OneDrive\\Desktop\\modules\\ESPM-136\\nb2-eda\\nb2-Jason.ipynb Cell 23\u001b[0m line \u001b[0;36m1\n\u001b[0;32m----> <a href='vscode-notebook-cell:/c%3A/Users/jason/OneDrive/Desktop/modules/ESPM-136/nb2-eda/nb2-Jason.ipynb#X33sZmlsZQ%3D%3D?line=0'>1</a>\u001b[0m emissions\u001b[39m.\u001b[39;49msort(\u001b[39m.\u001b[39;49m\u001b[39m.\u001b[39;49m\u001b[39m.\u001b[39;49m) \u001b[39m# Fill in the ellipsis with blah blah blah\u001b[39;00m\n",
      "File \u001b[0;32m/opt/conda/lib/python3.9/site-packages/datascience/tables.py:1411\u001b[0m, in \u001b[0;36mTable.sort\u001b[0;34m(self, column_or_label, descending, distinct)\u001b[0m\n\u001b[1;32m   1350\u001b[0m \u001b[39mdef\u001b[39;00m \u001b[39msort\u001b[39m(\u001b[39mself\u001b[39m, column_or_label, descending\u001b[39m=\u001b[39m\u001b[39mFalse\u001b[39;00m, distinct\u001b[39m=\u001b[39m\u001b[39mFalse\u001b[39;00m):\n\u001b[1;32m   1351\u001b[0m \u001b[39m    \u001b[39m\u001b[39m\"\"\"Return a Table of rows sorted according to the values in a column.\u001b[39;00m\n\u001b[1;32m   1352\u001b[0m \n\u001b[1;32m   1353\u001b[0m \u001b[39m    Args:\u001b[39;00m\n\u001b[0;32m   (...)\u001b[0m\n\u001b[1;32m   1409\u001b[0m \u001b[39m    Blue  | Rectangular | 12     | 2\u001b[39;00m\n\u001b[1;32m   1410\u001b[0m \u001b[39m    \"\"\"\u001b[39;00m\n\u001b[0;32m-> 1411\u001b[0m     column \u001b[39m=\u001b[39m \u001b[39mself\u001b[39;49m\u001b[39m.\u001b[39;49m_get_column(column_or_label)\n\u001b[1;32m   1412\u001b[0m     \u001b[39mif\u001b[39;00m distinct:\n\u001b[1;32m   1413\u001b[0m         _, row_numbers \u001b[39m=\u001b[39m np\u001b[39m.\u001b[39munique(column, return_index\u001b[39m=\u001b[39m\u001b[39mTrue\u001b[39;00m)\n",
      "File \u001b[0;32m/opt/conda/lib/python3.9/site-packages/datascience/tables.py:1999\u001b[0m, in \u001b[0;36mTable._get_column\u001b[0;34m(self, column_or_label)\u001b[0m\n\u001b[1;32m   1997\u001b[0m     \u001b[39mraise\u001b[39;00m \u001b[39mValueError\u001b[39;00m(\u001b[39m'\u001b[39m\u001b[39mlabel \u001b[39m\u001b[39m\"\u001b[39m\u001b[39m{}\u001b[39;00m\u001b[39m\"\u001b[39m\u001b[39m not in labels \u001b[39m\u001b[39m{}\u001b[39;00m\u001b[39m'\u001b[39m\u001b[39m.\u001b[39mformat(c, \u001b[39mself\u001b[39m\u001b[39m.\u001b[39mlabels))\n\u001b[1;32m   1998\u001b[0m \u001b[39melse\u001b[39;00m:\n\u001b[0;32m-> 1999\u001b[0m     \u001b[39massert\u001b[39;00m \u001b[39mlen\u001b[39;49m(c) \u001b[39m==\u001b[39m \u001b[39mself\u001b[39m\u001b[39m.\u001b[39mnum_rows, \u001b[39m'\u001b[39m\u001b[39mcolumn length mismatch\u001b[39m\u001b[39m'\u001b[39m\n\u001b[1;32m   2000\u001b[0m     \u001b[39mreturn\u001b[39;00m c\n",
      "\u001b[0;31mTypeError\u001b[0m: object of type 'ellipsis' has no len()"
     ]
    }
   ],
   "source": [
    "emissions.sort(...) # Fill in the ellipsis with blah blah blah"
   ]
  },
  {
   "cell_type": "markdown",
   "metadata": {},
   "source": [
    "note: the END QUESTION tag for the otter pdf generator is in the blank cell right below this one! You need a BEGIN QUESTION and END QUESTION tag for every question."
   ]
  },
  {
   "cell_type": "markdown",
   "metadata": {},
   "source": [
    "<!-- END QUESTION -->"
   ]
  },
  {
   "cell_type": "markdown",
   "metadata": {},
   "source": [
    "<hr style=\"border: 2px solid #003262\">\n",
    "<hr style=\"border: 2px solid #C9B676\">"
   ]
  },
  {
   "cell_type": "markdown",
   "metadata": {},
   "source": [
    "## more advanced table functions: apply, group, pivot (if applicable)\n",
    "\n",
    "similar structure to previous section: total freedom with what you want to explore or emphasize! just show the student an example first and then ask them questions."
   ]
  },
  {
   "cell_type": "markdown",
   "metadata": {},
   "source": [
    "**Note:** we want to include some tabular data looking at the data grouped by the Sector attribute"
   ]
  },
  {
   "cell_type": "markdown",
   "metadata": {},
   "source": [
    "note: can also add section subheadings if you want to break it up into apply, group, and pivot; example:"
   ]
  },
  {
   "cell_type": "markdown",
   "metadata": {},
   "source": [
    "### section_number.subsection_number: Applying Functions"
   ]
  },
  {
   "cell_type": "markdown",
   "metadata": {},
   "source": [
    "question formatting:"
   ]
  },
  {
   "cell_type": "markdown",
   "metadata": {},
   "source": [
    "<!-- BEGIN QUESTION -->\n",
    "<div class=\"alert alert-warning\">\n",
    "\n",
    "### Question section_number.question_number:\n",
    "coding or short answer question here\n",
    "</div>"
   ]
  },
  {
   "cell_type": "markdown",
   "metadata": {},
   "source": [
    "for short answers:"
   ]
  },
  {
   "cell_type": "markdown",
   "metadata": {},
   "source": [
    "*Type your answer here. Double-click to edit this cell and replace this text with your answer. Run this cell to proceed when finished.*"
   ]
  },
  {
   "cell_type": "markdown",
   "metadata": {},
   "source": [
    "for coding"
   ]
  },
  {
   "cell_type": "code",
   "execution_count": null,
   "metadata": {},
   "outputs": [
    {
     "ename": "NameError",
     "evalue": "name 'emissions' is not defined",
     "output_type": "error",
     "traceback": [
      "\u001b[0;31m---------------------------------------------------------------------------\u001b[0m",
      "\u001b[0;31mNameError\u001b[0m                                 Traceback (most recent call last)",
      "Cell \u001b[0;32mIn[1], line 1\u001b[0m\n\u001b[0;32m----> 1\u001b[0m \u001b[43memissions\u001b[49m\u001b[38;5;241m.\u001b[39msort(\u001b[38;5;241m.\u001b[39m\u001b[38;5;241m.\u001b[39m\u001b[38;5;241m.\u001b[39m) \u001b[38;5;66;03m# Fill in the ellipsis with blah blah blah\u001b[39;00m\n",
      "\u001b[0;31mNameError\u001b[0m: name 'emissions' is not defined"
     ]
    }
   ],
   "source": [
    "emissions.group(...) # Fill in the ellipsis with blah blah blah"
   ]
  },
  {
   "cell_type": "markdown",
   "metadata": {},
   "source": [
    "note: the END QUESTION tag for the otter pdf generator is in the blank cell right below this one! You need a BEGIN QUESTION and END QUESTION tag for every question."
   ]
  },
  {
   "cell_type": "markdown",
   "metadata": {},
   "source": [
    "<!-- END QUESTION -->"
   ]
  },
  {
   "cell_type": "markdown",
   "metadata": {},
   "source": [
    "<hr style=\"border: 2px solid #003262\">\n",
    "<hr style=\"border: 2px solid #C9B676\">"
   ]
  },
  {
   "cell_type": "markdown",
   "metadata": {
    "cell_id": "00009-52f60190-e21f-4107-99a9-d42ab128df40",
    "deepnote_cell_type": "markdown",
    "tags": [
     "ignore"
    ]
   },
   "source": [
    "## visualizations (probably a large section, 2 devs)\n",
    "\n",
    "this section is probably going to be a bigger one, since its a lot more interesting for the students to analyze the data through visualizations than just in the table --> can use datascience plotting, seaborn, or plotly, just like notebook 1 showed."
   ]
  },
  {
   "cell_type": "markdown",
   "metadata": {},
   "source": [
    "**Note:** we want to include some visualizations looking at the data grouped by the Sector attribute; also, I've kept the plotting section from the previous section below as a small reference / source of inspiration! we'll delete it later"
   ]
  },
  {
   "cell_type": "markdown",
   "metadata": {},
   "source": [
    "some of the visualizations you create might be difficult, because the data has to be cleaned up first. that's fine, just keep whatever visualizations you make that you think could be interesting and i'll filter through them as we're finishing the notebook"
   ]
  },
  {
   "cell_type": "markdown",
   "metadata": {},
   "source": [
    "remember, students probably arent that familiar with python: use a lot of fill in the ... questions and only very basic do it yourself questions. always give them an example before asking them to do it themselves!"
   ]
  },
  {
   "cell_type": "markdown",
   "metadata": {},
   "source": [
    "also, add widgets if you are able to! those would be great for comparisons"
   ]
  },
  {
   "cell_type": "markdown",
   "metadata": {},
   "source": [
    "note: can also add section subheadings if you want to break it up into different sections / exploring different features of the data; example:"
   ]
  },
  {
   "cell_type": "markdown",
   "metadata": {},
   "source": [
    "### section_number.subsection_number: Visualizing by Sector"
   ]
  },
  {
   "cell_type": "markdown",
   "metadata": {},
   "source": [
    "question formatting:"
   ]
  },
  {
   "cell_type": "markdown",
   "metadata": {},
   "source": [
    "<!-- BEGIN QUESTION -->\n",
    "<div class=\"alert alert-warning\">\n",
    "\n",
    "### Question section_number.question_number:\n",
    "coding or short answer question here\n",
    "</div>"
   ]
  },
  {
   "cell_type": "markdown",
   "metadata": {},
   "source": [
    "for short answers:"
   ]
  },
  {
   "cell_type": "markdown",
   "metadata": {},
   "source": [
    "*Type your answer here. Double-click to edit this cell and replace this text with your answer. Run this cell to proceed when finished.*"
   ]
  },
  {
   "cell_type": "markdown",
   "metadata": {},
   "source": [
    "for coding"
   ]
  },
  {
   "cell_type": "code",
   "execution_count": null,
   "metadata": {},
   "outputs": [
    {
     "ename": "NameError",
     "evalue": "name 'emissions' is not defined",
     "output_type": "error",
     "traceback": [
      "\u001b[0;31m---------------------------------------------------------------------------\u001b[0m",
      "\u001b[0;31mNameError\u001b[0m                                 Traceback (most recent call last)",
      "Cell \u001b[0;32mIn[1], line 1\u001b[0m\n\u001b[0;32m----> 1\u001b[0m \u001b[43memissions\u001b[49m\u001b[38;5;241m.\u001b[39msort(\u001b[38;5;241m.\u001b[39m\u001b[38;5;241m.\u001b[39m\u001b[38;5;241m.\u001b[39m) \u001b[38;5;66;03m# Fill in the ellipsis with blah blah blah\u001b[39;00m\n",
      "\u001b[0;31mNameError\u001b[0m: name 'emissions' is not defined"
     ]
    }
   ],
   "source": [
    "emissions.group(...) # Fill in the ellipsis with blah blah blah"
   ]
  },
  {
   "cell_type": "markdown",
   "metadata": {},
   "source": [
    "note: the END QUESTION tag for the otter pdf generator is in the blank cell right below this one! You need a BEGIN QUESTION and END QUESTION tag for every question."
   ]
  },
  {
   "cell_type": "markdown",
   "metadata": {},
   "source": [
    "<!-- END QUESTION -->"
   ]
  },
  {
   "cell_type": "code",
   "execution_count": null,
   "metadata": {},
   "outputs": [
    {
     "data": {
      "image/png": "[encoded data removed]",
      "text/plain": [
       "<Figure size 640x480 with 1 Axes>"
      ]
     },
     "metadata": {},
     "output_type": "display_data"
    }
   ],
   "source": [
    "sns.countplot(y=emissions['Company Sector'])\n",
    "plt.show()\n"
   ]
  },
  {
   "cell_type": "code",
   "execution_count": null,
   "metadata": {},
   "outputs": [
    {
     "data": {
      "image/png": "[encoded data removed]",
      "text/plain": [
       "<Figure size 640x480 with 1 Axes>"
      ]
     },
     "metadata": {},
     "output_type": "display_data"
    }
   ],
   "source": [
    "sns.scatterplot(x=emissions['Year of CDP Disclosure'],\n",
    "                y=emissions['Scope 1 value (metric tons CO2e)'], )\n",
    "plt.show()\n"
   ]
  },
  {
   "cell_type": "code",
   "execution_count": 57,
   "metadata": {},
   "outputs": [
    {
     "data": {
      "application/vnd.jupyter.widget-view+json": {
       "model_id": "e8586f6589e542acb010cffdc32dca4a",
       "version_major": 2,
       "version_minor": 0
      },
      "text/plain": [
       "interactive(children=(Dropdown(description='currency', index=15, options=('$$', '$USD', 'AUD', 'CAD', 'CHF', '…"
      ]
     },
     "metadata": {},
     "output_type": "display_data"
    }
   ],
   "source": [
    "@interact(currency=Dropdown(options=np.unique(emissions['Currency of Total Revenue']), value='USD'))\n",
    "def plot_sns(currency):\n",
    "    minimap = emissions.where('Currency of Total Revenue', currency)\n",
    "    sns.scatterplot(x=minimap['Total Revenue'],\n",
    "                    y=minimap['Scope 1 value (metric tons CO2e)'], hue=minimap['Company Sector'])\n",
    "    plt.show()\n",
    "# def plot_px(currency):\n",
    "#     minimap:Table = emissions.where('Currency of Total Revenue', currency)\n",
    "#     print(emissions._columns)\n",
    "#     # print(minimap._columns)\n",
    "#     px.scatter(minimap, x='Total Revenue',\n",
    "#                y='Scope 1 value (metric tons CO2e)')\n",
    "#     plt.show()"
   ]
  },
  {
   "cell_type": "markdown",
   "metadata": {},
   "source": [
    "<hr style=\"border: 2px solid #003262\">\n",
    "<hr style=\"border: 2px solid #C9B676\">"
   ]
  },
  {
   "cell_type": "markdown",
   "metadata": {},
   "source": [
    "## Plotting [Reference - will be deleted later]"
   ]
  },
  {
   "cell_type": "markdown",
   "metadata": {},
   "source": [
    "While knowing the average, the largest, and the smallest values are useful, they don't tell us the whole story. Along with this, just looking at a bunch of numbers isn't always fun or efficient. To further expand on our analysis, let's make some visualizations of our data!\n",
    "\n",
    "Fortunately, in Python, there are lots of functions that can do this for us. We'll examine a few below."
   ]
  },
  {
   "cell_type": "markdown",
   "metadata": {},
   "source": [
    "### Histogram\n",
    "The `hist` function will plot a [histogram](https://en.wikipedia.org/wiki/Histogram) of the column you specify."
   ]
  },
  {
   "cell_type": "code",
   "execution_count": null,
   "metadata": {},
   "outputs": [
    {
     "ename": "NameError",
     "evalue": "name 'tips' is not defined",
     "output_type": "error",
     "traceback": [
      "\u001b[0;31m---------------------------------------------------------------------------\u001b[0m",
      "\u001b[0;31mNameError\u001b[0m                                 Traceback (most recent call last)",
      "\u001b[1;32mc:\\Users\\jason\\OneDrive\\Desktop\\modules\\ESPM-136\\nb2-eda\\nb2-Jason.ipynb Cell 59\u001b[0m line \u001b[0;36m1\n\u001b[0;32m----> <a href='vscode-notebook-cell:/c%3A/Users/jason/OneDrive/Desktop/modules/ESPM-136/nb2-eda/nb2-Jason.ipynb#Y114sZmlsZQ%3D%3D?line=0'>1</a>\u001b[0m tips\u001b[39m.\u001b[39mhist(\u001b[39m\"\u001b[39m\u001b[39mtotal\u001b[39m\u001b[39m\"\u001b[39m, bins\u001b[39m=\u001b[39mnp\u001b[39m.\u001b[39marange(\u001b[39m0\u001b[39m, \u001b[39m60\u001b[39m, \u001b[39m5\u001b[39m))\n",
      "\u001b[0;31mNameError\u001b[0m: name 'tips' is not defined"
     ]
    }
   ],
   "source": [
    "tips.hist(\"total\", bins=np.arange(0, 60, 5))"
   ]
  },
  {
   "cell_type": "markdown",
   "metadata": {},
   "source": [
    "### Scatter Plot\n",
    "\n",
    "The `scatter` function makes a [scatter plot](https://en.wikipedia.org/wiki/Scatter_plot), where the first parameter below (`total`) is the column we want to display on the x-axis, and the second parameter (`tip`) is the column we want to display on the y-axis."
   ]
  },
  {
   "cell_type": "code",
   "execution_count": null,
   "metadata": {},
   "outputs": [],
   "source": [
    "tips.scatter(\"total\", \"tip\")"
   ]
  },
  {
   "cell_type": "markdown",
   "metadata": {},
   "source": [
    "### Interactive Visualizations"
   ]
  },
  {
   "cell_type": "markdown",
   "metadata": {},
   "source": [
    "<div class=\"alert alert-block alert-success\">\n",
    "    <p style=\"font-size:20px\">This section is advanced/optional\n",
    "</div>"
   ]
  },
  {
   "cell_type": "markdown",
   "metadata": {},
   "source": [
    "The plots above are great, and are suitible for almost all cases. However, we can take it one step further by creating an interactive plot! We can do this with the `plotly` library. In these plots you can hover your mouse over data, and information about it will pop up!\n",
    "\n",
    "Don't worry about understanding the code below, just check out the cool visualizations, and try hovering over the data with your mouse in different spots. \n",
    "\n",
    "Check out the comments for a description of the visualizations."
   ]
  },
  {
   "cell_type": "code",
   "execution_count": null,
   "metadata": {},
   "outputs": [
    {
     "ename": "NameError",
     "evalue": "name 'tips' is not defined",
     "output_type": "error",
     "traceback": [
      "\u001b[0;31m---------------------------------------------------------------------------\u001b[0m",
      "\u001b[0;31mNameError\u001b[0m                                 Traceback (most recent call last)",
      "\u001b[1;32mc:\\Users\\jason\\OneDrive\\Desktop\\modules\\ESPM-136\\nb2-eda\\nb2-Jason.ipynb Cell 68\u001b[0m line \u001b[0;36m1\n\u001b[0;32m----> <a href='vscode-notebook-cell:/c%3A/Users/jason/OneDrive/Desktop/modules/ESPM-136/nb2-eda/nb2-Jason.ipynb#Y123sZmlsZQ%3D%3D?line=0'>1</a>\u001b[0m px\u001b[39m.\u001b[39mhistogram(x\u001b[39m=\u001b[39mtips\u001b[39m.\u001b[39mcolumn(\u001b[39m\"\u001b[39m\u001b[39mtotal\u001b[39m\u001b[39m\"\u001b[39m), title\u001b[39m=\u001b[39m\u001b[39m\"\u001b[39m\u001b[39mHistogram of Total Bill Amounts\u001b[39m\u001b[39m\"\u001b[39m, \n\u001b[1;32m      <a href='vscode-notebook-cell:/c%3A/Users/jason/OneDrive/Desktop/modules/ESPM-136/nb2-eda/nb2-Jason.ipynb#Y123sZmlsZQ%3D%3D?line=1'>2</a>\u001b[0m              template \u001b[39m=\u001b[39m \u001b[39m\"\u001b[39m\u001b[39mseaborn\u001b[39m\u001b[39m\"\u001b[39m, labels\u001b[39m=\u001b[39m{\u001b[39m\"\u001b[39m\u001b[39mx\u001b[39m\u001b[39m\"\u001b[39m:\u001b[39m\"\u001b[39m\u001b[39mTotal Bill Amounts\u001b[39m\u001b[39m\"\u001b[39m, \u001b[39m\"\u001b[39m\u001b[39my\u001b[39m\u001b[39m\"\u001b[39m:\u001b[39m\"\u001b[39m\u001b[39mCount\u001b[39m\u001b[39m\"\u001b[39m},\n\u001b[1;32m      <a href='vscode-notebook-cell:/c%3A/Users/jason/OneDrive/Desktop/modules/ESPM-136/nb2-eda/nb2-Jason.ipynb#Y123sZmlsZQ%3D%3D?line=2'>3</a>\u001b[0m              width \u001b[39m=\u001b[39m \u001b[39m600\u001b[39m, height \u001b[39m=\u001b[39m \u001b[39m400\u001b[39m, nbins\u001b[39m=\u001b[39m\u001b[39m20\u001b[39m)\n\u001b[1;32m      <a href='vscode-notebook-cell:/c%3A/Users/jason/OneDrive/Desktop/modules/ESPM-136/nb2-eda/nb2-Jason.ipynb#Y123sZmlsZQ%3D%3D?line=3'>4</a>\u001b[0m \u001b[39m# Plots a histogram of the total bill amounts\u001b[39;00m\n",
      "\u001b[0;31mNameError\u001b[0m: name 'tips' is not defined"
     ]
    }
   ],
   "source": [
    "px.histogram(x=tips.column(\"total\"), title=\"Histogram of Total Bill Amounts\", \n",
    "             template = \"seaborn\", labels={\"x\":\"Total Bill Amounts\", \"y\":\"Count\"},\n",
    "             width = 600, height = 400, nbins=20)\n",
    "# Plots a histogram of the total bill amounts"
   ]
  },
  {
   "cell_type": "code",
   "execution_count": null,
   "metadata": {},
   "outputs": [],
   "source": [
    "px.histogram(x=tips.column(\"time\"), y=tips.column(\"tip\"), color = tips.column(\"time\"), \n",
    "             template = \"seaborn\", title = \"Average Tips by Meal\", labels = {\"x\": \"Day\", \"y\": \"Tips\"},\n",
    "             histfunc = \"avg\", width = 600, height = 400)\n",
    "# Plots a bar chart of the tips by meal"
   ]
  },
  {
   "cell_type": "code",
   "execution_count": null,
   "metadata": {},
   "outputs": [],
   "source": [
    "px.histogram(x=tips.column(\"day\"), y=tips.column(\"tip\"), color = tips.column(\"day\"), \n",
    "             template = \"seaborn\", title = \"Tips by Day\", labels = {\"x\": \"Day\", \"y\": \"Tips\"},\n",
    "             width = 600, height = 400)\n",
    "# Plots a bar chart of the tips by day"
   ]
  },
  {
   "cell_type": "code",
   "execution_count": null,
   "metadata": {},
   "outputs": [],
   "source": [
    "px.scatter(x=tips.column(\"total\"), y=tips.column(\"tip\"), \n",
    "           title=\"Scatter Plot of Total Bill Amounts vs. Tip Amounts\", template = \"seaborn\",\n",
    "           labels = {\"x\": \"Total Bill Amount\", \"y\": \"Tip Amount\"},\n",
    "           width=500, height=500)\n",
    "# Plots a scatter plot of the total bill amounts vs. the tip amounts"
   ]
  },
  {
   "cell_type": "markdown",
   "metadata": {},
   "source": [
    "<hr style=\"border: 2px solid #003262\">\n",
    "<hr style=\"border: 2px solid #C9B676\">"
   ]
  },
  {
   "cell_type": "markdown",
   "metadata": {},
   "source": [
    "**to do for Manaar**: potentially add pdf generator if necessary; if not, take out otter grader stuff. also potentially add data science resources section"
   ]
  },
  {
   "cell_type": "markdown",
   "metadata": {},
   "source": [
    "## Conclusion"
   ]
  },
  {
   "cell_type": "markdown",
   "metadata": {},
   "source": [
    "In this notebook, you've learned quite a bit, below is a summary of the topics we have covered:\n",
    "- Jupyter Notebooks\n",
    "    - History of Jupyter\n",
    "    - Structure of a Notebook\n",
    "    - Editing a notebook\n",
    "- Python \n",
    "    - Math\n",
    "    - Strings\n",
    "    - Errors\n",
    "    - Variables\n",
    "    - Lists\n",
    "    - Functions\n",
    "    - Loops\n",
    "    - Modules\n",
    "    - Dot Notation\n",
    "- Tables\n",
    "    - Loading a Table\n",
    "    - Context of a Table\n",
    "    - Size of a Table\n",
    "    - Selecting Columns\n",
    "    - Sorting Tables\n",
    "- Columns\n",
    "    - Statistics of Columns\n",
    "- Plotting\n",
    "    - Histograms\n",
    "    - Scatter Plots\n",
    "    - Interactive Plots\n",
    "\n",
    "<h3>Congratulations on finishing the notebook!</h3>"
   ]
  },
  {
   "cell_type": "markdown",
   "metadata": {},
   "source": [
    "<hr style=\"border: 2px solid #003262\">\n",
    "<hr style=\"border: 2px solid #C9B676\">"
   ]
  },
  {
   "cell_type": "markdown",
   "metadata": {},
   "source": [
    "## A Final Request: Feedback Form"
   ]
  },
  {
   "cell_type": "markdown",
   "metadata": {},
   "source": [
    "<div class=\"alert alert-block alert-info\">\n",
    "    <p style=\"font-size:20px\">We encourage students to fill out the following feedback form to share your experience with this Module created notebook. This feedback form will take no longer than 5 minutes. At UC Berkeley Data Science Undergraduate Studies – Modules, we appreciate all feedback to improve the learning of students and experience utilizing Jupyter Notebooks for Data Science Education. You can fill out the survey by running the below and clicking the button that appears. Thank you in advance for your time!\n",
    "</div>"
   ]
  },
  {
   "cell_type": "code",
   "execution_count": null,
   "metadata": {},
   "outputs": [],
   "source": [
    "feedback_button()"
   ]
  }
 ],
 "metadata": {
  "deepnote_execution_queue": [],
  "deepnote_notebook_id": "693e9760-244f-475b-aa3d-f49b62665db0",
  "kernelspec": {
   "display_name": "Python 3 (ipykernel)",
   "language": "python",
   "name": "python3"
  },
  "language_info": {
   "codemirror_mode": {
    "name": "ipython",
    "version": 3
   },
   "file_extension": ".py",
   "mimetype": "text/x-python",
   "name": "python",
   "nbconvert_exporter": "python",
   "pygments_lexer": "ipython3",
   "version": "3.9.15"
  },
  "vscode": {
   "interpreter": {
    "hash": "aee8b7b246df8f9039afb4144a1f6fd8d2ca17a180786b69acc140d282b71a49"
   }
  },
  "widgets": {
   "application/vnd.jupyter.widget-state+json": {
    "state": {},
    "version_major": 2,
    "version_minor": 0
   }
  }
 },
 "nbformat": 4,
 "nbformat_minor": 4
}
