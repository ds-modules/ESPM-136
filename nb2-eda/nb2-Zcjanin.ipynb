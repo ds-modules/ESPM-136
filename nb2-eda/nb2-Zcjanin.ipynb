{
 "cells": [
  {
   "cell_type": "markdown",
   "metadata": {
    "cell_id": "00001-eedf9a46-cb0c-42bc-a90f-96265663c0d3",
    "deepnote_cell_type": "markdown",
    "tags": [
     "ignore"
    ]
   },
   "source": [
    "## [ESPM-136] Notebook 2: Company Emissions Exploratory Data Analysis (EDA)\n",
    "\n",
    "## **Introduction Section here**\n",
    "\n",
    "Discuss overview of notebook and what students can take away from it here. Can also provide any relevant resources here.\n",
    "\n",
    "need to also mention that this notebook has questions that are bolded in yellow for the students to answer: probably won't be graded, might change later?"
   ]
  },
  {
   "cell_type": "markdown",
   "metadata": {},
   "source": [
    "keeping below cell just for reference, in case we have advanced/optional sections. delete later!"
   ]
  },
  {
   "cell_type": "markdown",
   "metadata": {},
   "source": [
    "<div class=\"alert alert-block alert-success\">\n",
    "    <p style=\"font-size:20px\">This section is advanced/optional\n",
    "</div>"
   ]
  },
  {
   "cell_type": "markdown",
   "metadata": {},
   "source": [
    "<hr style=\"border: 2px solid #003262\">\n",
    "<hr style=\"border: 2px solid #C9B676\">"
   ]
  },
  {
   "cell_type": "markdown",
   "metadata": {},
   "source": [
    "## Learning Outcomes\n",
    "Working through this notebook, you will learn about:\n",
    "1. complete later when sections are establish\n",
    "\n",
    "Also, may want to add table of contents beneath this section, depending on how long notebook is."
   ]
  },
  {
   "cell_type": "markdown",
   "metadata": {},
   "source": [
    "<hr style=\"border: 2px solid #003262\">\n",
    "<hr style=\"border: 2px solid #C9B676\">"
   ]
  },
  {
   "cell_type": "markdown",
   "metadata": {
    "cell_id": "00003-a9cd1167-2276-4e0f-85b6-43d803731627",
    "deepnote_cell_type": "markdown",
    "tags": []
   },
   "source": [
    "## Review / recap of data collection\n",
    "\n",
    "To recap, in Assignment #1 you gathered carbon emissions data and evaluated internal decarbonization strategies for two companies of your choice and submitted all of this information into a Google Form. We will now be using Jupyter Notebooks to analyze the data that you collected! As you learned in the Introduction notebook, we use Jupyter Notebooks because this interactive environment allows us to work with code, text, and visualizations all at once. This is important especially in the context of corporate decarbonization because we want to learn how to manipulate the data you collected, as well as understand the meaning behind the manipulations to understand how a company's carbon reporting compares with the actual internal actions they are taking to decarbonize."
   ]
  },
  {
   "cell_type": "markdown",
   "metadata": {},
   "source": [
    "<hr style=\"border: 2px solid #003262\">\n",
    "<hr style=\"border: 2px solid #C9B676\">"
   ]
  },
  {
   "cell_type": "markdown",
   "metadata": {
    "cell_id": "00003-058e2913-9587-45ac-8c2f-f284333ac4f3",
    "deepnote_cell_type": "markdown"
   },
   "source": [
    "## Importing and Taking an Initial Look at the Data (manaar will do?)\n",
    "\n",
    "description of the steps we need to take to read_table to create a datascience table to look at our data in tabular format.\n",
    "\n",
    "first, import libraries (note: add any additional libraries you use in your code here! good to keep it all in one place), then read table:"
   ]
  },
  {
   "cell_type": "code",
   "execution_count": 1,
   "metadata": {},
   "outputs": [],
   "source": [
    "import numpy as np\n",
    "from datascience import *\n",
    "# import otter\n",
    "# grader = otter.Notebook()\n",
    "import matplotlib.pyplot as plt\n",
    "%matplotlib inline\n",
    "plt.style.use(\"fivethirtyeight\")\n",
    "import seaborn as sns, plotly.express as px"
   ]
  },
  {
   "cell_type": "code",
   "execution_count": 12,
   "metadata": {},
   "outputs": [],
   "source": [
    "# enable widgets\n",
    "import pandas as pd\n",
    "import ipywidgets as widgets\n",
    "from IPython.display import display\n",
    "from ipywidgets import interact\n",
    "import warnings\n",
    "warnings.filterwarnings('ignore')"
   ]
  },
  {
   "cell_type": "code",
   "execution_count": 3,
   "metadata": {},
   "outputs": [],
   "source": [
    "raw_data = Table.read_table('uncleaned_data.csv')"
   ]
  },
  {
   "cell_type": "code",
   "execution_count": 4,
   "metadata": {},
   "outputs": [
    {
     "data": {
      "text/html": [
       "<table border=\"1\" class=\"dataframe\">\n",
       "    <thead>\n",
       "        <tr>\n",
       "            <th>Company Sector</th> <th>count</th>\n",
       "        </tr>\n",
       "    </thead>\n",
       "    <tbody>\n",
       "        <tr>\n",
       "            <td>APPAREL & FOOTWEAR     </td> <td>44   </td>\n",
       "        </tr>\n",
       "        <tr>\n",
       "            <td>CONSUMER PACKAGED GOODS</td> <td>13   </td>\n",
       "        </tr>\n",
       "        <tr>\n",
       "            <td>ENERGY                 </td> <td>34   </td>\n",
       "        </tr>\n",
       "        <tr>\n",
       "            <td>FOOD & AGRICULTURE     </td> <td>28   </td>\n",
       "        </tr>\n",
       "        <tr>\n",
       "            <td>MATERIALS              </td> <td>2    </td>\n",
       "        </tr>\n",
       "        <tr>\n",
       "            <td>OTHER                  </td> <td>19   </td>\n",
       "        </tr>\n",
       "        <tr>\n",
       "            <td>TECHNOLOGY             </td> <td>4    </td>\n",
       "        </tr>\n",
       "        <tr>\n",
       "            <td>TRANSPORTATION         </td> <td>12   </td>\n",
       "        </tr>\n",
       "    </tbody>\n",
       "</table>"
      ],
      "text/plain": [
       "Company Sector          | count\n",
       "APPAREL & FOOTWEAR      | 44\n",
       "CONSUMER PACKAGED GOODS | 13\n",
       "ENERGY                  | 34\n",
       "FOOD & AGRICULTURE      | 28\n",
       "MATERIALS               | 2\n",
       "OTHER                   | 19\n",
       "TECHNOLOGY              | 4\n",
       "TRANSPORTATION          | 12"
      ]
     },
     "execution_count": 4,
     "metadata": {},
     "output_type": "execute_result"
    }
   ],
   "source": [
    "emissions = Table.read_table('emissions.csv')\n",
    "emissions.group('Company Sector')"
   ]
  },
  {
   "cell_type": "markdown",
   "metadata": {},
   "source": [
    "### Data Dictionary\n",
    "\n",
    "Now that we've taken an intial glance at the data that you collected, let's familiarize ourselves with the contents of the `emissions` table. The data dictionary below reveals information about each column in the table regarding what the column represents and the type of the column. Data dictionaries are useful for providing context and understanding of what the data represents for anyone working with the data.\n",
    "\n",
    "|Column Name| Meaning |Type|\n",
    "|--|--|--|\n",
    "|Company Name| The name of the company chosen to report data| category |\n",
    "|Company Sector| The industry sector the company belongs in| category |\n",
    "|Company Sector (Other)|An optional field if the company's sector was not one of the given options|category |\n",
    "|Year of CDP Disclosure|The submission year of the report. The data provided represents the previous year.|number|\n",
    "|Scope 1 value|The company's direct GHG emissions, given in metric tons of CO2e|number|\n",
    "|Scope 2 value (location-based)|The company's indirect (location-based) GHG emissions, given in metric tons of CO2e |number |\n",
    "|Scope 2 value (market-based)|The company's indirect (market-based) GHG emissions, given in metric tons of CO2e|number |\n",
    "|Scope 3 value| The company's indirect GHG emissions that come from its value chain, given in metric tons of CO2e| number |\n",
    "|Total Revenue| The company's total revenue for a given year| number |\n",
    "|Currency of Total Revenue|The currency of the company's total revenue|category|\n",
    "|Internal Price on Carbon|An indicator of if the company implements internal carbon pricing |category|\n",
    "|Price|Internal price on carbon  | number|"
   ]
  },
  {
   "cell_type": "markdown",
   "metadata": {
    "cell_id": "00004-a9f5f74b-a641-44a7-8dd5-2f9f58c10236",
    "deepnote_cell_type": "code",
    "execution": {
     "iopub.execute_input": "2022-08-03T09:02:40.079967Z",
     "iopub.status.busy": "2022-08-03T09:02:40.079000Z",
     "iopub.status.idle": "2022-08-03T09:02:40.118322Z",
     "shell.execute_reply": "2022-08-03T09:02:40.117260Z",
     "shell.execute_reply.started": "2022-08-03T09:02:40.079911Z"
    },
    "tags": [
     "ignore"
    ]
   },
   "source": [
    "Next, have a small section looking into certain basic summary statistics like num_rows and num_cols and labels"
   ]
  },
  {
   "cell_type": "markdown",
   "metadata": {},
   "source": [
    "<hr style=\"border: 2px solid #003262\">\n",
    "<hr style=\"border: 2px solid #C9B676\">"
   ]
  },
  {
   "cell_type": "markdown",
   "metadata": {
    "cell_id": "00006-dadd2623-2173-4cdb-8c95-207741ecc765",
    "deepnote_cell_type": "markdown",
    "tags": [
     "ignore"
    ]
   },
   "source": [
    "## Selecting columns / Conditioning on rows / sorting\n",
    "\n",
    "This section will be all about doing interesting EDA in tabular format using .select, .where, and .sort. Can use whatever data analysis / columns you would like -- just show an example of selecting or using .where first, and then provide the question statement for the student to try it themselves!"
   ]
  },
  {
   "cell_type": "markdown",
   "metadata": {},
   "source": [
    "note: can also add section subheadings if you want to break it up into select, where, and sort; example:"
   ]
  },
  {
   "cell_type": "markdown",
   "metadata": {},
   "source": [
    "### section_number.subsection_number: Selecting Columns"
   ]
  },
  {
   "cell_type": "markdown",
   "metadata": {},
   "source": [
    "question formatting:"
   ]
  },
  {
   "cell_type": "markdown",
   "metadata": {},
   "source": [
    "<!-- BEGIN QUESTION -->\n",
    "<div class=\"alert alert-warning\">\n",
    "\n",
    "### Question section_number.question_number:\n",
    "coding or short answer question here\n",
    "</div>"
   ]
  },
  {
   "cell_type": "markdown",
   "metadata": {},
   "source": [
    "for short answers:"
   ]
  },
  {
   "cell_type": "markdown",
   "metadata": {},
   "source": [
    "*Type your answer here. Double-click to edit this cell and replace this text with your answer. Run this cell to proceed when finished.*"
   ]
  },
  {
   "cell_type": "markdown",
   "metadata": {},
   "source": [
    "for coding"
   ]
  },
  {
   "cell_type": "code",
   "execution_count": 5,
   "metadata": {},
   "outputs": [
    {
     "ename": "TypeError",
     "evalue": "object of type 'ellipsis' has no len()",
     "output_type": "error",
     "traceback": [
      "\u001b[0;31m---------------------------------------------------------------------------\u001b[0m",
      "\u001b[0;31mTypeError\u001b[0m                                 Traceback (most recent call last)",
      "Cell \u001b[0;32mIn[5], line 1\u001b[0m\n\u001b[0;32m----> 1\u001b[0m \u001b[43memissions\u001b[49m\u001b[38;5;241;43m.\u001b[39;49m\u001b[43msort\u001b[49m\u001b[43m(\u001b[49m\u001b[38;5;241;43m.\u001b[39;49m\u001b[38;5;241;43m.\u001b[39;49m\u001b[38;5;241;43m.\u001b[39;49m\u001b[43m)\u001b[49m \u001b[38;5;66;03m# Fill in the ellipsis with blah blah blah\u001b[39;00m\n",
      "File \u001b[0;32m~/Library/Python/3.9/lib/python/site-packages/datascience/tables.py:1479\u001b[0m, in \u001b[0;36mTable.sort\u001b[0;34m(self, column_or_label, descending, distinct)\u001b[0m\n\u001b[1;32m   1418\u001b[0m \u001b[39mdef\u001b[39;00m \u001b[39msort\u001b[39m(\u001b[39mself\u001b[39m, column_or_label, descending\u001b[39m=\u001b[39m\u001b[39mFalse\u001b[39;00m, distinct\u001b[39m=\u001b[39m\u001b[39mFalse\u001b[39;00m):\n\u001b[1;32m   1419\u001b[0m \u001b[39m    \u001b[39m\u001b[39m\"\"\"Return a Table of rows sorted according to the values in a column.\u001b[39;00m\n\u001b[1;32m   1420\u001b[0m \n\u001b[1;32m   1421\u001b[0m \u001b[39m    Args:\u001b[39;00m\n\u001b[0;32m   (...)\u001b[0m\n\u001b[1;32m   1477\u001b[0m \u001b[39m    Blue  | Rectangular | 12     | 2\u001b[39;00m\n\u001b[1;32m   1478\u001b[0m \u001b[39m    \"\"\"\u001b[39;00m\n\u001b[0;32m-> 1479\u001b[0m     column \u001b[39m=\u001b[39m \u001b[39mself\u001b[39;49m\u001b[39m.\u001b[39;49m_get_column(column_or_label)\n\u001b[1;32m   1480\u001b[0m     \u001b[39mif\u001b[39;00m distinct:\n\u001b[1;32m   1481\u001b[0m         _, row_numbers \u001b[39m=\u001b[39m np\u001b[39m.\u001b[39munique(column, return_index\u001b[39m=\u001b[39m\u001b[39mTrue\u001b[39;00m)\n",
      "File \u001b[0;32m~/Library/Python/3.9/lib/python/site-packages/datascience/tables.py:2211\u001b[0m, in \u001b[0;36mTable._get_column\u001b[0;34m(self, column_or_label)\u001b[0m\n\u001b[1;32m   2209\u001b[0m     \u001b[39mraise\u001b[39;00m \u001b[39mValueError\u001b[39;00m(\u001b[39m'\u001b[39m\u001b[39mlabel \u001b[39m\u001b[39m\"\u001b[39m\u001b[39m{}\u001b[39;00m\u001b[39m\"\u001b[39m\u001b[39m not in labels \u001b[39m\u001b[39m{}\u001b[39;00m\u001b[39m'\u001b[39m\u001b[39m.\u001b[39mformat(c, \u001b[39mself\u001b[39m\u001b[39m.\u001b[39mlabels))\n\u001b[1;32m   2210\u001b[0m \u001b[39melse\u001b[39;00m:\n\u001b[0;32m-> 2211\u001b[0m     \u001b[39massert\u001b[39;00m \u001b[39mlen\u001b[39;49m(c) \u001b[39m==\u001b[39m \u001b[39mself\u001b[39m\u001b[39m.\u001b[39mnum_rows, \u001b[39m'\u001b[39m\u001b[39mcolumn length mismatch\u001b[39m\u001b[39m'\u001b[39m\n\u001b[1;32m   2212\u001b[0m     \u001b[39mreturn\u001b[39;00m c\n",
      "\u001b[0;31mTypeError\u001b[0m: object of type 'ellipsis' has no len()"
     ]
    }
   ],
   "source": [
    "emissions.sort(...) # Fill in the ellipsis with blah blah blah"
   ]
  },
  {
   "cell_type": "markdown",
   "metadata": {},
   "source": [
    "note: the END QUESTION tag for the otter pdf generator is in the blank cell right below this one! You need a BEGIN QUESTION and END QUESTION tag for every question."
   ]
  },
  {
   "cell_type": "markdown",
   "metadata": {},
   "source": [
    "<!-- END QUESTION -->"
   ]
  },
  {
   "cell_type": "markdown",
   "metadata": {},
   "source": [
    "<hr style=\"border: 2px solid #003262\">\n",
    "<hr style=\"border: 2px solid #C9B676\">"
   ]
  },
  {
   "cell_type": "markdown",
   "metadata": {},
   "source": [
    "## more advanced table functions: apply, group, pivot (if applicable)\n",
    "\n",
    "similar structure to previous section: total freedom with what you want to explore or emphasize! just show the student an example first and then ask them questions."
   ]
  },
  {
   "cell_type": "markdown",
   "metadata": {},
   "source": [
    "**Note:** we want to include some tabular data looking at the data grouped by the Sector attribute"
   ]
  },
  {
   "cell_type": "markdown",
   "metadata": {},
   "source": [
    "note: can also add section subheadings if you want to break it up into apply, group, and pivot; example:"
   ]
  },
  {
   "cell_type": "markdown",
   "metadata": {},
   "source": [
    "### section_number.subsection_number: Applying Functions"
   ]
  },
  {
   "cell_type": "markdown",
   "metadata": {},
   "source": [
    "question formatting:"
   ]
  },
  {
   "cell_type": "markdown",
   "metadata": {},
   "source": [
    "<!-- BEGIN QUESTION -->\n",
    "<div class=\"alert alert-warning\">\n",
    "\n",
    "### Question section_number.question_number:\n",
    "coding or short answer question here\n",
    "</div>"
   ]
  },
  {
   "cell_type": "markdown",
   "metadata": {},
   "source": [
    "for short answers:"
   ]
  },
  {
   "cell_type": "markdown",
   "metadata": {},
   "source": [
    "*Type your answer here. Double-click to edit this cell and replace this text with your answer. Run this cell to proceed when finished.*"
   ]
  },
  {
   "cell_type": "markdown",
   "metadata": {},
   "source": [
    "for coding"
   ]
  },
  {
   "cell_type": "code",
   "execution_count": null,
   "metadata": {},
   "outputs": [],
   "source": [
    "emissions.group(...) # Fill in the ellipsis with blah blah blah"
   ]
  },
  {
   "cell_type": "markdown",
   "metadata": {},
   "source": [
    "note: the END QUESTION tag for the otter pdf generator is in the blank cell right below this one! You need a BEGIN QUESTION and END QUESTION tag for every question."
   ]
  },
  {
   "cell_type": "markdown",
   "metadata": {},
   "source": [
    "<!-- END QUESTION -->"
   ]
  },
  {
   "cell_type": "markdown",
   "metadata": {},
   "source": [
    "<hr style=\"border: 2px solid #003262\">\n",
    "<hr style=\"border: 2px solid #C9B676\">"
   ]
  },
  {
   "cell_type": "markdown",
   "metadata": {
    "cell_id": "00009-52f60190-e21f-4107-99a9-d42ab128df40",
    "deepnote_cell_type": "markdown",
    "tags": [
     "ignore"
    ]
   },
   "source": [
    "## visualizations (probably a large section, 2 devs)\n",
    "\n",
    "this section is probably going to be a bigger one, since its a lot more interesting for the students to analyze the data through visualizations than just in the table --> can use datascience plotting, seaborn, or plotly, just like notebook 1 showed."
   ]
  },
  {
   "cell_type": "markdown",
   "metadata": {},
   "source": [
    "**Note:** we want to include some visualizations looking at the data grouped by the Sector attribute; also, I've kept the plotting section from the previous section below as a small reference / source of inspiration! we'll delete it later"
   ]
  },
  {
   "cell_type": "markdown",
   "metadata": {},
   "source": [
    "some of the visualizations you create might be difficult, because the data has to be cleaned up first. that's fine, just keep whatever visualizations you make that you think could be interesting and i'll filter through them as we're finishing the notebook"
   ]
  },
  {
   "cell_type": "markdown",
   "metadata": {},
   "source": [
    "remember, students probably arent that familiar with python: use a lot of fill in the ... questions and only very basic do it yourself questions. always give them an example before asking them to do it themselves!"
   ]
  },
  {
   "cell_type": "markdown",
   "metadata": {},
   "source": [
    "also, add widgets if you are able to! those would be great for comparisons"
   ]
  },
  {
   "cell_type": "markdown",
   "metadata": {},
   "source": [
    "note: can also add section subheadings if you want to break it up into different sections / exploring different features of the data; example:"
   ]
  },
  {
   "cell_type": "markdown",
   "metadata": {},
   "source": [
    "### section_number.subsection_number: Visualizing by Sector"
   ]
  },
  {
   "cell_type": "markdown",
   "metadata": {},
   "source": [
    "question formatting:"
   ]
  },
  {
   "cell_type": "markdown",
   "metadata": {},
   "source": [
    "<!-- BEGIN QUESTION -->\n",
    "<div class=\"alert alert-warning\">\n",
    "\n",
    "### Question section_number.question_number:\n",
    "coding or short answer question here\n",
    "</div>"
   ]
  },
  {
   "cell_type": "markdown",
   "metadata": {},
   "source": [
    "for short answers:"
   ]
  },
  {
   "cell_type": "markdown",
   "metadata": {},
   "source": [
    "*Type your answer here. Double-click to edit this cell and replace this text with your answer. Run this cell to proceed when finished.*"
   ]
  },
  {
   "cell_type": "markdown",
   "metadata": {},
   "source": [
    "for coding"
   ]
  },
  {
   "cell_type": "code",
   "execution_count": null,
   "metadata": {},
   "outputs": [],
   "source": [
    "emissions.group(...) # Fill in the ellipsis with blah blah blah"
   ]
  },
  {
   "cell_type": "markdown",
   "metadata": {},
   "source": [
    "note: the END QUESTION tag for the otter pdf generator is in the blank cell right below this one! You need a BEGIN QUESTION and END QUESTION tag for every question."
   ]
  },
  {
   "cell_type": "markdown",
   "metadata": {},
   "source": [
    "<!-- END QUESTION -->"
   ]
  },
  {
   "cell_type": "markdown",
   "metadata": {},
   "source": [
    "<hr style=\"border: 2px solid #003262\">\n",
    "<hr style=\"border: 2px solid #C9B676\">"
   ]
  },
  {
   "cell_type": "markdown",
   "metadata": {},
   "source": [
    "## Plotting [Reference - will be deleted later]"
   ]
  },
  {
   "cell_type": "markdown",
   "metadata": {},
   "source": [
    "While knowing the average, the largest, and the smallest values are useful, they don't tell us the whole story. Along with this, just looking at a bunch of numbers isn't always fun or efficient. To further expand on our analysis, let's make some visualizations of our data!\n",
    "\n",
    "Fortunately, in Python, there are lots of functions that can do this for us. We'll examine a few below."
   ]
  },
  {
   "cell_type": "markdown",
   "metadata": {},
   "source": [
    "### Histogram\n",
    "The `hist` function will plot a [histogram](https://en.wikipedia.org/wiki/Histogram) of the column you specify."
   ]
  },
  {
   "cell_type": "code",
   "execution_count": null,
   "metadata": {},
   "outputs": [],
   "source": [
    "tips.hist(\"total\", bins=np.arange(0, 60, 5))"
   ]
  },
  {
   "cell_type": "markdown",
   "metadata": {},
   "source": [
    "### Scatter Plot\n",
    "\n",
    "The `scatter` function makes a [scatter plot](https://en.wikipedia.org/wiki/Scatter_plot), where the first parameter below (`total`) is the column we want to display on the x-axis, and the second parameter (`tip`) is the column we want to display on the y-axis."
   ]
  },
  {
   "cell_type": "code",
   "execution_count": null,
   "metadata": {},
   "outputs": [],
   "source": [
    "tips.scatter(\"total\", \"tip\")"
   ]
  },
  {
   "cell_type": "markdown",
   "metadata": {},
   "source": [
    "<hr style=\"border: 2px solid #003262\">\n",
    "<hr style=\"border: 2px solid #C9B676\">"
   ]
  },
  {
   "cell_type": "markdown",
   "metadata": {},
   "source": [
    "## A Closer Look at the Food & Agriculture Sector"
   ]
  },
  {
   "cell_type": "markdown",
   "metadata": {},
   "source": [
    "Let's take a closer look at one of the most popular sectors that your class looked: Food and Agriculture. Below, data from 2018 through 2021 is shown for nine of some of the most prominent food and agricultural companies, ranging from beverage companies (Molson Coors, PepsiCo), food retailers (Tesco), and famous food companies (Nestlé). This data was gathered from a variety of sources, including various CDP reports, company sustainability reports, and the SEC (U.S. Securities and Exchange Commission) website.\n",
    "\n"
   ]
  },
  {
   "cell_type": "code",
   "execution_count": 66,
   "metadata": {},
   "outputs": [
    {
     "data": {
      "text/html": [
       "<div>\n",
       "<style scoped>\n",
       "    .dataframe tbody tr th:only-of-type {\n",
       "        vertical-align: middle;\n",
       "    }\n",
       "\n",
       "    .dataframe tbody tr th {\n",
       "        vertical-align: top;\n",
       "    }\n",
       "\n",
       "    .dataframe thead th {\n",
       "        text-align: right;\n",
       "    }\n",
       "</style>\n",
       "<table border=\"1\" class=\"dataframe\">\n",
       "  <thead>\n",
       "    <tr style=\"text-align: right;\">\n",
       "      <th></th>\n",
       "      <th>COMPANY NAME</th>\n",
       "      <th>YEAR</th>\n",
       "      <th>SCOPE 1</th>\n",
       "      <th>SCOPE 2 (location-based)</th>\n",
       "      <th>SCOPE 3</th>\n",
       "      <th>TOTAL EMISSIONS</th>\n",
       "      <th>TOTAL REVENUE (miillion currency)</th>\n",
       "      <th>CURRENCY</th>\n",
       "      <th>CARBON INTENSITY\\n(Scope 1 &amp; 2 g CO2e / $ Sales)</th>\n",
       "    </tr>\n",
       "  </thead>\n",
       "  <tbody>\n",
       "    <tr>\n",
       "      <th>0</th>\n",
       "      <td>Anheuser-Busch InBev</td>\n",
       "      <td>2018</td>\n",
       "      <td>3700760</td>\n",
       "      <td>2383505</td>\n",
       "      <td>24431839</td>\n",
       "      <td>30516104</td>\n",
       "      <td>54619</td>\n",
       "      <td>USD</td>\n",
       "      <td>111.39</td>\n",
       "    </tr>\n",
       "    <tr>\n",
       "      <th>1</th>\n",
       "      <td>Anheuser-Busch InBev</td>\n",
       "      <td>2019</td>\n",
       "      <td>3600710</td>\n",
       "      <td>2215902</td>\n",
       "      <td>26484447</td>\n",
       "      <td>32301059</td>\n",
       "      <td>52329</td>\n",
       "      <td>USD</td>\n",
       "      <td>111.15</td>\n",
       "    </tr>\n",
       "    <tr>\n",
       "      <th>2</th>\n",
       "      <td>Anheuser-Busch InBev</td>\n",
       "      <td>2020</td>\n",
       "      <td>3081905</td>\n",
       "      <td>2227758</td>\n",
       "      <td>23652933</td>\n",
       "      <td>28962596</td>\n",
       "      <td>46881</td>\n",
       "      <td>USD</td>\n",
       "      <td>113.26</td>\n",
       "    </tr>\n",
       "    <tr>\n",
       "      <th>3</th>\n",
       "      <td>Anheuser-Busch InBev</td>\n",
       "      <td>2021</td>\n",
       "      <td>2953896</td>\n",
       "      <td>2243990</td>\n",
       "      <td>26527444</td>\n",
       "      <td>31725330</td>\n",
       "      <td>54304</td>\n",
       "      <td>USD</td>\n",
       "      <td>95.72</td>\n",
       "    </tr>\n",
       "    <tr>\n",
       "      <th>4</th>\n",
       "      <td>Danone</td>\n",
       "      <td>2018</td>\n",
       "      <td>753461</td>\n",
       "      <td>959554</td>\n",
       "      <td>24885804</td>\n",
       "      <td>26598819</td>\n",
       "      <td>24651</td>\n",
       "      <td>EUR</td>\n",
       "      <td>69.49</td>\n",
       "    </tr>\n",
       "  </tbody>\n",
       "</table>\n",
       "</div>"
      ],
      "text/plain": [
       "           COMPANY NAME  YEAR  SCOPE 1  SCOPE 2 (location-based)   SCOPE 3  \\\n",
       "0  Anheuser-Busch InBev  2018  3700760                   2383505  24431839   \n",
       "1  Anheuser-Busch InBev  2019  3600710                   2215902  26484447   \n",
       "2  Anheuser-Busch InBev  2020  3081905                   2227758  23652933   \n",
       "3  Anheuser-Busch InBev  2021  2953896                   2243990  26527444   \n",
       "4                Danone  2018   753461                    959554  24885804   \n",
       "\n",
       "   TOTAL EMISSIONS  TOTAL REVENUE (miillion currency) CURRENCY  \\\n",
       "0         30516104                              54619      USD   \n",
       "1         32301059                              52329      USD   \n",
       "2         28962596                              46881      USD   \n",
       "3         31725330                              54304      USD   \n",
       "4         26598819                              24651      EUR   \n",
       "\n",
       "   CARBON INTENSITY\\n(Scope 1 & 2 g CO2e / $ Sales)  \n",
       "0                                            111.39  \n",
       "1                                            111.15  \n",
       "2                                            113.26  \n",
       "3                                             95.72  \n",
       "4                                             69.49  "
      ]
     },
     "execution_count": 66,
     "metadata": {},
     "output_type": "execute_result"
    }
   ],
   "source": [
    "# Run this cell to load the data\n",
    "food_ag = pd.read_csv('foodag.csv')\n",
    "food_ag.head()"
   ]
  },
  {
   "cell_type": "markdown",
   "metadata": {},
   "source": [
    "### GHG Emissions Over Time"
   ]
  },
  {
   "cell_type": "markdown",
   "metadata": {},
   "source": [
    "Let's take a look at trends in company's total emissions over the years 2018 through 2021. Are the total emissions in the overall food and agriculture sector generally decreasing, increasing, staying flat, or fluctuating over time?"
   ]
  },
  {
   "cell_type": "code",
   "execution_count": 67,
   "metadata": {},
   "outputs": [
    {
     "data": {
      "application/vnd.jupyter.widget-view+json": {
       "model_id": "3ecfb597a6e949c28cb2a6f80e4b95b6",
       "version_major": 2,
       "version_minor": 0
      },
      "text/plain": [
       "interactive(children=(Dropdown(description='x', index=1, options=('Anheuser-Busch InBev', 'Danone', 'Diageo', …"
      ]
     },
     "metadata": {},
     "output_type": "display_data"
    }
   ],
   "source": [
    "companies = food_ag['COMPANY NAME'].unique()\n",
    "years = ['2018','2019', '2020', '2021']\n",
    "\n",
    "@interact(x=widgets.Dropdown(options = list(companies), value = 'Danone'))\n",
    "def g(x):\n",
    "    emissions = food_ag[food_ag['COMPANY NAME']==x][\"TOTAL EMISSIONS\"] / 1000\n",
    "    bar_container = plt.bar(years,emissions);\n",
    "    plt.ylim(0, max(emissions)+5000)\n",
    "    plt.xlabel('Year')\n",
    "    plt.ylabel('Total Scope 1 & Scope 2 Emissions (thousand mt CO2e)', size=11)\n",
    "    plt.title(x + ' GHG Emissions (2018-2021)', size=15)\n",
    "    plt.bar_label(bar_container, fmt='{:,.0f}')\n",
    "    plt.grid(False)"
   ]
  },
  {
   "cell_type": "markdown",
   "metadata": {},
   "source": [
    "### Carbon Intensity"
   ]
  },
  {
   "cell_type": "markdown",
   "metadata": {},
   "source": [
    "Another way we can make comparisons within a sector is by looking at a company's carbon intensity. Carbon intensity is a measure of GHG emissions per unit of activity. For this data, carbon intensity is represented as the total scope 1 and scope 2 (location-based) emissions per unit of the company's revenue.\n",
    "\n",
    "Run the code cell below to observe trends in carbon intensity for each company in the food and agriculture sector over time."
   ]
  },
  {
   "cell_type": "code",
   "execution_count": 64,
   "metadata": {},
   "outputs": [
    {
     "data": {
      "text/plain": [
       "Text(0.5, 1.0, 'Food & Ag Carbon Intensity Over Time (2018-2021)')"
      ]
     },
     "execution_count": 64,
     "metadata": {},
     "output_type": "execute_result"
    },
    {
     "data": {
      "image/png": "[encoded data removed]",
      "text/plain": [
       "<Figure size 640x480 with 1 Axes>"
      ]
     },
     "metadata": {},
     "output_type": "display_data"
    }
   ],
   "source": [
    "# RUN THIS CODE CELL TO PRODUCE A PLOT OF CARBON INTENSITY OVER TIME\n",
    "companies = food_ag['COMPANY NAME'].unique()\n",
    "years = ['2018','2019', '2020', '2021']\n",
    "\n",
    "for co in companies:\n",
    "    ci = food_ag[food_ag['COMPANY NAME']==co][\"CARBON INTENSITY\\n(Scope 1 & 2 g CO2e / $ Sales)\"]\n",
    "    plt.plot(years, ci, label=co)\n",
    "plt.legend(loc='upper right', fontsize='xx-small')\n",
    "plt.xlabel('Year')\n",
    "plt.ylabel('Carbon Intensity')\n",
    "plt.title('Food & Ag Carbon Intensity Over Time (2018-2021)')\n"
   ]
  },
  {
   "cell_type": "markdown",
   "metadata": {},
   "source": [
    "We can also look at carbon intensity trends for each individual company. Run the cell below to observe different carbon intensity trends."
   ]
  },
  {
   "cell_type": "code",
   "execution_count": 70,
   "metadata": {},
   "outputs": [
    {
     "data": {
      "application/vnd.jupyter.widget-view+json": {
       "model_id": "3f504f2554e440d19670490937694744",
       "version_major": 2,
       "version_minor": 0
      },
      "text/plain": [
       "interactive(children=(Dropdown(description='x', index=1, options=('Anheuser-Busch InBev', 'Danone', 'Diageo', …"
      ]
     },
     "metadata": {},
     "output_type": "display_data"
    }
   ],
   "source": [
    "@interact(x=widgets.Dropdown(options = list(companies), value = 'Danone'))\n",
    "def g(x):\n",
    "    ci = food_ag[food_ag['COMPANY NAME']==x][\"CARBON INTENSITY\\n(Scope 1 & 2 g CO2e / $ Sales)\"] \n",
    "    bar_container = plt.plot(years,ci);\n",
    "    plt.xlabel('Year')\n",
    "    plt.ylabel('Carbon Intensity (metric tons CO2e / mill total dollars)', size=11)\n",
    "    plt.title(x + ' Carbon Intensity (2018-2021)', size=15)\n",
    "    plt.grid(False)"
   ]
  },
  {
   "cell_type": "markdown",
   "metadata": {},
   "source": [
    "<hr style=\"border: 2px solid #003262\">\n",
    "<hr style=\"border: 2px solid #C9B676\">"
   ]
  },
  {
   "cell_type": "markdown",
   "metadata": {},
   "source": [
    "### Interactive Visualizations"
   ]
  },
  {
   "cell_type": "markdown",
   "metadata": {},
   "source": [
    "<div class=\"alert alert-block alert-success\">\n",
    "    <p style=\"font-size:20px\">This section is advanced/optional\n",
    "</div>"
   ]
  },
  {
   "cell_type": "markdown",
   "metadata": {},
   "source": [
    "The plots above are great, and are suitible for almost all cases. However, we can take it one step further by creating an interactive plot! We can do this with the `plotly` library. In these plots you can hover your mouse over data, and information about it will pop up!\n",
    "\n",
    "Don't worry about understanding the code below, just check out the cool visualizations, and try hovering over the data with your mouse in different spots. \n",
    "\n",
    "Check out the comments for a description of the visualizations."
   ]
  },
  {
   "cell_type": "code",
   "execution_count": null,
   "metadata": {},
   "outputs": [],
   "source": [
    "px.histogram(x=tips.column(\"total\"), title=\"Histogram of Total Bill Amounts\", \n",
    "             template = \"seaborn\", labels={\"x\":\"Total Bill Amounts\", \"y\":\"Count\"},\n",
    "             width = 600, height = 400, nbins=20)\n",
    "# Plots a histogram of the total bill amounts"
   ]
  },
  {
   "cell_type": "code",
   "execution_count": null,
   "metadata": {},
   "outputs": [],
   "source": [
    "px.histogram(x=tips.column(\"time\"), y=tips.column(\"tip\"), color = tips.column(\"time\"), \n",
    "             template = \"seaborn\", title = \"Average Tips by Meal\", labels = {\"x\": \"Day\", \"y\": \"Tips\"},\n",
    "             histfunc = \"avg\", width = 600, height = 400)\n",
    "# Plots a bar chart of the tips by meal"
   ]
  },
  {
   "cell_type": "code",
   "execution_count": null,
   "metadata": {},
   "outputs": [],
   "source": [
    "px.histogram(x=tips.column(\"day\"), y=tips.column(\"tip\"), color = tips.column(\"day\"), \n",
    "             template = \"seaborn\", title = \"Tips by Day\", labels = {\"x\": \"Day\", \"y\": \"Tips\"},\n",
    "             width = 600, height = 400)\n",
    "# Plots a bar chart of the tips by day"
   ]
  },
  {
   "cell_type": "code",
   "execution_count": null,
   "metadata": {},
   "outputs": [],
   "source": [
    "px.scatter(x=tips.column(\"total\"), y=tips.column(\"tip\"), \n",
    "           title=\"Scatter Plot of Total Bill Amounts vs. Tip Amounts\", template = \"seaborn\",\n",
    "           labels = {\"x\": \"Total Bill Amount\", \"y\": \"Tip Amount\"},\n",
    "           width=500, height=500)\n",
    "# Plots a scatter plot of the total bill amounts vs. the tip amounts"
   ]
  },
  {
   "cell_type": "markdown",
   "metadata": {},
   "source": [
    "<hr style=\"border: 2px solid #003262\">\n",
    "<hr style=\"border: 2px solid #C9B676\">"
   ]
  },
  {
   "cell_type": "markdown",
   "metadata": {},
   "source": [
    "**to do for Manaar**: potentially add pdf generator if necessary; if not, take out otter grader stuff. also potentially add data science resources section"
   ]
  },
  {
   "cell_type": "markdown",
   "metadata": {},
   "source": [
    "## Conclusion"
   ]
  },
  {
   "cell_type": "markdown",
   "metadata": {},
   "source": [
    "In this notebook, you've learned quite a bit, below is a summary of the topics we have covered:\n",
    "- Jupyter Notebooks\n",
    "    - History of Jupyter\n",
    "    - Structure of a Notebook\n",
    "    - Editing a notebook\n",
    "- Python \n",
    "    - Math\n",
    "    - Strings\n",
    "    - Errors\n",
    "    - Variables\n",
    "    - Lists\n",
    "    - Functions\n",
    "    - Loops\n",
    "    - Modules\n",
    "    - Dot Notation\n",
    "- Tables\n",
    "    - Loading a Table\n",
    "    - Context of a Table\n",
    "    - Size of a Table\n",
    "    - Selecting Columns\n",
    "    - Sorting Tables\n",
    "- Columns\n",
    "    - Statistics of Columns\n",
    "- Plotting\n",
    "    - Histograms\n",
    "    - Scatter Plots\n",
    "    - Interactive Plots\n",
    "\n",
    "<h3>Congratulations on finishing the notebook!</h3>"
   ]
  },
  {
   "cell_type": "markdown",
   "metadata": {},
   "source": [
    "<hr style=\"border: 2px solid #003262\">\n",
    "<hr style=\"border: 2px solid #C9B676\">"
   ]
  },
  {
   "cell_type": "markdown",
   "metadata": {},
   "source": [
    "## A Final Request: Feedback Form"
   ]
  },
  {
   "cell_type": "markdown",
   "metadata": {},
   "source": [
    "<div class=\"alert alert-block alert-info\">\n",
    "    <p style=\"font-size:20px\">We encourage students to fill out the following feedback form to share your experience with this Module created notebook. This feedback form will take no longer than 5 minutes. At UC Berkeley Data Science Undergraduate Studies – Modules, we appreciate all feedback to improve the learning of students and experience utilizing Jupyter Notebooks for Data Science Education. You can fill out the survey by running the below and clicking the button that appears. Thank you in advance for your time!\n",
    "</div>"
   ]
  },
  {
   "cell_type": "code",
   "execution_count": null,
   "metadata": {},
   "outputs": [],
   "source": [
    "feedback_button()"
   ]
  }
 ],
 "metadata": {
  "deepnote_execution_queue": [],
  "deepnote_notebook_id": "693e9760-244f-475b-aa3d-f49b62665db0",
  "kernelspec": {
   "display_name": "Python 3.9.6 64-bit",
   "language": "python",
   "name": "python3"
  },
  "language_info": {
   "codemirror_mode": {
    "name": "ipython",
    "version": 3
   },
   "file_extension": ".py",
   "mimetype": "text/x-python",
   "name": "python",
   "nbconvert_exporter": "python",
   "pygments_lexer": "ipython3",
   "version": "3.9.6"
  },
  "vscode": {
   "interpreter": {
    "hash": "31f2aee4e71d21fbe5cf8b01ff0e069b9275f58929596ceb00d14d90e3e16cd6"
   }
  },
  "widgets": {
   "application/vnd.jupyter.widget-state+json": {
    "state": {},
    "version_major": 2,
    "version_minor": 0
   }
  }
 },
 "nbformat": 4,
 "nbformat_minor": 4
}
