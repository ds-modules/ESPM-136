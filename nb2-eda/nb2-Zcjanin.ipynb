{
 "cells": [
  {
   "cell_type": "markdown",
   "metadata": {
    "cell_id": "00001-eedf9a46-cb0c-42bc-a90f-96265663c0d3",
    "deepnote_cell_type": "markdown",
    "tags": [
     "ignore"
    ]
   },
   "source": [
    "## [ESPM-136] Notebook 2: Company Emissions Exploratory Data Analysis (EDA)\n",
    "\n",
    "## **Introduction Section here**\n",
    "\n",
    "Discuss overview of notebook and what students can take away from it here. Can also provide any relevant resources here.\n",
    "\n",
    "need to also mention that this notebook has questions that are bolded in yellow for the students to answer: probably won't be graded, might change later?"
   ]
  },
  {
   "cell_type": "markdown",
   "metadata": {},
   "source": [
    "keeping below cell just for reference, in case we have advanced/optional sections. delete later!"
   ]
  },
  {
   "cell_type": "markdown",
   "metadata": {},
   "source": [
    "<div class=\"alert alert-block alert-success\">\n",
    "    <p style=\"font-size:20px\">This section is advanced/optional\n",
    "</div>"
   ]
  },
  {
   "cell_type": "markdown",
   "metadata": {},
   "source": [
    "<hr style=\"border: 2px solid #003262\">\n",
    "<hr style=\"border: 2px solid #C9B676\">"
   ]
  },
  {
   "cell_type": "markdown",
   "metadata": {},
   "source": [
    "## Learning Outcomes\n",
    "Working through this notebook, you will learn about:\n",
    "1. complete later when sections are establish\n",
    "\n",
    "Also, may want to add table of contents beneath this section, depending on how long notebook is."
   ]
  },
  {
   "cell_type": "markdown",
   "metadata": {},
   "source": [
    "<hr style=\"border: 2px solid #003262\">\n",
    "<hr style=\"border: 2px solid #C9B676\">"
   ]
  },
  {
   "cell_type": "markdown",
   "metadata": {
    "cell_id": "00003-a9cd1167-2276-4e0f-85b6-43d803731627",
    "deepnote_cell_type": "markdown",
    "tags": []
   },
   "source": [
    "## Review / recap of data collection [likely be done by Manaar and/or Zcjanin]\n",
    "\n",
    "this section will provide a brief recap of the data collection process so far, to discuss how we got from google forms to here and why we want to import the data in a jupyter notebook as compared to other mediums / what we can accomplish with it. may also be good to quickly discuss implications of the data collection / inputting process.\n",
    "\n",
    "want this section to be pretty short -- dont want a wall of text!"
   ]
  },
  {
   "cell_type": "markdown",
   "metadata": {},
   "source": [
    "<hr style=\"border: 2px solid #003262\">\n",
    "<hr style=\"border: 2px solid #C9B676\">"
   ]
  },
  {
   "cell_type": "markdown",
   "metadata": {
    "cell_id": "00003-058e2913-9587-45ac-8c2f-f284333ac4f3",
    "deepnote_cell_type": "markdown"
   },
   "source": [
    "## Importing and Taking an Initial Look at the Data (manaar will do?)\n",
    "\n",
    "description of the steps we need to take to read_table to create a datascience table to look at our data in tabular format.\n",
    "\n",
    "first, import libraries (note: add any additional libraries you use in your code here! good to keep it all in one place), then read table:"
   ]
  },
  {
   "cell_type": "code",
   "execution_count": 1,
   "metadata": {},
   "outputs": [],
   "source": [
    "import numpy as np\n",
    "from datascience import *\n",
    "# import otter\n",
    "# grader = otter.Notebook()\n",
    "import matplotlib.pyplot as plt\n",
    "%matplotlib inline\n",
    "plt.style.use(\"fivethirtyeight\")\n",
    "import seaborn as sns, plotly.express as px"
   ]
  },
  {
   "cell_type": "code",
   "execution_count": 11,
   "metadata": {},
   "outputs": [],
   "source": [
    "raw_data = Table.read_table('uncleaned_data.csv')"
   ]
  },
  {
   "cell_type": "code",
   "execution_count": 12,
   "metadata": {},
   "outputs": [],
   "source": [
    "emissions = Table.read_table('emissions.csv')"
   ]
  },
  {
   "cell_type": "markdown",
   "metadata": {},
   "source": [
    "### Data Dictionary\n",
    "\n",
    "Now that we've taken an intial glance at the data that you collected, let's familiarize ourselves with the contents of the `emissions` table. The data dictionary below reveals information about each column in the table regarding what the column represents and the type of the column. Data dictionaries are useful for providing context and understanding of what the data represents for anyone working with the data.\n",
    "\n",
    "|Column Name| Meaning |Type|\n",
    "|--|--|--|\n",
    "|Company Name| The name of the company chosen to report data| category |\n",
    "|Company Sector| The industry sector the company belongs in| category |\n",
    "|Company Sector (Other)|An optional field if the company's sector was not one of the given options|category |\n",
    "|Year of CDP Disclosure|The submission year of the report. The data provided represents the previous year.|number|\n",
    "|Scope 1 value|The company's direct GHG emissions, given in metric tons of CO2e|number|\n",
    "|Scope 2 value (location-based)|The company's indirect (location-based) GHG emissions, given in metric tons of CO2e |number |\n",
    "|Scope 2 value (market-based)|The company's indirect (market-based) GHG emissions, given in metric tons of CO2e|number |\n",
    "|Scope 3 value| The company's indirect GHG emissions that come from its value chain, given in metric tons of CO2e| number |\n",
    "|Total Revenue| The company's total revenue for a given year| number |\n",
    "|Currency of Total Revenue|The currency of the company's total revenue|category|\n",
    "|Internal Price on Carbon|An indicator of if the company implements internal carbon pricing |category|\n",
    "|Price|Internal price on carbon  | number|"
   ]
  },
  {
   "cell_type": "markdown",
   "metadata": {
    "cell_id": "00004-a9f5f74b-a641-44a7-8dd5-2f9f58c10236",
    "deepnote_cell_type": "code",
    "execution": {
     "iopub.execute_input": "2022-08-03T09:02:40.079967Z",
     "iopub.status.busy": "2022-08-03T09:02:40.079000Z",
     "iopub.status.idle": "2022-08-03T09:02:40.118322Z",
     "shell.execute_reply": "2022-08-03T09:02:40.117260Z",
     "shell.execute_reply.started": "2022-08-03T09:02:40.079911Z"
    },
    "tags": [
     "ignore"
    ]
   },
   "source": [
    "Next, have a small section looking into certain basic summary statistics like num_rows and num_cols and labels"
   ]
  },
  {
   "cell_type": "markdown",
   "metadata": {},
   "source": [
    "<hr style=\"border: 2px solid #003262\">\n",
    "<hr style=\"border: 2px solid #C9B676\">"
   ]
  },
  {
   "cell_type": "markdown",
   "metadata": {
    "cell_id": "00006-dadd2623-2173-4cdb-8c95-207741ecc765",
    "deepnote_cell_type": "markdown",
    "tags": [
     "ignore"
    ]
   },
   "source": [
    "## Selecting columns / Conditioning on rows / sorting\n",
    "\n",
    "This section will be all about doing interesting EDA in tabular format using .select, .where, and .sort. Can use whatever data analysis / columns you would like -- just show an example of selecting or using .where first, and then provide the question statement for the student to try it themselves!"
   ]
  },
  {
   "cell_type": "markdown",
   "metadata": {},
   "source": [
    "note: can also add section subheadings if you want to break it up into select, where, and sort; example:"
   ]
  },
  {
   "cell_type": "markdown",
   "metadata": {},
   "source": [
    "### section_number.subsection_number: Selecting Columns"
   ]
  },
  {
   "cell_type": "markdown",
   "metadata": {},
   "source": [
    "question formatting:"
   ]
  },
  {
   "cell_type": "markdown",
   "metadata": {},
   "source": [
    "<!-- BEGIN QUESTION -->\n",
    "<div class=\"alert alert-warning\">\n",
    "\n",
    "### Question section_number.question_number:\n",
    "coding or short answer question here\n",
    "</div>"
   ]
  },
  {
   "cell_type": "markdown",
   "metadata": {},
   "source": [
    "for short answers:"
   ]
  },
  {
   "cell_type": "markdown",
   "metadata": {},
   "source": [
    "*Type your answer here. Double-click to edit this cell and replace this text with your answer. Run this cell to proceed when finished.*"
   ]
  },
  {
   "cell_type": "markdown",
   "metadata": {},
   "source": [
    "for coding"
   ]
  },
  {
   "cell_type": "code",
   "execution_count": null,
   "metadata": {},
   "outputs": [],
   "source": [
    "emissions.sort(...) # Fill in the ellipsis with blah blah blah"
   ]
  },
  {
   "cell_type": "markdown",
   "metadata": {},
   "source": [
    "note: the END QUESTION tag for the otter pdf generator is in the blank cell right below this one! You need a BEGIN QUESTION and END QUESTION tag for every question."
   ]
  },
  {
   "cell_type": "markdown",
   "metadata": {},
   "source": [
    "<!-- END QUESTION -->"
   ]
  },
  {
   "cell_type": "markdown",
   "metadata": {},
   "source": [
    "<hr style=\"border: 2px solid #003262\">\n",
    "<hr style=\"border: 2px solid #C9B676\">"
   ]
  },
  {
   "cell_type": "markdown",
   "metadata": {},
   "source": [
    "## more advanced table functions: apply, group, pivot (if applicable)\n",
    "\n",
    "similar structure to previous section: total freedom with what you want to explore or emphasize! just show the student an example first and then ask them questions."
   ]
  },
  {
   "cell_type": "markdown",
   "metadata": {},
   "source": [
    "**Note:** we want to include some tabular data looking at the data grouped by the Sector attribute"
   ]
  },
  {
   "cell_type": "markdown",
   "metadata": {},
   "source": [
    "note: can also add section subheadings if you want to break it up into apply, group, and pivot; example:"
   ]
  },
  {
   "cell_type": "markdown",
   "metadata": {},
   "source": [
    "### section_number.subsection_number: Applying Functions"
   ]
  },
  {
   "cell_type": "markdown",
   "metadata": {},
   "source": [
    "question formatting:"
   ]
  },
  {
   "cell_type": "markdown",
   "metadata": {},
   "source": [
    "<!-- BEGIN QUESTION -->\n",
    "<div class=\"alert alert-warning\">\n",
    "\n",
    "### Question section_number.question_number:\n",
    "coding or short answer question here\n",
    "</div>"
   ]
  },
  {
   "cell_type": "markdown",
   "metadata": {},
   "source": [
    "for short answers:"
   ]
  },
  {
   "cell_type": "markdown",
   "metadata": {},
   "source": [
    "*Type your answer here. Double-click to edit this cell and replace this text with your answer. Run this cell to proceed when finished.*"
   ]
  },
  {
   "cell_type": "markdown",
   "metadata": {},
   "source": [
    "for coding"
   ]
  },
  {
   "cell_type": "code",
   "execution_count": null,
   "metadata": {},
   "outputs": [],
   "source": [
    "emissions.group(...) # Fill in the ellipsis with blah blah blah"
   ]
  },
  {
   "cell_type": "markdown",
   "metadata": {},
   "source": [
    "note: the END QUESTION tag for the otter pdf generator is in the blank cell right below this one! You need a BEGIN QUESTION and END QUESTION tag for every question."
   ]
  },
  {
   "cell_type": "markdown",
   "metadata": {},
   "source": [
    "<!-- END QUESTION -->"
   ]
  },
  {
   "cell_type": "markdown",
   "metadata": {},
   "source": [
    "<hr style=\"border: 2px solid #003262\">\n",
    "<hr style=\"border: 2px solid #C9B676\">"
   ]
  },
  {
   "cell_type": "markdown",
   "metadata": {
    "cell_id": "00009-52f60190-e21f-4107-99a9-d42ab128df40",
    "deepnote_cell_type": "markdown",
    "tags": [
     "ignore"
    ]
   },
   "source": [
    "## visualizations (probably a large section, 2 devs)\n",
    "\n",
    "this section is probably going to be a bigger one, since its a lot more interesting for the students to analyze the data through visualizations than just in the table --> can use datascience plotting, seaborn, or plotly, just like notebook 1 showed."
   ]
  },
  {
   "cell_type": "markdown",
   "metadata": {},
   "source": [
    "**Note:** we want to include some visualizations looking at the data grouped by the Sector attribute; also, I've kept the plotting section from the previous section below as a small reference / source of inspiration! we'll delete it later"
   ]
  },
  {
   "cell_type": "markdown",
   "metadata": {},
   "source": [
    "some of the visualizations you create might be difficult, because the data has to be cleaned up first. that's fine, just keep whatever visualizations you make that you think could be interesting and i'll filter through them as we're finishing the notebook"
   ]
  },
  {
   "cell_type": "markdown",
   "metadata": {},
   "source": [
    "remember, students probably arent that familiar with python: use a lot of fill in the ... questions and only very basic do it yourself questions. always give them an example before asking them to do it themselves!"
   ]
  },
  {
   "cell_type": "markdown",
   "metadata": {},
   "source": [
    "also, add widgets if you are able to! those would be great for comparisons"
   ]
  },
  {
   "cell_type": "markdown",
   "metadata": {},
   "source": [
    "note: can also add section subheadings if you want to break it up into different sections / exploring different features of the data; example:"
   ]
  },
  {
   "cell_type": "markdown",
   "metadata": {},
   "source": [
    "### section_number.subsection_number: Visualizing by Sector"
   ]
  },
  {
   "cell_type": "markdown",
   "metadata": {},
   "source": [
    "question formatting:"
   ]
  },
  {
   "cell_type": "markdown",
   "metadata": {},
   "source": [
    "<!-- BEGIN QUESTION -->\n",
    "<div class=\"alert alert-warning\">\n",
    "\n",
    "### Question section_number.question_number:\n",
    "coding or short answer question here\n",
    "</div>"
   ]
  },
  {
   "cell_type": "markdown",
   "metadata": {},
   "source": [
    "for short answers:"
   ]
  },
  {
   "cell_type": "markdown",
   "metadata": {},
   "source": [
    "*Type your answer here. Double-click to edit this cell and replace this text with your answer. Run this cell to proceed when finished.*"
   ]
  },
  {
   "cell_type": "markdown",
   "metadata": {},
   "source": [
    "for coding"
   ]
  },
  {
   "cell_type": "code",
   "execution_count": null,
   "metadata": {},
   "outputs": [],
   "source": [
    "emissions.group(...) # Fill in the ellipsis with blah blah blah"
   ]
  },
  {
   "cell_type": "markdown",
   "metadata": {},
   "source": [
    "note: the END QUESTION tag for the otter pdf generator is in the blank cell right below this one! You need a BEGIN QUESTION and END QUESTION tag for every question."
   ]
  },
  {
   "cell_type": "markdown",
   "metadata": {},
   "source": [
    "<!-- END QUESTION -->"
   ]
  },
  {
   "cell_type": "markdown",
   "metadata": {},
   "source": [
    "<hr style=\"border: 2px solid #003262\">\n",
    "<hr style=\"border: 2px solid #C9B676\">"
   ]
  },
  {
   "cell_type": "markdown",
   "metadata": {},
   "source": [
    "## Plotting [Reference - will be deleted later]"
   ]
  },
  {
   "cell_type": "markdown",
   "metadata": {},
   "source": [
    "While knowing the average, the largest, and the smallest values are useful, they don't tell us the whole story. Along with this, just looking at a bunch of numbers isn't always fun or efficient. To further expand on our analysis, let's make some visualizations of our data!\n",
    "\n",
    "Fortunately, in Python, there are lots of functions that can do this for us. We'll examine a few below."
   ]
  },
  {
   "cell_type": "markdown",
   "metadata": {},
   "source": [
    "### Histogram\n",
    "The `hist` function will plot a [histogram](https://en.wikipedia.org/wiki/Histogram) of the column you specify."
   ]
  },
  {
   "cell_type": "code",
   "execution_count": null,
   "metadata": {},
   "outputs": [],
   "source": [
    "tips.hist(\"total\", bins=np.arange(0, 60, 5))"
   ]
  },
  {
   "cell_type": "markdown",
   "metadata": {},
   "source": [
    "### Scatter Plot\n",
    "\n",
    "The `scatter` function makes a [scatter plot](https://en.wikipedia.org/wiki/Scatter_plot), where the first parameter below (`total`) is the column we want to display on the x-axis, and the second parameter (`tip`) is the column we want to display on the y-axis."
   ]
  },
  {
   "cell_type": "code",
   "execution_count": null,
   "metadata": {},
   "outputs": [],
   "source": [
    "tips.scatter(\"total\", \"tip\")"
   ]
  },
  {
   "cell_type": "markdown",
   "metadata": {},
   "source": [
    "### Interactive Visualizations"
   ]
  },
  {
   "cell_type": "markdown",
   "metadata": {},
   "source": [
    "<div class=\"alert alert-block alert-success\">\n",
    "    <p style=\"font-size:20px\">This section is advanced/optional\n",
    "</div>"
   ]
  },
  {
   "cell_type": "markdown",
   "metadata": {},
   "source": [
    "The plots above are great, and are suitible for almost all cases. However, we can take it one step further by creating an interactive plot! We can do this with the `plotly` library. In these plots you can hover your mouse over data, and information about it will pop up!\n",
    "\n",
    "Don't worry about understanding the code below, just check out the cool visualizations, and try hovering over the data with your mouse in different spots. \n",
    "\n",
    "Check out the comments for a description of the visualizations."
   ]
  },
  {
   "cell_type": "code",
   "execution_count": null,
   "metadata": {},
   "outputs": [],
   "source": [
    "px.histogram(x=tips.column(\"total\"), title=\"Histogram of Total Bill Amounts\", \n",
    "             template = \"seaborn\", labels={\"x\":\"Total Bill Amounts\", \"y\":\"Count\"},\n",
    "             width = 600, height = 400, nbins=20)\n",
    "# Plots a histogram of the total bill amounts"
   ]
  },
  {
   "cell_type": "code",
   "execution_count": null,
   "metadata": {},
   "outputs": [],
   "source": [
    "px.histogram(x=tips.column(\"time\"), y=tips.column(\"tip\"), color = tips.column(\"time\"), \n",
    "             template = \"seaborn\", title = \"Average Tips by Meal\", labels = {\"x\": \"Day\", \"y\": \"Tips\"},\n",
    "             histfunc = \"avg\", width = 600, height = 400)\n",
    "# Plots a bar chart of the tips by meal"
   ]
  },
  {
   "cell_type": "code",
   "execution_count": null,
   "metadata": {},
   "outputs": [],
   "source": [
    "px.histogram(x=tips.column(\"day\"), y=tips.column(\"tip\"), color = tips.column(\"day\"), \n",
    "             template = \"seaborn\", title = \"Tips by Day\", labels = {\"x\": \"Day\", \"y\": \"Tips\"},\n",
    "             width = 600, height = 400)\n",
    "# Plots a bar chart of the tips by day"
   ]
  },
  {
   "cell_type": "code",
   "execution_count": null,
   "metadata": {},
   "outputs": [],
   "source": [
    "px.scatter(x=tips.column(\"total\"), y=tips.column(\"tip\"), \n",
    "           title=\"Scatter Plot of Total Bill Amounts vs. Tip Amounts\", template = \"seaborn\",\n",
    "           labels = {\"x\": \"Total Bill Amount\", \"y\": \"Tip Amount\"},\n",
    "           width=500, height=500)\n",
    "# Plots a scatter plot of the total bill amounts vs. the tip amounts"
   ]
  },
  {
   "cell_type": "markdown",
   "metadata": {},
   "source": [
    "<hr style=\"border: 2px solid #003262\">\n",
    "<hr style=\"border: 2px solid #C9B676\">"
   ]
  },
  {
   "cell_type": "markdown",
   "metadata": {},
   "source": [
    "**to do for Manaar**: potentially add pdf generator if necessary; if not, take out otter grader stuff. also potentially add data science resources section"
   ]
  },
  {
   "cell_type": "markdown",
   "metadata": {},
   "source": [
    "## Conclusion"
   ]
  },
  {
   "cell_type": "markdown",
   "metadata": {},
   "source": [
    "In this notebook, you've learned quite a bit, below is a summary of the topics we have covered:\n",
    "- Jupyter Notebooks\n",
    "    - History of Jupyter\n",
    "    - Structure of a Notebook\n",
    "    - Editing a notebook\n",
    "- Python \n",
    "    - Math\n",
    "    - Strings\n",
    "    - Errors\n",
    "    - Variables\n",
    "    - Lists\n",
    "    - Functions\n",
    "    - Loops\n",
    "    - Modules\n",
    "    - Dot Notation\n",
    "- Tables\n",
    "    - Loading a Table\n",
    "    - Context of a Table\n",
    "    - Size of a Table\n",
    "    - Selecting Columns\n",
    "    - Sorting Tables\n",
    "- Columns\n",
    "    - Statistics of Columns\n",
    "- Plotting\n",
    "    - Histograms\n",
    "    - Scatter Plots\n",
    "    - Interactive Plots\n",
    "\n",
    "<h3>Congratulations on finishing the notebook!</h3>"
   ]
  },
  {
   "cell_type": "markdown",
   "metadata": {},
   "source": [
    "<hr style=\"border: 2px solid #003262\">\n",
    "<hr style=\"border: 2px solid #C9B676\">"
   ]
  },
  {
   "cell_type": "markdown",
   "metadata": {},
   "source": [
    "## A Final Request: Feedback Form"
   ]
  },
  {
   "cell_type": "markdown",
   "metadata": {},
   "source": [
    "<div class=\"alert alert-block alert-info\">\n",
    "    <p style=\"font-size:20px\">We encourage students to fill out the following feedback form to share your experience with this Module created notebook. This feedback form will take no longer than 5 minutes. At UC Berkeley Data Science Undergraduate Studies – Modules, we appreciate all feedback to improve the learning of students and experience utilizing Jupyter Notebooks for Data Science Education. You can fill out the survey by running the below and clicking the button that appears. Thank you in advance for your time!\n",
    "</div>"
   ]
  },
  {
   "cell_type": "code",
   "execution_count": null,
   "metadata": {},
   "outputs": [],
   "source": [
    "feedback_button()"
   ]
  }
 ],
 "metadata": {
  "deepnote_execution_queue": [],
  "deepnote_notebook_id": "693e9760-244f-475b-aa3d-f49b62665db0",
  "kernelspec": {
   "display_name": "Python 3.9.6 64-bit",
   "language": "python",
   "name": "python3"
  },
  "language_info": {
   "codemirror_mode": {
    "name": "ipython",
    "version": 3
   },
   "file_extension": ".py",
   "mimetype": "text/x-python",
   "name": "python",
   "nbconvert_exporter": "python",
   "pygments_lexer": "ipython3",
   "version": "3.9.6"
  },
  "vscode": {
   "interpreter": {
    "hash": "31f2aee4e71d21fbe5cf8b01ff0e069b9275f58929596ceb00d14d90e3e16cd6"
   }
  },
  "widgets": {
   "application/vnd.jupyter.widget-state+json": {
    "state": {},
    "version_major": 2,
    "version_minor": 0
   }
  }
 },
 "nbformat": 4,
 "nbformat_minor": 4
}
