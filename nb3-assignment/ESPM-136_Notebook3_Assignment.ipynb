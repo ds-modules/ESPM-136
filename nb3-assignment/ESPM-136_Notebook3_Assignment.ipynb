{
 "cells": [
  {
   "cell_type": "markdown",
   "metadata": {
    "cell_id": "00001-eedf9a46-cb0c-42bc-a90f-96265663c0d3",
    "deepnote_cell_type": "markdown",
    "tags": [
     "ignore"
    ]
   },
   "source": [
    "## [ESPM-136] Notebook 3: Interactive Data Exploration Assignment\n",
    "\n",
    "Welcome to the third Jupyter Notebook for ESPM 136! In the previous notebook, you went through a demo of some data analysis that we were able to do with the emissions data that was collected. In this assignment, you'll be **completing some hands-on exercises for performing data analysis based on what we did in Notebook 2!**\n",
    "\n",
    "In order to complete and submit this assignment, go through the notebook and **answer the questions denoted by the yellow boxes**. At the end of the notebook, there will be a cell that creates and downloads a PDF of your responses, which you can then submit."
   ]
  },
  {
   "cell_type": "markdown",
   "metadata": {},
   "source": [
    "## Feeling stuck or want extra help with this notebook? Contact Data Peer Consultants!\n",
    "\n",
    "If you find yourself having trouble with any content in this notebook, **Data Peer Consultants** are an excellent resource! Click [here](https://dlab.berkeley.edu/training/frontdesk-info) to locate live help.\n",
    "Peer Consultants are there to answer all data-related questions, whether it be about the content of this notebook, applications of data science in the world, or other data science courses offered at Berkeley."
   ]
  },
  {
   "cell_type": "markdown",
   "metadata": {},
   "source": [
    "<hr style=\"border: 2px solid #003262\">\n",
    "<hr style=\"border: 2px solid #C9B676\">"
   ]
  },
  {
   "cell_type": "markdown",
   "metadata": {},
   "source": [
    "## Learning Outcomes\n",
    "Working through this notebook, you will get some experience answering questions about:\n",
    "1. Basic table functions for **viewing and conditionally selecting data**\n",
    "2. More advanced table functions for **performing detailed data analysis**\n",
    "3. **Creating visualizations** to better understand our data"
   ]
  },
  {
   "cell_type": "markdown",
   "metadata": {},
   "source": [
    "<hr style=\"border: 2px solid #003262\">\n",
    "<hr style=\"border: 2px solid #C9B676\">"
   ]
  },
  {
   "cell_type": "markdown",
   "metadata": {
    "cell_id": "00003-a9cd1167-2276-4e0f-85b6-43d803731627",
    "deepnote_cell_type": "markdown",
    "tags": []
   },
   "source": [
    "## Recap of What We've Done So Far\n",
    "\n",
    "In Assignment #1 you **gathered carbon emissions data and evaluated internal decarbonization strategies for two companies of your choice** and submitted all of this information into a Google Form. In Notebook 2, we introduced many different methods of **using Jupyter Notebooks to analyze the data** that you collected.\n",
    "\n",
    "This notebook will be heavily basesd on the contents that you saw in Notebook 2, but this time, you will get an opportunity to **gain some more hands-on experience and do some analysis yourself!**"
   ]
  },
  {
   "cell_type": "markdown",
   "metadata": {},
   "source": [
    "<hr style=\"border: 2px solid #003262\">\n",
    "<hr style=\"border: 2px solid #C9B676\">"
   ]
  },
  {
   "cell_type": "markdown",
   "metadata": {
    "cell_id": "00003-058e2913-9587-45ac-8c2f-f284333ac4f3",
    "deepnote_cell_type": "markdown"
   },
   "source": [
    "## Importing Modules and Taking an Initial Look at the Data\n",
    "\n",
    "As stated previously, in this notebook we'll be utilizing data exported from the Google Form that you filled out based on company emissions. From the Google Form, we were able to export the results as a CSV (comma-separated value) file. We cleaned up and anonymized the data, and we uploaded it to the same folder that this notebook is located in. Thanks to this pre-processing, we can now load in our data to a table object from the `datascience` module!\n",
    "\n",
    "As with the first notebook, we need to import the modules necessary for this notebook. You can do this by running (clicking the cell hitting `Cmd/Ctrl`+`Enter`, or clicking the cell and hitting the `Run` button at the top) the following code cell!"
   ]
  },
  {
   "cell_type": "code",
   "execution_count": 1,
   "metadata": {},
   "outputs": [],
   "source": [
    "# Run this cell to import the modules\n",
    "import numpy as np\n",
    "import pandas as pd\n",
    "from datascience import *\n",
    "import otter\n",
    "grader = otter.Notebook()\n",
    "import matplotlib.pyplot as plt\n",
    "from ipywidgets import *\n",
    "%matplotlib inline\n",
    "plt.style.use(\"fivethirtyeight\")\n",
    "import seaborn as sns, plotly.express as px"
   ]
  },
  {
   "cell_type": "markdown",
   "metadata": {},
   "source": [
    "Now that we have all the modules we need, we can load our original CSV file into a table object from the `datascience` module!\n",
    "\n",
    "The `.show()` command in the cell below allows us to see a specified number of rows of the table. In this case, we want to see the first five rows of the table to see what it looks like."
   ]
  },
  {
   "cell_type": "code",
   "execution_count": 2,
   "metadata": {},
   "outputs": [
    {
     "data": {
      "text/html": [
       "<table border=\"1\" class=\"dataframe\">\n",
       "    <thead>\n",
       "        <tr>\n",
       "            <th>Index</th> <th>Company Name</th> <th>Company Sector</th> <th>Company Sector (Other)</th> <th>Year of CDP Disclosure</th> <th>Scope 1 value</th> <th>Scope 2 value (location-based)</th> <th>Scope 2 value (market-based)</th> <th>Scope 3 value</th> <th>Total Revenue</th> <th>Currency of Total Revenue</th> <th>Internal Price on Carbon (Y/N)</th> <th>Price</th>\n",
       "        </tr>\n",
       "    </thead>\n",
       "    <tbody>\n",
       "        <tr>\n",
       "            <td>0    </td> <td>ADIDAS        </td> <td>APPAREL & FOOTWEAR     </td> <td>nan                        </td> <td>2022                  </td> <td>12908.4      </td> <td>nan                           </td> <td>125502                      </td> <td>7.25451e+06  </td> <td>2.1234e+10   </td> <td>EUR                      </td> <td>Yes                           </td> <td>85   </td>\n",
       "        </tr>\n",
       "        <tr>\n",
       "            <td>1    </td> <td>ADIDAS        </td> <td>APPAREL & FOOTWEAR     </td> <td>nan                        </td> <td>2022                  </td> <td>12908.4      </td> <td>nan                           </td> <td>125502                      </td> <td>7.25451e+06  </td> <td>2.1234e+10   </td> <td>EUR                      </td> <td>Yes                           </td> <td>85   </td>\n",
       "        </tr>\n",
       "        <tr>\n",
       "            <td>2    </td> <td>ADIDAS        </td> <td>APPAREL & FOOTWEAR     </td> <td>nan                        </td> <td>2022                  </td> <td>12908.4      </td> <td>nan                           </td> <td>125502                      </td> <td>7.25451e+06  </td> <td>2.1234e+10   </td> <td>EUR                      </td> <td>Yes                           </td> <td>85   </td>\n",
       "        </tr>\n",
       "        <tr>\n",
       "            <td>3    </td> <td>AHOLD DELHAIZE</td> <td>CONSUMER PACKAGED GOODS</td> <td>GROCERY / FOOD DISTRIBUTION</td> <td>2022                  </td> <td>1.728e+06    </td> <td>1.748e+06                     </td> <td>1.099e+06                   </td> <td>6.59304e+07  </td> <td>75600        </td> <td>EUR                      </td> <td>Yes                           </td> <td>150  </td>\n",
       "        </tr>\n",
       "        <tr>\n",
       "            <td>4    </td> <td>AIR FRANCE-KLM</td> <td>TRANSPORTATION         </td> <td>nan                        </td> <td>2022                  </td> <td>1.63363e+07  </td> <td>nan                           </td> <td>19104.7                     </td> <td>8.70067e+06  </td> <td>1.4315e+10   </td> <td>EUR                      </td> <td>Yes                           </td> <td>nan  </td>\n",
       "        </tr>\n",
       "    </tbody>\n",
       "</table>\n",
       "<p>... (151 rows omitted)</p>"
      ],
      "text/plain": [
       "<IPython.core.display.HTML object>"
      ]
     },
     "metadata": {},
     "output_type": "display_data"
    }
   ],
   "source": [
    "# Run this cell to create our emissions table object\n",
    "emissions = Table.read_table('emissions.csv')\n",
    "emissions.show(5)"
   ]
  },
  {
   "cell_type": "markdown",
   "metadata": {},
   "source": [
    "In the view of our table above, particularly in the `Company Sector (Other)` and `Scope 2 value (location-based)` columns, you may see multiple values called `nan`. In Python, missing or undefined values are represented by `nan` values, which stands for \"Not a Number\". You can think of these as missing or N/A values!"
   ]
  },
  {
   "cell_type": "markdown",
   "metadata": {},
   "source": [
    "Another small note on notation that you may notice in the table above and throughout this notebook: in some of the numerical columns, you may see the number followed by a value like `e+06` or `e+10`. This notation is Python's way of displaying very large or very small numbers. `e+` in this case means a positive power of 10 (`e-` would be a negative power, which would be a way of representing very small decimal numbers). So, when you see a number like `e+06`, this means $10^6$, which is a million. In the table above, `7.25451e+06` means $7.25451 * 10^6$, which is actually equal to $7,254,510$. This notation is not the easiest for us to read, but it is a very useful method for Python to store large and small numbers simply without losing any information!"
   ]
  },
  {
   "cell_type": "markdown",
   "metadata": {},
   "source": [
    "As we saw in Notebook 1, we can use the `.num_rows` and `.num_columns` methods to take a look at the dimensions of our table."
   ]
  },
  {
   "cell_type": "code",
   "execution_count": null,
   "metadata": {},
   "outputs": [],
   "source": [
    "emissions.num_rows"
   ]
  },
  {
   "cell_type": "code",
   "execution_count": null,
   "metadata": {},
   "outputs": [],
   "source": [
    "emissions.num_columns"
   ]
  },
  {
   "cell_type": "markdown",
   "metadata": {},
   "source": [
    "We have 13 different columns and 156 rows. Each column corresponds to a feature of our data point, as described in further detail below. Each row corresponds to one company of the two that were submitted by each student via the Google Form. The total number of rows ended up being 156 after we removed a few duplicate submissions to the Google Form."
   ]
  },
  {
   "cell_type": "markdown",
   "metadata": {},
   "source": [
    "The following code cell is a bit more advanced, but we can use it to show us the number of distinct companies that were reported in our table."
   ]
  },
  {
   "cell_type": "code",
   "execution_count": null,
   "metadata": {},
   "outputs": [],
   "source": [
    "len(emissions.group('Company Name')['count'])"
   ]
  },
  {
   "cell_type": "markdown",
   "metadata": {},
   "source": [
    "## Data Dictionary\n",
    "\n",
    "As a reminder, here's the data dictionary with the contents of the `emissions` table that we introduced in the last notebook.\n",
    "\n",
    "|Column Name| Meaning |Type|\n",
    "|--|--|--|\n",
    "|Company Name| The name of the company chosen to report data| category |\n",
    "|Company Sector| The industry sector the company belongs in| category |\n",
    "|Company Sector (Other)|An optional field if the company's sector was not one of the given options|category |\n",
    "|Year of CDP Disclosure|The submission year of the report. The data provided represents the previous year.|number|\n",
    "|Scope 1 value|The company's direct GHG emissions, given in metric tons of CO2e|number|\n",
    "|Scope 2 value (location-based)|The company's indirect (location-based) GHG emissions, given in metric tons of CO2e |number |\n",
    "|Scope 2 value (market-based)|The company's indirect (market-based) GHG emissions, given in metric tons of CO2e|number |\n",
    "|Scope 3 value| The company's indirect GHG emissions that come from its value chain, given in metric tons of CO2e| number |\n",
    "|Total Revenue| The company's total revenue for a given year| number |\n",
    "|Currency of Total Revenue|The currency of the company's total revenue|category|\n",
    "|Internal Price on Carbon|An indicator of if the company implements internal carbon pricing |category|\n",
    "|Price|Internal price on carbon  | number|"
   ]
  },
  {
   "cell_type": "markdown",
   "metadata": {},
   "source": [
    "<hr style=\"border: 2px solid #003262\">\n",
    "<hr style=\"border: 2px solid #C9B676\">"
   ]
  },
  {
   "cell_type": "markdown",
   "metadata": {},
   "source": [
    "## 1. Basic Table Operations: `select`, `where`, `sort`\n",
    "\n",
    "As we saw in **Notebook 2**, there are some interesting table operations that allow us to begin exploring and analyzing our data. We showed you some examples in the previous notebook, and now it's your turn to try out these methods! \n",
    "\n",
    "For the exercises below, you will fill in the necessary code to create the desired tables. If you get stuck, feel free to reference the code in Notebook 2.\n",
    "\n",
    "**Some Reminders:**\n",
    "* **Text values/column names should be in quotation marks**, while integers (numbers) should not!\n",
    "* Run your code cells after you answer the exercises."
   ]
  },
  {
   "cell_type": "markdown",
   "metadata": {},
   "source": [
    "### 1.1 Selecting Columns\n",
    "\n",
    "Sometimes, we only want to keep certain information from our table. In the question below, you will be using the `.select()` method to choose which columns of the `emissions` table we want.\n",
    "\n",
    "For reference, to use the `.select()` method it should look something like: `tbl.select(col1_name, col2_name, ...)` for however many columns we want our table to have."
   ]
  },
  {
   "cell_type": "markdown",
   "metadata": {},
   "source": [
    "<!-- BEGIN QUESTION -->\n",
    "<div class=\"alert alert-warning\">\n",
    "\n",
    "### Question 1.1:\n",
    "In the cell below, use `.select()` to create a table with the company's name, their year of disclosure, and their total revenue. <br> <br>\n",
    "    \n",
    "*Hint:* If you're running into an error, make sure to put the column name in quotation marks!\n",
    "</div>"
   ]
  },
  {
   "cell_type": "code",
   "execution_count": null,
   "metadata": {},
   "outputs": [],
   "source": [
    "# Replace ... with the necessary column name(s)\n",
    "emissions.select(...)"
   ]
  },
  {
   "cell_type": "markdown",
   "metadata": {},
   "source": [
    "<!-- END QUESTION -->"
   ]
  },
  {
   "cell_type": "markdown",
   "metadata": {},
   "source": [
    "### 1.2 Conditioning on Rows\n",
    "\n",
    "When we want to focus on rows in which the data meets some condition, we can use the `.where()` method. In the exercise below, you will use the `.where()` method to create a table that displays **only** rows that meet a certain condition.\n",
    "\n",
    "For reference, to use the `.where()` method it should be of the form: `tbl.where(col1_name, predicate_fuction)`, where the `predicate_function` describes the criterion that the column's values should meet.\n",
    "\n",
    "Here are some helpful predicate functions you *may* need that describe the criterion the column must meet:\n",
    "\n",
    "|Predicate|Example|Result|\n",
    "|-|-|-|\n",
    "|`are.equal_to`|`are.equal_to(50)`|Find rows with values equal to 50|\n",
    "|`are.not_equal_to`|`are.not_equal_to(50)`|Find rows with values not equal to 50|\n",
    "|`are.above`|`are.above(50)`|Find rows with values above (and not equal to) 50|\n",
    "|`are.above_or_equal_to`|`are.above_or_equal_to(50)`|Find rows with values above 50 or equal to 50|\n",
    "|`are.below`|`are.below(50)`|Find rows with values below 50|\n",
    "|`are.between`|`are.between(2, 10)`|Find rows with values above or equal to 2 and below 10|\n",
    "|`are.between_or_equal_to`|`are.between_or_equal_to(2, 10)`|Find rows with values above or equal to 2 and below or equal to 10|\n"
   ]
  },
  {
   "cell_type": "markdown",
   "metadata": {},
   "source": [
    "<!-- BEGIN QUESTION -->\n",
    "<div class=\"alert alert-warning\">\n",
    "\n",
    "### Question 1.2:\n",
    "In the cell below, use `.where()` to create a table that only includes companies whose `Total Revenue` ranges from 50,000 to 3,000,000 in their respective currency.\n",
    "</div>"
   ]
  },
  {
   "cell_type": "code",
   "execution_count": null,
   "metadata": {},
   "outputs": [],
   "source": [
    "# Replace ... with the appropriate column name and condition\n",
    "emissions.where(..., ...) "
   ]
  },
  {
   "cell_type": "markdown",
   "metadata": {},
   "source": [
    "<!-- END QUESTION -->"
   ]
  },
  {
   "cell_type": "markdown",
   "metadata": {},
   "source": [
    "### 1.3 Sorting Values\n",
    "\n",
    "Sorting values can reveal interesting patterns. In the exercise below, you will use the `.sort()` method to sort a specific column's values in either ascending or descending order. \n",
    "\n",
    "For reference, to use the `.sort()` method it should look something like: `tbl.sort(col1_name)` to sort in **ascending order** and `tbl.sort(col1_name, descending = True)` to sort in **descending order**."
   ]
  },
  {
   "cell_type": "markdown",
   "metadata": {},
   "source": [
    "<!-- BEGIN QUESTION -->\n",
    "<div class=\"alert alert-warning\">\n",
    "\n",
    "### Question 1.3.1:\n",
    "Using `.sort()`, sort the `emissions` table to be able to find the company with the highest total revenue (i.e. sort total revenue from highest to lowest). <br> <br>\n",
    "    \n",
    "Then, in the text cell below, write about any interesting trends you notice for the top few firms. *Hint:* Look at the `Currency of Total Revenue` column!\n",
    "</div>"
   ]
  },
  {
   "cell_type": "code",
   "execution_count": 4,
   "metadata": {},
   "outputs": [
    {
     "ename": "TypeError",
     "evalue": "object of type 'ellipsis' has no len()",
     "output_type": "error",
     "traceback": [
      "\u001b[0;31m---------------------------------------------------------------------------\u001b[0m",
      "\u001b[0;31mTypeError\u001b[0m                                 Traceback (most recent call last)",
      "Cell \u001b[0;32mIn[4], line 2\u001b[0m\n\u001b[1;32m      1\u001b[0m \u001b[38;5;66;03m# Replace ... with the necessary code\u001b[39;00m\n\u001b[0;32m----> 2\u001b[0m \u001b[43memissions\u001b[49m\u001b[38;5;241;43m.\u001b[39;49m\u001b[43msort\u001b[49m\u001b[43m(\u001b[49m\u001b[38;5;241;43m.\u001b[39;49m\u001b[38;5;241;43m.\u001b[39;49m\u001b[38;5;241;43m.\u001b[39;49m\u001b[43m,\u001b[49m\u001b[43m \u001b[49m\u001b[38;5;241;43m.\u001b[39;49m\u001b[38;5;241;43m.\u001b[39;49m\u001b[38;5;241;43m.\u001b[39;49m\u001b[43m)\u001b[49m\n",
      "File \u001b[0;32m/opt/conda/lib/python3.9/site-packages/datascience/tables.py:1479\u001b[0m, in \u001b[0;36mTable.sort\u001b[0;34m(self, column_or_label, descending, distinct)\u001b[0m\n\u001b[1;32m   1418\u001b[0m \u001b[38;5;28;01mdef\u001b[39;00m \u001b[38;5;21msort\u001b[39m(\u001b[38;5;28mself\u001b[39m, column_or_label, descending\u001b[38;5;241m=\u001b[39m\u001b[38;5;28;01mFalse\u001b[39;00m, distinct\u001b[38;5;241m=\u001b[39m\u001b[38;5;28;01mFalse\u001b[39;00m):\n\u001b[1;32m   1419\u001b[0m \u001b[38;5;250m    \u001b[39m\u001b[38;5;124;03m\"\"\"Return a Table of rows sorted according to the values in a column.\u001b[39;00m\n\u001b[1;32m   1420\u001b[0m \n\u001b[1;32m   1421\u001b[0m \u001b[38;5;124;03m    Args:\u001b[39;00m\n\u001b[0;32m   (...)\u001b[0m\n\u001b[1;32m   1477\u001b[0m \u001b[38;5;124;03m    Blue  | Rectangular | 12     | 2\u001b[39;00m\n\u001b[1;32m   1478\u001b[0m \u001b[38;5;124;03m    \"\"\"\u001b[39;00m\n\u001b[0;32m-> 1479\u001b[0m     column \u001b[38;5;241m=\u001b[39m \u001b[38;5;28;43mself\u001b[39;49m\u001b[38;5;241;43m.\u001b[39;49m\u001b[43m_get_column\u001b[49m\u001b[43m(\u001b[49m\u001b[43mcolumn_or_label\u001b[49m\u001b[43m)\u001b[49m\n\u001b[1;32m   1480\u001b[0m     \u001b[38;5;28;01mif\u001b[39;00m distinct:\n\u001b[1;32m   1481\u001b[0m         _, row_numbers \u001b[38;5;241m=\u001b[39m np\u001b[38;5;241m.\u001b[39munique(column, return_index\u001b[38;5;241m=\u001b[39m\u001b[38;5;28;01mTrue\u001b[39;00m)\n",
      "File \u001b[0;32m/opt/conda/lib/python3.9/site-packages/datascience/tables.py:2211\u001b[0m, in \u001b[0;36mTable._get_column\u001b[0;34m(self, column_or_label)\u001b[0m\n\u001b[1;32m   2209\u001b[0m     \u001b[38;5;28;01mraise\u001b[39;00m \u001b[38;5;167;01mValueError\u001b[39;00m(\u001b[38;5;124m'\u001b[39m\u001b[38;5;124mlabel \u001b[39m\u001b[38;5;124m\"\u001b[39m\u001b[38;5;132;01m{}\u001b[39;00m\u001b[38;5;124m\"\u001b[39m\u001b[38;5;124m not in labels \u001b[39m\u001b[38;5;132;01m{}\u001b[39;00m\u001b[38;5;124m'\u001b[39m\u001b[38;5;241m.\u001b[39mformat(c, \u001b[38;5;28mself\u001b[39m\u001b[38;5;241m.\u001b[39mlabels))\n\u001b[1;32m   2210\u001b[0m \u001b[38;5;28;01melse\u001b[39;00m:\n\u001b[0;32m-> 2211\u001b[0m     \u001b[38;5;28;01massert\u001b[39;00m \u001b[38;5;28;43mlen\u001b[39;49m\u001b[43m(\u001b[49m\u001b[43mc\u001b[49m\u001b[43m)\u001b[49m \u001b[38;5;241m==\u001b[39m \u001b[38;5;28mself\u001b[39m\u001b[38;5;241m.\u001b[39mnum_rows, \u001b[38;5;124m'\u001b[39m\u001b[38;5;124mcolumn length mismatch\u001b[39m\u001b[38;5;124m'\u001b[39m\n\u001b[1;32m   2212\u001b[0m     \u001b[38;5;28;01mreturn\u001b[39;00m c\n",
      "\u001b[0;31mTypeError\u001b[0m: object of type 'ellipsis' has no len()"
     ]
    }
   ],
   "source": [
    "# Replace ... with the necessary code\n",
    "emissions.sort(..., ...)"
   ]
  },
  {
   "cell_type": "markdown",
   "metadata": {},
   "source": [
    "*Type your answer here. Double-click to edit this cell and replace this text with your answer. Run this cell to proceed when finished.*"
   ]
  },
  {
   "cell_type": "markdown",
   "metadata": {},
   "source": [
    "<!-- END QUESTION -->"
   ]
  },
  {
   "cell_type": "markdown",
   "metadata": {},
   "source": [
    "<!-- BEGIN QUESTION -->\n",
    "<div class=\"alert alert-warning\">\n",
    "\n",
    "### Question 1.3.2:\n",
    "Using `.sort()`, sort the `emissions` table to find the company with the lowest `Scope 1 value` (i.e. sort `Scope 1 value` from lowest to highest).\n",
    "</div>"
   ]
  },
  {
   "cell_type": "code",
   "execution_count": null,
   "metadata": {},
   "outputs": [],
   "source": [
    "# Replace ... with the necessary code\n",
    "emissions.sort(...)"
   ]
  },
  {
   "cell_type": "markdown",
   "metadata": {},
   "source": [
    "<!-- END QUESTION -->"
   ]
  },
  {
   "cell_type": "markdown",
   "metadata": {},
   "source": [
    "### 1.4 Putting it all together"
   ]
  },
  {
   "cell_type": "markdown",
   "metadata": {},
   "source": [
    "<div class=\"alert alert-block alert-success\">\n",
    "    <p style=\"font-size:20px\">This section is advanced/optional\n",
    "</div>"
   ]
  },
  {
   "cell_type": "markdown",
   "metadata": {},
   "source": [
    "You've worked with `.select()`, `.where()`, and `.sort()` individually -- but you could also use them together. Now, it's time to try out using all the methods together! In the exercise below, you will fill in the necessary code to create the desired table. \n",
    "\n",
    "**This sections deals with chaining together methods. This is a more complex topic, so it's okay if you don't understand. The exercise below is optional. Feel free to try it out if you want!**"
   ]
  },
  {
   "cell_type": "markdown",
   "metadata": {},
   "source": [
    "<!-- BEGIN QUESTION -->\n",
    "<div class=\"alert alert-warning\">\n",
    "\n",
    "### Question 1.4 (Optional):\n",
    "Using `.select()`, `.where()`, and `.sort()` to create a table that displays the company name, their sector (including the 'Company Sector (Other)' column), and their total revenue, **only** for companies whose total revenue is below $100,000,000. Sort this table by total revenue in ascending order."
   ]
  },
  {
   "cell_type": "code",
   "execution_count": null,
   "metadata": {},
   "outputs": [],
   "source": [
    "# Replace ... with the necessary column names and conditions\n",
    "(emissions.select(...)\n",
    "            .where(..., ...)\n",
    "            .sort(...))"
   ]
  },
  {
   "cell_type": "markdown",
   "metadata": {},
   "source": [
    "<!-- END QUESTION -->"
   ]
  },
  {
   "cell_type": "markdown",
   "metadata": {},
   "source": [
    "<hr style=\"border: 2px solid #003262\">\n",
    "<hr style=\"border: 2px solid #C9B676\">"
   ]
  },
  {
   "cell_type": "markdown",
   "metadata": {},
   "source": [
    "## 2. More Advanced Table Operations: `apply`, `group`, `pivot`\n",
    "\n",
    "Now you have done some exercises with basic table operations, let's think back to what we learned regarding the advanced table operations in the previous notebook. Now, let's try them out on our own!\n",
    "\n",
    "For the exercises below, you will fill in the necessary code to create the desired tables. If you get stuck, feel free to reference the code in Notebook 2.\n",
    "\n",
    "**Reminder:** Run your code cells after you fill in the blanks and see if they return the expected result."
   ]
  },
  {
   "cell_type": "markdown",
   "metadata": {},
   "source": [
    "### 2.1 Apply\n",
    "\n",
    "In Notebook 2, we got some experience with how we can apply different types of functions to a column in our dataset using the `.apply()` function.\n",
    "\n",
    "In the following question, we'll use `.apply()` to clean up the presentation of the values in the `Scope 3 value` column. For reference, the `.apply()` method looks something like this: `tbl.apply(function_to_apply, 'column_name')`."
   ]
  },
  {
   "cell_type": "markdown",
   "metadata": {},
   "source": [
    "<!-- BEGIN QUESTION -->\n",
    "<div class=\"alert alert-warning\">\n",
    "\n",
    "### Question 2.1:\n",
    "The numbers in the `Scope 3 value` column look messy! We have decided that we only care about the value in the form of millions. Let's use `.apply()` to help us add a new column called \"Scope 3 value (Millions)\" that contains all the `Scope 3 value`s in the form of millions. <br> <br>\n",
    "\n",
    "Note that we have already coded the `make_million` function in the cell below.\n",
    "</div>"
   ]
  },
  {
   "cell_type": "code",
   "execution_count": null,
   "metadata": {},
   "outputs": [],
   "source": [
    "# The make_million function is written below\n",
    "def make_million(scope_value):\n",
    "    return scope_value // (10 ** 6)"
   ]
  },
  {
   "cell_type": "code",
   "execution_count": null,
   "metadata": {},
   "outputs": [],
   "source": [
    "# Replace ... with the appropriate column function and column name\n",
    "million = emissions.apply(..., ...)\n",
    "\n",
    "# Here, we add a new column to our dataset with the value you computed -- you don't need to do anything here.\n",
    "emissions['Scope 3 value (Millions)'] = million\n",
    "emissions.show(5)"
   ]
  },
  {
   "cell_type": "markdown",
   "metadata": {},
   "source": [
    "<!-- END QUESTION -->"
   ]
  },
  {
   "cell_type": "markdown",
   "metadata": {},
   "source": [
    "### 2.2 Group"
   ]
  },
  {
   "cell_type": "markdown",
   "metadata": {},
   "source": [
    "Notebook 2 showed us some examples of how useful it can be to group by categorical information such as `Company Sector`. In the following question, you'll get to explore the data a bit on your own by grouping the data by a column of your choice! For reference, the `.group()` method looks something like this: `tbl.group('column_to_group_by', aggregation_function)`."
   ]
  },
  {
   "cell_type": "markdown",
   "metadata": {},
   "source": [
    "<!-- BEGIN QUESTION -->\n",
    "<div class=\"alert alert-warning\">\n",
    "\n",
    "### Question 2.2\n",
    "Group the data by whatever column you would like in order to find an intriguing trend. Then, explain what you did and what you found interesting about it. Look at what we did in Notebook 2 for inspiration! <br> <br>\n",
    "\n",
    "*Hint:* Ask yourself a question you might be interested in looking at, such as: how many companies use EUR? What is the `Scope 1 value` for each company? Be creative and explore anything that spikes your interest! \n",
    "</div>"
   ]
  },
  {
   "cell_type": "code",
   "execution_count": null,
   "metadata": {},
   "outputs": [],
   "source": [
    "# Replace ... with your column name and aggregation function\n",
    "emissions.group(..., ...)"
   ]
  },
  {
   "cell_type": "markdown",
   "metadata": {},
   "source": [
    "*Type your answer here. Double-click to edit this cell and replace this text with your answer. Run this cell to proceed when finished.*"
   ]
  },
  {
   "cell_type": "markdown",
   "metadata": {},
   "source": [
    "<!-- END QUESTION -->"
   ]
  },
  {
   "cell_type": "markdown",
   "metadata": {},
   "source": [
    "### 2.3 Pivot"
   ]
  },
  {
   "cell_type": "markdown",
   "metadata": {},
   "source": [
    "<div class=\"alert alert-block alert-success\">\n",
    "    <p style=\"font-size:20px\">This section is advanced/optional\n",
    "</div>"
   ]
  },
  {
   "cell_type": "markdown",
   "metadata": {},
   "source": [
    "The following question for the `.pivot()` method is optional, but it is definitely an interesting functionality to be able to do! If you have time and want to try it out, give it a shot below. Be sure to reference back to how we used `.pivot()` in Notebook 2. For reference, the `.pivot()` method looks something like this: `tbl.pivot('new_row_index', 'new_column_index')`."
   ]
  },
  {
   "cell_type": "markdown",
   "metadata": {},
   "source": [
    "<!-- BEGIN QUESTION -->\n",
    "<div class=\"alert alert-warning\">\n",
    "\n",
    "### Question 2.3 (Optional):\n",
    "Notice how some companies have values for the internal price on carbon and some don't? Let's use the `.pivot()` method to see this breakdown for each `Company Name`. <br> <br>\n",
    "\n",
    "*Hint:* Look back to how the `.pivot()` method changed the presentation of the tables in Notebook 2 if you feel stuck!\n",
    "</div>"
   ]
  },
  {
   "cell_type": "markdown",
   "metadata": {},
   "source": [
    "To accomplish this task, we need to do some manipulation of the data using the `pandas` module in the following cell. You don't have to understand how this code works, but essentially, we write the code below to remove the duplicate rows to have only one row per company. Otherwise, our pivot table would have multiple repeated rows!"
   ]
  },
  {
   "cell_type": "code",
   "execution_count": null,
   "metadata": {},
   "outputs": [],
   "source": [
    "# We make a new dataset by removing all the duplicates\n",
    "emission = pd.read_csv('emissions.csv')\n",
    "emission = emission.drop(\"Index\", axis = 'columns').drop_duplicates()\n",
    "emission.index.name = 'Index'\n",
    "emission.to_csv('emissions_distinct.csv')\n",
    "emissions_distinct = Table.read_table('emissions_distinct.csv')\n",
    "emissions_distinct.show(5)"
   ]
  },
  {
   "cell_type": "markdown",
   "metadata": {},
   "source": [
    "We then use this new `emissions_distinct` table to perform the pivot operation for this question."
   ]
  },
  {
   "cell_type": "code",
   "execution_count": null,
   "metadata": {},
   "outputs": [],
   "source": [
    "# Replace ... with the appropriate column name and condition\n",
    "emissions_distinct.pivot(..., ...)"
   ]
  },
  {
   "cell_type": "markdown",
   "metadata": {},
   "source": [
    "<!-- END QUESTION -->"
   ]
  },
  {
   "cell_type": "markdown",
   "metadata": {},
   "source": [
    "<hr style=\"border: 2px solid #003262\">\n",
    "<hr style=\"border: 2px solid #C9B676\">"
   ]
  },
  {
   "cell_type": "markdown",
   "metadata": {
    "cell_id": "00009-52f60190-e21f-4107-99a9-d42ab128df40",
    "deepnote_cell_type": "markdown",
    "tags": [
     "ignore"
    ]
   },
   "source": [
    "## 3. Visualizations\n",
    "\n",
    "In this section, you'll get some practice **creating and analyzing some visualizations of the data that we saw for the first time in Notebook 2!** Be sure to reference that notebook, as well as Notebook 1 (which briefly introduced some of these methods) if you're not sure how to answer a question. "
   ]
  },
  {
   "cell_type": "markdown",
   "metadata": {},
   "source": [
    "### 3.1 Basic `datascience` Visualizations"
   ]
  },
  {
   "cell_type": "markdown",
   "metadata": {},
   "source": [
    "In the previous notebook, we saw that we could create visualizations using multiple modules in Python. The only coding questions we'll be asking you in this section will be based on the simpler visualizations we can create with the `datascience` module."
   ]
  },
  {
   "cell_type": "markdown",
   "metadata": {},
   "source": [
    "For the first question, we'll be creating a scatter plot with the `datascience` module. As a reminder, the `.scatter()` method looks something like this: `tbl.scatter('column_on_x_axis', 'column_on_y_axis')`."
   ]
  },
  {
   "cell_type": "markdown",
   "metadata": {},
   "source": [
    "<!-- BEGIN QUESTION -->\n",
    "<div class=\"alert alert-warning\">\n",
    "\n",
    "### Question 3.1\n",
    "Create a scatter plot visualizing the relationship between `Scope 3 value` and `Total Revenue`.\n",
    "</div>"
   ]
  },
  {
   "cell_type": "code",
   "execution_count": null,
   "metadata": {},
   "outputs": [],
   "source": [
    "# Replace the ellipsis with the columns for Scope 3 value and Total Revenue\n",
    "emissions.scatter(..., ...)"
   ]
  },
  {
   "cell_type": "markdown",
   "metadata": {},
   "source": [
    "<!-- END QUESTION -->"
   ]
  },
  {
   "cell_type": "markdown",
   "metadata": {},
   "source": [
    "Next, let's practice making a bar chart to visualize the relationship between a categorical column and a numeric one. As a reminder, in the `datascience` module, the `.barh()` method looks as follows: `tbl.barh('categorical_column', 'numeric_column')`. Let's utilize it to create a bar chart of the counts of different currencies used."
   ]
  },
  {
   "cell_type": "markdown",
   "metadata": {},
   "source": [
    "<!-- BEGIN QUESTION -->\n",
    "<div class=\"alert alert-warning\">\n",
    "\n",
    "### Question 3.2\n",
    "Create a bar chart visualizing the relationship between `Currency of Total Revenue` and the number of companies that use it in the dataset. <br> <br>\n",
    "    \n",
    "*Hint:* We've already filled out the numeric column `'count'` for you. Replace the ellipsis below with the categorical column we want to group the data by! The two sets of ellipsis should be the same column name.\n",
    "</div>"
   ]
  },
  {
   "cell_type": "code",
   "execution_count": null,
   "metadata": {},
   "outputs": [],
   "source": [
    "# Replace the ellipsis with the categorical column we want to visualize\n",
    "emissions.group(...).barh(..., 'count')"
   ]
  },
  {
   "cell_type": "markdown",
   "metadata": {},
   "source": [
    "<!-- END QUESTION -->"
   ]
  },
  {
   "cell_type": "markdown",
   "metadata": {},
   "source": [
    "### 3.2 Analysis with More Advanced Visualizations"
   ]
  },
  {
   "cell_type": "markdown",
   "metadata": {},
   "source": [
    "In this section, you'll be **answering some short-answer questions based on some visualizations we create for you.** Hopefully this will give you a better insight into the types of trends we look for when doing exploratory data analysis, as well as the different types of questions we have to ask ourselves."
   ]
  },
  {
   "cell_type": "markdown",
   "metadata": {},
   "source": [
    "First, we'll take a look at an example of a histogram, a type of graph that displays the distribution of a numeric value that we talked about in Notebook 1."
   ]
  },
  {
   "cell_type": "code",
   "execution_count": null,
   "metadata": {},
   "outputs": [],
   "source": [
    "df = pd.read_csv('emissions.csv')\n",
    "sns.histplot(df['Scope 1 value']);"
   ]
  },
  {
   "cell_type": "markdown",
   "metadata": {},
   "source": [
    "In the above graph, we're looking at the distribution of the `Scope 1 value` across all of the companies in the dataset. In histograms like these, the heights of the vertical bars represent higher counts of companies with the specified `Scope 1 value`."
   ]
  },
  {
   "cell_type": "markdown",
   "metadata": {},
   "source": [
    "<!-- BEGIN QUESTION -->\n",
    "<div class=\"alert alert-warning\">\n",
    "\n",
    "### Question 3.3\n",
    "How would you describe the distribution of the `Scope 1 value` across the companies in the dataset? Are the values concentrated in one area? Is the distribution skewed towards one side, or is it symmetric? Feel free to discuss anything else you find interesting.\n",
    "</div>"
   ]
  },
  {
   "cell_type": "markdown",
   "metadata": {},
   "source": [
    "*Type your answer here. Double-click to edit this cell and replace this text with your answer. Run this cell to proceed when finished.*"
   ]
  },
  {
   "cell_type": "markdown",
   "metadata": {},
   "source": [
    "<!-- END QUESTION -->"
   ]
  },
  {
   "cell_type": "markdown",
   "metadata": {},
   "source": [
    "The final graph we'll be looking at comes directly from Section 3.3 of Notebook 2, where we utilized a second CSV of data specific to the Food & Agriculture Sector. The interactive graph below plots the summated Scope 1 and Scope 2 values for multiple companies across the years 2018 - 2021."
   ]
  },
  {
   "cell_type": "code",
   "execution_count": null,
   "metadata": {},
   "outputs": [],
   "source": [
    "food_ag = pd.read_csv('foodag.csv')\n",
    "companies = food_ag['COMPANY NAME'].unique()\n",
    "years = ['2018', '2019', '2020', '2021']\n",
    "\n",
    "@interact(x = widgets.Dropdown(options = list(companies), value = 'Danone'))\n",
    "def g(x):\n",
    "    emissions = food_ag[food_ag['COMPANY NAME'] == x][\"TOTAL EMISSIONS\"] / 1000\n",
    "    bar_container = plt.bar(years, emissions);\n",
    "    plt.ylim(0, max(emissions) + 5000)\n",
    "    plt.xlabel('Year')\n",
    "    plt.ylabel('Total Scope 1 & Scope 2 Emissions (thousand mt CO2e)', size = 11)\n",
    "    plt.title(x + ' GHG Emissions (2018-2021)', size = 15)\n",
    "    plt.bar_label(bar_container, fmt='{:,.0f}')\n",
    "    plt.grid(False)"
   ]
  },
  {
   "cell_type": "markdown",
   "metadata": {},
   "source": [
    "<!-- BEGIN QUESTION -->\n",
    "<div class=\"alert alert-warning\">\n",
    "\n",
    "### Question 3.4\n",
    "Pick 1-2 companies using the dropdown menu in the visualization above, and describe any trends over the years that you notice (if you pick 2 companies, you can also compare and contrast the trends). You can also do your own research into information you can find regarding your chosen company's steps to decarbonize in recent years. Do the trends make sense? Is there anything that surprises you? Feel free to discuss whatever interests you the most.\n",
    "</div>"
   ]
  },
  {
   "cell_type": "markdown",
   "metadata": {},
   "source": [
    "*Type your answer here. Double-click to edit this cell and replace this text with your answer. Run this cell to proceed when finished.*"
   ]
  },
  {
   "cell_type": "markdown",
   "metadata": {},
   "source": [
    "<!-- END QUESTION -->"
   ]
  },
  {
   "cell_type": "markdown",
   "metadata": {},
   "source": [
    "<hr style=\"border: 2px solid #003262\">\n",
    "<hr style=\"border: 2px solid #C9B676\">"
   ]
  },
  {
   "cell_type": "markdown",
   "metadata": {},
   "source": [
    "## How to Submit This Assignment"
   ]
  },
  {
   "cell_type": "markdown",
   "metadata": {},
   "source": [
    "**Make sure that you've answered all the questions.**\n",
    "\n",
    "Follow these steps: \n",
    "1. Go to `File` in the menu bar, then select `Save and Checkpoint` (or press `Ctrl` + `S` on Windows / `Cmd` + `S` on Mac on the keyboard).\n",
    "2. Go to `Cell` in the menu bar, then select `Run All`.\n",
    "3. Click the link produced by the code cell below.\n",
    "4. Submit the downloaded PDF according to your professor's instructions.\n",
    "\n",
    "**Note:** If clicking the link below doesn't work for you, don't worry! Simply click `File` in the menu, find `Download As`, and choose `PDF via LaTeX (.pdf)` to save a copy of your PDF onto your computer. Alternatively, you can also right click the link and save the link content as a PDF.\n",
    "\n",
    "**Check the PDF before submitting and make sure all of your answers and any changes are shown.**"
   ]
  },
  {
   "cell_type": "code",
   "execution_count": null,
   "metadata": {},
   "outputs": [],
   "source": [
    "# Run this cell\n",
    "# This may take a few extra seconds.\n",
    "from otter.export import export_notebook\n",
    "from IPython.display import display, HTML\n",
    "export_notebook(\"ESPM-136_Notebook3_Assignment.ipynb\", filtering=True, pagebreaks=False)\n",
    "display(HTML(\"<p style='font-size:20px'> <br>Save this notebook, then click <a href='ESPM-136_Notebook3_Assignment.pdf' download>here</a> to open the PDF.<br></p>\"))"
   ]
  },
  {
   "cell_type": "markdown",
   "metadata": {},
   "source": [
    "<hr style=\"border: 2px solid #003262\">\n",
    "<hr style=\"border: 2px solid #C9B676\">"
   ]
  },
  {
   "cell_type": "markdown",
   "metadata": {},
   "source": [
    "## Conclusion"
   ]
  },
  {
   "cell_type": "markdown",
   "metadata": {},
   "source": [
    "In this notebook, you've learned quite a bit, below is a summary of the methods you got to practice implementing:\n",
    "- Basic Table Operations \n",
    "    - Select\n",
    "    - Sort\n",
    "    - Where (Conditioning)\n",
    "- More Advanced Table Operations\n",
    "    - Apply\n",
    "    - Group\n",
    "    - Pivot\n",
    "- Visualizations\n",
    "    - Basic data visualizations with `datascience`\n",
    "    - More advanced visualizations with `Seaborn` and `Plotly`\n",
    "\n",
    "<h3>Congratulations on finishing the notebook!</h3>"
   ]
  },
  {
   "cell_type": "markdown",
   "metadata": {},
   "source": [
    "<hr style=\"border: 2px solid #003262\">\n",
    "<hr style=\"border: 2px solid #C9B676\">"
   ]
  },
  {
   "cell_type": "markdown",
   "metadata": {},
   "source": [
    "## A Final Request: Feedback Form"
   ]
  },
  {
   "cell_type": "markdown",
   "metadata": {},
   "source": [
    "<div class=\"alert alert-info\">\n",
    "<b> We encourage students to fill out the following feedback form to share your experience with this Modules notebook. This feedback form will take no longer than 5 minutes. At UC Berkeley Data Science Undergraduate Studies Modules, we appreciate all feedback to improve the learning of students and experience utilizing Jupyter Notebooks for Data Science Education: </b> \n",
    "</div>\n",
    "\n",
    "# [UC Berkeley Data Science Feedback Form](https://forms.gle/hPgYMxFWKXH2sVkd7)"
   ]
  }
 ],
 "metadata": {
  "deepnote_execution_queue": [],
  "deepnote_notebook_id": "693e9760-244f-475b-aa3d-f49b62665db0",
  "kernelspec": {
   "display_name": "Python 3 (ipykernel)",
   "language": "python",
   "name": "python3"
  },
  "language_info": {
   "codemirror_mode": {
    "name": "ipython",
    "version": 3
   },
   "file_extension": ".py",
   "mimetype": "text/x-python",
   "name": "python",
   "nbconvert_exporter": "python",
   "pygments_lexer": "ipython3",
   "version": "3.9.15"
  },
  "vscode": {
   "interpreter": {
    "hash": "aee8b7b246df8f9039afb4144a1f6fd8d2ca17a180786b69acc140d282b71a49"
   }
  },
  "widgets": {
   "application/vnd.jupyter.widget-state+json": {
    "state": {},
    "version_major": 2,
    "version_minor": 0
   }
  }
 },
 "nbformat": 4,
 "nbformat_minor": 4
}
