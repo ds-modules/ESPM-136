{
 "cells": [
  {
   "cell_type": "markdown",
   "metadata": {
    "cell_id": "00001-eedf9a46-cb0c-42bc-a90f-96265663c0d3",
    "deepnote_cell_type": "markdown",
    "tags": [
     "ignore"
    ]
   },
   "source": [
    "## [ESPM-136] Notebook 3: Interactive Data Exploration Assignment\n",
    "\n",
    "## **Introduction Section here**\n",
    "\n",
    "Discuss overview of notebook and what students can take away from it here. Can also provide any relevant resources here.\n",
    "\n",
    "need to also mention that this notebook has questions that are bolded in yellow for the students to answer: probably won't be graded, might change later?"
   ]
  },
  {
   "cell_type": "markdown",
   "metadata": {},
   "source": [
    "keeping below cell just for reference, in case we have advanced/optional sections. delete later!"
   ]
  },
  {
   "cell_type": "markdown",
   "metadata": {},
   "source": [
    "<div class=\"alert alert-block alert-success\">\n",
    "    <p style=\"font-size:20px\">This section is advanced/optional\n",
    "</div>"
   ]
  },
  {
   "cell_type": "markdown",
   "metadata": {},
   "source": [
    "<hr style=\"border: 2px solid #003262\">\n",
    "<hr style=\"border: 2px solid #C9B676\">"
   ]
  },
  {
   "cell_type": "markdown",
   "metadata": {},
   "source": [
    "## Learning Outcomes\n",
    "Working through this notebook, you will learn about:\n",
    "1. complete later when sections are establish\n",
    "\n",
    "Also, may want to add table of contents beneath this section, depending on how long notebook is."
   ]
  },
  {
   "cell_type": "markdown",
   "metadata": {},
   "source": [
    "<hr style=\"border: 2px solid #003262\">\n",
    "<hr style=\"border: 2px solid #C9B676\">"
   ]
  },
  {
   "cell_type": "markdown",
   "metadata": {
    "cell_id": "00003-a9cd1167-2276-4e0f-85b6-43d803731627",
    "deepnote_cell_type": "markdown",
    "tags": []
   },
   "source": [
    "## Review / recap of data collection and previous NB [likely be done by Manaar and/or Zcjanin]\n",
    "\n",
    "this section will provide a brief recap of the data collection process so far, to discuss how we got from google forms to here and why we want to import the data in a jupyter notebook as compared to other mediums / what we can accomplish with it. may also be good to quickly discuss implications of the data collection / inputting process.\n",
    "\n",
    "want this section to be pretty short -- dont want a wall of text!"
   ]
  },
  {
   "cell_type": "markdown",
   "metadata": {},
   "source": [
    "<hr style=\"border: 2px solid #003262\">\n",
    "<hr style=\"border: 2px solid #C9B676\">"
   ]
  },
  {
   "cell_type": "markdown",
   "metadata": {
    "cell_id": "00003-058e2913-9587-45ac-8c2f-f284333ac4f3",
    "deepnote_cell_type": "markdown"
   },
   "source": [
    "## Importing and Taking an Initial Look at the Data (manaar will do?)\n",
    "\n",
    "description of the steps we need to take to read_table to create a datascience table to look at our data in tabular format.\n",
    "\n",
    "first, import libraries (note: add any additional libraries you use in your code here! good to keep it all in one place), then read table:"
   ]
  },
  {
   "cell_type": "code",
   "execution_count": 3,
   "metadata": {},
   "outputs": [],
   "source": [
    "import numpy as np\n",
    "from datascience import *\n",
    "import otter\n",
    "grader = otter.Notebook()\n",
    "import matplotlib.pyplot as plt\n",
    "%matplotlib inline\n",
    "plt.style.use(\"fivethirtyeight\")\n",
    "import seaborn as sns, plotly.express as px"
   ]
  },
  {
   "cell_type": "code",
   "execution_count": 4,
   "metadata": {},
   "outputs": [
    {
     "data": {
      "text/html": [
       "<table border=\"1\" class=\"dataframe\">\n",
       "    <thead>\n",
       "        <tr>\n",
       "            <th>Index</th> <th>Company Name</th> <th>Company Sector</th> <th>Company Sector (Other)</th> <th>Year of CDP Disclosure</th> <th>Scope 1 value</th> <th>Scope 2 value (location-based)</th> <th>Scope 2 value (market-based)</th> <th>Scope 3 value</th> <th>Total Revenue</th> <th>Currency of Total Revenue</th> <th>Internal Price on Carbon (Y/N)</th> <th>Price</th>\n",
       "        </tr>\n",
       "    </thead>\n",
       "    <tbody>\n",
       "        <tr>\n",
       "            <td>0    </td> <td>ADIDAS              </td> <td>APPAREL & FOOTWEAR     </td> <td>nan                        </td> <td>2022                  </td> <td>12908.4      </td> <td>nan                           </td> <td>125502                      </td> <td>7.25451e+06  </td> <td>2.1234e+10   </td> <td>EUR                      </td> <td>Yes                           </td> <td>85   </td>\n",
       "        </tr>\n",
       "        <tr>\n",
       "            <td>1    </td> <td>ADIDAS              </td> <td>APPAREL & FOOTWEAR     </td> <td>nan                        </td> <td>2022                  </td> <td>12908.4      </td> <td>nan                           </td> <td>125502                      </td> <td>7.25451e+06  </td> <td>2.1234e+10   </td> <td>EUR                      </td> <td>Yes                           </td> <td>85   </td>\n",
       "        </tr>\n",
       "        <tr>\n",
       "            <td>2    </td> <td>ADIDAS              </td> <td>APPAREL & FOOTWEAR     </td> <td>nan                        </td> <td>2022                  </td> <td>12908.4      </td> <td>nan                           </td> <td>125502                      </td> <td>7.25451e+06  </td> <td>2.1234e+10   </td> <td>EUR                      </td> <td>Yes                           </td> <td>85   </td>\n",
       "        </tr>\n",
       "        <tr>\n",
       "            <td>3    </td> <td>AHOLD DELHAIZE      </td> <td>CONSUMER PACKAGED GOODS</td> <td>GROCERY / FOOD DISTRIBUTION</td> <td>2022                  </td> <td>1.728e+06    </td> <td>1.748e+06                     </td> <td>1.099e+06                   </td> <td>6.59304e+07  </td> <td>75600        </td> <td>EUR                      </td> <td>Yes                           </td> <td>150  </td>\n",
       "        </tr>\n",
       "        <tr>\n",
       "            <td>4    </td> <td>AIR FRANCE-KLM      </td> <td>TRANSPORTATION         </td> <td>nan                        </td> <td>2022                  </td> <td>1.63363e+07  </td> <td>nan                           </td> <td>19104.7                     </td> <td>8.70067e+06  </td> <td>1.4315e+10   </td> <td>EUR                      </td> <td>Yes                           </td> <td>nan  </td>\n",
       "        </tr>\n",
       "        <tr>\n",
       "            <td>5    </td> <td>AIRBUS              </td> <td>OTHER                  </td> <td>ROLLING STOCK MANUFACTURER </td> <td>2022                  </td> <td>561737       </td> <td>339313                        </td> <td>265016                      </td> <td>4.76092e+08  </td> <td>52856        </td> <td>EUR                      </td> <td>Yes                           </td> <td>150  </td>\n",
       "        </tr>\n",
       "        <tr>\n",
       "            <td>6    </td> <td>ALBERTSONS COMPANIES</td> <td>CONSUMER PACKAGED GOODS</td> <td>GROCERY / FOOD DISTRIBUTION</td> <td>2022                  </td> <td>2.76738e+06  </td> <td>1.66352e+06                   </td> <td>1.64609e+06                 </td> <td>7.50445e+06  </td> <td>6.96904e+10  </td> <td>USD                      </td> <td>No                            </td> <td>nan  </td>\n",
       "        </tr>\n",
       "        <tr>\n",
       "            <td>7    </td> <td>ALLY FINANCIAL      </td> <td>OTHER                  </td> <td>FINANCE / BANKING          </td> <td>2022                  </td> <td>4228         </td> <td>9758                          </td> <td>0                           </td> <td>13986        </td> <td>8.381e+09    </td> <td>USD                      </td> <td>No                            </td> <td>nan  </td>\n",
       "        </tr>\n",
       "        <tr>\n",
       "            <td>8    </td> <td>ALSTOM              </td> <td>OTHER                  </td> <td>AEROSPACE                  </td> <td>2022                  </td> <td>107073       </td> <td>144632                        </td> <td>121789                      </td> <td>3.34293e+07  </td> <td>1.5741e+10   </td> <td>EUR                      </td> <td>No                            </td> <td>nan  </td>\n",
       "        </tr>\n",
       "        <tr>\n",
       "            <td>9    </td> <td>AMCOR               </td> <td>CONSUMER PACKAGED GOODS</td> <td>nan                        </td> <td>2022                  </td> <td>529192       </td> <td>1.43269e+06                   </td> <td>1.43208e+06                 </td> <td>1.96516e+07  </td> <td>1.2861e+10   </td> <td>USD                      </td> <td>No                            </td> <td>nan  </td>\n",
       "        </tr>\n",
       "    </tbody>\n",
       "</table>\n",
       "<p>... (146 rows omitted)</p>"
      ],
      "text/plain": [
       "Index | Company Name         | Company Sector          | Company Sector (Other)      | Year of CDP Disclosure | Scope 1 value | Scope 2 value (location-based) | Scope 2 value (market-based) | Scope 3 value | Total Revenue | Currency of Total Revenue | Internal Price on Carbon (Y/N) | Price\n",
       "0     | ADIDAS               | APPAREL & FOOTWEAR      | nan                         | 2022                   | 12908.4       | nan                            | 125502                       | 7.25451e+06   | 2.1234e+10    | EUR                       | Yes                            | 85\n",
       "1     | ADIDAS               | APPAREL & FOOTWEAR      | nan                         | 2022                   | 12908.4       | nan                            | 125502                       | 7.25451e+06   | 2.1234e+10    | EUR                       | Yes                            | 85\n",
       "2     | ADIDAS               | APPAREL & FOOTWEAR      | nan                         | 2022                   | 12908.4       | nan                            | 125502                       | 7.25451e+06   | 2.1234e+10    | EUR                       | Yes                            | 85\n",
       "3     | AHOLD DELHAIZE       | CONSUMER PACKAGED GOODS | GROCERY / FOOD DISTRIBUTION | 2022                   | 1.728e+06     | 1.748e+06                      | 1.099e+06                    | 6.59304e+07   | 75600         | EUR                       | Yes                            | 150\n",
       "4     | AIR FRANCE-KLM       | TRANSPORTATION          | nan                         | 2022                   | 1.63363e+07   | nan                            | 19104.7                      | 8.70067e+06   | 1.4315e+10    | EUR                       | Yes                            | nan\n",
       "5     | AIRBUS               | OTHER                   | ROLLING STOCK MANUFACTURER  | 2022                   | 561737        | 339313                         | 265016                       | 4.76092e+08   | 52856         | EUR                       | Yes                            | 150\n",
       "6     | ALBERTSONS COMPANIES | CONSUMER PACKAGED GOODS | GROCERY / FOOD DISTRIBUTION | 2022                   | 2.76738e+06   | 1.66352e+06                    | 1.64609e+06                  | 7.50445e+06   | 6.96904e+10   | USD                       | No                             | nan\n",
       "7     | ALLY FINANCIAL       | OTHER                   | FINANCE / BANKING           | 2022                   | 4228          | 9758                           | 0                            | 13986         | 8.381e+09     | USD                       | No                             | nan\n",
       "8     | ALSTOM               | OTHER                   | AEROSPACE                   | 2022                   | 107073        | 144632                         | 121789                       | 3.34293e+07   | 1.5741e+10    | EUR                       | No                             | nan\n",
       "9     | AMCOR                | CONSUMER PACKAGED GOODS | nan                         | 2022                   | 529192        | 1.43269e+06                    | 1.43208e+06                  | 1.96516e+07   | 1.2861e+10    | USD                       | No                             | nan\n",
       "... (146 rows omitted)"
      ]
     },
     "execution_count": 4,
     "metadata": {},
     "output_type": "execute_result"
    }
   ],
   "source": [
    "emissions = Table.read_table('emissions.csv')\n",
    "emissions"
   ]
  },
  {
   "cell_type": "markdown",
   "metadata": {},
   "source": [
    "### data dictionary\n",
    "\n",
    "probably be done by Manaar / Zcjanin, can leave this alone for now\n",
    "\n",
    "|column name| meaning |type|\n",
    "|--|--|--|\n",
    "|total|total cost of the bill |number |\n",
    "|tip|the tip left by the party |number |\n",
    "|sex|sex of the person paying |category |\n",
    "|smoker|if the person paying was smoking |category |\n",
    "|day|day of the week |category |\n",
    "|time|meal (e.g., Lunch, Dinner, etc.) |category |\n",
    "|size|how many people were in the party |number |"
   ]
  },
  {
   "cell_type": "markdown",
   "metadata": {
    "cell_id": "00004-a9f5f74b-a641-44a7-8dd5-2f9f58c10236",
    "deepnote_cell_type": "code",
    "execution": {
     "iopub.execute_input": "2022-08-03T09:02:40.079967Z",
     "iopub.status.busy": "2022-08-03T09:02:40.079000Z",
     "iopub.status.idle": "2022-08-03T09:02:40.118322Z",
     "shell.execute_reply": "2022-08-03T09:02:40.117260Z",
     "shell.execute_reply.started": "2022-08-03T09:02:40.079911Z"
    },
    "tags": [
     "ignore"
    ]
   },
   "source": [
    "Next, have a small section looking into certain basic summary statistics like num_rows and num_cols and labels"
   ]
  },
  {
   "cell_type": "markdown",
   "metadata": {},
   "source": [
    "<hr style=\"border: 2px solid #003262\">\n",
    "<hr style=\"border: 2px solid #C9B676\">"
   ]
  },
  {
   "cell_type": "markdown",
   "metadata": {
    "cell_id": "00006-dadd2623-2173-4cdb-8c95-207741ecc765",
    "deepnote_cell_type": "markdown",
    "tags": [
     "ignore"
    ]
   },
   "source": [
    "## Table Operations: `select`, `where`, `sort`\n",
    "\n",
    "As we've seen in **Notebook 2**, there are some interesting table operations that allow us to begin exploring and analyzing our data. We showed you some examples and now it's your turn to try out these methods! \n",
    "\n",
    "For the exercises below, you will fill in the necessary code to create the desired tables. If you get stuck, feel free to reference the code in Notebook 2\n",
    "\n",
    "**Reminders:** text values/column names should be in quotation marks while integers are not and run your code cells after you answer the exercises"
   ]
  },
  {
   "cell_type": "markdown",
   "metadata": {},
   "source": [
    "### 1.1: Selecting Columns\n",
    "\n",
    "Sometimes, we only want certain information from our table. In the question below, you will be using the `select` method to choose which columns of the `emissions` table we want.\n",
    "\n",
    "For reference, to use the `select` method it should look something like: `tbl.select(col1_name, col2_name, ...)` for however many columns we want our table to have."
   ]
  },
  {
   "cell_type": "markdown",
   "metadata": {},
   "source": [
    "<!-- BEGIN QUESTION -->\n",
    "<div class=\"alert alert-warning\">\n",
    "\n",
    "### Question 1.1:\n",
    "In the cell below, use `select` to create a table with the company's name, their year of disclosure, and their total revenue.\n",
    "</div>"
   ]
  },
  {
   "cell_type": "code",
   "execution_count": null,
   "metadata": {},
   "outputs": [],
   "source": [
    "# Replace ... with the necessary column name(s)\n",
    "emissions.select(...)"
   ]
  },
  {
   "cell_type": "markdown",
   "metadata": {},
   "source": [
    "<!-- END QUESTION -->"
   ]
  },
  {
   "cell_type": "markdown",
   "metadata": {},
   "source": [
    "### 1.2: Conditioning on Rows\n",
    "\n",
    "When we want to focus on rows that meet some condition, we can use the `where` method. In the exercise below, you will use the `where` method to create a table that displays **only** rows that meet a certain condition.\n",
    "\n",
    "For reference, to use the `where` method it should look something like: `tbl.where(col1_name, predicate_fuction)` where the `predicate_function` describes the criterion that the column's values should meet.\n",
    "\n",
    "Here are some helpful predicate functions you *may* need that describe the criterion the column must meet:\n",
    "\n",
    "|Predicate|Example|Result|\n",
    "|-|-|-|\n",
    "|`are.equal_to`|`are.equal_to(50)`|Find rows with values equal to 50|\n",
    "|`are.not_equal_to`|`are.not_equal_to(50)`|Find rows with values not equal to 50|\n",
    "|`are.above`|`are.above(50)`|Find rows with values above (and not equal to) 50|\n",
    "|`are.above_or_equal_to`|`are.above_or_equal_to(50)`|Find rows with values above 50 or equal to 50|\n",
    "|`are.below`|`are.below(50)`|Find rows with values below 50|\n",
    "|`are.between`|`are.between(2, 10)`|Find rows with values above or equal to 2 and below 10|\n",
    "|`are.between_or_equal_to`|`are.between_or_equal_to(2, 10)`|Find rows with values above or equal to 2 and below or equal to 10|\n"
   ]
  },
  {
   "cell_type": "markdown",
   "metadata": {},
   "source": [
    "<!-- BEGIN QUESTION -->\n",
    "<div class=\"alert alert-warning\">\n",
    "\n",
    "### Question 1.2:\n",
    "In the cell below, use `where` to create a table that only includes companies whose total revenue ranges from 50,000 to 3,000,000 in their respective currency.\n",
    "</div>"
   ]
  },
  {
   "cell_type": "code",
   "execution_count": 10,
   "metadata": {},
   "outputs": [
    {
     "data": {
      "text/html": [
       "<table border=\"1\" class=\"dataframe\">\n",
       "    <thead>\n",
       "        <tr>\n",
       "            <th>Index</th> <th>Company Name</th> <th>Company Sector</th> <th>Company Sector (Other)</th> <th>Year of CDP Disclosure</th> <th>Scope 1 value</th> <th>Scope 2 value (location-based)</th> <th>Scope 2 value (market-based)</th> <th>Scope 3 value</th> <th>Total Revenue</th> <th>Currency of Total Revenue</th> <th>Internal Price on Carbon (Y/N)</th> <th>Price</th>\n",
       "        </tr>\n",
       "    </thead>\n",
       "    <tbody>\n",
       "        <tr>\n",
       "            <td>3    </td> <td>AHOLD DELHAIZE      </td> <td>CONSUMER PACKAGED GOODS</td> <td>GROCERY / FOOD DISTRIBUTION</td> <td>2022                  </td> <td>1.728e+06    </td> <td>1.748e+06                     </td> <td>1.099e+06                   </td> <td>6.59304e+07  </td> <td>75600        </td> <td>EUR                      </td> <td>Yes                           </td> <td>150  </td>\n",
       "        </tr>\n",
       "        <tr>\n",
       "            <td>5    </td> <td>AIRBUS              </td> <td>OTHER                  </td> <td>ROLLING STOCK MANUFACTURER </td> <td>2022                  </td> <td>561737       </td> <td>339313                        </td> <td>265016                      </td> <td>4.76092e+08  </td> <td>52856        </td> <td>EUR                      </td> <td>Yes                           </td> <td>150  </td>\n",
       "        </tr>\n",
       "        <tr>\n",
       "            <td>81   </td> <td>LEVI STRAUSS & CO.  </td> <td>APPAREL & FOOTWEAR     </td> <td>nan                        </td> <td>2022                  </td> <td>2908         </td> <td>nan                           </td> <td>nan                         </td> <td>129904       </td> <td>589937       </td> <td>USD                      </td> <td>Yes                           </td> <td>nan  </td>\n",
       "        </tr>\n",
       "        <tr>\n",
       "            <td>84   </td> <td>LYMI DBA REFORMATION</td> <td>APPAREL & FOOTWEAR     </td> <td>nan                        </td> <td>2022                  </td> <td>84           </td> <td>321                           </td> <td>nan                         </td> <td>33622        </td> <td>1.71381e+06  </td> <td>USD                      </td> <td>No                            </td> <td>nan  </td>\n",
       "        </tr>\n",
       "        <tr>\n",
       "            <td>85   </td> <td>LYMI DBA REFORMATION</td> <td>APPAREL & FOOTWEAR     </td> <td>nan                        </td> <td>2022                  </td> <td>84           </td> <td>321                           </td> <td>0                           </td> <td>22773        </td> <td>1.71381e+06  </td> <td>USD                      </td> <td>No                            </td> <td>nan  </td>\n",
       "        </tr>\n",
       "        <tr>\n",
       "            <td>88   </td> <td>MERCEDES-BENZ       </td> <td>TRANSPORTATION         </td> <td>nan                        </td> <td>2022                  </td> <td>681000       </td> <td>1.444e+06                     </td> <td>1.273e+06                   </td> <td>2.44516e+08  </td> <td>1.46906e+06  </td> <td>EUR                      </td> <td>Yes                           </td> <td>475  </td>\n",
       "        </tr>\n",
       "        <tr>\n",
       "            <td>91   </td> <td>NESTLE              </td> <td>FOOD & AGRICULTURE     </td> <td>nan                        </td> <td>2022                  </td> <td>3.372e+06    </td> <td>2.6e+06                       </td> <td>1.61e+06                    </td> <td>1.1372e+08   </td> <td>87088        </td> <td>CHF                      </td> <td>No                            </td> <td>nan  </td>\n",
       "        </tr>\n",
       "        <tr>\n",
       "            <td>92   </td> <td>NESTLE              </td> <td>FOOD & AGRICULTURE     </td> <td>nan                        </td> <td>2022                  </td> <td>3.372e+06    </td> <td>2.6e+06                       </td> <td>1.61e+06                    </td> <td>1.1372e+08   </td> <td>87088        </td> <td>CHF                      </td> <td>No                            </td> <td>nan  </td>\n",
       "        </tr>\n",
       "        <tr>\n",
       "            <td>112  </td> <td>REFORMATION         </td> <td>APPAREL & FOOTWEAR     </td> <td>nan                        </td> <td>2022                  </td> <td>84           </td> <td>321                           </td> <td>0                           </td> <td>33622        </td> <td>1.71381e+06  </td> <td>USD                      </td> <td>No                            </td> <td>nan  </td>\n",
       "        </tr>\n",
       "        <tr>\n",
       "            <td>113  </td> <td>REFORMATION         </td> <td>APPAREL & FOOTWEAR     </td> <td>nan                        </td> <td>2022                  </td> <td>84           </td> <td>321                           </td> <td>0                           </td> <td>33622        </td> <td>1.71381e+06  </td> <td>USD                      </td> <td>No                            </td> <td>nan  </td>\n",
       "        </tr>\n",
       "    </tbody>\n",
       "</table>\n",
       "<p>... (8 rows omitted)</p>"
      ],
      "text/plain": [
       "Index | Company Name         | Company Sector          | Company Sector (Other)      | Year of CDP Disclosure | Scope 1 value | Scope 2 value (location-based) | Scope 2 value (market-based) | Scope 3 value | Total Revenue | Currency of Total Revenue | Internal Price on Carbon (Y/N) | Price\n",
       "3     | AHOLD DELHAIZE       | CONSUMER PACKAGED GOODS | GROCERY / FOOD DISTRIBUTION | 2022                   | 1.728e+06     | 1.748e+06                      | 1.099e+06                    | 6.59304e+07   | 75600         | EUR                       | Yes                            | 150\n",
       "5     | AIRBUS               | OTHER                   | ROLLING STOCK MANUFACTURER  | 2022                   | 561737        | 339313                         | 265016                       | 4.76092e+08   | 52856         | EUR                       | Yes                            | 150\n",
       "81    | LEVI STRAUSS & CO.   | APPAREL & FOOTWEAR      | nan                         | 2022                   | 2908          | nan                            | nan                          | 129904        | 589937        | USD                       | Yes                            | nan\n",
       "84    | LYMI DBA REFORMATION | APPAREL & FOOTWEAR      | nan                         | 2022                   | 84            | 321                            | nan                          | 33622         | 1.71381e+06   | USD                       | No                             | nan\n",
       "85    | LYMI DBA REFORMATION | APPAREL & FOOTWEAR      | nan                         | 2022                   | 84            | 321                            | 0                            | 22773         | 1.71381e+06   | USD                       | No                             | nan\n",
       "88    | MERCEDES-BENZ        | TRANSPORTATION          | nan                         | 2022                   | 681000        | 1.444e+06                      | 1.273e+06                    | 2.44516e+08   | 1.46906e+06   | EUR                       | Yes                            | 475\n",
       "91    | NESTLE               | FOOD & AGRICULTURE      | nan                         | 2022                   | 3.372e+06     | 2.6e+06                        | 1.61e+06                     | 1.1372e+08    | 87088         | CHF                       | No                             | nan\n",
       "92    | NESTLE               | FOOD & AGRICULTURE      | nan                         | 2022                   | 3.372e+06     | 2.6e+06                        | 1.61e+06                     | 1.1372e+08    | 87088         | CHF                       | No                             | nan\n",
       "112   | REFORMATION          | APPAREL & FOOTWEAR      | nan                         | 2022                   | 84            | 321                            | 0                            | 33622         | 1.71381e+06   | USD                       | No                             | nan\n",
       "113   | REFORMATION          | APPAREL & FOOTWEAR      | nan                         | 2022                   | 84            | 321                            | 0                            | 33622         | 1.71381e+06   | USD                       | No                             | nan\n",
       "... (8 rows omitted)"
      ]
     },
     "execution_count": 10,
     "metadata": {},
     "output_type": "execute_result"
    }
   ],
   "source": [
    "# Replace ... with the appropriate column name and condition\n",
    "emissions.where(..., ...) "
   ]
  },
  {
   "cell_type": "markdown",
   "metadata": {},
   "source": [
    "<!-- END QUESTION -->"
   ]
  },
  {
   "cell_type": "markdown",
   "metadata": {},
   "source": [
    "### 1.3: Sorting Values\n",
    "\n",
    "Sorting values can reveal interesting patterns. In the exercise below, you will use the `sort` method to sort a specific column's values in either ascending or descending order. \n",
    "\n",
    "For reference, to use the `sort` method it should look something like: `tbl.sort(col1_name)` to sort in **ascending order** and `tbl.sort(col1_name, descending=True)` to sort in **descending order**."
   ]
  },
  {
   "cell_type": "markdown",
   "metadata": {},
   "source": [
    "<!-- BEGIN QUESTION -->\n",
    "<div class=\"alert alert-warning\">\n",
    "\n",
    "### Question 1.3.1:\n",
    "Using `sort`, sort the emissions table to be able to find the company with the highest total revenue (sort total revenue from higest to lowest).\n",
    "</div>"
   ]
  },
  {
   "cell_type": "code",
   "execution_count": 3,
   "metadata": {},
   "outputs": [
    {
     "data": {
      "text/html": [
       "<table border=\"1\" class=\"dataframe\">\n",
       "    <thead>\n",
       "        <tr>\n",
       "            <th>Index</th> <th>Company Name</th> <th>Company Sector</th> <th>Company Sector (Other)</th> <th>Year of CDP Disclosure</th> <th>Scope 1 value</th> <th>Scope 2 value (location-based)</th> <th>Scope 2 value (market-based)</th> <th>Scope 3 value</th> <th>Total Revenue</th> <th>Currency of Total Revenue</th> <th>Internal Price on Carbon (Y/N)</th> <th>Price</th>\n",
       "        </tr>\n",
       "    </thead>\n",
       "    <tbody>\n",
       "        <tr>\n",
       "            <td>107  </td> <td>PJSC LUKOIL             </td> <td>ENERGY                 </td> <td>nan                   </td> <td>2022                  </td> <td>3.63883e+07  </td> <td>5.10258e+06                   </td> <td>nan                         </td> <td>3.51541e+08  </td> <td>9.435e+12    </td> <td>RUB                      </td> <td>Yes                           </td> <td>6711 </td>\n",
       "        </tr>\n",
       "        <tr>\n",
       "            <td>15   </td> <td>AMOREPACIFIC            </td> <td>OTHER                  </td> <td>COSMETICS             </td> <td>2022                  </td> <td>10963        </td> <td>nan                           </td> <td>36740                       </td> <td>7321         </td> <td>4.8631e+12   </td> <td>KRW                      </td> <td>Yes                           </td> <td>20000</td>\n",
       "        </tr>\n",
       "        <tr>\n",
       "            <td>67   </td> <td>HOTEL LOTTE             </td> <td>OTHER                  </td> <td>HOSPITALITY           </td> <td>2022                  </td> <td>48664.8      </td> <td>110841                        </td> <td>nan                         </td> <td>76061.2      </td> <td>4.59667e+12  </td> <td>KRW                      </td> <td>Yes                           </td> <td>30000</td>\n",
       "        </tr>\n",
       "        <tr>\n",
       "            <td>46   </td> <td>FILA HOLDINGS           </td> <td>APPAREL & FOOTWEAR     </td> <td>nan                   </td> <td>2022                  </td> <td>1245.9       </td> <td>3005.5                        </td> <td>nan                         </td> <td>0            </td> <td>3.794e+12    </td> <td>KRW                      </td> <td>No                            </td> <td>nan  </td>\n",
       "        </tr>\n",
       "        <tr>\n",
       "            <td>143  </td> <td>TOYOTA MOTOR CORPORATION</td> <td>TRANSPORTATION         </td> <td>nan                   </td> <td>2022                  </td> <td>2.56e+06     </td> <td>3.9e+06                       </td> <td>3.69e+06                    </td> <td>3.7334e+08   </td> <td>2.9956e+12   </td> <td>JPY                      </td> <td>Yes                           </td> <td>50000</td>\n",
       "        </tr>\n",
       "        <tr>\n",
       "            <td>155  </td> <td>WALMART                 </td> <td>CONSUMER PACKAGED GOODS</td> <td>nan                   </td> <td>2022                  </td> <td>7.31224e+06  </td> <td>9.47517e+06                   </td> <td>6.54417e+06                 </td> <td>2.13846e+08  </td> <td>5.72754e+11  </td> <td>USD                      </td> <td>No                            </td> <td>nan  </td>\n",
       "        </tr>\n",
       "        <tr>\n",
       "            <td>126  </td> <td>SHELL                   </td> <td>ENERGY                 </td> <td>nan                   </td> <td>2022                  </td> <td>6e+07        </td> <td>9e+06                         </td> <td>8e+06                       </td> <td>1.32889e+09  </td> <td>3.813e+11    </td> <td>USD                      </td> <td>Yes                           </td> <td>125  </td>\n",
       "        </tr>\n",
       "        <tr>\n",
       "            <td>121  </td> <td>SHELL                   </td> <td>ENERGY                 </td> <td>nan                   </td> <td>2022                  </td> <td>6e+07        </td> <td>9e+06                         </td> <td>8e+06                       </td> <td>1.32889e+09  </td> <td>2.61504e+11  </td> <td>USD                      </td> <td>Yes                           </td> <td>125  </td>\n",
       "        </tr>\n",
       "        <tr>\n",
       "            <td>122  </td> <td>SHELL                   </td> <td>ENERGY                 </td> <td>nan                   </td> <td>2022                  </td> <td>6e+07        </td> <td>9e+06                         </td> <td>8e+06                       </td> <td>1.90001e+14  </td> <td>2.61504e+11  </td> <td>USD                      </td> <td>Yes                           </td> <td>125  </td>\n",
       "        </tr>\n",
       "        <tr>\n",
       "            <td>123  </td> <td>SHELL                   </td> <td>ENERGY                 </td> <td>nan                   </td> <td>2022                  </td> <td>6e+07        </td> <td>9e+06                         </td> <td>8e+06                       </td> <td>1.32889e+09  </td> <td>2.61504e+11  </td> <td>USD                      </td> <td>Yes                           </td> <td>125  </td>\n",
       "        </tr>\n",
       "    </tbody>\n",
       "</table>\n",
       "<p>... (146 rows omitted)</p>"
      ],
      "text/plain": [
       "Index | Company Name             | Company Sector          | Company Sector (Other) | Year of CDP Disclosure | Scope 1 value | Scope 2 value (location-based) | Scope 2 value (market-based) | Scope 3 value | Total Revenue | Currency of Total Revenue | Internal Price on Carbon (Y/N) | Price\n",
       "107   | PJSC LUKOIL              | ENERGY                  | nan                    | 2022                   | 3.63883e+07   | 5.10258e+06                    | nan                          | 3.51541e+08   | 9.435e+12     | RUB                       | Yes                            | 6711\n",
       "15    | AMOREPACIFIC             | OTHER                   | COSMETICS              | 2022                   | 10963         | nan                            | 36740                        | 7321          | 4.8631e+12    | KRW                       | Yes                            | 20000\n",
       "67    | HOTEL LOTTE              | OTHER                   | HOSPITALITY            | 2022                   | 48664.8       | 110841                         | nan                          | 76061.2       | 4.59667e+12   | KRW                       | Yes                            | 30000\n",
       "46    | FILA HOLDINGS            | APPAREL & FOOTWEAR      | nan                    | 2022                   | 1245.9        | 3005.5                         | nan                          | 0             | 3.794e+12     | KRW                       | No                             | nan\n",
       "143   | TOYOTA MOTOR CORPORATION | TRANSPORTATION          | nan                    | 2022                   | 2.56e+06      | 3.9e+06                        | 3.69e+06                     | 3.7334e+08    | 2.9956e+12    | JPY                       | Yes                            | 50000\n",
       "155   | WALMART                  | CONSUMER PACKAGED GOODS | nan                    | 2022                   | 7.31224e+06   | 9.47517e+06                    | 6.54417e+06                  | 2.13846e+08   | 5.72754e+11   | USD                       | No                             | nan\n",
       "126   | SHELL                    | ENERGY                  | nan                    | 2022                   | 6e+07         | 9e+06                          | 8e+06                        | 1.32889e+09   | 3.813e+11     | USD                       | Yes                            | 125\n",
       "121   | SHELL                    | ENERGY                  | nan                    | 2022                   | 6e+07         | 9e+06                          | 8e+06                        | 1.32889e+09   | 2.61504e+11   | USD                       | Yes                            | 125\n",
       "122   | SHELL                    | ENERGY                  | nan                    | 2022                   | 6e+07         | 9e+06                          | 8e+06                        | 1.90001e+14   | 2.61504e+11   | USD                       | Yes                            | 125\n",
       "123   | SHELL                    | ENERGY                  | nan                    | 2022                   | 6e+07         | 9e+06                          | 8e+06                        | 1.32889e+09   | 2.61504e+11   | USD                       | Yes                            | 125\n",
       "... (146 rows omitted)"
      ]
     },
     "execution_count": 3,
     "metadata": {},
     "output_type": "execute_result"
    }
   ],
   "source": [
    "# Replace ... with the necessary code\n",
    "emissions.sort(...)"
   ]
  },
  {
   "cell_type": "markdown",
   "metadata": {},
   "source": [
    "<!-- END QUESTION -->"
   ]
  },
  {
   "cell_type": "markdown",
   "metadata": {},
   "source": [
    "<!-- BEGIN QUESTION -->\n",
    "<div class=\"alert alert-warning\">\n",
    "\n",
    "### Question 1.3.2:\n",
    "Using `sort`, sort the emissions table to be able to find the company with the lowest scope 1 value (sort scope 1 value from lowest to highest).\n",
    "</div>"
   ]
  },
  {
   "cell_type": "code",
   "execution_count": null,
   "metadata": {},
   "outputs": [],
   "source": [
    "# Replace ... with the necessary code\n",
    "emissions.sort(...)"
   ]
  },
  {
   "cell_type": "markdown",
   "metadata": {},
   "source": [
    "<!-- END QUESTION -->"
   ]
  },
  {
   "cell_type": "markdown",
   "metadata": {},
   "source": [
    "<div class=\"alert alert-block alert-success\">\n",
    "    <p style=\"font-size:20px\">This section is advanced/optional\n",
    "</div>"
   ]
  },
  {
   "cell_type": "markdown",
   "metadata": {},
   "source": [
    "### 1.4: Putting it all together\n",
    "\n",
    "You've worked with `select`, `where`, and `sort` individually -- but you could also use them together. Now, it's time to try out using all the methods together! In the exercise below, you will fill in the necessary code to create the desired table. \n",
    "\n",
    "**This sections deals with chaining together methods. This is a more complex topic, so it's okay if you don't understand. The exercise below is optional. Feel free to try it out if you want!**"
   ]
  },
  {
   "cell_type": "markdown",
   "metadata": {},
   "source": [
    "<!-- BEGIN QUESTION -->\n",
    "<div class=\"alert alert-warning\">\n",
    "\n",
    "### Question 1.4:\n",
    "Using `select`, `where`, and `sort` to create a table that displays the comany name, their sector (including the 'Company Sector (Other)' column), and their total revenue for companies whose total revenue is below $100,000,000. Sort this table by total revenue in ascending order."
   ]
  },
  {
   "cell_type": "code",
   "execution_count": 9,
   "metadata": {},
   "outputs": [
    {
     "data": {
      "text/html": [
       "<table border=\"1\" class=\"dataframe\">\n",
       "    <thead>\n",
       "        <tr>\n",
       "            <th>Company Name</th> <th>Company Sector</th> <th>Company Sector (Other)</th> <th>Total Revenue</th>\n",
       "        </tr>\n",
       "    </thead>\n",
       "    <tbody>\n",
       "        <tr>\n",
       "            <td>J.P.MORGAN CHASE & CO.</td> <td>OTHER                  </td> <td>FINANCE / BANKING          </td> <td>0            </td>\n",
       "        </tr>\n",
       "        <tr>\n",
       "            <td>HELEN OF TROY         </td> <td>CONSUMER PACKAGED GOODS</td> <td>nan                        </td> <td>2223.36      </td>\n",
       "        </tr>\n",
       "        <tr>\n",
       "            <td>CLIF BAR & COMPANY    </td> <td>FOOD & AGRICULTURE     </td> <td>nan                        </td> <td>15262        </td>\n",
       "        </tr>\n",
       "        <tr>\n",
       "            <td>AIRBUS                </td> <td>OTHER                  </td> <td>ROLLING STOCK MANUFACTURER </td> <td>52856        </td>\n",
       "        </tr>\n",
       "        <tr>\n",
       "            <td>AHOLD DELHAIZE        </td> <td>CONSUMER PACKAGED GOODS</td> <td>GROCERY / FOOD DISTRIBUTION</td> <td>75600        </td>\n",
       "        </tr>\n",
       "        <tr>\n",
       "            <td>NESTLE                </td> <td>FOOD & AGRICULTURE     </td> <td>nan                        </td> <td>87088        </td>\n",
       "        </tr>\n",
       "        <tr>\n",
       "            <td>NESTLE                </td> <td>FOOD & AGRICULTURE     </td> <td>nan                        </td> <td>87088        </td>\n",
       "        </tr>\n",
       "        <tr>\n",
       "            <td>LEVI STRAUSS & CO.    </td> <td>APPAREL & FOOTWEAR     </td> <td>nan                        </td> <td>589937       </td>\n",
       "        </tr>\n",
       "        <tr>\n",
       "            <td>TJX INDUSTRIES        </td> <td>APPAREL & FOOTWEAR     </td> <td>nan                        </td> <td>1.15635e+06  </td>\n",
       "        </tr>\n",
       "        <tr>\n",
       "            <td>MERCEDES-BENZ         </td> <td>TRANSPORTATION         </td> <td>nan                        </td> <td>1.46906e+06  </td>\n",
       "        </tr>\n",
       "    </tbody>\n",
       "</table>\n",
       "<p>... (19 rows omitted)</p>"
      ],
      "text/plain": [
       "Company Name           | Company Sector          | Company Sector (Other)      | Total Revenue\n",
       "J.P.MORGAN CHASE & CO. | OTHER                   | FINANCE / BANKING           | 0\n",
       "HELEN OF TROY          | CONSUMER PACKAGED GOODS | nan                         | 2223.36\n",
       "CLIF BAR & COMPANY     | FOOD & AGRICULTURE      | nan                         | 15262\n",
       "AIRBUS                 | OTHER                   | ROLLING STOCK MANUFACTURER  | 52856\n",
       "AHOLD DELHAIZE         | CONSUMER PACKAGED GOODS | GROCERY / FOOD DISTRIBUTION | 75600\n",
       "NESTLE                 | FOOD & AGRICULTURE      | nan                         | 87088\n",
       "NESTLE                 | FOOD & AGRICULTURE      | nan                         | 87088\n",
       "LEVI STRAUSS & CO.     | APPAREL & FOOTWEAR      | nan                         | 589937\n",
       "TJX INDUSTRIES         | APPAREL & FOOTWEAR      | nan                         | 1.15635e+06\n",
       "MERCEDES-BENZ          | TRANSPORTATION          | nan                         | 1.46906e+06\n",
       "... (19 rows omitted)"
      ]
     },
     "execution_count": 9,
     "metadata": {},
     "output_type": "execute_result"
    }
   ],
   "source": [
    "# Replace ... with the necessary column names and conditions\n",
    "(emissions.select(...)\n",
    "            .where(..., ...)\n",
    "            .sort(...))"
   ]
  },
  {
   "cell_type": "markdown",
   "metadata": {},
   "source": [
    "<!-- END QUESTION -->"
   ]
  },
  {
   "cell_type": "markdown",
   "metadata": {},
   "source": [
    "<hr style=\"border: 2px solid #003262\">\n",
    "<hr style=\"border: 2px solid #C9B676\">"
   ]
  },
  {
   "cell_type": "markdown",
   "metadata": {},
   "source": [
    "## more advanced table functions: apply, group, pivot (if applicable)\n",
    "\n",
    "similar structure to previous section: total freedom with what you want to explore or emphasize! just show the student an example first and then ask them questions. Similar to tasks in NB2, instead we only want to show 1-2 examples (as a refresher from NB2 -- they should be able to utilize NB2 as a reference). section should mostly consist of about 3-5 questions. \n",
    "\n",
    "can have 1-2 questions where you ask a direct question (\"apply this function to this column in the table\") and another 1-2 where you provide the scaffolding for them and give them a chance to explore / apply / group / pivot on whatever columns or rows they want. see the example question below:"
   ]
  },
  {
   "cell_type": "markdown",
   "metadata": {},
   "source": [
    "**Note:** we want to include some tabular data looking at the data grouped by the Sector attribute"
   ]
  },
  {
   "cell_type": "markdown",
   "metadata": {},
   "source": [
    "note: can also add section subheadings if you want to break it up into apply, group, and pivot; example:"
   ]
  },
  {
   "cell_type": "markdown",
   "metadata": {},
   "source": [
    "### section_number.subsection_number: Applying Functions"
   ]
  },
  {
   "cell_type": "markdown",
   "metadata": {},
   "source": [
    "question formatting:"
   ]
  },
  {
   "cell_type": "markdown",
   "metadata": {},
   "source": [
    "<!-- BEGIN QUESTION -->\n",
    "<div class=\"alert alert-warning\">\n",
    "\n",
    "### Question section_number.question_number:\n",
    "Group the data by whatever column you would like in order to find an intriguing trend. Then, explain what you did and anything you found interesting about it.\n",
    "</div>"
   ]
  },
  {
   "cell_type": "code",
   "execution_count": null,
   "metadata": {},
   "outputs": [],
   "source": [
    "emissions.group(...)"
   ]
  },
  {
   "cell_type": "markdown",
   "metadata": {},
   "source": [
    "*Type your answer here. Double-click to edit this cell and replace this text with your answer. Run this cell to proceed when finished.*"
   ]
  },
  {
   "cell_type": "markdown",
   "metadata": {},
   "source": [
    "note: the END QUESTION tag for the otter pdf generator is in the blank cell right below this one! You need a BEGIN QUESTION and END QUESTION tag for every question."
   ]
  },
  {
   "cell_type": "markdown",
   "metadata": {},
   "source": [
    "<!-- END QUESTION -->"
   ]
  },
  {
   "cell_type": "markdown",
   "metadata": {},
   "source": [
    "<hr style=\"border: 2px solid #003262\">\n",
    "<hr style=\"border: 2px solid #C9B676\">"
   ]
  },
  {
   "cell_type": "markdown",
   "metadata": {
    "cell_id": "00009-52f60190-e21f-4107-99a9-d42ab128df40",
    "deepnote_cell_type": "markdown",
    "tags": [
     "ignore"
    ]
   },
   "source": [
    "## visualizations (probably a large section, 2 devs)\n",
    "\n",
    "this section is probably going to be a bigger one, since its a lot more interesting for the students to analyze the data through visualizations than just in the table --> can use datascience plotting, seaborn, or plotly, just like notebook 1 showed."
   ]
  },
  {
   "cell_type": "markdown",
   "metadata": {},
   "source": [
    "**Note:** we want to include some visualizations looking at the data grouped by the Sector attribute; also, I've kept the plotting section from the previous section below as a small reference / source of inspiration! we'll delete it later"
   ]
  },
  {
   "cell_type": "markdown",
   "metadata": {},
   "source": [
    "some of the visualizations you create might be difficult, because the data has to be cleaned up first. that's fine, just keep whatever visualizations you make that you think could be interesting and i'll filter through them as we're finishing the notebook"
   ]
  },
  {
   "cell_type": "markdown",
   "metadata": {},
   "source": [
    "remember, students probably arent that familiar with python: use a lot of fill in the ... questions and only very basic do it yourself questions. always give them an example before asking them to do it themselves!"
   ]
  },
  {
   "cell_type": "markdown",
   "metadata": {},
   "source": [
    "also, add widgets if you are able to! those would be great for comparisons"
   ]
  },
  {
   "cell_type": "markdown",
   "metadata": {},
   "source": [
    "Similar to tasks in NB2, instead we only want to show 1-2 examples (as a refresher from NB2 -- they should be able to utilize NB2 as a reference). section should mostly consist of about 3-5 questions. \n",
    "\n",
    "can have 1-2 questions where you ask a direct question (\"create a scatter plot of these columns\") and another 1-2 where you provide the scaffolding for them and give them a chance to explore / visualize whatever columns or rows they want. see the example question below:"
   ]
  },
  {
   "cell_type": "markdown",
   "metadata": {},
   "source": [
    "note: can also add section subheadings if you want to break it up into different sections / exploring different features of the data; example:"
   ]
  },
  {
   "cell_type": "markdown",
   "metadata": {},
   "source": [
    "### section_number.subsection_number: Visualizing by Sector"
   ]
  },
  {
   "cell_type": "markdown",
   "metadata": {},
   "source": [
    "question formatting:"
   ]
  },
  {
   "cell_type": "markdown",
   "metadata": {},
   "source": [
    "<!-- BEGIN QUESTION -->\n",
    "<div class=\"alert alert-warning\">\n",
    "\n",
    "### Question section_number.question_number:\n",
    "Create a graph of whichever columns you would like to explore further. Then, explain your decision and any interesting trends you found in the text cell below.\n",
    "</div>"
   ]
  },
  {
   "cell_type": "code",
   "execution_count": null,
   "metadata": {},
   "outputs": [],
   "source": [
    "emissions...(...)"
   ]
  },
  {
   "cell_type": "markdown",
   "metadata": {},
   "source": [
    "*Type your answer here. Double-click to edit this cell and replace this text with your answer. Run this cell to proceed when finished.*"
   ]
  },
  {
   "cell_type": "markdown",
   "metadata": {},
   "source": [
    "note: the END QUESTION tag for the otter pdf generator is in the blank cell right below this one! You need a BEGIN QUESTION and END QUESTION tag for every question."
   ]
  },
  {
   "cell_type": "markdown",
   "metadata": {},
   "source": [
    "<!-- END QUESTION -->"
   ]
  },
  {
   "cell_type": "markdown",
   "metadata": {},
   "source": [
    "<hr style=\"border: 2px solid #003262\">\n",
    "<hr style=\"border: 2px solid #C9B676\">"
   ]
  },
  {
   "cell_type": "markdown",
   "metadata": {},
   "source": [
    "## Plotting [Reference - will be deleted later]"
   ]
  },
  {
   "cell_type": "markdown",
   "metadata": {},
   "source": [
    "While knowing the average, the largest, and the smallest values are useful, they don't tell us the whole story. Along with this, just looking at a bunch of numbers isn't always fun or efficient. To further expand on our analysis, let's make some visualizations of our data!\n",
    "\n",
    "Fortunately, in Python, there are lots of functions that can do this for us. We'll examine a few below."
   ]
  },
  {
   "cell_type": "markdown",
   "metadata": {},
   "source": [
    "### Histogram\n",
    "The `hist` function will plot a [histogram](https://en.wikipedia.org/wiki/Histogram) of the column you specify."
   ]
  },
  {
   "cell_type": "code",
   "execution_count": null,
   "metadata": {},
   "outputs": [],
   "source": [
    "tips.hist(\"total\", bins=np.arange(0, 60, 5))"
   ]
  },
  {
   "cell_type": "markdown",
   "metadata": {},
   "source": [
    "### Scatter Plot\n",
    "\n",
    "The `scatter` function makes a [scatter plot](https://en.wikipedia.org/wiki/Scatter_plot), where the first parameter below (`total`) is the column we want to display on the x-axis, and the second parameter (`tip`) is the column we want to display on the y-axis."
   ]
  },
  {
   "cell_type": "code",
   "execution_count": null,
   "metadata": {},
   "outputs": [],
   "source": [
    "tips.scatter(\"total\", \"tip\")"
   ]
  },
  {
   "cell_type": "markdown",
   "metadata": {},
   "source": [
    "### Interactive Visualizations"
   ]
  },
  {
   "cell_type": "markdown",
   "metadata": {},
   "source": [
    "<div class=\"alert alert-block alert-success\">\n",
    "    <p style=\"font-size:20px\">This section is advanced/optional\n",
    "</div>"
   ]
  },
  {
   "cell_type": "markdown",
   "metadata": {},
   "source": [
    "The plots above are great, and are suitible for almost all cases. However, we can take it one step further by creating an interactive plot! We can do this with the `plotly` library. In these plots you can hover your mouse over data, and information about it will pop up!\n",
    "\n",
    "Don't worry about understanding the code below, just check out the cool visualizations, and try hovering over the data with your mouse in different spots. \n",
    "\n",
    "Check out the comments for a description of the visualizations."
   ]
  },
  {
   "cell_type": "code",
   "execution_count": null,
   "metadata": {},
   "outputs": [],
   "source": [
    "px.histogram(x=tips.column(\"total\"), title=\"Histogram of Total Bill Amounts\", \n",
    "             template = \"seaborn\", labels={\"x\":\"Total Bill Amounts\", \"y\":\"Count\"},\n",
    "             width = 600, height = 400, nbins=20)\n",
    "# Plots a histogram of the total bill amounts"
   ]
  },
  {
   "cell_type": "code",
   "execution_count": null,
   "metadata": {},
   "outputs": [],
   "source": [
    "px.histogram(x=tips.column(\"time\"), y=tips.column(\"tip\"), color = tips.column(\"time\"), \n",
    "             template = \"seaborn\", title = \"Average Tips by Meal\", labels = {\"x\": \"Day\", \"y\": \"Tips\"},\n",
    "             histfunc = \"avg\", width = 600, height = 400)\n",
    "# Plots a bar chart of the tips by meal"
   ]
  },
  {
   "cell_type": "code",
   "execution_count": null,
   "metadata": {},
   "outputs": [],
   "source": [
    "px.histogram(x=tips.column(\"day\"), y=tips.column(\"tip\"), color = tips.column(\"day\"), \n",
    "             template = \"seaborn\", title = \"Tips by Day\", labels = {\"x\": \"Day\", \"y\": \"Tips\"},\n",
    "             width = 600, height = 400)\n",
    "# Plots a bar chart of the tips by day"
   ]
  },
  {
   "cell_type": "code",
   "execution_count": null,
   "metadata": {},
   "outputs": [],
   "source": [
    "px.scatter(x=tips.column(\"total\"), y=tips.column(\"tip\"), \n",
    "           title=\"Scatter Plot of Total Bill Amounts vs. Tip Amounts\", template = \"seaborn\",\n",
    "           labels = {\"x\": \"Total Bill Amount\", \"y\": \"Tip Amount\"},\n",
    "           width=500, height=500)\n",
    "# Plots a scatter plot of the total bill amounts vs. the tip amounts"
   ]
  },
  {
   "cell_type": "markdown",
   "metadata": {},
   "source": [
    "<hr style=\"border: 2px solid #003262\">\n",
    "<hr style=\"border: 2px solid #C9B676\">"
   ]
  },
  {
   "cell_type": "markdown",
   "metadata": {},
   "source": [
    "**to do for Manaar**: potentially add pdf generator if necessary; if not, take out otter grader stuff. also potentially add data science resources section"
   ]
  },
  {
   "cell_type": "markdown",
   "metadata": {},
   "source": [
    "## Conclusion"
   ]
  },
  {
   "cell_type": "markdown",
   "metadata": {},
   "source": [
    "In this notebook, you've learned quite a bit, below is a summary of the topics we have covered:\n",
    "- Jupyter Notebooks\n",
    "    - History of Jupyter\n",
    "    - Structure of a Notebook\n",
    "    - Editing a notebook\n",
    "- Python \n",
    "    - Math\n",
    "    - Strings\n",
    "    - Errors\n",
    "    - Variables\n",
    "    - Lists\n",
    "    - Functions\n",
    "    - Loops\n",
    "    - Modules\n",
    "    - Dot Notation\n",
    "- Tables\n",
    "    - Loading a Table\n",
    "    - Context of a Table\n",
    "    - Size of a Table\n",
    "    - Selecting Columns\n",
    "    - Sorting Tables\n",
    "- Columns\n",
    "    - Statistics of Columns\n",
    "- Plotting\n",
    "    - Histograms\n",
    "    - Scatter Plots\n",
    "    - Interactive Plots\n",
    "\n",
    "<h3>Congratulations on finishing the notebook!</h3>"
   ]
  },
  {
   "cell_type": "markdown",
   "metadata": {},
   "source": [
    "<hr style=\"border: 2px solid #003262\">\n",
    "<hr style=\"border: 2px solid #C9B676\">"
   ]
  },
  {
   "cell_type": "markdown",
   "metadata": {},
   "source": [
    "## A Final Request: Feedback Form"
   ]
  },
  {
   "cell_type": "markdown",
   "metadata": {},
   "source": [
    "<div class=\"alert alert-block alert-info\">\n",
    "    <p style=\"font-size:20px\">We encourage students to fill out the following feedback form to share your experience with this Module created notebook. This feedback form will take no longer than 5 minutes. At UC Berkeley Data Science Undergraduate Studies – Modules, we appreciate all feedback to improve the learning of students and experience utilizing Jupyter Notebooks for Data Science Education. You can fill out the survey by running the below and clicking the button that appears. Thank you in advance for your time!\n",
    "</div>"
   ]
  },
  {
   "cell_type": "code",
   "execution_count": null,
   "metadata": {},
   "outputs": [],
   "source": [
    "feedback_button()"
   ]
  }
 ],
 "metadata": {
  "deepnote_execution_queue": [],
  "deepnote_notebook_id": "693e9760-244f-475b-aa3d-f49b62665db0",
  "kernelspec": {
   "display_name": "Python 3 (ipykernel)",
   "language": "python",
   "name": "python3"
  },
  "language_info": {
   "codemirror_mode": {
    "name": "ipython",
    "version": 3
   },
   "file_extension": ".py",
   "mimetype": "text/x-python",
   "name": "python",
   "nbconvert_exporter": "python",
   "pygments_lexer": "ipython3",
   "version": "3.9.15"
  },
  "vscode": {
   "interpreter": {
    "hash": "aee8b7b246df8f9039afb4144a1f6fd8d2ca17a180786b69acc140d282b71a49"
   }
  },
  "widgets": {
   "application/vnd.jupyter.widget-state+json": {
    "state": {},
    "version_major": 2,
    "version_minor": 0
   }
  }
 },
 "nbformat": 4,
 "nbformat_minor": 4
}
